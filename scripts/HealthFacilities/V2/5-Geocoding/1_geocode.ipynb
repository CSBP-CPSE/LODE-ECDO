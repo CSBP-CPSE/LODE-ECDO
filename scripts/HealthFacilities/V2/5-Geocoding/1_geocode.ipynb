{
 "cells": [
  {
   "cell_type": "code",
   "execution_count": 53,
   "metadata": {
    "execution": {
     "iopub.execute_input": "2022-03-14T19:20:46.699663Z",
     "iopub.status.busy": "2022-03-14T19:20:46.699368Z",
     "iopub.status.idle": "2022-03-14T19:20:46.703197Z",
     "shell.execute_reply": "2022-03-14T19:20:46.702595Z",
     "shell.execute_reply.started": "2022-03-14T19:20:46.699634Z"
    },
    "tags": []
   },
   "outputs": [],
   "source": [
    "# -*- coding: utf-8 -*-\n",
    "\"\"\"\n",
    "This script is used to geocode any health sources which do not have lat/lon coordinates \n",
    "using the OSM Nominatim and GC National Address Register APIs.\n",
    "\n",
    "We use several API requests calls to try to obtain the most complete response. \n",
    "Our order of preference for the API calls is: facility name (osm), \n",
    "street address (osm), street address (GC), city (osm).\n",
    "\n",
    "The script also filters out results results that have already been geocoded \n",
    "to allow for the addition of new data to the pipeline without re-geocoding each record. \n",
    "\n",
    "It takes combined.csv as the primary input. It can take \n",
    "\n",
    "This script is adapted from Education Facilities for Healthcare\n",
    "\"\"\"\n",
    "\n",
    "import requests\n",
    "import json\n",
    "import pandas as pd\n",
    "import numpy as np\n",
    "import time\n",
    "from os.path import exists"
   ]
  },
  {
   "cell_type": "code",
   "execution_count": 54,
   "metadata": {
    "execution": {
     "iopub.execute_input": "2022-03-14T19:20:47.275325Z",
     "iopub.status.busy": "2022-03-14T19:20:47.275010Z",
     "iopub.status.idle": "2022-03-14T19:20:47.278529Z",
     "shell.execute_reply": "2022-03-14T19:20:47.277903Z",
     "shell.execute_reply.started": "2022-03-14T19:20:47.275296Z"
    },
    "tags": []
   },
   "outputs": [],
   "source": [
    "# Libraries for GC API\n",
    "import os\n",
    "from dotenv import load_dotenv"
   ]
  },
  {
   "cell_type": "code",
   "execution_count": 55,
   "metadata": {
    "execution": {
     "iopub.execute_input": "2022-03-14T19:20:50.319835Z",
     "iopub.status.busy": "2022-03-14T19:20:50.319524Z",
     "iopub.status.idle": "2022-03-14T19:20:50.325137Z",
     "shell.execute_reply": "2022-03-14T19:20:50.324057Z",
     "shell.execute_reply.started": "2022-03-14T19:20:50.319809Z"
    },
    "tags": []
   },
   "outputs": [],
   "source": [
    "# requires a valid GC API key\n",
    "# see https://api.canada.ca/en/homepage\n",
    "# create a .env file in this repository and add GC_API_KEY=\"YOUR_GC_API_KEY\"\n",
    "load_dotenv()\n",
    "gc_key = os.environ.get(\"GC_API_KEY\")"
   ]
  },
  {
   "cell_type": "code",
   "execution_count": 127,
   "metadata": {
    "execution": {
     "iopub.execute_input": "2022-03-15T20:44:05.680068Z",
     "iopub.status.busy": "2022-03-15T20:44:05.679789Z",
     "iopub.status.idle": "2022-03-15T20:44:05.983838Z",
     "shell.execute_reply": "2022-03-15T20:44:05.983202Z",
     "shell.execute_reply.started": "2022-03-15T20:44:05.680044Z"
    },
    "tags": []
   },
   "outputs": [
    {
     "name": "stdout",
     "output_type": "stream",
     "text": [
      "146 records already geocoded\n"
     ]
    }
   ],
   "source": [
    "# load new input data \n",
    "# we can also load previous runs so that results are not geocoded twice\n",
    "\n",
    "df_input = pd.read_csv(\"combined.csv\", low_memory=False, dtype=\"str\")\n",
    "\n",
    "# detect previously geocoded rows from previous export\n",
    "\n",
    "if exists('geocoded_OSM_14-03-2022.csv'):\n",
    "    \n",
    "    df_previous_run = pd.read_csv(\"geocoded_OSM_14-03-2022.csv\", low_memory=False, dtype=\"str\")\n",
    "    # add some magic to read the entire previously output csv\n",
    "    # previously geocoded = input filtered to geosource = \n",
    "    remove_list = ['osm_facility_name', 'osm_address', 'gc_street_address', 'osm_city']\n",
    "    \n",
    "    df_previously_geocoded = df_previous_run[df_previous_run[\"geo_source\"].isin(remove_list)]    \n",
    "    \n",
    "#     df_leftover = df_previous_run[~df_previous_run[\"geo_source\"].isin(remove_list)] \n",
    "#     df_previously_geocoded = pd.read_csv(\"geocoded_17-02-2022.csv\", low_memory=False, dtype=\"str\")\n",
    "    print(str(len(df_previously_geocoded)) + ' records already geocoded')\n",
    "else:\n",
    "    df_previously_geocoded = pd.DataFrame()\n",
    "    print('no previous csv detected')"
   ]
  },
  {
   "cell_type": "code",
   "execution_count": 143,
   "metadata": {
    "execution": {
     "iopub.execute_input": "2022-03-15T20:53:55.300828Z",
     "iopub.status.busy": "2022-03-15T20:53:55.300558Z",
     "iopub.status.idle": "2022-03-15T20:53:55.313752Z",
     "shell.execute_reply": "2022-03-15T20:53:55.313068Z",
     "shell.execute_reply.started": "2022-03-15T20:53:55.300803Z"
    },
    "tags": []
   },
   "outputs": [
    {
     "name": "stdout",
     "output_type": "stream",
     "text": [
      "146 records already geocoded in dataframe\n"
     ]
    }
   ],
   "source": [
    "# filter results that have already been geocoded, based on idx\n",
    "\n",
    "number_of_nulls = len(df_input[df_input.geo_source.isnull()])\n",
    "\n",
    "if isinstance(df_previously_geocoded, pd.DataFrame):\n",
    "    geo_list = list(df_previously_geocoded['idx'])\n",
    "    df = df_input[~df_input['idx'].isin(geo_list)]\n",
    "    print(str(len(df_input) - len(df)) + ' records already geocoded in dataframe')\n",
    "#     print(str(len(df)) + ' of ' + str(number_to_geocode) + ' left to geocode')\n",
    "    # \n",
    "else:\n",
    "    print('no previously geocoded results found in dataframe')\n",
    "    df = df_input\n",
    "    # "
   ]
  },
  {
   "cell_type": "code",
   "execution_count": 144,
   "metadata": {
    "execution": {
     "iopub.execute_input": "2022-03-15T20:53:55.994227Z",
     "iopub.status.busy": "2022-03-15T20:53:55.993915Z",
     "iopub.status.idle": "2022-03-15T20:53:56.010249Z",
     "shell.execute_reply": "2022-03-15T20:53:56.009643Z",
     "shell.execute_reply.started": "2022-03-15T20:53:55.994199Z"
    },
    "tags": []
   },
   "outputs": [
    {
     "name": "stdout",
     "output_type": "stream",
     "text": [
      "4 of 150 records left to geocode\n"
     ]
    }
   ],
   "source": [
    "# filter to just those without lat lon\n",
    "df_leftover = df[df.geo_source.notnull()]\n",
    "df = df[df.geo_source.isnull()]\n",
    "print(str(len(df)) + ' of ' + str(number_of_nulls) + ' records left to geocode')"
   ]
  },
  {
   "cell_type": "code",
   "execution_count": 145,
   "metadata": {
    "execution": {
     "iopub.execute_input": "2022-03-15T20:54:01.313266Z",
     "iopub.status.busy": "2022-03-15T20:54:01.312932Z",
     "iopub.status.idle": "2022-03-15T20:54:01.318991Z",
     "shell.execute_reply": "2022-03-15T20:54:01.318378Z",
     "shell.execute_reply.started": "2022-03-15T20:54:01.313233Z"
    },
    "tags": []
   },
   "outputs": [],
   "source": [
    "# define parameters for osm api call\n",
    "headers = {\n",
    "    'User-Agent': 'Sam Lumley, Statistics Canada',\n",
    "    'From': 'sam.lumley@statcan.gc.ca' \n",
    "    }\n",
    "url = 'https://nominatim.openstreetmap.org/search?'\n",
    "url_gc = 'https://national-address-register-statcan.api.canada.ca:443/v1/addresses/search'\n",
    "\n",
    "JSONS = []\n",
    "JSONS_CITIES = []"
   ]
  },
  {
   "cell_type": "code",
   "execution_count": 146,
   "metadata": {
    "execution": {
     "iopub.execute_input": "2022-03-15T20:54:01.835406Z",
     "iopub.status.busy": "2022-03-15T20:54:01.835117Z",
     "iopub.status.idle": "2022-03-15T20:54:01.849653Z",
     "shell.execute_reply": "2022-03-15T20:54:01.849026Z",
     "shell.execute_reply.started": "2022-03-15T20:54:01.835378Z"
    },
    "tags": []
   },
   "outputs": [],
   "source": [
    "# define our multiple api queries\n",
    "\n",
    "df.fillna('', inplace=True)\n",
    "\n",
    "df['nom_request_name'] = df['facility_name'] + ', ' + df['city'] + ', ' + df['province'] + ', ' + 'Canada'\n",
    "df['nom_request_street'] = df['street_no'] + ' ' + df['street_name'] + ', ' + df['city'] + ', ' + df['province'] + ', ' + 'Canada'\n",
    "df['nom_request_city'] = df['city'] + ', ' + df['province'] + ', ' + 'Canada'\n",
    "df['gc_request_street'] = df['street_no'] + ' ' + df['street_name'] + ' ' + df['city'] + ' ' + df['province']\n",
    "\n",
    "reqs_name = list(df['nom_request_name'])\n",
    "reqs_street = list(df['nom_request_street'])\n",
    "reqs_city = list(df['nom_request_city'])\n",
    "reqs_gc = list(df['gc_request_street'])"
   ]
  },
  {
   "cell_type": "code",
   "execution_count": 147,
   "metadata": {
    "execution": {
     "iopub.execute_input": "2022-03-15T20:54:03.509323Z",
     "iopub.status.busy": "2022-03-15T20:54:03.508978Z",
     "iopub.status.idle": "2022-03-15T20:54:17.785935Z",
     "shell.execute_reply": "2022-03-15T20:54:17.785184Z",
     "shell.execute_reply.started": "2022-03-15T20:54:03.509293Z"
    },
    "tags": []
   },
   "outputs": [
    {
     "name": "stdout",
     "output_type": "stream",
     "text": [
      "1: 1315 Finch Avenue West - Med-Health, , ON, Canada\n",
      "no street address in dataframe\n",
      "no addresses found\n",
      "2: 400 Queen Street West - Med-Health, , ON, Canada\n",
      "no street address in dataframe\n",
      "no addresses found\n",
      "3: 3420 Hurontario Street - Med-Health, , ON, Canada\n",
      "no street address in dataframe\n",
      "no addresses found\n",
      "4: 1216 Lawrence Avenue West - Med-Health, , ON, Canada\n",
      "no street address in dataframe\n",
      "no addresses found\n"
     ]
    }
   ],
   "source": [
    "# make a nominatim request for each record \n",
    "\n",
    "def osm_query(query, query_type):\n",
    "    params = {'q': query,\n",
    "            'addressdetails':'1',\n",
    "            'format':'json',\n",
    "            'email':'sam.lumley@statcan.gc.ca'}\n",
    "    time.sleep(request_timing) \n",
    "    coords = requests.get(url, params=params, headers=headers)\n",
    "#     print(\"osm query \" + query_type + \": \" + query)\n",
    "    return coords.json()\n",
    "\n",
    "for i in range(len(reqs_street)):\n",
    "    query_name = reqs_name[i]\n",
    "    query_street = reqs_street[i]\n",
    "    query_city = reqs_city[i]\n",
    "    query_gc = reqs_gc[i]\n",
    "    \n",
    "    request_timing = 3 #seconds\n",
    "\n",
    "        \n",
    "    # we first try facility name street address,\n",
    "    # if that fails, we try street address and then city \n",
    "    # which one we use is recorded in the geo_source column\n",
    "        \n",
    "    print(str(i + 1) + ': ' + query_name)\n",
    "    \n",
    "    # try with facility name\n",
    "    resp = osm_query(query_name, \"name\")\n",
    "    \n",
    "    if len(resp) > 0:\n",
    "        resp = resp[0]\n",
    "        df['geo_source'].iloc[i] = \"osm_facility_name\"\n",
    "        print('[1] osm facility found')\n",
    "    else:\n",
    "#         print('no osm facility found')\n",
    "        \n",
    "        # try street address with osm, if it's non-empty\n",
    "        if len(df.street_name.iloc[i]) > 0:\n",
    "            resp = osm_query(query_street, \"street\")\n",
    "            if (len(resp) > 0) & (query_street[0] == ' '):\n",
    "                resp = resp[0]\n",
    "                df['geo_source'].iloc[i] = \"osm_address\"\n",
    "                print('[2] osm street address found')\n",
    "            else: \n",
    "#                 print('[2] no osm street address found')\n",
    "\n",
    "                 # try GC API\n",
    "                params_gc = {'qstr': query_gc}\n",
    "                headers_gc = {'user_key': gc_key}\n",
    "                coords_gc = requests.get(url_gc, params=params_gc, headers=headers_gc)\n",
    "#                 print(\"trying gc api with query: \" + query_gc)    \n",
    "                if (coords_gc.status_code == 200):\n",
    "                    resp = coords_gc.json()\n",
    "                    print('gc street address found')\n",
    "                    df['geo_source'].iloc[i] = \"gc_street_address\"\n",
    "                else:\n",
    "#                     print('no gc street address found')\n",
    "\n",
    "                    # try osm city\n",
    "                    if len(df.city.iloc[i]) > 0:\n",
    "                        resp = osm_query(query_city, \"city\")\n",
    "\n",
    "                        if len(resp) > 0:\n",
    "                            resp = resp[0]\n",
    "                            df['geo_source'].iloc[i] = \"osm_city\"\n",
    "                            print('osm city address found')\n",
    "                        else:\n",
    "                            print('no address found')\n",
    "                    else:\n",
    "                        print('no addresses found')\n",
    "\n",
    "        else:\n",
    "            print('no street address in dataframe')\n",
    "\n",
    "            # try osm city\n",
    "            if len(df.city.iloc[i]) > 0:\n",
    "                resp = osm_query(query_city, \"city\")\n",
    "\n",
    "                if len(resp) > 0:\n",
    "                    resp = resp[0]\n",
    "                    df['geo_source'].iloc[i] = \"osm_city\"\n",
    "                    print('osm city address found')\n",
    "                else:\n",
    "                    print('no address found')\n",
    "            else:\n",
    "                print('no addresses found')\n",
    "\n",
    "    JSONS.append(resp)\n",
    "\n",
    "#     if resp!=[]:\n",
    "#         print(\"\\n\")\n",
    "# #         print(resp)"
   ]
  },
  {
   "cell_type": "code",
   "execution_count": 148,
   "metadata": {
    "execution": {
     "iopub.execute_input": "2022-03-15T20:54:54.088805Z",
     "iopub.status.busy": "2022-03-15T20:54:54.088500Z",
     "iopub.status.idle": "2022-03-15T20:54:54.092697Z",
     "shell.execute_reply": "2022-03-15T20:54:54.092074Z",
     "shell.execute_reply.started": "2022-03-15T20:54:54.088778Z"
    },
    "tags": []
   },
   "outputs": [],
   "source": [
    "with open('Nominatim.json', 'w', encoding='utf-8') as f:\n",
    "    json.dump(JSONS, f, ensure_ascii=False, indent=4) "
   ]
  },
  {
   "cell_type": "code",
   "execution_count": 149,
   "metadata": {
    "execution": {
     "iopub.execute_input": "2022-03-15T20:54:54.541326Z",
     "iopub.status.busy": "2022-03-15T20:54:54.541028Z",
     "iopub.status.idle": "2022-03-15T20:54:54.545779Z",
     "shell.execute_reply": "2022-03-15T20:54:54.545253Z",
     "shell.execute_reply.started": "2022-03-15T20:54:54.541298Z"
    },
    "tags": []
   },
   "outputs": [
    {
     "data": {
      "text/plain": [
       "4"
      ]
     },
     "execution_count": 149,
     "metadata": {},
     "output_type": "execute_result"
    }
   ],
   "source": [
    "with open('Nominatim.json', 'r', encoding='utf-8') as f:\n",
    "    JSONS=json.load(f)  \n",
    "len(JSONS)"
   ]
  },
  {
   "cell_type": "code",
   "execution_count": 150,
   "metadata": {
    "execution": {
     "iopub.execute_input": "2022-03-15T20:54:56.060551Z",
     "iopub.status.busy": "2022-03-15T20:54:56.060239Z",
     "iopub.status.idle": "2022-03-15T20:54:56.081125Z",
     "shell.execute_reply": "2022-03-15T20:54:56.080488Z",
     "shell.execute_reply.started": "2022-03-15T20:54:56.060524Z"
    },
    "tags": []
   },
   "outputs": [],
   "source": [
    "# read json request results into our dataframe\n",
    "\n",
    "with open('Nominatim.json', 'r', encoding='utf-8') as f:\n",
    "    JSONS=json.load(f)    \n",
    "        \n",
    "LATS=[]\n",
    "LONS=[]\n",
    "ADDR=[]\n",
    "CITY=[]\n",
    "PROV=[]\n",
    "NAME=[]\n",
    "TYPE=[]\n",
    "COUNTRY=[]\n",
    "POST=[]\n",
    "CITY=[]\n",
    "CLASS=[]\n",
    "for element in JSONS:\n",
    "    if element==[]:\n",
    "        LATS.append('')\n",
    "        LONS.append('')\n",
    "        NAME.append('')\n",
    "        ADDR.append('')\n",
    "        PROV.append('')\n",
    "        TYPE.append('')\n",
    "        COUNTRY.append('')\n",
    "        POST.append('')\n",
    "        CITY.append('')\n",
    "        CLASS.append('')\n",
    "    \n",
    "    else:\n",
    "        # if nominatim \n",
    "        # For now we will use everything osm gives us\n",
    "        # later we might want to filter by class - eg just to \"amenity\" \n",
    "        \n",
    "#         if (element['address']['country_code']=='ca') and ('amenity' in element['address'].keys()): \n",
    "#         if (element['address']['country_code']=='ca') and ((element['class'] in ['amenity', 'place', 'building']) ):\n",
    "        \n",
    "        if 'address' in element:\n",
    "            # osm results            \n",
    "            if (element['address']['country_code'] == 'ca'):\n",
    "\n",
    "                COUNTRY.append(element['address']['country_code'])\n",
    "                LATS.append(element['lat'])\n",
    "                LONS.append(element['lon'])\n",
    "                ADDR.append(element['display_name'])\n",
    "                if 'type' in element.keys():\n",
    "                    TYPE.append(element['type'])\n",
    "                else:\n",
    "                    TYPE.append('')\n",
    "                if 'class' in element.keys():\n",
    "                    CLASS.append(element['class'])\n",
    "                else:\n",
    "                    CLASS.append('')\n",
    "\n",
    "                if 'amenity' in element.keys():\n",
    "                    NAME.append(element['address']['amenity'])\n",
    "                else:\n",
    "                    NAME.append(element['display_name'])\n",
    "                if 'state' in element.keys():\n",
    "                    PROV.append(element['address']['state'])\n",
    "                else:\n",
    "                    PROV.append('')\n",
    "                if 'postcode' in element['address']:\n",
    "                    POST.append(element['address']['postcode'])\n",
    "                else:\n",
    "                    POST.append('')\n",
    "                if 'city' in  element['address']:\n",
    "                    CITY.append(element['address']['city'])\n",
    "                else:\n",
    "                    CITY.append('')\n",
    "\n",
    "            else:\n",
    "                LATS.append('')\n",
    "                LONS.append('')\n",
    "                NAME.append('')\n",
    "                ADDR.append('')\n",
    "                PROV.append('')\n",
    "                CLASS.append('')\n",
    "                TYPE.append('')\n",
    "                COUNTRY.append('')\n",
    "                CITY.append('')\n",
    "        elif 'meta' in element:\n",
    "            # gc api results\n",
    "            if (element['data'][0]['country']['code'] == 'CA'):\n",
    "                \n",
    "                \n",
    "                COUNTRY.append(element['data'][0]['country']['code'])\n",
    "                LATS.append(element['data'][0]['location']['geoCoordinates']['latitude'])\n",
    "                LONS.append(element['data'][0]['location']['geoCoordinates']['longitude'])\n",
    "                if 'streetName' in element.keys():\n",
    "                    ADDR.append(element['display_name'])\n",
    "                else:\n",
    "                    ADDR.append('')\n",
    "                TYPE.append('')\n",
    "                CLASS.append('')\n",
    "                NAME.append('')\n",
    "                if 'province' in element.keys():\n",
    "                    PROV.append(element['data'][0]['mailingAddress']['province']['code'])\n",
    "                else:\n",
    "                    PROV.append('')\n",
    "                if 'postalCode' in element['data'][0]['mailingAddress']:\n",
    "                    POST.append(element['data'][0]['mailingAddress']['postalCode'])\n",
    "                else:\n",
    "                    POST.append('')\n",
    "                if 'cityName' in  element['data']:\n",
    "                    CITY.append(element['data'][0]['cityName']['en'])\n",
    "                else:\n",
    "                    CITY.append('')\n",
    "                    \n",
    "            \n",
    "        else:\n",
    "            LATS.append('')\n",
    "            LONS.append('')\n",
    "            NAME.append('')\n",
    "            ADDR.append('')\n",
    "            PROV.append('')\n",
    "            CLASS.append('')\n",
    "            TYPE.append('')\n",
    "            COUNTRY.append('')\n",
    "            CITY.append('')\n",
    "\n",
    "df['osm_address']=ADDR\n",
    "df['osm_name']=NAME\n",
    "df['osm_lat']=LATS\n",
    "df['osm_lon']=LONS\n",
    "df['osm_prov']=PROV\n",
    "df['osm_country']=COUNTRY\n",
    "df['osm_class']=CLASS\n",
    "df['osm_type']=TYPE\n",
    "df['osm_city']=CITY"
   ]
  },
  {
   "cell_type": "code",
   "execution_count": 151,
   "metadata": {
    "execution": {
     "iopub.execute_input": "2022-03-15T20:54:58.054866Z",
     "iopub.status.busy": "2022-03-15T20:54:58.054558Z",
     "iopub.status.idle": "2022-03-15T20:54:58.059283Z",
     "shell.execute_reply": "2022-03-15T20:54:58.058672Z",
     "shell.execute_reply.started": "2022-03-15T20:54:58.054833Z"
    },
    "tags": []
   },
   "outputs": [
    {
     "data": {
      "text/plain": [
       "22469"
      ]
     },
     "execution_count": 151,
     "metadata": {},
     "output_type": "execute_result"
    }
   ],
   "source": [
    "len(df_leftover)"
   ]
  },
  {
   "cell_type": "code",
   "execution_count": 152,
   "metadata": {
    "execution": {
     "iopub.execute_input": "2022-03-15T20:55:17.865707Z",
     "iopub.status.busy": "2022-03-15T20:55:17.865401Z",
     "iopub.status.idle": "2022-03-15T20:55:17.877960Z",
     "shell.execute_reply": "2022-03-15T20:55:17.877299Z",
     "shell.execute_reply.started": "2022-03-15T20:55:17.865678Z"
    },
    "tags": []
   },
   "outputs": [
    {
     "name": "stdout",
     "output_type": "stream",
     "text": [
      "22619\n"
     ]
    }
   ],
   "source": [
    "# recombine datasets: (1) no geocode (2) previously geocoded (3) newly geocoded\n",
    "# df_leftover = df_leftover[df_leftover.geo_source.notnull()]\n",
    "df_everything = pd.concat([df_leftover, df_previously_geocoded, df])\n",
    "print(len(df_everything))"
   ]
  },
  {
   "cell_type": "code",
   "execution_count": 153,
   "metadata": {
    "execution": {
     "iopub.execute_input": "2022-03-15T20:55:21.957381Z",
     "iopub.status.busy": "2022-03-15T20:55:21.957047Z",
     "iopub.status.idle": "2022-03-15T20:55:22.163148Z",
     "shell.execute_reply": "2022-03-15T20:55:22.162468Z",
     "shell.execute_reply.started": "2022-03-15T20:55:21.957352Z"
    },
    "tags": []
   },
   "outputs": [],
   "source": [
    "df_everything.to_csv(\"geocoded_OSM_14-03-2022.csv\", index=False)\n",
    "# df_all_geocoded.to_csv(\"ODHFv2_Geocoded_OSM_17-02-2022.csv\", index=False)"
   ]
  },
  {
   "cell_type": "code",
   "execution_count": 154,
   "metadata": {
    "execution": {
     "iopub.execute_input": "2022-03-15T20:55:22.972288Z",
     "iopub.status.busy": "2022-03-15T20:55:22.971986Z",
     "iopub.status.idle": "2022-03-15T20:55:22.980842Z",
     "shell.execute_reply": "2022-03-15T20:55:22.980183Z",
     "shell.execute_reply.started": "2022-03-15T20:55:22.972262Z"
    },
    "tags": []
   },
   "outputs": [
    {
     "data": {
      "text/plain": [
       "Source               22469\n",
       "osm_city                63\n",
       "gc_street_address       60\n",
       "osm_facility_name       22\n",
       "                         4\n",
       "osm_address              1\n",
       "Name: geo_source, dtype: int64"
      ]
     },
     "execution_count": 154,
     "metadata": {},
     "output_type": "execute_result"
    }
   ],
   "source": [
    "df_everything['geo_source'].value_counts()"
   ]
  },
  {
   "cell_type": "code",
   "execution_count": null,
   "metadata": {},
   "outputs": [],
   "source": []
  }
 ],
 "metadata": {
  "kernelspec": {
   "display_name": "Python 3",
   "language": "python",
   "name": "python3"
  },
  "language_info": {
   "codemirror_mode": {
    "name": "ipython",
    "version": 3
   },
   "file_extension": ".py",
   "mimetype": "text/x-python",
   "name": "python",
   "nbconvert_exporter": "python",
   "pygments_lexer": "ipython3",
   "version": "3.8.8"
  }
 },
 "nbformat": 4,
 "nbformat_minor": 4
}
