{
 "cells": [
  {
   "cell_type": "code",
   "execution_count": 9,
   "metadata": {
    "execution": {
     "iopub.execute_input": "2022-02-21T17:00:06.995388Z",
     "iopub.status.busy": "2022-02-21T17:00:06.995070Z",
     "iopub.status.idle": "2022-02-21T17:00:06.998936Z",
     "shell.execute_reply": "2022-02-21T17:00:06.998285Z",
     "shell.execute_reply.started": "2022-02-21T17:00:06.995356Z"
    },
    "tags": []
   },
   "outputs": [],
   "source": [
    "# -*- coding: utf-8 -*-\n",
    "\"\"\"\n",
    "This script is modified from the nominatim python notebook to use the GC API to geocode \n",
    "sources without lat/lons.\n",
    "\n",
    "The results seem to be less successful than with nominatim.\n",
    "\"\"\"\n",
    "\n",
    "import requests\n",
    "import json\n",
    "import pandas as pd\n",
    "import time\n",
    "import os"
   ]
  },
  {
   "cell_type": "code",
   "execution_count": null,
   "metadata": {},
   "outputs": [],
   "source": []
  },
  {
   "cell_type": "code",
   "execution_count": 4,
   "metadata": {
    "execution": {
     "iopub.execute_input": "2022-02-21T16:37:06.092185Z",
     "iopub.status.busy": "2022-02-21T16:37:06.091901Z",
     "iopub.status.idle": "2022-02-21T16:37:06.095065Z",
     "shell.execute_reply": "2022-02-21T16:37:06.094508Z",
     "shell.execute_reply.started": "2022-02-21T16:37:06.092158Z"
    },
    "tags": []
   },
   "outputs": [],
   "source": [
    "from dotenv import load_dotenv"
   ]
  },
  {
   "cell_type": "code",
   "execution_count": 5,
   "metadata": {
    "execution": {
     "iopub.execute_input": "2022-02-21T16:37:07.198268Z",
     "iopub.status.busy": "2022-02-21T16:37:07.197983Z",
     "iopub.status.idle": "2022-02-21T16:37:07.202955Z",
     "shell.execute_reply": "2022-02-21T16:37:07.202119Z",
     "shell.execute_reply.started": "2022-02-21T16:37:07.198242Z"
    },
    "tags": []
   },
   "outputs": [],
   "source": [
    "load_dotenv()\n",
    "gc_key = os.environ.get(\"GC_API_KEY\")"
   ]
  },
  {
   "cell_type": "code",
   "execution_count": 17,
   "metadata": {
    "execution": {
     "iopub.execute_input": "2022-02-21T17:55:42.489721Z",
     "iopub.status.busy": "2022-02-21T17:55:42.489447Z",
     "iopub.status.idle": "2022-02-21T17:55:42.493115Z",
     "shell.execute_reply": "2022-02-21T17:55:42.492520Z",
     "shell.execute_reply.started": "2022-02-21T17:55:42.489697Z"
    },
    "tags": []
   },
   "outputs": [],
   "source": [
    "\n",
    "params = {'qstr':'4373 Main St Vancouver BC V5V3R1'}\n",
    "\n",
    "headers = {'user_key': gc_key}\n",
    "url='https://national-address-register-statcan.api.canada.ca:443/v1/addresses/search'\n",
    "\n",
    "JSONS=[]\n",
    "JSONS_CITIES=[]"
   ]
  },
  {
   "cell_type": "code",
   "execution_count": 13,
   "metadata": {
    "execution": {
     "iopub.execute_input": "2022-02-21T17:12:39.444926Z",
     "iopub.status.busy": "2022-02-21T17:12:39.444651Z",
     "iopub.status.idle": "2022-02-21T17:12:39.449052Z",
     "shell.execute_reply": "2022-02-21T17:12:39.448476Z",
     "shell.execute_reply.started": "2022-02-21T17:12:39.444901Z"
    },
    "tags": []
   },
   "outputs": [
    {
     "data": {
      "text/plain": [
       "{'user_key': '3fe6ce91c9fa569864d885a315721c13',\n",
       " 'qstr': '4373 Main St Vancouver BC V5V3R1'}"
      ]
     },
     "execution_count": 13,
     "metadata": {},
     "output_type": "execute_result"
    }
   ],
   "source": [
    "headers"
   ]
  },
  {
   "cell_type": "code",
   "execution_count": 22,
   "metadata": {
    "execution": {
     "iopub.execute_input": "2022-02-21T17:58:07.678043Z",
     "iopub.status.busy": "2022-02-21T17:58:07.677756Z",
     "iopub.status.idle": "2022-02-21T17:58:07.959138Z",
     "shell.execute_reply": "2022-02-21T17:58:07.958455Z",
     "shell.execute_reply.started": "2022-02-21T17:58:07.678018Z"
    },
    "tags": []
   },
   "outputs": [
    {
     "name": "stdout",
     "output_type": "stream",
     "text": [
      "204\n"
     ]
    }
   ],
   "source": [
    "\n",
    "#     query = reqs[2]\n",
    "#     query2 = reqs2[2]\n",
    "#     query3 = reqs3[2]\n",
    "\n",
    "coords = requests.get(url, params=params, headers=headers)\n",
    "\n",
    "print(coords.status_code)\n",
    "# if coords:\n",
    "#     resp = coords.json()\n",
    "\n",
    "#     print(resp)\n",
    "\n",
    "#     JSONS.append(resp)\n",
    "\n",
    "#     if resp!=[]:\n",
    "#         print(\"response: \" + resp['display_name'])\n"
   ]
  },
  {
   "cell_type": "code",
   "execution_count": 5,
   "metadata": {
    "execution": {
     "iopub.execute_input": "2022-02-15T16:29:35.273348Z",
     "iopub.status.busy": "2022-02-15T16:29:35.273066Z",
     "iopub.status.idle": "2022-02-15T16:29:35.405758Z",
     "shell.execute_reply": "2022-02-15T16:29:35.405145Z",
     "shell.execute_reply.started": "2022-02-15T16:29:35.273323Z"
    },
    "tags": []
   },
   "outputs": [],
   "source": [
    "df = pd.read_csv(\"combined.csv\", low_memory=False, dtype=\"str\")"
   ]
  },
  {
   "cell_type": "code",
   "execution_count": 6,
   "metadata": {
    "execution": {
     "iopub.execute_input": "2022-02-15T16:29:57.340596Z",
     "iopub.status.busy": "2022-02-15T16:29:57.340296Z",
     "iopub.status.idle": "2022-02-15T16:29:57.351552Z",
     "shell.execute_reply": "2022-02-15T16:29:57.350991Z",
     "shell.execute_reply.started": "2022-02-15T16:29:57.340566Z"
    },
    "tags": []
   },
   "outputs": [
    {
     "data": {
      "text/plain": [
       "150"
      ]
     },
     "execution_count": 6,
     "metadata": {},
     "output_type": "execute_result"
    }
   ],
   "source": [
    "# filter to just those without lat/lon\n",
    "df = df[df.latitude.isnull()]\n",
    "len(df)"
   ]
  },
  {
   "cell_type": "code",
   "execution_count": 7,
   "metadata": {
    "execution": {
     "iopub.execute_input": "2022-02-15T16:30:03.405081Z",
     "iopub.status.busy": "2022-02-15T16:30:03.404807Z",
     "iopub.status.idle": "2022-02-15T16:30:03.427611Z",
     "shell.execute_reply": "2022-02-15T16:30:03.426901Z",
     "shell.execute_reply.started": "2022-02-15T16:30:03.405056Z"
    },
    "tags": []
   },
   "outputs": [],
   "source": [
    "# we try three requests: facility name, city and street address\n",
    "df['nom_request'] = df['facility_name'] + ', ' + 'Canada'\n",
    "df['nom_request_2'] = df['city'] + ', ' + df['province'] + ', ' + 'Canada'\n",
    "df['nom_request_3'] = df['street_no'] + ', ' + df['street_name'] + ', ' + df['postal_code'] + ', '+ df['city'] + ', ' + df.province + ', ' + 'Canada'\n",
    "\n",
    "df.fillna('', inplace=True)\n",
    "facility_name = df['facility_name']\n",
    "street_no = df['street_no']\n",
    "street_name = df['street_name']\n",
    "city = df['city']\n",
    "postal_code = df['postal_code']\n",
    "province = df['province']\n",
    "comma_space = ', '\n",
    "can = 'Canada'\n",
    "\n",
    "df['nom_request'] = facility_name + comma_space + city + comma_space + province + comma_space + can\n",
    "df['nom_request_2'] = city + comma_space + province + comma_space + can\n",
    "df['nom_request_3'] = street_no + ' ' + street_name + comma_space + city + comma_space + province + comma_space + can\n",
    "\n",
    "# df['geo_source'] = df.geo_source.fillna('')\n",
    "\n",
    "# add columns with nom \n",
    "reqs=list(df['nom_request'])\n",
    "reqs2=list(df['nom_request_2'])\n",
    "reqs3=list(df['nom_request_3'])"
   ]
  },
  {
   "cell_type": "code",
   "execution_count": null,
   "metadata": {
    "tags": []
   },
   "outputs": [],
   "source": [
    "reqs"
   ]
  },
  {
   "cell_type": "code",
   "execution_count": null,
   "metadata": {
    "tags": []
   },
   "outputs": [],
   "source": [
    "df = df[:8]"
   ]
  },
  {
   "cell_type": "code",
   "execution_count": null,
   "metadata": {
    "tags": []
   },
   "outputs": [],
   "source": [
    "len(df)"
   ]
  },
  {
   "cell_type": "code",
   "execution_count": null,
   "metadata": {
    "tags": []
   },
   "outputs": [],
   "source": [
    "# geo_source=list(df['geo_source'])\n",
    "\n",
    "for i in range(len(reqs)):\n",
    "# for i in range(5):\n",
    "    query = reqs[i]\n",
    "    query2 = reqs2[i]\n",
    "    query3 = reqs3[i]\n",
    "    \n",
    "#     source=geo_source[i]\n",
    "    \n",
    "#     if (source!=''):\n",
    "#         JSONS.append([])\n",
    "#         #JSONS_CITIES.append([])\n",
    "#     else:\n",
    "        \n",
    "    params={'q':query3,\n",
    "            'addressdetails':'1',\n",
    "            'format':'json',\n",
    "            'email':'sam.lumley@statcan.gc.ca'}\n",
    "    time.sleep(6) # 6\n",
    "    coords=requests.get(url, \n",
    "                    params=params, headers=headers)\n",
    "    resp=coords.json()\n",
    "    if len(resp)>0:\n",
    "        resp=resp[0]\n",
    "    JSONS.append(resp)\n",
    "    print(i)\n",
    "    print(\"query: \" + query)\n",
    "    if resp!=[]:\n",
    "        print(\"response: \" + resp['display_name'])\n",
    "            \n",
    "        #repeat for just city and province\n",
    "#        params={'q':query2,\n",
    "#                'addressdetails':'1',\n",
    "#                'format':'json',\n",
    "#                'email':'joseph.kuchar@canada.ca'}\n",
    "#        time.sleep(6)\n",
    "#        coords=requests.get(url, \n",
    "#                        params=params,headers=headers)\n",
    "#        resp=coords.json()\n",
    "#        if len(resp)>0:\n",
    "#            resp=resp[0]\n",
    "#        JSONS_CITIES.append(resp)\n",
    "#        print(i)\n",
    "#        print(query2)\n",
    "#        if resp!=[]:\n",
    "#            print(resp['display_name'])"
   ]
  },
  {
   "cell_type": "code",
   "execution_count": null,
   "metadata": {
    "tags": []
   },
   "outputs": [],
   "source": [
    "with open('Nominatim.json', 'w', encoding='utf-8') as f:\n",
    "    json.dump(JSONS, f, ensure_ascii=False, indent=4) "
   ]
  },
  {
   "cell_type": "code",
   "execution_count": null,
   "metadata": {
    "tags": []
   },
   "outputs": [],
   "source": [
    "# read json request results into our dataframe\n",
    "\n",
    "with open('Nominatim.json', 'r', encoding='utf-8') as f:\n",
    "    JSONS=json.load(f)    \n",
    "        \n",
    "LATS=[]\n",
    "LONS=[]\n",
    "ADDR=[]\n",
    "CITY=[]\n",
    "PROV=[]\n",
    "NAME=[]\n",
    "TYPE=[]\n",
    "COUNTRY=[]\n",
    "POST=[]\n",
    "CITY=[]\n",
    "CLASS=[]\n",
    "for element in JSONS:\n",
    "    if element==[]:\n",
    "        LATS.append('')\n",
    "        LONS.append('')\n",
    "        NAME.append('')\n",
    "        ADDR.append('')\n",
    "        PROV.append('')\n",
    "        TYPE.append('')\n",
    "        COUNTRY.append('')\n",
    "        POST.append('')\n",
    "        CITY.append('')\n",
    "        CLASS.append('')\n",
    "    else:\n",
    "        \n",
    "        print(element['class'])\n",
    "        # we might only use results that are classed by osm as \"amenity\" \n",
    "        # For now we will use everything\n",
    "        \n",
    "#         if (element['address']['country_code']=='ca') and ('amenity' in element['address'].keys()): \n",
    "#         if (element['address']['country_code']=='ca') and ((element['class'] in ['amenity', 'place', 'building']) ):\n",
    "            \n",
    "        if (element['address']['country_code']=='ca'):\n",
    "            \n",
    "            COUNTRY.append(element['address']['country_code'])\n",
    "        \n",
    "        \n",
    "            LATS.append(element['lat'])\n",
    "            LONS.append(element['lon'])\n",
    "            ADDR.append(element['display_name'])\n",
    "            if 'type' in element.keys():\n",
    "                TYPE.append(element['type'])\n",
    "            else:\n",
    "                TYPE.append('')\n",
    "            if 'class' in element.keys():\n",
    "                CLASS.append(element['class'])\n",
    "            else:\n",
    "                CLASS.append('')\n",
    "            \n",
    "            if 'amenity' in element.keys():\n",
    "                NAME.append(element['address']['amenity'])\n",
    "            else:\n",
    "                NAME.append(element['display_name'])\n",
    "            if 'state' in element.keys():\n",
    "                PROV.append(element['address']['state'])\n",
    "            else:\n",
    "                PROV.append('')\n",
    "            if 'postcode' in element['address']:\n",
    "                POST.append(element['address']['postcode'])\n",
    "            else:\n",
    "                POST.append('')\n",
    "            if 'city' in  element['address']:\n",
    "                CITY.append(element['address']['city'])\n",
    "            else:\n",
    "                CITY.append('')\n",
    "                \n",
    "        else:\n",
    "            LATS.append('')\n",
    "            LONS.append('')\n",
    "            NAME.append('')\n",
    "            ADDR.append('')\n",
    "            PROV.append('')\n",
    "            CLASS.append('')\n",
    "            TYPE.append('')\n",
    "            COUNTRY.append('')\n",
    "            CITY.append('')\n",
    "            \n",
    "\n",
    "            \n",
    "df['osm_address']=ADDR\n",
    "df['osm_name']=NAME\n",
    "df['osm_lat']=LATS\n",
    "df['osm_lon']=LONS\n",
    "df['osm_prov']=PROV\n",
    "df['osm_country']=COUNTRY\n",
    "df['osm_class']=CLASS\n",
    "df['osm_type']=TYPE\n",
    "df['osm_city']=CITY\n"
   ]
  },
  {
   "cell_type": "code",
   "execution_count": null,
   "metadata": {
    "tags": []
   },
   "outputs": [],
   "source": [
    "len(df)"
   ]
  },
  {
   "cell_type": "code",
   "execution_count": null,
   "metadata": {},
   "outputs": [],
   "source": [
    "df.to_csv(\"ODHFv2_Geocoded_OSM_15-02-2022.csv\", index=False)"
   ]
  },
  {
   "cell_type": "code",
   "execution_count": null,
   "metadata": {},
   "outputs": [],
   "source": [
    "%env"
   ]
  },
  {
   "cell_type": "code",
   "execution_count": null,
   "metadata": {},
   "outputs": [],
   "source": []
  }
 ],
 "metadata": {
  "kernelspec": {
   "display_name": "Python 3",
   "language": "python",
   "name": "python3"
  },
  "language_info": {
   "codemirror_mode": {
    "name": "ipython",
    "version": 3
   },
   "file_extension": ".py",
   "mimetype": "text/x-python",
   "name": "python",
   "nbconvert_exporter": "python",
   "pygments_lexer": "ipython3",
   "version": "3.8.8"
  }
 },
 "nbformat": 4,
 "nbformat_minor": 4
}
