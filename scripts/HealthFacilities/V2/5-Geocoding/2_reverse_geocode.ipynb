{
 "cells": [
  {
   "cell_type": "code",
   "execution_count": 2,
   "metadata": {
    "execution": {
     "iopub.execute_input": "2022-03-15T16:35:30.152573Z",
     "iopub.status.busy": "2022-03-15T16:35:30.152258Z",
     "iopub.status.idle": "2022-03-15T16:35:30.574433Z",
     "shell.execute_reply": "2022-03-15T16:35:30.573769Z",
     "shell.execute_reply.started": "2022-03-15T16:35:30.152540Z"
    },
    "tags": []
   },
   "outputs": [],
   "source": [
    "# -*- coding: utf-8 -*-\n",
    "\"\"\"\n",
    "This script is used to reverse geocode health sources which do not have street addresses\n",
    "but do have lat/lon coordinates. It uses the OSM Nominatim API.\n",
    "\n",
    "It filters out results results that have already been geocoded so that new data \n",
    "can be added to the pipeline without re-processing each record.\n",
    "\n",
    "This script is adapted from Education Facilities to Healthcare.\n",
    "\"\"\"\n",
    "\n",
    "import requests\n",
    "import json\n",
    "import pandas as pd\n",
    "import numpy as np\n",
    "import time\n",
    "from os.path import exists"
   ]
  },
  {
   "cell_type": "code",
   "execution_count": 112,
   "metadata": {
    "execution": {
     "iopub.execute_input": "2022-03-16T13:33:10.547728Z",
     "iopub.status.busy": "2022-03-16T13:33:10.547338Z",
     "iopub.status.idle": "2022-03-16T13:33:11.051971Z",
     "shell.execute_reply": "2022-03-16T13:33:11.051239Z",
     "shell.execute_reply.started": "2022-03-16T13:33:10.547687Z"
    },
    "tags": []
   },
   "outputs": [
    {
     "name": "stdout",
     "output_type": "stream",
     "text": [
      "1717 records already reverse geocoded\n"
     ]
    }
   ],
   "source": [
    "# load new input data and (optionally) output data from previous runs \n",
    "\n",
    "input_data = \"geocoded_OSM_14-03-2022.csv\"\n",
    "prev_reverse_geocoded_data = \"reverse_geocoded_14-03-2022.csv\"\n",
    "\n",
    "df_input = pd.read_csv(input_data, low_memory=False, dtype=\"str\")\n",
    "\n",
    "# detect previously geocoded rows from previous output\n",
    "if exists(prev_reverse_geocoded_data):\n",
    "    remove_list = ['osm_reverse']\n",
    "    df_previous_run = pd.read_csv(prev_reverse_geocoded_data, low_memory=False, dtype=\"str\")\n",
    "    df_previously_r_geocoded = df_previous_run[df_previous_run[\"geo_source\"].isin(remove_list)]    \n",
    "    print(str(len(df_previously_r_geocoded)) + ' records already reverse geocoded')\n",
    "else:\n",
    "    df_previously_r_geocoded = pd.DataFrame()\n",
    "    print('no previous csv detected')"
   ]
  },
  {
   "cell_type": "code",
   "execution_count": 120,
   "metadata": {
    "execution": {
     "iopub.execute_input": "2022-03-16T13:46:11.014275Z",
     "iopub.status.busy": "2022-03-16T13:46:11.013991Z",
     "iopub.status.idle": "2022-03-16T13:46:11.027573Z",
     "shell.execute_reply": "2022-03-16T13:46:11.026914Z",
     "shell.execute_reply.started": "2022-03-16T13:46:11.014248Z"
    },
    "tags": []
   },
   "outputs": [
    {
     "name": "stdout",
     "output_type": "stream",
     "text": [
      "1717 records already geocoded in the input data\n"
     ]
    }
   ],
   "source": [
    "# filter input data for rows that have already been reverse geocoded, based on 'idx'\n",
    "\n",
    "# number_of_nulls = len(df_input[df_input.geo_source.isnull()])\n",
    "\n",
    "if isinstance(df_previously_r_geocoded, pd.DataFrame):\n",
    "    geo_list = list(df_previously_r_geocoded['idx'])\n",
    "    df = df_input[~df_input['idx'].isin(geo_list)]\n",
    "    print(str(len(df_input) - len(df)) + ' records already geocoded in the input data')\n",
    "else:\n",
    "    print('no previously geocoded results found in dataframe')\n",
    "    df = df_input"
   ]
  },
  {
   "cell_type": "code",
   "execution_count": 121,
   "metadata": {
    "execution": {
     "iopub.execute_input": "2022-03-16T13:46:13.084443Z",
     "iopub.status.busy": "2022-03-16T13:46:13.084172Z",
     "iopub.status.idle": "2022-03-16T13:46:13.108555Z",
     "shell.execute_reply": "2022-03-16T13:46:13.107927Z",
     "shell.execute_reply.started": "2022-03-16T13:46:13.084418Z"
    },
    "tags": []
   },
   "outputs": [
    {
     "name": "stdout",
     "output_type": "stream",
     "text": [
      "number of addresses found from other columns: 76\n",
      "22610\n"
     ]
    },
    {
     "name": "stderr",
     "output_type": "stream",
     "text": [
      "<ipython-input-121-1a7cdfd829a6>:7: SettingWithCopyWarning: \n",
      "A value is trying to be set on a copy of a slice from a DataFrame.\n",
      "Try using .loc[row_indexer,col_indexer] = value instead\n",
      "\n",
      "See the caveats in the documentation: https://pandas.pydata.org/pandas-docs/stable/user_guide/indexing.html#returning-a-view-versus-a-copy\n",
      "  df2['street_addr'] = df2['street_addr'].fillna(df2['street_no'].astype(str) + \" \" + df2['street_name'])\n"
     ]
    }
   ],
   "source": [
    "# filter to those without street address but with street name and street number\n",
    "\n",
    "df_geo_source = df[(df.street_addr.notnull())]\n",
    "\n",
    "# create street address from street name and street number if present\n",
    "df2 = df[(df.street_addr.isnull()) & (df.street_name.notnull()) & (df.street_no.notnull())]\n",
    "df2['street_addr'] = df2['street_addr'].fillna(df2['street_no'].astype(str) + \" \" + df2['street_name'])\n",
    "print(\"number of addresses found from other columns: \" + str(len(df2)))\n",
    "\n",
    "# save results that do not need geocoding\n",
    "df_leftover = pd.concat([df_geo_source, df_previously_r_geocoded, df2])\n",
    "print(len(df_leftover))\n",
    "# create new street address from street address and number\n",
    "\n",
    "# df_all.drop(df_all[(df_all.street_addr.isnull()) & (df_all.street_name.notnull()) & (df_all.street_no.notnull())].index, inplace=True)\n",
    "\n",
    "# df_all = df_all.append(df2)"
   ]
  },
  {
   "cell_type": "code",
   "execution_count": 117,
   "metadata": {
    "execution": {
     "iopub.execute_input": "2022-03-16T13:42:18.754547Z",
     "iopub.status.busy": "2022-03-16T13:42:18.754132Z",
     "iopub.status.idle": "2022-03-16T13:42:18.762090Z",
     "shell.execute_reply": "2022-03-16T13:42:18.761254Z",
     "shell.execute_reply.started": "2022-03-16T13:42:18.754504Z"
    },
    "tags": []
   },
   "outputs": [
    {
     "name": "stdout",
     "output_type": "stream",
     "text": [
      "missing street addresses: 1802\n"
     ]
    }
   ],
   "source": [
    "print(\"missing street addresses: \" + str(df_input['street_addr'].isna().sum()))"
   ]
  },
  {
   "cell_type": "code",
   "execution_count": 118,
   "metadata": {
    "execution": {
     "iopub.execute_input": "2022-03-16T13:43:03.942207Z",
     "iopub.status.busy": "2022-03-16T13:43:03.941913Z",
     "iopub.status.idle": "2022-03-16T13:43:03.952629Z",
     "shell.execute_reply": "2022-03-16T13:43:03.952049Z",
     "shell.execute_reply.started": "2022-03-16T13:43:03.942178Z"
    },
    "tags": []
   },
   "outputs": [
    {
     "data": {
      "text/plain": [
       "1726"
      ]
     },
     "execution_count": 118,
     "metadata": {},
     "output_type": "execute_result"
    }
   ],
   "source": [
    "# filter to just those without no street address\n",
    "df = df_all[df_all.street_addr.isnull()]\n",
    "len(df)"
   ]
  },
  {
   "cell_type": "code",
   "execution_count": 8,
   "metadata": {
    "execution": {
     "iopub.execute_input": "2022-03-15T16:35:37.896097Z",
     "iopub.status.busy": "2022-03-15T16:35:37.895743Z",
     "iopub.status.idle": "2022-03-15T16:35:37.900133Z",
     "shell.execute_reply": "2022-03-15T16:35:37.899454Z",
     "shell.execute_reply.started": "2022-03-15T16:35:37.896063Z"
    },
    "tags": []
   },
   "outputs": [],
   "source": [
    "# define parameters for osm api call\n",
    "headers = {\n",
    "    'User-Agent': 'Sam Lumley, Statistics Canada',\n",
    "    'From': 'sam.lumley@statcan.gc.ca' \n",
    "    }\n",
    "\n",
    "url = 'https://nominatim.openstreetmap.org/reverse?'\n",
    "\n",
    "JSONS = []\n",
    "JSONS_CITIES = []"
   ]
  },
  {
   "cell_type": "code",
   "execution_count": 9,
   "metadata": {
    "execution": {
     "iopub.execute_input": "2022-03-15T16:35:38.391903Z",
     "iopub.status.busy": "2022-03-15T16:35:38.391582Z",
     "iopub.status.idle": "2022-03-15T16:35:38.396169Z",
     "shell.execute_reply": "2022-03-15T16:35:38.395478Z",
     "shell.execute_reply.started": "2022-03-15T16:35:38.391869Z"
    },
    "tags": []
   },
   "outputs": [],
   "source": [
    "# define our multiple api queries\n",
    "# df.fillna('', inplace=True)\n",
    "\n",
    "lats = list(df['latitude'])\n",
    "lons = list(df['longitude'])"
   ]
  },
  {
   "cell_type": "code",
   "execution_count": null,
   "metadata": {
    "tags": []
   },
   "outputs": [],
   "source": [
    "# make a nominatim reverse geocode request for each record \n",
    "\n",
    "# for i in range(5): # use this line for testing small batches\n",
    "for i in range(len(lats)):\n",
    "    \n",
    "    # temp, get last five. so from len(lats) - 5 to len(lats)\n",
    "#     i = i + len(lats) - 5\n",
    "    \n",
    "    lat = lats[i]\n",
    "    lon = lons[i]\n",
    "    print(str(i + 1) + \": lat: \" + str(lat) + \", lon: \" + str(lon))\n",
    "    \n",
    "    request_timing = 3 #seconds\n",
    "            \n",
    "    params = {'lat': lat,\n",
    "            'lon': lon,\n",
    "            'format':'json',\n",
    "            'email':'sam.lumley@statcan.gc.ca'}\n",
    "    time.sleep(request_timing) \n",
    "    coords = requests.get(url, params=params, headers=headers)\n",
    "    resp = coords.json()\n",
    "        \n",
    "    if len(resp) > 0:\n",
    "        print('osm address found')\n",
    "        df['geo_source'].iloc[i] = \"osm_reverse\"\n",
    "        \n",
    "                \n",
    "    JSONS.append(resp)\n",
    "\n",
    "#     if resp!=[]:\n",
    "#         print(resp)"
   ]
  },
  {
   "cell_type": "code",
   "execution_count": null,
   "metadata": {
    "tags": []
   },
   "outputs": [],
   "source": [
    "with open('reverse_nominatim.json', 'w', encoding='utf-8') as f:\n",
    "    json.dump(JSONS, f, ensure_ascii=False, indent=4) "
   ]
  },
  {
   "cell_type": "code",
   "execution_count": 106,
   "metadata": {
    "execution": {
     "iopub.execute_input": "2022-03-15T21:12:15.214223Z",
     "iopub.status.busy": "2022-03-15T21:12:15.213933Z",
     "iopub.status.idle": "2022-03-15T21:12:15.435032Z",
     "shell.execute_reply": "2022-03-15T21:12:15.434397Z",
     "shell.execute_reply.started": "2022-03-15T21:12:15.214192Z"
    },
    "tags": []
   },
   "outputs": [
    {
     "name": "stderr",
     "output_type": "stream",
     "text": [
      "<ipython-input-106-f767660c69f7>:106: SettingWithCopyWarning: \n",
      "A value is trying to be set on a copy of a slice from a DataFrame.\n",
      "Try using .loc[row_indexer,col_indexer] = value instead\n",
      "\n",
      "See the caveats in the documentation: https://pandas.pydata.org/pandas-docs/stable/user_guide/indexing.html#returning-a-view-versus-a-copy\n",
      "  df['osm_address']=ADDR\n",
      "<ipython-input-106-f767660c69f7>:107: SettingWithCopyWarning: \n",
      "A value is trying to be set on a copy of a slice from a DataFrame.\n",
      "Try using .loc[row_indexer,col_indexer] = value instead\n",
      "\n",
      "See the caveats in the documentation: https://pandas.pydata.org/pandas-docs/stable/user_guide/indexing.html#returning-a-view-versus-a-copy\n",
      "  df['osm_name']=NAME\n",
      "<ipython-input-106-f767660c69f7>:108: SettingWithCopyWarning: \n",
      "A value is trying to be set on a copy of a slice from a DataFrame.\n",
      "Try using .loc[row_indexer,col_indexer] = value instead\n",
      "\n",
      "See the caveats in the documentation: https://pandas.pydata.org/pandas-docs/stable/user_guide/indexing.html#returning-a-view-versus-a-copy\n",
      "  df['osm_lat']=LATS\n",
      "<ipython-input-106-f767660c69f7>:109: SettingWithCopyWarning: \n",
      "A value is trying to be set on a copy of a slice from a DataFrame.\n",
      "Try using .loc[row_indexer,col_indexer] = value instead\n",
      "\n",
      "See the caveats in the documentation: https://pandas.pydata.org/pandas-docs/stable/user_guide/indexing.html#returning-a-view-versus-a-copy\n",
      "  df['osm_lon']=LONS\n",
      "<ipython-input-106-f767660c69f7>:110: SettingWithCopyWarning: \n",
      "A value is trying to be set on a copy of a slice from a DataFrame.\n",
      "Try using .loc[row_indexer,col_indexer] = value instead\n",
      "\n",
      "See the caveats in the documentation: https://pandas.pydata.org/pandas-docs/stable/user_guide/indexing.html#returning-a-view-versus-a-copy\n",
      "  df['osm_prov']=PROV\n",
      "<ipython-input-106-f767660c69f7>:111: SettingWithCopyWarning: \n",
      "A value is trying to be set on a copy of a slice from a DataFrame.\n",
      "Try using .loc[row_indexer,col_indexer] = value instead\n",
      "\n",
      "See the caveats in the documentation: https://pandas.pydata.org/pandas-docs/stable/user_guide/indexing.html#returning-a-view-versus-a-copy\n",
      "  df['osm_country']=COUNTRY\n",
      "<ipython-input-106-f767660c69f7>:112: SettingWithCopyWarning: \n",
      "A value is trying to be set on a copy of a slice from a DataFrame.\n",
      "Try using .loc[row_indexer,col_indexer] = value instead\n",
      "\n",
      "See the caveats in the documentation: https://pandas.pydata.org/pandas-docs/stable/user_guide/indexing.html#returning-a-view-versus-a-copy\n",
      "  df['osm_class']=CLASS\n",
      "<ipython-input-106-f767660c69f7>:113: SettingWithCopyWarning: \n",
      "A value is trying to be set on a copy of a slice from a DataFrame.\n",
      "Try using .loc[row_indexer,col_indexer] = value instead\n",
      "\n",
      "See the caveats in the documentation: https://pandas.pydata.org/pandas-docs/stable/user_guide/indexing.html#returning-a-view-versus-a-copy\n",
      "  df['osm_type']=TYPE\n",
      "<ipython-input-106-f767660c69f7>:114: SettingWithCopyWarning: \n",
      "A value is trying to be set on a copy of a slice from a DataFrame.\n",
      "Try using .loc[row_indexer,col_indexer] = value instead\n",
      "\n",
      "See the caveats in the documentation: https://pandas.pydata.org/pandas-docs/stable/user_guide/indexing.html#returning-a-view-versus-a-copy\n",
      "  df['osm_city']=CITY\n"
     ]
    }
   ],
   "source": [
    "# read json request results into our dataframe\n",
    "\n",
    "with open('reverse_nominatim.json', 'r', encoding='utf-8') as f:\n",
    "    JSONS=json.load(f)    \n",
    "        \n",
    "LATS=[]\n",
    "LONS=[]\n",
    "ADDR=[]\n",
    "CITY=[]\n",
    "PROV=[]\n",
    "NAME=[]\n",
    "TYPE=[]\n",
    "COUNTRY=[]\n",
    "POST=[]\n",
    "CITY=[]\n",
    "CLASS=[]\n",
    "for index, element in enumerate(JSONS):\n",
    "    if element==[]:\n",
    "        LATS.append('')\n",
    "        LONS.append('')\n",
    "        NAME.append('')\n",
    "        ADDR.append('')\n",
    "        PROV.append('')\n",
    "        TYPE.append('')\n",
    "        COUNTRY.append('')\n",
    "        POST.append('')\n",
    "        CITY.append('')\n",
    "        CLASS.append('')\n",
    "    else:\n",
    "        # For now we will use everything osm gives us\n",
    "        # later we might want to filter by class - eg just to \"amenity\" \n",
    "        \n",
    "#         if (element['address']['country_code']=='ca') and ('amenity' in element['address'].keys()): \n",
    "#         if (element['address']['country_code']=='ca') and ((element['class'] in ['amenity', 'place', 'building']) ):\n",
    "            \n",
    "        if 'address' in element:\n",
    "            if 'country_code' in element['address']:\n",
    "                if (element['address']['country_code']=='ca'):\n",
    "                    \n",
    "                    df['geo_source'].iloc[index] = \"osm_reverse\"\n",
    "                    COUNTRY.append(element['address']['country_code'])\n",
    "                    LATS.append(element['lat'])\n",
    "                    LONS.append(element['lon'])\n",
    "                    ADDR.append(element['display_name'])\n",
    "                    if 'type' in element.keys():\n",
    "                        TYPE.append(element['type'])\n",
    "                    else:\n",
    "                        TYPE.append('')\n",
    "                    if 'class' in element.keys():\n",
    "                        CLASS.append(element['class'])\n",
    "                    else:\n",
    "                        CLASS.append('')\n",
    "\n",
    "                    if 'amenity' in element['address']:\n",
    "                        NAME.append(element['address']['amenity'])\n",
    "                    else:\n",
    "                        NAME.append(element['display_name'])\n",
    "                    if 'state' in element.keys():\n",
    "                        PROV.append(element['address']['state'])\n",
    "                    else:\n",
    "                        PROV.append('')\n",
    "                    if 'postcode' in element['address']:\n",
    "                        POST.append(element['address']['postcode'])\n",
    "                    else:\n",
    "                        POST.append('')\n",
    "                    if 'city' in  element['address']:\n",
    "                        CITY.append(element['address']['city'])\n",
    "                    elif 'town' in element['address']:\n",
    "                        CITY.append(element['address']['town'])\n",
    "                    else:\n",
    "                        CITY.append('')\n",
    "                        \n",
    "                else:\n",
    "                    LATS.append('')\n",
    "                    LONS.append('')\n",
    "                    NAME.append('')\n",
    "                    ADDR.append('')\n",
    "                    PROV.append('')\n",
    "                    CLASS.append('')\n",
    "                    TYPE.append('')\n",
    "                    COUNTRY.append('')\n",
    "                    CITY.append('')\n",
    "                        \n",
    "            else:\n",
    "                LATS.append('')\n",
    "                LONS.append('')\n",
    "                NAME.append('')\n",
    "                ADDR.append('')\n",
    "                PROV.append('')\n",
    "                CLASS.append('')\n",
    "                TYPE.append('')\n",
    "                COUNTRY.append('')\n",
    "                CITY.append('')         \n",
    "                        \n",
    "        else:\n",
    "            LATS.append('')\n",
    "            LONS.append('')\n",
    "            NAME.append('')\n",
    "            ADDR.append('')\n",
    "            PROV.append('')\n",
    "            CLASS.append('')\n",
    "            TYPE.append('')\n",
    "            COUNTRY.append('')\n",
    "            CITY.append('')\n",
    "\n",
    "df['osm_address']=ADDR\n",
    "df['osm_name']=NAME\n",
    "df['osm_lat']=LATS\n",
    "df['osm_lon']=LONS\n",
    "df['osm_prov']=PROV\n",
    "df['osm_country']=COUNTRY\n",
    "df['osm_class']=CLASS\n",
    "df['osm_type']=TYPE\n",
    "df['osm_city']=CITY         "
   ]
  },
  {
   "cell_type": "code",
   "execution_count": 107,
   "metadata": {
    "execution": {
     "iopub.execute_input": "2022-03-15T21:12:18.537140Z",
     "iopub.status.busy": "2022-03-15T21:12:18.536842Z",
     "iopub.status.idle": "2022-03-15T21:12:18.543754Z",
     "shell.execute_reply": "2022-03-15T21:12:18.543124Z",
     "shell.execute_reply.started": "2022-03-15T21:12:18.537111Z"
    },
    "tags": []
   },
   "outputs": [
    {
     "data": {
      "text/plain": [
       "osm_reverse    1717\n",
       "Source            4\n",
       "osm_city          1\n",
       "Name: geo_source, dtype: int64"
      ]
     },
     "execution_count": 107,
     "metadata": {},
     "output_type": "execute_result"
    }
   ],
   "source": [
    "df['geo_source'].value_counts()"
   ]
  },
  {
   "cell_type": "code",
   "execution_count": 108,
   "metadata": {
    "execution": {
     "iopub.execute_input": "2022-03-15T21:12:21.918367Z",
     "iopub.status.busy": "2022-03-15T21:12:21.918088Z",
     "iopub.status.idle": "2022-03-15T21:12:21.931498Z",
     "shell.execute_reply": "2022-03-15T21:12:21.930695Z",
     "shell.execute_reply.started": "2022-03-15T21:12:21.918338Z"
    },
    "tags": []
   },
   "outputs": [
    {
     "name": "stdout",
     "output_type": "stream",
     "text": [
      "22619\n"
     ]
    }
   ],
   "source": [
    "# recombine datasets: (1) no reverse geocode needed\n",
    "# (2) previously reverse geocoded (3) newly reverse geocoded\n",
    "\n",
    "# df_leftover = df_leftover[df_leftover.geo_source.notnull()]\n",
    "df_everything = pd.concat([df_leftover, df_previously_r_geocoded, df])\n",
    "print(len(df_everything))"
   ]
  },
  {
   "cell_type": "code",
   "execution_count": 109,
   "metadata": {
    "execution": {
     "iopub.execute_input": "2022-03-15T21:12:23.970085Z",
     "iopub.status.busy": "2022-03-15T21:12:23.969795Z",
     "iopub.status.idle": "2022-03-15T21:12:24.171658Z",
     "shell.execute_reply": "2022-03-15T21:12:24.170973Z",
     "shell.execute_reply.started": "2022-03-15T21:12:23.970058Z"
    },
    "tags": []
   },
   "outputs": [],
   "source": [
    "df_everything.to_csv(\"reverse_geocoded_14-03-2022.csv\", index=False)"
   ]
  },
  {
   "cell_type": "code",
   "execution_count": 110,
   "metadata": {
    "execution": {
     "iopub.execute_input": "2022-03-15T21:12:26.051553Z",
     "iopub.status.busy": "2022-03-15T21:12:26.051254Z",
     "iopub.status.idle": "2022-03-15T21:12:26.059998Z",
     "shell.execute_reply": "2022-03-15T21:12:26.059407Z",
     "shell.execute_reply.started": "2022-03-15T21:12:26.051524Z"
    },
    "tags": []
   },
   "outputs": [
    {
     "data": {
      "text/plain": [
       "Source               20752\n",
       "osm_reverse           1717\n",
       "osm_city                63\n",
       "gc_street_address       60\n",
       "osm_facility_name       22\n",
       "osm_address              1\n",
       "Name: geo_source, dtype: int64"
      ]
     },
     "execution_count": 110,
     "metadata": {},
     "output_type": "execute_result"
    }
   ],
   "source": [
    "df_everything['geo_source'].value_counts()"
   ]
  }
 ],
 "metadata": {
  "kernelspec": {
   "display_name": "Python 3",
   "language": "python",
   "name": "python3"
  },
  "language_info": {
   "codemirror_mode": {
    "name": "ipython",
    "version": 3
   },
   "file_extension": ".py",
   "mimetype": "text/x-python",
   "name": "python",
   "nbconvert_exporter": "python",
   "pygments_lexer": "ipython3",
   "version": "3.8.8"
  }
 },
 "nbformat": 4,
 "nbformat_minor": 4
}
