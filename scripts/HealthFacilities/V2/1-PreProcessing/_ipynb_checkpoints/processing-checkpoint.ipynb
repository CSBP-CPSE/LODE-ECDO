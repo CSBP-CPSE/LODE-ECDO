{
 "cells": [
  {
   "cell_type": "code",
   "execution_count": 83,
   "metadata": {
    "execution": {
     "iopub.execute_input": "2022-02-02T18:56:22.637573Z",
     "iopub.status.busy": "2022-02-02T18:56:22.637324Z",
     "iopub.status.idle": "2022-02-02T18:56:22.642114Z",
     "shell.execute_reply": "2022-02-02T18:56:22.641390Z",
     "shell.execute_reply.started": "2022-02-02T18:56:22.637550Z"
    },
    "tags": []
   },
   "outputs": [
    {
     "data": {
      "text/plain": [
       "'\\nThese scripts prepares raw downloaded CSV files for use with Open Tabulate.\\nIt takes the raw directory as input and outputs to the processed directory.\\nThe following steps are taken:\\n- Format latitude and longitude as seperate columns\\n- Converts format to CSV \\n- Encodes CSV with utf-8\\n- Filters out data not related to health (eg police stations)\\n\\n-Sam Lumley\\nDec 2021\\n\\n'"
      ]
     },
     "execution_count": 83,
     "metadata": {},
     "output_type": "execute_result"
    }
   ],
   "source": [
    "'''\n",
    "These scripts prepares raw downloaded CSV files for use with Open Tabulate.\n",
    "It takes the raw directory as input and outputs to the processed directory.\n",
    "The following steps are taken:\n",
    "- Format latitude and longitude as seperate columns\n",
    "- Converts format to CSV \n",
    "- Encodes CSV with utf-8\n",
    "- Filters out data not related to health (eg police stations)\n",
    "\n",
    "-Sam Lumley\n",
    "Dec 2021\n",
    "\n",
    "'''"
   ]
  },
  {
   "cell_type": "code",
   "execution_count": 84,
   "metadata": {
    "execution": {
     "iopub.execute_input": "2022-02-02T18:56:22.643679Z",
     "iopub.status.busy": "2022-02-02T18:56:22.643420Z",
     "iopub.status.idle": "2022-02-02T18:56:25.188553Z",
     "shell.execute_reply": "2022-02-02T18:56:25.187481Z",
     "shell.execute_reply.started": "2022-02-02T18:56:22.643649Z"
    },
    "tags": []
   },
   "outputs": [
    {
     "name": "stdout",
     "output_type": "stream",
     "text": [
      "Looking in indexes: http://jfrog-platform-artifactory-ha.jfrog-system:8081/artifactory/api/pypi/pypi-remote/simple\n",
      "Requirement already satisfied: geopandas in /home/jovyan/.local/lib/python3.8/site-packages (0.10.2)\n",
      "Requirement already satisfied: pyproj>=2.2.0 in /home/jovyan/.local/lib/python3.8/site-packages (from geopandas) (3.3.0)\n",
      "Requirement already satisfied: fiona>=1.8 in /home/jovyan/.local/lib/python3.8/site-packages (from geopandas) (1.8.20)\n",
      "Requirement already satisfied: pandas>=0.25.0 in /opt/conda/lib/python3.8/site-packages (from geopandas) (1.2.4)\n",
      "Requirement already satisfied: shapely>=1.6 in /home/jovyan/.local/lib/python3.8/site-packages (from geopandas) (1.8.0)\n",
      "Requirement already satisfied: click-plugins>=1.0 in /home/jovyan/.local/lib/python3.8/site-packages (from fiona>=1.8->geopandas) (1.1.1)\n",
      "Requirement already satisfied: click>=4.0 in /opt/conda/lib/python3.8/site-packages (from fiona>=1.8->geopandas) (7.1.2)\n",
      "Requirement already satisfied: six>=1.7 in /opt/conda/lib/python3.8/site-packages (from fiona>=1.8->geopandas) (1.15.0)\n",
      "Requirement already satisfied: attrs>=17 in /opt/conda/lib/python3.8/site-packages (from fiona>=1.8->geopandas) (20.3.0)\n",
      "Requirement already satisfied: cligj>=0.5 in /home/jovyan/.local/lib/python3.8/site-packages (from fiona>=1.8->geopandas) (0.7.2)\n",
      "Requirement already satisfied: certifi in /opt/conda/lib/python3.8/site-packages (from fiona>=1.8->geopandas) (2021.10.8)\n",
      "Requirement already satisfied: setuptools in /opt/conda/lib/python3.8/site-packages (from fiona>=1.8->geopandas) (49.6.0.post20210108)\n",
      "Requirement already satisfied: munch in /home/jovyan/.local/lib/python3.8/site-packages (from fiona>=1.8->geopandas) (2.5.0)\n",
      "Requirement already satisfied: python-dateutil>=2.7.3 in /opt/conda/lib/python3.8/site-packages (from pandas>=0.25.0->geopandas) (2.8.1)\n",
      "Requirement already satisfied: pytz>=2017.3 in /opt/conda/lib/python3.8/site-packages (from pandas>=0.25.0->geopandas) (2021.1)\n",
      "Requirement already satisfied: numpy>=1.16.5 in /opt/conda/lib/python3.8/site-packages (from pandas>=0.25.0->geopandas) (1.20.2)\n",
      "Note: you may need to restart the kernel to use updated packages.\n"
     ]
    }
   ],
   "source": [
    "import pandas as pd\n",
    "\n",
    "# If necessary, install openpyxl and geopandas\n",
    "#import sys\n",
    "#!conda install --yes --prefix {sys.prefix} openpyxl\n",
    "\n",
    "%pip install geopandas"
   ]
  },
  {
   "cell_type": "code",
   "execution_count": 85,
   "metadata": {
    "execution": {
     "iopub.execute_input": "2022-02-02T18:56:25.190662Z",
     "iopub.status.busy": "2022-02-02T18:56:25.190419Z",
     "iopub.status.idle": "2022-02-02T18:56:25.193528Z",
     "shell.execute_reply": "2022-02-02T18:56:25.192933Z",
     "shell.execute_reply.started": "2022-02-02T18:56:25.190630Z"
    },
    "tags": []
   },
   "outputs": [],
   "source": [
    "# If necessary, generate province folder structure\n",
    "\n",
    "# import os\n",
    "\n",
    "# folders=['ab','bc','mb','nb','nl','ns','nt','nu','on','pe','qc','sk','yt']\n",
    "\n",
    "# for items in folders:\n",
    "#     os.mkdir(items)\n"
   ]
  },
  {
   "cell_type": "code",
   "execution_count": 86,
   "metadata": {
    "execution": {
     "iopub.execute_input": "2022-02-02T18:56:25.194888Z",
     "iopub.status.busy": "2022-02-02T18:56:25.194606Z",
     "iopub.status.idle": "2022-02-02T18:56:25.256522Z",
     "shell.execute_reply": "2022-02-02T18:56:25.255855Z",
     "shell.execute_reply.started": "2022-02-02T18:56:25.194866Z"
    },
    "tags": []
   },
   "outputs": [],
   "source": [
    "# AB Calgary covid \n",
    "# convert point to lat lon\n",
    "# ignore empty rows\n",
    "\n",
    "import pandas as pd\n",
    "\n",
    "df=pd.read_csv('raw/AB_Calgary_covid_vaccination_centres.csv')\n",
    "\n",
    "def strip_point(x):\n",
    "    \n",
    "    x=str(x)  \n",
    "    if (x == 'nan'):\n",
    "        t = [None,None]\n",
    "        return t\n",
    "    else:\n",
    "        t=x.strip('POINT (')\n",
    "        t=t.rstrip(')')\n",
    "        return t.split()\n",
    "\n",
    "LONGS=[]\n",
    "LATS=[]\n",
    "for i in df[\"POINT\"]:\n",
    "\tLONGS.append(strip_point(i)[0])\n",
    "\tLATS.append(strip_point(i)[1])\n",
    "\n",
    "df[\"LONGITUDE\"]=LONGS\n",
    "df[\"LATITUDE\"]=LATS\n",
    "\n",
    "df.to_csv('processed/AB_Calgary_covid_vaccination_centres.csv')"
   ]
  },
  {
   "cell_type": "code",
   "execution_count": 87,
   "metadata": {
    "execution": {
     "iopub.execute_input": "2022-02-02T18:56:25.257522Z",
     "iopub.status.busy": "2022-02-02T18:56:25.257347Z",
     "iopub.status.idle": "2022-02-02T18:56:25.274948Z",
     "shell.execute_reply": "2022-02-02T18:56:25.274387Z",
     "shell.execute_reply.started": "2022-02-02T18:56:25.257503Z"
    },
    "tags": []
   },
   "outputs": [],
   "source": [
    "# AB Calgary healthcare \n",
    "# point to lat lon\n",
    "\n",
    "import pandas as pd\n",
    "\n",
    "df=pd.read_csv('raw/AB_Calgary_healthcare_facilities.csv')\n",
    "\n",
    "def strip_point(x):\n",
    "\n",
    "    x=str(x)    \n",
    "    t=x.strip('POINT (')\n",
    "    t=t.rstrip(')')\n",
    "    # \tprint(t)\n",
    "    return t.split()\n",
    "\n",
    "LONGS=[]\n",
    "LATS=[]\n",
    "for i in df[\"location\"]:\n",
    "\tLONGS.append(strip_point(i)[1])\n",
    "\tLATS.append(strip_point(i)[0])\n",
    "\n",
    "df[\"LONGITUDE\"]=LONGS\n",
    "df[\"LATITUDE\"]=LATS\n",
    "\n",
    "df.to_csv('processed/AB_Calgary_healthcare_facilities.csv')"
   ]
  },
  {
   "cell_type": "code",
   "execution_count": 88,
   "metadata": {
    "execution": {
     "iopub.execute_input": "2022-02-02T18:56:25.275962Z",
     "iopub.status.busy": "2022-02-02T18:56:25.275789Z",
     "iopub.status.idle": "2022-02-02T18:56:25.372992Z",
     "shell.execute_reply": "2022-02-02T18:56:25.372337Z",
     "shell.execute_reply.started": "2022-02-02T18:56:25.275942Z"
    },
    "tags": []
   },
   "outputs": [],
   "source": [
    "# British Columbia\n",
    "# utf-8 encode datasets\n",
    "\n",
    "df=pd.read_csv('raw/BC_emergency_rooms.csv')\n",
    "df.to_csv('processed/BC_emergency_rooms.csv')\n",
    "\n",
    "df2=pd.read_csv('raw/BC_hospital.csv')\n",
    "df2.to_csv('processed/BC_hospital.csv')\n",
    "\n",
    "df3=pd.read_csv('raw/BC_pharmacies.csv')\n",
    "df3.to_csv('processed/BC_pharmacies.csv')\n",
    "\n",
    "df4=pd.read_csv('raw/BC_urgent_care.csv')\n",
    "df4.to_csv('processed/BC_urgent_care.csv')\n",
    "\n",
    "df5=pd.read_csv('raw/BC_walk-in_clinics.csv')\n",
    "df5.to_csv('processed/BC_walk-in_clinics.csv')\n",
    "\n",
    "df5=pd.read_csv('raw/ON_Guelph_healthcare_facilities.csv')\n",
    "df5.to_csv('processed/ON_Guelph_healthcare_facilities.csv')"
   ]
  },
  {
   "cell_type": "code",
   "execution_count": 89,
   "metadata": {
    "execution": {
     "iopub.execute_input": "2022-02-02T18:56:25.374172Z",
     "iopub.status.busy": "2022-02-02T18:56:25.373987Z",
     "iopub.status.idle": "2022-02-02T18:56:25.627833Z",
     "shell.execute_reply": "2022-02-02T18:56:25.627126Z",
     "shell.execute_reply.started": "2022-02-02T18:56:25.374152Z"
    },
    "tags": []
   },
   "outputs": [],
   "source": [
    "# Manitoba\n",
    "\n",
    "# read geojson, output csv\n",
    "# limit to hospitals\n",
    "# remove null values in the geometry\n",
    "\n",
    "import geopandas as gpd\n",
    "import pandas as pd\n",
    "\n",
    "#read geojson with geopandas into geodataframe\n",
    "sc1=gpd.read_file('raw/MB_COVID-19_and_Flu_-_Vaccination_Sites.geojson')\n",
    "\n",
    "df=pd.DataFrame(sc1)\n",
    "\n",
    "\n",
    "def strip_point(x):\n",
    "    \n",
    "    x=str(x)  \n",
    "    if (x == 'nan'):\n",
    "        t = [None,None]\n",
    "        return t\n",
    "    elif x == 'None':\n",
    "        t = [None,None]\n",
    "        return t\n",
    "    else:\n",
    "        t=x.strip('POINT (')\n",
    "        t=t.rstrip(')')\n",
    "        return t.split() \n",
    "\n",
    "\n",
    "LONGS=[]\n",
    "LATS=[]\n",
    "for i in df.geometry:\n",
    "\tLONGS.append(strip_point(i)[0])\n",
    "\tLATS.append(strip_point(i)[1])\n",
    "\n",
    "df[\"LONGITUDE\"]=LONGS\n",
    "df[\"LATITUDE\"]=LATS\n",
    "\n",
    "df.to_csv('processed/MB_covid-19_and_flu_vaccine_sites.csv')\n"
   ]
  },
  {
   "cell_type": "code",
   "execution_count": 90,
   "metadata": {
    "execution": {
     "iopub.execute_input": "2022-02-02T18:56:25.628885Z",
     "iopub.status.busy": "2022-02-02T18:56:25.628703Z",
     "iopub.status.idle": "2022-02-02T18:56:25.645746Z",
     "shell.execute_reply": "2022-02-02T18:56:25.645166Z",
     "shell.execute_reply.started": "2022-02-02T18:56:25.628863Z"
    },
    "tags": []
   },
   "outputs": [],
   "source": [
    "# New Brunswick\n",
    "# replace characters that would not show up correctly in the processed dataset\n",
    "# convert point to lat lon\n",
    "\n",
    "df=pd.read_csv('raw/NB_nursing_homes.csv')\n",
    "\n",
    "df=df.replace('Ã¨','è', regex=True)\n",
    "df=df.replace('Ã´','ô', regex=True)\n",
    "df=df.replace('Ã‰','É', regex=True)\n",
    "df=df.replace('Â','', regex=True)\n",
    "\n",
    "def strip_point(x):\n",
    "    z=x.strip('(')\n",
    "    a=z.rstrip(')')\n",
    "    t=a.replace(\",\", \"\")\n",
    "    return t.split()\n",
    "\n",
    "LONGS=[]\n",
    "LATS=[]\n",
    "for i in df[\"Location\"]:\n",
    "\tLONGS.append(strip_point(i)[1])\n",
    "\tLATS.append(strip_point(i)[0])\n",
    "\n",
    "df[\"LONGITUDE\"]=LONGS\n",
    "df[\"LATITUDE\"]=LATS\n",
    "\n",
    "df.to_csv('processed/NB_nursing_homes.csv')"
   ]
  },
  {
   "cell_type": "code",
   "execution_count": 91,
   "metadata": {
    "execution": {
     "iopub.execute_input": "2022-02-02T18:56:25.647576Z",
     "iopub.status.busy": "2022-02-02T18:56:25.647380Z",
     "iopub.status.idle": "2022-02-02T18:56:25.696152Z",
     "shell.execute_reply": "2022-02-02T18:56:25.695316Z",
     "shell.execute_reply.started": "2022-02-02T18:56:25.647553Z"
    },
    "tags": []
   },
   "outputs": [],
   "source": [
    "# NL healthcare and hospital datasets\n",
    "# convert from xls to csv\n",
    "\n",
    "import openpyxl\n",
    "\n",
    "df = pd.read_excel(\"raw/NL_Hospital.xlsx\", engine='openpyxl')\n",
    "df.to_csv('processed/NL_hospital.csv')\n",
    "\n",
    "df2 = pd.read_excel(\"raw/NL_HealthCentre.xls\", engine='openpyxl')\n",
    "df2.to_csv('processed/NL_healthcare_facilities.csv')\n"
   ]
  },
  {
   "cell_type": "code",
   "execution_count": 92,
   "metadata": {
    "execution": {
     "iopub.execute_input": "2022-02-02T18:56:25.697464Z",
     "iopub.status.busy": "2022-02-02T18:56:25.697256Z",
     "iopub.status.idle": "2022-02-02T18:56:25.706401Z",
     "shell.execute_reply": "2022-02-02T18:56:25.705673Z",
     "shell.execute_reply.started": "2022-02-02T18:56:25.697441Z"
    },
    "tags": []
   },
   "outputs": [],
   "source": [
    "# Processing for Nova Scotia\n",
    "# Convert 'POINT' Geometry into lat and lon\n",
    "\n",
    "import pandas as pd\n",
    "\n",
    "df=pd.read_csv('raw/NS_hospital.csv')\n",
    "\n",
    "def strip_point(x):\n",
    "\n",
    "\tx=str(x)    \n",
    "\tt=x.strip('POINT (')\n",
    "\tt=t.rstrip(')')\n",
    "\treturn t.split()\n",
    "\n",
    "LONGS=[]\n",
    "LATS=[]\n",
    "for i in df[\"the_geom\"]:\n",
    "\tLONGS.append(strip_point(i)[0])\n",
    "\tLATS.append(strip_point(i)[1])\n",
    "\n",
    "df[\"LONGITUDE\"]=LONGS\n",
    "df[\"LATITUDE\"]=LATS\n",
    "\n",
    "df.to_csv('processed/NS_hospital.csv')\n"
   ]
  },
  {
   "cell_type": "code",
   "execution_count": 93,
   "metadata": {
    "execution": {
     "iopub.execute_input": "2022-02-02T18:56:25.707363Z",
     "iopub.status.busy": "2022-02-02T18:56:25.707196Z",
     "iopub.status.idle": "2022-02-02T18:56:25.749979Z",
     "shell.execute_reply": "2022-02-02T18:56:25.749398Z",
     "shell.execute_reply.started": "2022-02-02T18:56:25.707344Z"
    },
    "tags": []
   },
   "outputs": [],
   "source": [
    "# Processing for PEI Health Facilities data\n",
    "# Turn 'Location\" column into long and lat\n",
    "\n",
    "df=pd.read_csv('raw/PE_healthcare_facilities.csv')\n",
    "\n",
    "# df=df.loc[df[\"Facility Type\"] != \"Public Nursing Home\"]\n",
    "\n",
    "def strip_point(x):\n",
    "    z=x.strip('(')\n",
    "    a=z.rstrip(')')\n",
    "    t=a.replace(\",\", \"\")\n",
    "    return t.split()\n",
    "\n",
    "LONGS=[]\n",
    "LATS=[]\n",
    "for i in df[\"Location 1\"]:\n",
    "\tLONGS.append(strip_point(i)[1])\n",
    "\tLATS.append(strip_point(i)[0])\n",
    "\n",
    "df[\"LONGITUDE\"]=LONGS\n",
    "df[\"LATITUDE\"]=LATS\n",
    "\n",
    "df.to_csv('processed/PE_healthcare_facilities.csv')"
   ]
  },
  {
   "cell_type": "code",
   "execution_count": 94,
   "metadata": {
    "execution": {
     "iopub.execute_input": "2022-02-02T18:56:25.751201Z",
     "iopub.status.busy": "2022-02-02T18:56:25.751010Z",
     "iopub.status.idle": "2022-02-02T18:56:25.818239Z",
     "shell.execute_reply": "2022-02-02T18:56:25.817618Z",
     "shell.execute_reply.started": "2022-02-02T18:56:25.751180Z"
    },
    "tags": []
   },
   "outputs": [],
   "source": [
    "# Processing for NB Moncton \n",
    "\n",
    "#read geojson, output csv\n",
    "#limit ourselves to hospitals\n",
    "#Also turn 'POINT' Geometry into lat and lon\n",
    "\n",
    "import geopandas as gpd\n",
    "import pandas as pd\n",
    "\n",
    "#read shapefile with geopandas into geodataframe\n",
    "\n",
    "files = ['raw/NB_Moncton_medical_clinics', 'raw/NB_Moncton_pharmacies', 'raw/NB_Moncton_senior_care_facilities']\n",
    "\n",
    "for file in files:\n",
    "\n",
    "    filename = file + '.geojson'\n",
    "    #print(filename)\n",
    "    sc1=gpd.read_file(filename)\n",
    "\n",
    "    df=pd.DataFrame(sc1)\n",
    "\n",
    "\n",
    "    def strip_point(x):\n",
    "\n",
    "        x=str(x)    \n",
    "        t=x.strip('POINT (')\n",
    "        t=t.rstrip(')')\n",
    "    # \tprint(t)\n",
    "        return t.split()\n",
    "\n",
    "    LONGS=[]\n",
    "    LATS=[]\n",
    "    for i in df.geometry:\n",
    "        LONGS.append(strip_point(i)[0])\n",
    "        LATS.append(strip_point(i)[1])\n",
    "\n",
    "    df[\"LONGITUDE\"]=LONGS\n",
    "    df[\"LATITUDE\"]=LATS\n",
    "\n",
    "    location = 'processed/' + file.strip('raw/') + '.csv'\n",
    "    df.to_csv(location)"
   ]
  },
  {
   "cell_type": "code",
   "execution_count": 95,
   "metadata": {
    "execution": {
     "iopub.execute_input": "2022-02-02T18:56:25.819419Z",
     "iopub.status.busy": "2022-02-02T18:56:25.819227Z",
     "iopub.status.idle": "2022-02-02T18:56:26.078801Z",
     "shell.execute_reply": "2022-02-02T18:56:26.078137Z",
     "shell.execute_reply.started": "2022-02-02T18:56:25.819398Z"
    },
    "tags": []
   },
   "outputs": [],
   "source": [
    "# ON Durham, Toronto clinics, Toronto covid test sites and York hospitals\n",
    "\n",
    "# read geojson, output csv\n",
    "# limit to hospitals\n",
    "# Also turn 'POINT' Geometry into lat and lon\n",
    "\n",
    "\n",
    "import geopandas as gpd\n",
    "import pandas as pd\n",
    "\n",
    "#read shapefile with geopandas into geodataframe\n",
    "\n",
    "files = ['raw/ON_Durham_healthcare_facilities', 'raw/ON_Toronto_covid-19-immunization-clinics', 'raw/ON_Toronto_covid-19-testing-sites', 'raw/ON_York_hospital']\n",
    "\n",
    "for file in files:\n",
    "\n",
    "    filename = file + '.geojson'\n",
    "    #print(filename)\n",
    "    sc1=gpd.read_file(filename)\n",
    "\n",
    "    df=pd.DataFrame(sc1)\n",
    "\n",
    "\n",
    "    def strip_point(x):\n",
    "\n",
    "        x=str(x)    \n",
    "        t=x.strip('POINT (')\n",
    "        t=t.rstrip(')')\n",
    "    # \tprint(t)\n",
    "        return t.split()\n",
    "\n",
    "    LONGS=[]\n",
    "    LATS=[]\n",
    "    for i in df.geometry:\n",
    "        LONGS.append(strip_point(i)[0])\n",
    "        LATS.append(strip_point(i)[1])\n",
    "\n",
    "    df[\"LONGITUDE\"]=LONGS\n",
    "    df[\"LATITUDE\"]=LATS\n",
    "\n",
    "    location = 'processed/' + file.strip(\"raw/\") + '.csv'\n",
    "    df.to_csv(location)"
   ]
  },
  {
   "cell_type": "code",
   "execution_count": 96,
   "metadata": {
    "execution": {
     "iopub.execute_input": "2022-02-02T18:56:26.079869Z",
     "iopub.status.busy": "2022-02-02T18:56:26.079686Z",
     "iopub.status.idle": "2022-02-02T18:56:26.099437Z",
     "shell.execute_reply": "2022-02-02T18:56:26.098881Z",
     "shell.execute_reply.started": "2022-02-02T18:56:26.079849Z"
    },
    "tags": []
   },
   "outputs": [],
   "source": [
    "# QC Gatineau \n",
    "# convert POINT to lat lon\n",
    "\n",
    "import pandas as pd\n",
    "\n",
    "df=pd.read_csv('raw/QC_Gatineau_public_places_including_hospitals.csv')\n",
    "\n",
    "def strip_point(x):\n",
    "\n",
    "    x=str(x)    \n",
    "    t=x.strip('POINT (')\n",
    "    t=t.rstrip(')')\n",
    "    # \tprint(t)\n",
    "    return t.split()\n",
    "\n",
    "LONGS=[]\n",
    "LATS=[]\n",
    "for i in df[\"GEOM\"]:\n",
    "\tLONGS.append(strip_point(i)[1])\n",
    "\tLATS.append(strip_point(i)[0])\n",
    "\n",
    "df[\"LONGITUDE\"]=LONGS\n",
    "df[\"LATITUDE\"]=LATS\n",
    "\n",
    "df2 = df[(df['TYPE'] == 'C.L.S.C.') | (df['TYPE'] == 'C.H.S.L.D.') | (df['TYPE'] == 'Résidence pour personnes âgées') | (df['TYPE'] == 'Centre hospitalier') | (df['TYPE'] == 'Autres services médicaux et de santé') | (df['TYPE'] == 'Résidence pour personnes âgées(Type \"Familiale\")')]\n",
    "df3 = df2.reset_index(drop=True)\n",
    "\n",
    "df3.to_csv('processed/QC_Gatineau_public_places_including_hospitals.csv')"
   ]
  },
  {
   "cell_type": "code",
   "execution_count": 97,
   "metadata": {
    "execution": {
     "iopub.execute_input": "2022-02-02T18:56:26.100428Z",
     "iopub.status.busy": "2022-02-02T18:56:26.100252Z",
     "iopub.status.idle": "2022-02-02T18:56:26.116197Z",
     "shell.execute_reply": "2022-02-02T18:56:26.115543Z",
     "shell.execute_reply.started": "2022-02-02T18:56:26.100407Z"
    },
    "tags": []
   },
   "outputs": [],
   "source": [
    "# QC Quebec city \n",
    "# convert POINT to lat lon\n",
    "\n",
    "import pandas as pd\n",
    "\n",
    "df=pd.read_csv('raw/QC_Quebec City_public_places_including_hospitals.csv')\n",
    "\n",
    "def strip_point(x):\n",
    "\n",
    "    x=str(x)    \n",
    "    t=x.strip('POINT (')\n",
    "    t=t.rstrip(')')\n",
    "    # \tprint(t)\n",
    "    return t.split()\n",
    "\n",
    "LONGS=[]\n",
    "LATS=[]\n",
    "for i in df[\"GEOMETRIE\"]:\n",
    "\tLONGS.append(strip_point(i)[1])\n",
    "\tLATS.append(strip_point(i)[0])\n",
    "\n",
    "df[\"LONGITUDE\"]=LONGS\n",
    "df[\"LATITUDE\"]=LATS\n",
    "\n",
    "df2 = df[df['DESCRIPTION'] == 'Hôpitaux']\n",
    "df3 = df2.reset_index(drop=True)\n",
    "\n",
    "df3.to_csv('processed/QC_Quebec_City_public_places.csv')"
   ]
  },
  {
   "cell_type": "code",
   "execution_count": 98,
   "metadata": {
    "execution": {
     "iopub.execute_input": "2022-02-02T18:56:26.117222Z",
     "iopub.status.busy": "2022-02-02T18:56:26.117040Z",
     "iopub.status.idle": "2022-02-02T18:56:26.208929Z",
     "shell.execute_reply": "2022-02-02T18:56:26.208237Z",
     "shell.execute_reply.started": "2022-02-02T18:56:26.117202Z"
    },
    "tags": []
   },
   "outputs": [],
   "source": [
    "# transfer files directly from PreProcessing/processed to opentabulate/data/input\n",
    "\n",
    "import os\n",
    "from pathlib import Path\n",
    "import shutil\n",
    "\n",
    "src = '/home/jovyan/data-vol-1/ODHF/LODE-ECDO/scripts/HealthFacilities/V2/1-PreProcessing/processed'\n",
    "dst = '/home/jovyan/data-vol-1/ODHF/LODE-ECDO/scripts/HealthFacilities/V2/2-OpenTabulate/opentabulate/data/input'\n",
    "\n",
    "if os.path.exists(dst):\n",
    "    shutil.rmtree(dst)\n",
    "    shutil.copytree(src, dst)"
   ]
  },
  {
   "cell_type": "code",
   "execution_count": null,
   "metadata": {},
   "outputs": [],
   "source": []
  }
 ],
 "metadata": {
  "kernelspec": {
   "display_name": "Python 3",
   "language": "python",
   "name": "python3"
  },
  "language_info": {
   "codemirror_mode": {
    "name": "ipython",
    "version": 3
   },
   "file_extension": ".py",
   "mimetype": "text/x-python",
   "name": "python",
   "nbconvert_exporter": "python",
   "pygments_lexer": "ipython3",
   "version": "3.8.8"
  }
 },
 "nbformat": 4,
 "nbformat_minor": 4
}
