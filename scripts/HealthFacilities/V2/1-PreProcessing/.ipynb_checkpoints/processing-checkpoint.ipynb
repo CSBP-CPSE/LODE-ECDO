{
 "cells": [
  {
   "cell_type": "code",
   "execution_count": 5,
   "metadata": {
    "execution": {
     "iopub.execute_input": "2021-12-14T16:55:55.558895Z",
     "iopub.status.busy": "2021-12-14T16:55:55.558613Z",
     "iopub.status.idle": "2021-12-14T16:55:55.928340Z",
     "shell.execute_reply": "2021-12-14T16:55:55.927690Z",
     "shell.execute_reply.started": "2021-12-14T16:55:55.558867Z"
    }
   },
   "outputs": [],
   "source": [
    "import pandas as pd\n",
    "\n",
    "\n",
    "'''\n",
    "pre-processing notes\n",
    "\n",
    "pre-processing steps\n",
    "- format lat lon columns\n",
    "- convert format to csv\n",
    "- encode with utf-8\n",
    "- filter to health-related data\n",
    "\n",
    "provinces\n",
    "- bc (various) - emergency room, hopsital, pharmacy, urgent care and walk in not utf encoded /\n",
    "- mb personal care homes - good /\n",
    "- mb vaccine sites - convert geojson to csv /\n",
    "- nb horizon/ vitale - both good /\n",
    "- nb nursing homes - convert point to lat lon /\n",
    "- nl healthcare/hospitals - convert from xls to csv /\n",
    "- ns hospitals - convert geometry to lat lon /\n",
    "- ns long term care - good /\n",
    "- on covid testing - good /\n",
    "- on healthcare facilities - good /\n",
    "- pe - convert geometry to lat lon /\n",
    "- qc - healthcare facilities - good /\n",
    "- qc - healthcare establishments - good /\n",
    "\n",
    "municipalities\n",
    "- calgary covid - point to lat lon\n",
    "- calgary healthcare - point to lat lon\n",
    "- moncton clinic - \n",
    "- moncton pharm - \n",
    "- moncton senior - \n",
    "- durham - \n",
    "- guelph - \n",
    "- hamilton hopsital - \n",
    "- hamilton residential - \n",
    "- ottawa flu clinic - \n",
    "- ottawa hospital - \n",
    "- ottawa long term - \n",
    "- toronto - \n",
    "- toronto - \n",
    "- york - \n",
    "- gatineau - \n",
    "- quebec city - \n",
    "- saskatoon - \n",
    "\n",
    "others to collect by scraping and contact\n",
    "- ab\n",
    "\n",
    "- CIHI\n",
    "\n",
    "'''"
   ]
  },
  {
   "cell_type": "code",
   "execution_count": 55,
   "metadata": {
    "execution": {
     "iopub.execute_input": "2021-12-21T20:36:39.210384Z",
     "iopub.status.busy": "2021-12-21T20:36:39.210013Z",
     "iopub.status.idle": "2021-12-21T20:36:39.213731Z",
     "shell.execute_reply": "2021-12-21T20:36:39.212955Z",
     "shell.execute_reply.started": "2021-12-21T20:36:39.210348Z"
    },
    "tags": []
   },
   "outputs": [],
   "source": [
    "\n",
    "# import sys\n",
    "# !conda install --yes --prefix {sys.prefix} openpyxl\n",
    "\n",
    "# %pip install geopandas"
   ]
  },
  {
   "cell_type": "code",
   "execution_count": 32,
   "metadata": {
    "execution": {
     "iopub.execute_input": "2021-12-20T21:59:33.915701Z",
     "iopub.status.busy": "2021-12-20T21:59:33.915361Z",
     "iopub.status.idle": "2021-12-20T21:59:33.952502Z",
     "shell.execute_reply": "2021-12-20T21:59:33.951714Z",
     "shell.execute_reply.started": "2021-12-20T21:59:33.915668Z"
    },
    "tags": []
   },
   "outputs": [],
   "source": [
    "# Processing for NL healthcare and hospital datasets\n",
    "# convert from xls to csv\n",
    "\n",
    "import openpyxl\n",
    "\n",
    "# Assisted living\n",
    "\n",
    "df = pd.read_excel(\"data/NL_Hospital.xlsx\", engine='openpyxl')\n",
    "df.to_csv('processed/NL_Hospital.csv')\n",
    "\n",
    "df2 = pd.read_excel(\"data/NL_HealthCentre.xls\", engine='openpyxl')\n",
    "df2.to_csv('processed/NL_HealthCentre.csv')\n"
   ]
  },
  {
   "cell_type": "code",
   "execution_count": 36,
   "metadata": {
    "execution": {
     "iopub.execute_input": "2021-12-20T22:04:07.929114Z",
     "iopub.status.busy": "2021-12-20T22:04:07.928844Z",
     "iopub.status.idle": "2021-12-20T22:04:08.007518Z",
     "shell.execute_reply": "2021-12-20T22:04:08.006773Z",
     "shell.execute_reply.started": "2021-12-20T22:04:07.929092Z"
    },
    "tags": []
   },
   "outputs": [],
   "source": [
    "# Processing for BC\n",
    "# utf-8 encode datasets\n",
    "\n",
    "df=pd.read_csv('data/BC_emergency_rooms.csv')\n",
    "df.to_csv('processed/BC_emergency_rooms.csv')\n",
    "\n",
    "df2=pd.read_csv('data/BC_hospital.csv')\n",
    "df2.to_csv('processed/BC_hospital.csv')\n",
    "\n",
    "df3=pd.read_csv('data/BC_pharmacies.csv')\n",
    "df3.to_csv('processed/BC_pharmacies.csv')\n",
    "\n",
    "df4=pd.read_csv('data/BC_urgent_care.csv')\n",
    "df4.to_csv('processed/BC_urgent_care.csv')\n",
    "\n",
    "df5=pd.read_csv('data/BC_walk-in_clinics.csv')\n",
    "df5.to_csv('processed/BC_walk-in_clinics.csv')"
   ]
  },
  {
   "cell_type": "code",
   "execution_count": 37,
   "metadata": {
    "execution": {
     "iopub.execute_input": "2021-12-21T17:17:26.520778Z",
     "iopub.status.busy": "2021-12-21T17:17:26.520506Z",
     "iopub.status.idle": "2021-12-21T17:17:26.534239Z",
     "shell.execute_reply": "2021-12-21T17:17:26.533431Z",
     "shell.execute_reply.started": "2021-12-21T17:17:26.520752Z"
    },
    "tags": []
   },
   "outputs": [],
   "source": [
    "# Processing for New Brunswick\n",
    "# convert point to lat lon\n",
    "\n",
    "df=pd.read_csv('data/NB_nursing_homes.csv')\n",
    "\n",
    "# df=df.loc[df[\"Facility Type\"] != \"Public Nursing Home\"]\n",
    "\n",
    "def strip_point(x):\n",
    "\tt=x.strip('(')\n",
    "\tt=t.rstrip(')')\n",
    "#\tt=t.strip(' (')\n",
    "#\tprint(t)\n",
    "\treturn t.split()\n",
    "\n",
    "LONGS=[]\n",
    "LATS=[]\n",
    "for i in df[\"Location\"]:\n",
    "\tLONGS.append(strip_point(i)[1])\n",
    "\tLATS.append(strip_point(i)[0])\n",
    "\n",
    "df[\"LONGITUDE\"]=LONGS\n",
    "df[\"LATITUDE\"]=LATS\n",
    "\n",
    "df.to_csv('processed/NB_nursing_homes.csv')"
   ]
  },
  {
   "cell_type": "code",
   "execution_count": 41,
   "metadata": {
    "execution": {
     "iopub.execute_input": "2021-12-21T17:23:25.242865Z",
     "iopub.status.busy": "2021-12-21T17:23:25.242589Z",
     "iopub.status.idle": "2021-12-21T17:23:25.252279Z",
     "shell.execute_reply": "2021-12-21T17:23:25.251720Z",
     "shell.execute_reply.started": "2021-12-21T17:23:25.242841Z"
    },
    "tags": []
   },
   "outputs": [],
   "source": [
    "# Processing for Nova Scotia\n",
    "# Convert 'POINT' Geometry into lat and lon\n",
    "\n",
    "import pandas as pd\n",
    "\n",
    "df=pd.read_csv('data/NS_hospital.csv')\n",
    "\n",
    "def strip_point(x):\n",
    "\n",
    "\tx=str(x)    \n",
    "\tt=x.strip('POINT (')\n",
    "\tt=t.rstrip(')')\n",
    "\treturn t.split()\n",
    "\n",
    "LONGS=[]\n",
    "LATS=[]\n",
    "for i in df[\"the_geom\"]:\n",
    "\tLONGS.append(strip_point(i)[0])\n",
    "\tLATS.append(strip_point(i)[1])\n",
    "\n",
    "df[\"LONGITUDE\"]=LONGS\n",
    "df[\"LATITUDE\"]=LATS\n",
    "\n",
    "df.to_csv('processed/NS_hospital.csv')\n"
   ]
  },
  {
   "cell_type": "code",
   "execution_count": 3,
   "metadata": {
    "execution": {
     "iopub.execute_input": "2022-01-10T18:38:18.629493Z",
     "iopub.status.busy": "2022-01-10T18:38:18.629211Z",
     "iopub.status.idle": "2022-01-10T18:38:18.772775Z",
     "shell.execute_reply": "2022-01-10T18:38:18.771608Z",
     "shell.execute_reply.started": "2022-01-10T18:38:18.629464Z"
    },
    "tags": []
   },
   "outputs": [
    {
     "ename": "IndexError",
     "evalue": "list index out of range",
     "output_type": "error",
     "traceback": [
      "\u001b[0;31m---------------------------------------------------------------------------\u001b[0m",
      "\u001b[0;31mIndexError\u001b[0m                                Traceback (most recent call last)",
      "\u001b[0;32m<ipython-input-3-00cdd6ccebd1>\u001b[0m in \u001b[0;36m<module>\u001b[0;34m\u001b[0m\n\u001b[1;32m     29\u001b[0m \u001b[0;32mfor\u001b[0m \u001b[0mi\u001b[0m \u001b[0;32min\u001b[0m \u001b[0mdf\u001b[0m\u001b[0;34m.\u001b[0m\u001b[0mgeometry\u001b[0m\u001b[0;34m:\u001b[0m\u001b[0;34m\u001b[0m\u001b[0;34m\u001b[0m\u001b[0m\n\u001b[1;32m     30\u001b[0m         \u001b[0mLONGS\u001b[0m\u001b[0;34m.\u001b[0m\u001b[0mappend\u001b[0m\u001b[0;34m(\u001b[0m\u001b[0mstrip_point\u001b[0m\u001b[0;34m(\u001b[0m\u001b[0mi\u001b[0m\u001b[0;34m)\u001b[0m\u001b[0;34m[\u001b[0m\u001b[0;36m0\u001b[0m\u001b[0;34m]\u001b[0m\u001b[0;34m)\u001b[0m\u001b[0;34m\u001b[0m\u001b[0;34m\u001b[0m\u001b[0m\n\u001b[0;32m---> 31\u001b[0;31m         \u001b[0mLATS\u001b[0m\u001b[0;34m.\u001b[0m\u001b[0mappend\u001b[0m\u001b[0;34m(\u001b[0m\u001b[0mstrip_point\u001b[0m\u001b[0;34m(\u001b[0m\u001b[0mi\u001b[0m\u001b[0;34m)\u001b[0m\u001b[0;34m[\u001b[0m\u001b[0;36m1\u001b[0m\u001b[0;34m]\u001b[0m\u001b[0;34m)\u001b[0m\u001b[0;34m\u001b[0m\u001b[0;34m\u001b[0m\u001b[0m\n\u001b[0m\u001b[1;32m     32\u001b[0m \u001b[0;34m\u001b[0m\u001b[0m\n\u001b[1;32m     33\u001b[0m \u001b[0mdf\u001b[0m\u001b[0;34m[\u001b[0m\u001b[0;34m\"LONGITUDE\"\u001b[0m\u001b[0;34m]\u001b[0m\u001b[0;34m=\u001b[0m\u001b[0mLONGS\u001b[0m\u001b[0;34m\u001b[0m\u001b[0;34m\u001b[0m\u001b[0m\n",
      "\u001b[0;31mIndexError\u001b[0m: list index out of range"
     ]
    }
   ],
   "source": [
    "# Processing for Manitoba\n",
    "\n",
    "#read geojson, output csv\n",
    "#limit ourselves to hospitals\n",
    "#Also turn 'POINT' Geometry into lat and lon\n",
    "\n",
    "import geopandas as gpd\n",
    "import pandas as pd\n",
    "\n",
    "#read geojson with geopandas into geodataframe\n",
    "sc1=gpd.read_file('raw/Manitoba_COVID-19_and_Flu_-_Vaccination_Sites.geojson')\n",
    "\n",
    "df=pd.DataFrame(sc1)\n",
    "\n",
    "\n",
    "def strip_point(x):\n",
    "    \n",
    "    x=str(x)  \n",
    "    if (x == 'nan'):\n",
    "        t = [None,None]\n",
    "        return t\n",
    "    elif x == 'nan':\n",
    "        t = [None,None]\n",
    "        return t\n",
    "    else:\n",
    "        t=x.strip('POINT (')\n",
    "        t=t.rstrip(')')\n",
    "        return t.split()\n",
    "\n",
    "LONGS=[]\n",
    "LATS=[]\n",
    "for i in df.geometry:\n",
    "\tLONGS.append(strip_point(i)[0])\n",
    "\tLATS.append(strip_point(i)[1])\n",
    "\n",
    "df[\"LONGITUDE\"]=LONGS\n",
    "df[\"LATITUDE\"]=LATS\n",
    "\n",
    "df.to_csv('Manitoba_COVID-19_and_Flu_Vaccination_Sites.csv')\n"
   ]
  },
  {
   "cell_type": "code",
   "execution_count": 8,
   "metadata": {
    "execution": {
     "iopub.execute_input": "2021-12-14T20:33:55.046081Z",
     "iopub.status.busy": "2021-12-14T20:33:55.045805Z",
     "iopub.status.idle": "2021-12-14T20:33:55.048937Z",
     "shell.execute_reply": "2021-12-14T20:33:55.048352Z",
     "shell.execute_reply.started": "2021-12-14T20:33:55.046057Z"
    },
    "tags": []
   },
   "outputs": [],
   "source": [
    "# Processing for Prince Edward Island "
   ]
  },
  {
   "cell_type": "code",
   "execution_count": 8,
   "metadata": {
    "execution": {
     "iopub.execute_input": "2021-12-14T20:33:55.046081Z",
     "iopub.status.busy": "2021-12-14T20:33:55.045805Z",
     "iopub.status.idle": "2021-12-14T20:33:55.048937Z",
     "shell.execute_reply": "2021-12-14T20:33:55.048352Z",
     "shell.execute_reply.started": "2021-12-14T20:33:55.046057Z"
    },
    "tags": []
   },
   "outputs": [],
   "source": [
    "# Processing for Quebec"
   ]
  },
  {
   "cell_type": "code",
   "execution_count": 14,
   "metadata": {
    "execution": {
     "iopub.execute_input": "2021-12-20T20:06:41.977810Z",
     "iopub.status.busy": "2021-12-20T20:06:41.977521Z",
     "iopub.status.idle": "2021-12-20T20:06:41.987967Z",
     "shell.execute_reply": "2021-12-20T20:06:41.987437Z",
     "shell.execute_reply.started": "2021-12-20T20:06:41.977785Z"
    },
    "tags": []
   },
   "outputs": [],
   "source": [
    "# Processing for PEI Health Facilities data\n",
    "# Turn 'Location\" column into long and lat\n",
    "\n",
    "df=pd.read_csv('data/PE_healthcare_facilities.csv')\n",
    "\n",
    "# df=df.loc[df[\"Facility Type\"] != \"Public Nursing Home\"]\n",
    "\n",
    "def strip_point(x):\n",
    "\tt=x.strip('(')\n",
    "\tt=t.rstrip(')')\n",
    "#\tt=t.strip(' (')\n",
    "#\tprint(t)\n",
    "\treturn t.split()\n",
    "\n",
    "LONGS=[]\n",
    "LATS=[]\n",
    "for i in df[\"Location 1\"]:\n",
    "\tLONGS.append(strip_point(i)[1])\n",
    "\tLATS.append(strip_point(i)[0])\n",
    "\n",
    "df[\"LONGITUDE\"]=LONGS\n",
    "df[\"LATITUDE\"]=LATS\n",
    "\n",
    "df.to_csv('processed/PE_Hospitals.csv')"
   ]
  },
  {
   "cell_type": "code",
   "execution_count": 4,
   "metadata": {
    "execution": {
     "iopub.execute_input": "2022-01-10T18:38:41.931855Z",
     "iopub.status.busy": "2022-01-10T18:38:41.931588Z",
     "iopub.status.idle": "2022-01-10T18:38:41.979088Z",
     "shell.execute_reply": "2022-01-10T18:38:41.978286Z",
     "shell.execute_reply.started": "2022-01-10T18:38:41.931827Z"
    },
    "tags": []
   },
   "outputs": [],
   "source": [
    "# processing for calgary covid - point to lat lon\n",
    "# ignore empty rows\n",
    "\n",
    "import pandas as pd\n",
    "\n",
    "df=pd.read_csv('raw/AB_Calgary_covid_vaccination_centres.csv')\n",
    "\n",
    "def strip_point(x):\n",
    "    \n",
    "    x=str(x)  \n",
    "    if (x == 'nan'):\n",
    "        t = [None,None]\n",
    "        return t\n",
    "    else:\n",
    "        t=x.strip('POINT (')\n",
    "        t=t.rstrip(')')\n",
    "        return t.split()\n",
    "\n",
    "LONGS=[]\n",
    "LATS=[]\n",
    "for i in df[\"POINT\"]:\n",
    "\tLONGS.append(strip_point(i)[0])\n",
    "\tLATS.append(strip_point(i)[1])\n",
    "\n",
    "df[\"LONGITUDE\"]=LONGS\n",
    "df[\"LATITUDE\"]=LATS\n",
    "\n",
    "df.to_csv('processed/AB_Calgary_covid_vaccination_centres.csv')"
   ]
  },
  {
   "cell_type": "code",
   "execution_count": 69,
   "metadata": {
    "execution": {
     "iopub.execute_input": "2021-12-30T17:35:05.558425Z",
     "iopub.status.busy": "2021-12-30T17:35:05.558142Z",
     "iopub.status.idle": "2021-12-30T17:35:05.568674Z",
     "shell.execute_reply": "2021-12-30T17:35:05.568071Z",
     "shell.execute_reply.started": "2021-12-30T17:35:05.558400Z"
    },
    "tags": []
   },
   "outputs": [],
   "source": [
    "# processing for calgary healthcare - point to lat lon\n",
    "\n",
    "import pandas as pd\n",
    "\n",
    "df=pd.read_csv('AB_Calgary_healthcare_facilities.csv')\n",
    "\n",
    "def strip_point(x):\n",
    "\n",
    "    x=str(x)    \n",
    "    t=x.strip('POINT (')\n",
    "    t=t.rstrip(')')\n",
    "    # \tprint(t)\n",
    "    return t.split()\n",
    "\n",
    "LONGS=[]\n",
    "LATS=[]\n",
    "for i in df[\"location\"]:\n",
    "\tLONGS.append(strip_point(i)[1])\n",
    "\tLATS.append(strip_point(i)[0])\n",
    "\n",
    "df[\"LONGITUDE\"]=LONGS\n",
    "df[\"LATITUDE\"]=LATS\n",
    "\n",
    "df.to_csv('processed/AB_Calgary_healthcare_facilities.csv')"
   ]
  },
  {
   "cell_type": "code",
   "execution_count": 87,
   "metadata": {
    "execution": {
     "iopub.execute_input": "2021-12-30T19:09:11.491129Z",
     "iopub.status.busy": "2021-12-30T19:09:11.490856Z",
     "iopub.status.idle": "2021-12-30T19:09:11.552826Z",
     "shell.execute_reply": "2021-12-30T19:09:11.552024Z",
     "shell.execute_reply.started": "2021-12-30T19:09:11.491103Z"
    },
    "tags": []
   },
   "outputs": [],
   "source": [
    "# Processing for NB Moncton \n",
    "# and ON Durham\n",
    "\n",
    "#read geojson, output csv\n",
    "#limit ourselves to hospitals\n",
    "#Also turn 'POINT' Geometry into lat and lon\n",
    "\n",
    "import geopandas as gpd\n",
    "import pandas as pd\n",
    "\n",
    "#read shapefile with geopandas into geodataframe\n",
    "\n",
    "files = ['NB_Moncton_Medical_Clinics', 'NB_Moncton_Pharmacies', 'NB_Moncton_Senior_Care_Facilities']\n",
    "\n",
    "for file in files:\n",
    "\n",
    "    filename = file + '.geojson'\n",
    "    print(filename)\n",
    "    sc1=gpd.read_file(filename)\n",
    "\n",
    "    df=pd.DataFrame(sc1)\n",
    "\n",
    "\n",
    "    def strip_point(x):\n",
    "\n",
    "        x=str(x)    \n",
    "        t=x.strip('POINT (')\n",
    "        t=t.rstrip(')')\n",
    "    # \tprint(t)\n",
    "        return t.split()\n",
    "\n",
    "    LONGS=[]\n",
    "    LATS=[]\n",
    "    for i in df.geometry:\n",
    "        LONGS.append(strip_point(i)[0])\n",
    "        LATS.append(strip_point(i)[1])\n",
    "\n",
    "    df[\"LONGITUDE\"]=LONGS\n",
    "    df[\"LATITUDE\"]=LATS\n",
    "\n",
    "    location = 'processed/' + file + '.csv'\n",
    "    df.to_csv(location)"
   ]
  },
  {
   "cell_type": "code",
   "execution_count": 92,
   "metadata": {
    "execution": {
     "iopub.execute_input": "2021-12-30T22:15:10.084672Z",
     "iopub.status.busy": "2021-12-30T22:15:10.084375Z",
     "iopub.status.idle": "2021-12-30T22:15:10.345208Z",
     "shell.execute_reply": "2021-12-30T22:15:10.344513Z",
     "shell.execute_reply.started": "2021-12-30T22:15:10.084644Z"
    },
    "tags": []
   },
   "outputs": [
    {
     "name": "stdout",
     "output_type": "stream",
     "text": [
      "ON_Durham_Healthcare_Facilities.geojson\n",
      "ON_Toronto_covid-19-immunization-clinics.geojson\n",
      "ON_Toronto_covid-19-testing-sites.geojson\n",
      "ON_York_Hospital.geojson\n"
     ]
    }
   ],
   "source": [
    "''' Processing ON Durham, Toronto clinics, \n",
    "Toronto covid test sites and York hospitals\n",
    "\n",
    "read geojson, output csv\n",
    "limit ourselves to hospitals\n",
    "Also turn 'POINT' Geometry into lat and lon\n",
    "\n",
    "'''\n",
    "\n",
    "import geopandas as gpd\n",
    "import pandas as pd\n",
    "\n",
    "#read shapefile with geopandas into geodataframe\n",
    "\n",
    "files = ['ON_Durham_Healthcare_Facilities', 'ON_Toronto_covid-19-immunization-clinics', 'ON_Toronto_covid-19-testing-sites', 'ON_York_Hospital']\n",
    "\n",
    "for file in files:\n",
    "\n",
    "    filename = file + '.geojson'\n",
    "    print(filename)\n",
    "    sc1=gpd.read_file(filename)\n",
    "\n",
    "    df=pd.DataFrame(sc1)\n",
    "\n",
    "\n",
    "    def strip_point(x):\n",
    "\n",
    "        x=str(x)    \n",
    "        t=x.strip('POINT (')\n",
    "        t=t.rstrip(')')\n",
    "    # \tprint(t)\n",
    "        return t.split()\n",
    "\n",
    "    LONGS=[]\n",
    "    LATS=[]\n",
    "    for i in df.geometry:\n",
    "        LONGS.append(strip_point(i)[0])\n",
    "        LATS.append(strip_point(i)[1])\n",
    "\n",
    "    df[\"LONGITUDE\"]=LONGS\n",
    "    df[\"LATITUDE\"]=LATS\n",
    "\n",
    "    location = 'processed/' + file + '.csv'\n",
    "    df.to_csv(location)"
   ]
  },
  {
   "cell_type": "code",
   "execution_count": 95,
   "metadata": {
    "execution": {
     "iopub.execute_input": "2021-12-30T22:26:15.560680Z",
     "iopub.status.busy": "2021-12-30T22:26:15.560289Z",
     "iopub.status.idle": "2021-12-30T22:26:15.593212Z",
     "shell.execute_reply": "2021-12-30T22:26:15.592496Z",
     "shell.execute_reply.started": "2021-12-30T22:26:15.560640Z"
    },
    "tags": []
   },
   "outputs": [],
   "source": [
    "# QC Gatineau - convert POINT\n",
    "\n",
    "import pandas as pd\n",
    "\n",
    "df=pd.read_csv('QC_Gatineau_public_places_including_hospitals.csv')\n",
    "\n",
    "def strip_point(x):\n",
    "\n",
    "    x=str(x)    \n",
    "    t=x.strip('POINT (')\n",
    "    t=t.rstrip(')')\n",
    "    # \tprint(t)\n",
    "    return t.split()\n",
    "\n",
    "LONGS=[]\n",
    "LATS=[]\n",
    "for i in df[\"GEOM\"]:\n",
    "\tLONGS.append(strip_point(i)[1])\n",
    "\tLATS.append(strip_point(i)[0])\n",
    "\n",
    "df[\"LONGITUDE\"]=LONGS\n",
    "df[\"LATITUDE\"]=LATS\n",
    "\n",
    "df.to_csv('processed/QC_Gatineau_public_places_including_hospitals.csv')"
   ]
  },
  {
   "cell_type": "code",
   "execution_count": 100,
   "metadata": {
    "execution": {
     "iopub.execute_input": "2021-12-30T22:29:53.311070Z",
     "iopub.status.busy": "2021-12-30T22:29:53.310773Z",
     "iopub.status.idle": "2021-12-30T22:29:53.332779Z",
     "shell.execute_reply": "2021-12-30T22:29:53.332142Z",
     "shell.execute_reply.started": "2021-12-30T22:29:53.311040Z"
    },
    "tags": []
   },
   "outputs": [
    {
     "name": "stdout",
     "output_type": "stream",
     "text": [
      "         ID                           NOM_TOPOGRAPHIE  NO_CIVIQUE  \\\n",
      "416  102269  Centre hospitalier de l'Université Laval      2705.0   \n",
      "418  102267         Centre hospitalier Robert-Giffard         NaN   \n",
      "696  102259                          Hôpital Chauveau     11999.0   \n",
      "697  200528                        Hôpital Christ-Roi       900.0   \n",
      "698  102237                 Hôpital de l'Enfant-Jésus      1401.0   \n",
      "699  102263                Hôpital du Saint-Sacrement      1050.0   \n",
      "700  200473                      Hôpital Jeffery Hale      1250.0   \n",
      "701  102747                             Hôpital Laval         NaN   \n",
      "703  102257           Hôpital Saint-François d'Assise        10.0   \n",
      "741  102261                    L'Hôtel-Dieu de Québec        11.0   \n",
      "\n",
      "                         RUE DESCRIPTION  SUPERFICIE  PERIMETRE  \\\n",
      "416        Boulevard Laurier    Hôpitaux           0          0   \n",
      "418  Chemin de la Canardière    Hôpitaux           0          0   \n",
      "696         Rue de l'Hôpital    Hôpitaux           0          0   \n",
      "697  Boulevard Wilfrid-Hamel    Hôpitaux           0          0   \n",
      "698                  18e Rue    Hôpitaux           0          0   \n",
      "699        Chemin Sainte-Foy    Hôpitaux           0          0   \n",
      "700        Chemin Sainte-Foy    Hôpitaux           0          0   \n",
      "701        Chemin Sainte-Foy    Hôpitaux           0          0   \n",
      "703         Rue De L'Espinay    Hôpitaux           0          0   \n",
      "741           Côte du Palais    Hôpitaux           0          0   \n",
      "\n",
      "                                         GEOMETRIE           LONGITUDE  \\\n",
      "416   POINT (-71.28344242085564 46.76868650091302)   46.76868650091302   \n",
      "418  POINT (-71.22072592305575 46.847932187385126)  46.847932187385126   \n",
      "696   POINT (-71.36992000707106 46.85317097833875)   46.85317097833875   \n",
      "697  POINT (-71.25837456317832 46.811355987527776)  46.811355987527776   \n",
      "698   POINT (-71.22604003267628 46.83748293860262)   46.83748293860262   \n",
      "699   POINT (-71.24672679462493 46.79901560331959)   46.79901560331959   \n",
      "700     POINT (-71.25326166417408 46.796665292246)     46.796665292246   \n",
      "701   POINT (-71.29716546772484 46.77848534323379)   46.77848534323379   \n",
      "703   POINT (-71.23754678002668 46.82844125435023)   46.82844125435023   \n",
      "741  POINT (-71.21085234031672 46.815534053944575)  46.815534053944575   \n",
      "\n",
      "               LATITUDE  \n",
      "416  -71.28344242085564  \n",
      "418  -71.22072592305575  \n",
      "696  -71.36992000707106  \n",
      "697  -71.25837456317832  \n",
      "698  -71.22604003267628  \n",
      "699  -71.24672679462493  \n",
      "700  -71.25326166417408  \n",
      "701  -71.29716546772484  \n",
      "703  -71.23754678002668  \n",
      "741  -71.21085234031672  \n"
     ]
    }
   ],
   "source": [
    "# QC Quebec city - convert POINT\n",
    "\n",
    "import pandas as pd\n",
    "\n",
    "df=pd.read_csv('QC_Quebec City_public_places_including_hospitals.csv')\n",
    "\n",
    "def strip_point(x):\n",
    "\n",
    "    x=str(x)    \n",
    "    t=x.strip('POINT (')\n",
    "    t=t.rstrip(')')\n",
    "    # \tprint(t)\n",
    "    return t.split()\n",
    "\n",
    "LONGS=[]\n",
    "LATS=[]\n",
    "for i in df[\"GEOMETRIE\"]:\n",
    "\tLONGS.append(strip_point(i)[1])\n",
    "\tLATS.append(strip_point(i)[0])\n",
    "\n",
    "df[\"LONGITUDE\"]=LONGS\n",
    "df[\"LATITUDE\"]=LATS\n",
    "\n",
    "df2 = df[df['DESCRIPTION'] == 'Hôpitaux']\n",
    "\n",
    "print(df2)\n",
    "\n",
    "df2.to_csv('processed/QC_Quebec City_public_places_including_hospitals.csv')"
   ]
  },
  {
   "cell_type": "code",
   "execution_count": null,
   "metadata": {},
   "outputs": [],
   "source": [
    "'''\n",
    "\n",
    "- calgary covid - point to lat lon /\n",
    "- calgary healthcare - point to lat lon /\n",
    "- moncton clinic - geojson /\n",
    "- moncton pharm - geojson /\n",
    "- moncton senior - geojson /\n",
    "- durham - geojson\n",
    "- hamilton hospital - fine\n",
    "- ottawa hospital - fine\n",
    "- toronto - \n",
    "- toronto - \n",
    "- york - \n",
    "- gatineau - \n",
    "- quebec city - \n",
    "- saskatoon - \n",
    "\n",
    "'''"
   ]
  }
 ],
 "metadata": {
  "kernelspec": {
   "display_name": "Python 3",
   "language": "python",
   "name": "python3"
  },
  "language_info": {
   "codemirror_mode": {
    "name": "ipython",
    "version": 3
   },
   "file_extension": ".py",
   "mimetype": "text/x-python",
   "name": "python",
   "nbconvert_exporter": "python",
   "pygments_lexer": "ipython3",
   "version": "3.8.8"
  }
 },
 "nbformat": 4,
 "nbformat_minor": 4
}
