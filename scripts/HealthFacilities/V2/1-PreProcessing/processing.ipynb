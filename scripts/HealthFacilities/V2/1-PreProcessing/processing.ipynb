{
 "cells": [
  {
   "cell_type": "code",
   "execution_count": null,
   "metadata": {
    "tags": []
   },
   "outputs": [],
   "source": [
    "'''\n",
    "These scripts prepares raw downloaded CSV files for use with Open Tabulate.\n",
    "It takes the raw directory as input and outputs to the processed directory.\n",
    "The following steps are taken:\n",
    "- Format latitude and longitude as seperate columns\n",
    "- Converts format to CSV \n",
    "- Encodes CSV with utf-8\n",
    "- Filters out data not related to health (eg police stations)\n",
    "\n",
    "-Sam Lumley\n",
    "Dec 2021\n",
    "\n",
    "'''"
   ]
  },
  {
   "cell_type": "code",
   "execution_count": 3,
   "metadata": {
    "execution": {
     "iopub.execute_input": "2022-01-19T16:25:30.433240Z",
     "iopub.status.busy": "2022-01-19T16:25:30.432962Z",
     "iopub.status.idle": "2022-01-19T16:25:30.436812Z",
     "shell.execute_reply": "2022-01-19T16:25:30.436036Z",
     "shell.execute_reply.started": "2022-01-19T16:25:30.433213Z"
    },
    "tags": []
   },
   "outputs": [],
   "source": [
    "import pandas as pd\n",
    "\n",
    "# If necessary, install openpyxl and geopandas\n",
    "# import sys\n",
    "# !conda install --yes --prefix {sys.prefix} openpyxl\n",
    "\n",
    "# %pip install geopandas"
   ]
  },
  {
   "cell_type": "code",
   "execution_count": 5,
   "metadata": {
    "execution": {
     "iopub.execute_input": "2022-01-19T20:42:30.388276Z",
     "iopub.status.busy": "2022-01-19T20:42:30.387952Z",
     "iopub.status.idle": "2022-01-19T20:42:30.393345Z",
     "shell.execute_reply": "2022-01-19T20:42:30.392604Z",
     "shell.execute_reply.started": "2022-01-19T20:42:30.388248Z"
    },
    "tags": []
   },
   "outputs": [],
   "source": [
    "# If necessary, generate province folder structure\n",
    "\n",
    "# import os\n",
    "\n",
    "# folders=['ab','bc','mb','nb','nl','ns','nt','nu','on','pe','qc','sk','yt']\n",
    "\n",
    "# for items in folders:\n",
    "#     os.mkdir(items)\n"
   ]
  },
  {
   "cell_type": "code",
   "execution_count": 7,
   "metadata": {
    "execution": {
     "iopub.execute_input": "2022-01-19T20:46:13.095755Z",
     "iopub.status.busy": "2022-01-19T20:46:13.095431Z",
     "iopub.status.idle": "2022-01-19T20:46:13.138359Z",
     "shell.execute_reply": "2022-01-19T20:46:13.137431Z",
     "shell.execute_reply.started": "2022-01-19T20:46:13.095726Z"
    },
    "tags": []
   },
   "outputs": [],
   "source": [
    "# AB Calgary covid \n",
    "# convert point to lat lon\n",
    "# ignore empty rows\n",
    "\n",
    "import pandas as pd\n",
    "\n",
    "df=pd.read_csv('raw/AB_Calgary_covid_vaccination_centres.csv')\n",
    "\n",
    "def strip_point(x):\n",
    "    \n",
    "    x=str(x)  \n",
    "    if (x == 'nan'):\n",
    "        t = [None,None]\n",
    "        return t\n",
    "    else:\n",
    "        t=x.strip('POINT (')\n",
    "        t=t.rstrip(')')\n",
    "        return t.split()\n",
    "\n",
    "LONGS=[]\n",
    "LATS=[]\n",
    "for i in df[\"POINT\"]:\n",
    "\tLONGS.append(strip_point(i)[0])\n",
    "\tLATS.append(strip_point(i)[1])\n",
    "\n",
    "df[\"LONGITUDE\"]=LONGS\n",
    "df[\"LATITUDE\"]=LATS\n",
    "\n",
    "df.to_csv('AB_Calgary_covid_vaccination_centres.csv')"
   ]
  },
  {
   "cell_type": "code",
   "execution_count": 69,
   "metadata": {
    "execution": {
     "iopub.execute_input": "2021-12-30T17:35:05.558425Z",
     "iopub.status.busy": "2021-12-30T17:35:05.558142Z",
     "iopub.status.idle": "2021-12-30T17:35:05.568674Z",
     "shell.execute_reply": "2021-12-30T17:35:05.568071Z",
     "shell.execute_reply.started": "2021-12-30T17:35:05.558400Z"
    },
    "tags": []
   },
   "outputs": [],
   "source": [
    "# AB Calgary healthcare \n",
    "# point to lat lon\n",
    "\n",
    "import pandas as pd\n",
    "\n",
    "df=pd.read_csv('AB_Calgary_healthcare_facilities.csv')\n",
    "\n",
    "def strip_point(x):\n",
    "\n",
    "    x=str(x)    \n",
    "    t=x.strip('POINT (')\n",
    "    t=t.rstrip(')')\n",
    "    # \tprint(t)\n",
    "    return t.split()\n",
    "\n",
    "LONGS=[]\n",
    "LATS=[]\n",
    "for i in df[\"location\"]:\n",
    "\tLONGS.append(strip_point(i)[1])\n",
    "\tLATS.append(strip_point(i)[0])\n",
    "\n",
    "df[\"LONGITUDE\"]=LONGS\n",
    "df[\"LATITUDE\"]=LATS\n",
    "\n",
    "df.to_csv('processed/AB_Calgary_healthcare_facilities.csv')"
   ]
  },
  {
   "cell_type": "code",
   "execution_count": 25,
   "metadata": {
    "execution": {
     "iopub.execute_input": "2022-01-10T22:04:58.955506Z",
     "iopub.status.busy": "2022-01-10T22:04:58.955253Z",
     "iopub.status.idle": "2022-01-10T22:04:58.967363Z",
     "shell.execute_reply": "2022-01-10T22:04:58.966607Z",
     "shell.execute_reply.started": "2022-01-10T22:04:58.955475Z"
    },
    "tags": []
   },
   "outputs": [],
   "source": [
    "# British Columbia\n",
    "# utf-8 encode datasets\n",
    "\n",
    "df=pd.read_csv('raw/BC_emergency_rooms.csv')\n",
    "df.to_csv('processed/BC_emergency_rooms.csv')\n",
    "\n",
    "df2=pd.read_csv('raw/BC_hospital.csv')\n",
    "df2.to_csv('processed/BC_hospital.csv')\n",
    "\n",
    "df3=pd.read_csv('raw/BC_pharmacies.csv')\n",
    "df3.to_csv('processed/BC_pharmacies.csv')\n",
    "\n",
    "df4=pd.read_csv('raw/BC_urgent_care.csv')\n",
    "df4.to_csv('processed/BC_urgent_care.csv')\n",
    "\n",
    "df5=pd.read_csv('raw/BC_walk-in_clinics.csv')\n",
    "df5.to_csv('processed/BC_walk-in_clinics.csv')\n",
    "\n",
    "df5=pd.read_csv('raw/ON_Guelph_healthcare_facilities.csv')\n",
    "df5.to_csv('processed/ON_Guelph_healthcare_facilities.csv')"
   ]
  },
  {
   "cell_type": "code",
   "execution_count": 22,
   "metadata": {
    "execution": {
     "iopub.execute_input": "2022-01-10T18:55:59.361591Z",
     "iopub.status.busy": "2022-01-10T18:55:59.361319Z",
     "iopub.status.idle": "2022-01-10T18:55:59.555757Z",
     "shell.execute_reply": "2022-01-10T18:55:59.554937Z",
     "shell.execute_reply.started": "2022-01-10T18:55:59.361562Z"
    },
    "tags": []
   },
   "outputs": [],
   "source": [
    "# Manitoba\n",
    "\n",
    "# read geojson, output csv\n",
    "# limit to hospitals\n",
    "# remove null values in the geometry\n",
    "\n",
    "import geopandas as gpd\n",
    "import pandas as pd\n",
    "\n",
    "#read geojson with geopandas into geodataframe\n",
    "sc1=gpd.read_file('raw/MB_COVID-19_and_Flu_-_Vaccination_Sites.geojson')\n",
    "\n",
    "df=pd.DataFrame(sc1)\n",
    "\n",
    "\n",
    "def strip_point(x):\n",
    "    \n",
    "    x=str(x)  \n",
    "    if (x == 'nan'):\n",
    "        t = [None,None]\n",
    "        return t\n",
    "    elif x == 'None':\n",
    "        t = [None,None]\n",
    "        return t\n",
    "    else:\n",
    "        t=x.strip('POINT (')\n",
    "        t=t.rstrip(')')\n",
    "        return t.split() \n",
    "\n",
    "\n",
    "LONGS=[]\n",
    "LATS=[]\n",
    "for i in df.geometry:\n",
    "\tLONGS.append(strip_point(i)[0])\n",
    "\tLATS.append(strip_point(i)[1])\n",
    "\n",
    "df[\"LONGITUDE\"]=LONGS\n",
    "df[\"LATITUDE\"]=LATS\n",
    "\n",
    "df.to_csv('processed/MB_covid-19_and_flu_vaccine_sites.csv')\n"
   ]
  },
  {
   "cell_type": "code",
   "execution_count": 37,
   "metadata": {
    "execution": {
     "iopub.execute_input": "2021-12-21T17:17:26.520778Z",
     "iopub.status.busy": "2021-12-21T17:17:26.520506Z",
     "iopub.status.idle": "2021-12-21T17:17:26.534239Z",
     "shell.execute_reply": "2021-12-21T17:17:26.533431Z",
     "shell.execute_reply.started": "2021-12-21T17:17:26.520752Z"
    },
    "tags": []
   },
   "outputs": [],
   "source": [
    "# New Brunswick\n",
    "# convert point to lat lon\n",
    "\n",
    "df=pd.read_csv('raw/NB_nursing_homes.csv')\n",
    "\n",
    "def strip_point(x):\n",
    "\tt=x.strip('(')\n",
    "\tt=t.rstrip(')')\n",
    "\treturn t.split()\n",
    "\n",
    "LONGS=[]\n",
    "LATS=[]\n",
    "for i in df[\"Location\"]:\n",
    "\tLONGS.append(strip_point(i)[1])\n",
    "\tLATS.append(strip_point(i)[0])\n",
    "\n",
    "df[\"LONGITUDE\"]=LONGS\n",
    "df[\"LATITUDE\"]=LATS\n",
    "\n",
    "df.to_csv('processed/NB_nursing_homes.csv')"
   ]
  },
  {
   "cell_type": "code",
   "execution_count": 32,
   "metadata": {
    "execution": {
     "iopub.execute_input": "2021-12-20T21:59:33.915701Z",
     "iopub.status.busy": "2021-12-20T21:59:33.915361Z",
     "iopub.status.idle": "2021-12-20T21:59:33.952502Z",
     "shell.execute_reply": "2021-12-20T21:59:33.951714Z",
     "shell.execute_reply.started": "2021-12-20T21:59:33.915668Z"
    },
    "tags": []
   },
   "outputs": [],
   "source": [
    "# NL healthcare and hospital datasets\n",
    "# convert from xls to csv\n",
    "\n",
    "import openpyxl\n",
    "\n",
    "df = pd.read_excel(\"raw/NL_Hospital.xlsx\", engine='openpyxl')\n",
    "df.to_csv('processed/NL_hospital.csv')\n",
    "\n",
    "df2 = pd.read_excel(\"raw/NL_HealthCentre.xls\", engine='openpyxl')\n",
    "df2.to_csv('processed/NL_healthcare_facilities.csv')\n"
   ]
  },
  {
   "cell_type": "code",
   "execution_count": 41,
   "metadata": {
    "execution": {
     "iopub.execute_input": "2021-12-21T17:23:25.242865Z",
     "iopub.status.busy": "2021-12-21T17:23:25.242589Z",
     "iopub.status.idle": "2021-12-21T17:23:25.252279Z",
     "shell.execute_reply": "2021-12-21T17:23:25.251720Z",
     "shell.execute_reply.started": "2021-12-21T17:23:25.242841Z"
    },
    "tags": []
   },
   "outputs": [],
   "source": [
    "# Processing for Nova Scotia\n",
    "# Convert 'POINT' Geometry into lat and lon\n",
    "\n",
    "import pandas as pd\n",
    "\n",
    "df=pd.read_csv('raw/NS_hospital.csv')\n",
    "\n",
    "def strip_point(x):\n",
    "\n",
    "\tx=str(x)    \n",
    "\tt=x.strip('POINT (')\n",
    "\tt=t.rstrip(')')\n",
    "\treturn t.split()\n",
    "\n",
    "LONGS=[]\n",
    "LATS=[]\n",
    "for i in df[\"the_geom\"]:\n",
    "\tLONGS.append(strip_point(i)[0])\n",
    "\tLATS.append(strip_point(i)[1])\n",
    "\n",
    "df[\"LONGITUDE\"]=LONGS\n",
    "df[\"LATITUDE\"]=LATS\n",
    "\n",
    "df.to_csv('processed/NS_hospital.csv')\n"
   ]
  },
  {
   "cell_type": "code",
   "execution_count": 14,
   "metadata": {
    "execution": {
     "iopub.execute_input": "2021-12-20T20:06:41.977810Z",
     "iopub.status.busy": "2021-12-20T20:06:41.977521Z",
     "iopub.status.idle": "2021-12-20T20:06:41.987967Z",
     "shell.execute_reply": "2021-12-20T20:06:41.987437Z",
     "shell.execute_reply.started": "2021-12-20T20:06:41.977785Z"
    },
    "tags": []
   },
   "outputs": [],
   "source": [
    "# Processing for PEI Health Facilities data\n",
    "# Turn 'Location\" column into long and lat\n",
    "\n",
    "df=pd.read_csv('raw/PE_healthcare_facilities.csv')\n",
    "\n",
    "# df=df.loc[df[\"Facility Type\"] != \"Public Nursing Home\"]\n",
    "\n",
    "def strip_point(x):\n",
    "\tt=x.strip('(')\n",
    "\tt=t.rstrip(')')\n",
    "#\tt=t.strip(' (')\n",
    "#\tprint(t)\n",
    "\treturn t.split()\n",
    "\n",
    "LONGS=[]\n",
    "LATS=[]\n",
    "for i in df[\"Location 1\"]:\n",
    "\tLONGS.append(strip_point(i)[1])\n",
    "\tLATS.append(strip_point(i)[0])\n",
    "\n",
    "df[\"LONGITUDE\"]=LONGS\n",
    "df[\"LATITUDE\"]=LATS\n",
    "\n",
    "df.to_csv('processed/PE_healthcare_facilities.csv')"
   ]
  },
  {
   "cell_type": "code",
   "execution_count": 87,
   "metadata": {
    "execution": {
     "iopub.execute_input": "2021-12-30T19:09:11.491129Z",
     "iopub.status.busy": "2021-12-30T19:09:11.490856Z",
     "iopub.status.idle": "2021-12-30T19:09:11.552826Z",
     "shell.execute_reply": "2021-12-30T19:09:11.552024Z",
     "shell.execute_reply.started": "2021-12-30T19:09:11.491103Z"
    },
    "tags": []
   },
   "outputs": [],
   "source": [
    "# Processing for NB Moncton \n",
    "\n",
    "#read geojson, output csv\n",
    "#limit ourselves to hospitals\n",
    "#Also turn 'POINT' Geometry into lat and lon\n",
    "\n",
    "import geopandas as gpd\n",
    "import pandas as pd\n",
    "\n",
    "#read shapefile with geopandas into geodataframe\n",
    "\n",
    "files = ['raw/NB_Moncton_Medical_Clinics', 'raw/NB_Moncton_Pharmacies', 'raw/NB_Moncton_Senior_Care_Facilities']\n",
    "\n",
    "for file in files:\n",
    "\n",
    "    filename = file + '.geojson'\n",
    "    print(filename)\n",
    "    sc1=gpd.read_file(filename)\n",
    "\n",
    "    df=pd.DataFrame(sc1)\n",
    "\n",
    "\n",
    "    def strip_point(x):\n",
    "\n",
    "        x=str(x)    \n",
    "        t=x.strip('POINT (')\n",
    "        t=t.rstrip(')')\n",
    "    # \tprint(t)\n",
    "        return t.split()\n",
    "\n",
    "    LONGS=[]\n",
    "    LATS=[]\n",
    "    for i in df.geometry:\n",
    "        LONGS.append(strip_point(i)[0])\n",
    "        LATS.append(strip_point(i)[1])\n",
    "\n",
    "    df[\"LONGITUDE\"]=LONGS\n",
    "    df[\"LATITUDE\"]=LATS\n",
    "\n",
    "    location = 'processed/' + file.lower() + '.csv'\n",
    "    df.to_csv(location)"
   ]
  },
  {
   "cell_type": "code",
   "execution_count": null,
   "metadata": {
    "tags": []
   },
   "outputs": [],
   "source": [
    "# ON Durham, Toronto clinics, Toronto covid test sites and York hospitals\n",
    "\n",
    "# read geojson, output csv\n",
    "# limit to hospitals\n",
    "# Also turn 'POINT' Geometry into lat and lon\n",
    "\n",
    "\n",
    "import geopandas as gpd\n",
    "import pandas as pd\n",
    "\n",
    "#read shapefile with geopandas into geodataframe\n",
    "\n",
    "files = ['raw/ON_Durham_Healthcare_Facilities', 'raw/ON_Toronto_covid-19-immunization-clinics', 'raw/ON_Toronto_covid-19-testing-sites', 'raw/ON_York_Hospital']\n",
    "\n",
    "for file in files:\n",
    "\n",
    "    filename = file + '.geojson'\n",
    "    print(filename)\n",
    "    sc1=gpd.read_file(filename)\n",
    "\n",
    "    df=pd.DataFrame(sc1)\n",
    "\n",
    "\n",
    "    def strip_point(x):\n",
    "\n",
    "        x=str(x)    \n",
    "        t=x.strip('POINT (')\n",
    "        t=t.rstrip(')')\n",
    "    # \tprint(t)\n",
    "        return t.split()\n",
    "\n",
    "    LONGS=[]\n",
    "    LATS=[]\n",
    "    for i in df.geometry:\n",
    "        LONGS.append(strip_point(i)[0])\n",
    "        LATS.append(strip_point(i)[1])\n",
    "\n",
    "    df[\"LONGITUDE\"]=LONGS\n",
    "    df[\"LATITUDE\"]=LATS\n",
    "\n",
    "    location = 'processed/' + file + '.csv'\n",
    "    df.to_csv(location)"
   ]
  },
  {
   "cell_type": "code",
   "execution_count": 95,
   "metadata": {
    "execution": {
     "iopub.execute_input": "2021-12-30T22:26:15.560680Z",
     "iopub.status.busy": "2021-12-30T22:26:15.560289Z",
     "iopub.status.idle": "2021-12-30T22:26:15.593212Z",
     "shell.execute_reply": "2021-12-30T22:26:15.592496Z",
     "shell.execute_reply.started": "2021-12-30T22:26:15.560640Z"
    },
    "tags": []
   },
   "outputs": [],
   "source": [
    "# QC Gatineau \n",
    "# convert POINT to lat lon\n",
    "\n",
    "import pandas as pd\n",
    "\n",
    "df=pd.read_csv('raw/QC_Gatineau_public_places_including_hospitals.csv')\n",
    "\n",
    "def strip_point(x):\n",
    "\n",
    "    x=str(x)    \n",
    "    t=x.strip('POINT (')\n",
    "    t=t.rstrip(')')\n",
    "    # \tprint(t)\n",
    "    return t.split()\n",
    "\n",
    "LONGS=[]\n",
    "LATS=[]\n",
    "for i in df[\"GEOM\"]:\n",
    "\tLONGS.append(strip_point(i)[1])\n",
    "\tLATS.append(strip_point(i)[0])\n",
    "\n",
    "df[\"LONGITUDE\"]=LONGS\n",
    "df[\"LATITUDE\"]=LATS\n",
    "\n",
    "df.to_csv('processed/QC_Gatineau_public_places_including_hospitals.csv')"
   ]
  },
  {
   "cell_type": "code",
   "execution_count": null,
   "metadata": {
    "tags": []
   },
   "outputs": [],
   "source": [
    "# QC Quebec city \n",
    "# convert POINT to lat lon\n",
    "\n",
    "import pandas as pd\n",
    "\n",
    "df=pd.read_csv('raw/QC_Quebec City_public_places_including_hospitals.csv')\n",
    "\n",
    "def strip_point(x):\n",
    "\n",
    "    x=str(x)    \n",
    "    t=x.strip('POINT (')\n",
    "    t=t.rstrip(')')\n",
    "    # \tprint(t)\n",
    "    return t.split()\n",
    "\n",
    "LONGS=[]\n",
    "LATS=[]\n",
    "for i in df[\"GEOMETRIE\"]:\n",
    "\tLONGS.append(strip_point(i)[1])\n",
    "\tLATS.append(strip_point(i)[0])\n",
    "\n",
    "df[\"LONGITUDE\"]=LONGS\n",
    "df[\"LATITUDE\"]=LATS\n",
    "\n",
    "df2 = df[df['DESCRIPTION'] == 'Hôpitaux']\n",
    "\n",
    "df2.to_csv('processed/QC_Quebec_City_public_places_including_hospitals.csv')"
   ]
  }
 ],
 "metadata": {
  "kernelspec": {
   "display_name": "Python 3",
   "language": "python",
   "name": "python3"
  },
  "language_info": {
   "codemirror_mode": {
    "name": "ipython",
    "version": 3
   },
   "file_extension": ".py",
   "mimetype": "text/x-python",
   "name": "python",
   "nbconvert_exporter": "python",
   "pygments_lexer": "ipython3",
   "version": "3.8.8"
  }
 },
 "nbformat": 4,
 "nbformat_minor": 4
}
