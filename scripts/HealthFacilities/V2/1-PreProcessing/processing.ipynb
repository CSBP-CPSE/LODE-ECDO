{
 "cells": [
  {
   "cell_type": "code",
   "execution_count": 102,
   "metadata": {
    "execution": {
     "iopub.execute_input": "2022-03-15T18:24:26.820274Z",
     "iopub.status.busy": "2022-03-15T18:24:26.820003Z",
     "iopub.status.idle": "2022-03-15T18:24:26.824293Z",
     "shell.execute_reply": "2022-03-15T18:24:26.823736Z",
     "shell.execute_reply.started": "2022-03-15T18:24:26.820249Z"
    },
    "tags": []
   },
   "outputs": [
    {
     "data": {
      "text/plain": [
       "'\\nThese scripts prepares raw downloaded CSV files for use with Open Tabulate.\\nIt takes the raw directory as input and outputs to the processed directory.\\nThe following steps are taken:\\n- Format latitude and longitude as seperate columns\\n- Remove / replace characters that are out of place\\n- Converts format to CSV \\n- Encodes CSV with utf-8\\n- Filters out data not related to health (eg police stations)\\n\\n-Sam Lumley\\nDec 2021\\n\\n'"
      ]
     },
     "execution_count": 102,
     "metadata": {},
     "output_type": "execute_result"
    }
   ],
   "source": [
    "'''\n",
    "These scripts prepares raw downloaded CSV files for use with Open Tabulate.\n",
    "It takes the raw directory as input and outputs to the processed directory.\n",
    "The following steps are taken:\n",
    "- Format latitude and longitude as seperate columns\n",
    "- Remove / replace characters that are out of place\n",
    "- Converts format to CSV \n",
    "- Encodes CSV with utf-8\n",
    "- Filters out data not related to health (eg police stations)\n",
    "\n",
    "-Sam Lumley\n",
    "Dec 2021\n",
    "\n",
    "'''"
   ]
  },
  {
   "cell_type": "code",
   "execution_count": 103,
   "metadata": {
    "execution": {
     "iopub.execute_input": "2022-03-15T18:24:26.825395Z",
     "iopub.status.busy": "2022-03-15T18:24:26.825221Z",
     "iopub.status.idle": "2022-03-15T18:24:26.852893Z",
     "shell.execute_reply": "2022-03-15T18:24:26.851899Z",
     "shell.execute_reply.started": "2022-03-15T18:24:26.825376Z"
    },
    "tags": []
   },
   "outputs": [],
   "source": [
    "import pandas as pd\n",
    "\n",
    "# If necessary, install openpyxl and geopandas\n",
    "#import sys\n",
    "#!conda install --yes --prefix {sys.prefix} openpyxl\n",
    "\n",
    "#%pip install geopandas"
   ]
  },
  {
   "cell_type": "code",
   "execution_count": 104,
   "metadata": {
    "execution": {
     "iopub.execute_input": "2022-03-15T18:24:26.854334Z",
     "iopub.status.busy": "2022-03-15T18:24:26.854158Z",
     "iopub.status.idle": "2022-03-15T18:24:26.874830Z",
     "shell.execute_reply": "2022-03-15T18:24:26.874278Z",
     "shell.execute_reply.started": "2022-03-15T18:24:26.854316Z"
    },
    "tags": []
   },
   "outputs": [],
   "source": [
    "# If necessary, generate province folder structure\n",
    "\n",
    "# import os\n",
    "\n",
    "# folders=['ab','bc','mb','nb','nl','ns','nt','nu','on','pe','qc','sk','yt']\n",
    "\n",
    "# for items in folders:\n",
    "#     os.mkdir(items)\n"
   ]
  },
  {
   "cell_type": "code",
   "execution_count": 105,
   "metadata": {
    "execution": {
     "iopub.execute_input": "2022-03-15T18:24:26.876002Z",
     "iopub.status.busy": "2022-03-15T18:24:26.875821Z",
     "iopub.status.idle": "2022-03-15T18:24:26.928503Z",
     "shell.execute_reply": "2022-03-15T18:24:26.927820Z",
     "shell.execute_reply.started": "2022-03-15T18:24:26.875983Z"
    },
    "tags": []
   },
   "outputs": [],
   "source": [
    "import os\n",
    "from pathlib import Path\n",
    "import shutil\n",
    "\n",
    "src = '/home/jovyan/data-vol-1/ODHF/LODE-ECDO/scripts/HealthFacilities/V2/1-PreProcessing/raw'\n",
    "dst = '/home/jovyan/data-vol-1/ODHF/LODE-ECDO/scripts/HealthFacilities/V2/1-PreProcessing/processed'\n",
    "\n",
    "if os.path.exists(dst):\n",
    "    shutil.rmtree(dst)\n",
    "    shutil.copytree(src, dst)\n",
    "    \n",
    "files_in_directory = os.listdir(dst)\n",
    "filtered_files = [file for file in files_in_directory if not file.endswith(\".csv\")]\n",
    "for file in filtered_files:\n",
    "    try:\n",
    "        path_to_file = os.path.join(dst, file)\n",
    "        os.remove(path_to_file)\n",
    "    except:\n",
    "        pass"
   ]
  },
  {
   "cell_type": "code",
   "execution_count": 106,
   "metadata": {
    "execution": {
     "iopub.execute_input": "2022-03-15T18:24:26.929474Z",
     "iopub.status.busy": "2022-03-15T18:24:26.929269Z",
     "iopub.status.idle": "2022-03-15T18:24:26.958914Z",
     "shell.execute_reply": "2022-03-15T18:24:26.958362Z",
     "shell.execute_reply.started": "2022-03-15T18:24:26.929452Z"
    },
    "tags": []
   },
   "outputs": [],
   "source": [
    "# AB Calgary covid \n",
    "# convert point to lat lon\n",
    "# ignore empty rows\n",
    "\n",
    "import pandas as pd\n",
    "\n",
    "df=pd.read_csv('raw/AB_Calgary_covid_vaccination_centres.csv')\n",
    "\n",
    "def strip_point(x):\n",
    "    \n",
    "    x=str(x)  \n",
    "    if (x == 'nan'):\n",
    "        t = [None,None]\n",
    "        return t\n",
    "    else:\n",
    "        t=x.strip('POINT (')\n",
    "        t=t.rstrip(')')\n",
    "        return t.split()\n",
    "\n",
    "LONGS=[]\n",
    "LATS=[]\n",
    "for i in df[\"POINT\"]:\n",
    "\tLONGS.append(strip_point(i)[0])\n",
    "\tLATS.append(strip_point(i)[1])\n",
    "\n",
    "df[\"LONGITUDE\"]=LONGS\n",
    "df[\"LATITUDE\"]=LATS\n",
    "\n",
    "df.to_csv('processed/AB_Calgary_covid_vaccination_centres.csv')"
   ]
  },
  {
   "cell_type": "code",
   "execution_count": 107,
   "metadata": {
    "execution": {
     "iopub.execute_input": "2022-03-15T18:24:26.959783Z",
     "iopub.status.busy": "2022-03-15T18:24:26.959617Z",
     "iopub.status.idle": "2022-03-15T18:24:26.988432Z",
     "shell.execute_reply": "2022-03-15T18:24:26.987897Z",
     "shell.execute_reply.started": "2022-03-15T18:24:26.959765Z"
    },
    "tags": []
   },
   "outputs": [],
   "source": [
    "# AB Calgary healthcare \n",
    "# point to lat lon\n",
    "\n",
    "import pandas as pd\n",
    "\n",
    "df=pd.read_csv('raw/AB_Calgary_healthcare_facilities.csv')\n",
    "\n",
    "def strip_point(x):\n",
    "\n",
    "    x=str(x)    \n",
    "    t=x.strip('POINT (')\n",
    "    t=t.rstrip(')')\n",
    "    # \tprint(t)\n",
    "    return t.split()\n",
    "\n",
    "LONGS=[]\n",
    "LATS=[]\n",
    "for i in df[\"location\"]:\n",
    "\tLONGS.append(strip_point(i)[1])\n",
    "\tLATS.append(strip_point(i)[0])\n",
    "\n",
    "df[\"LONGITUDE\"]=LONGS\n",
    "df[\"LATITUDE\"]=LATS\n",
    "\n",
    "df.to_csv('processed/AB_Calgary_healthcare_facilities.csv')"
   ]
  },
  {
   "cell_type": "code",
   "execution_count": 108,
   "metadata": {
    "execution": {
     "iopub.execute_input": "2022-03-15T18:24:26.989445Z",
     "iopub.status.busy": "2022-03-15T18:24:26.989154Z",
     "iopub.status.idle": "2022-03-15T18:24:27.082400Z",
     "shell.execute_reply": "2022-03-15T18:24:27.081765Z",
     "shell.execute_reply.started": "2022-03-15T18:24:26.989422Z"
    },
    "tags": []
   },
   "outputs": [],
   "source": [
    "# utf-8 encode datasets\n",
    "\n",
    "df=pd.read_csv('raw/BC_emergency_rooms.csv')\n",
    "df.to_csv('processed/BC_emergency_rooms.csv')\n",
    "\n",
    "df2=pd.read_csv('raw/BC_hospital.csv')\n",
    "df2.to_csv('processed/BC_hospital.csv')\n",
    "\n",
    "df3=pd.read_csv('raw/BC_pharmacies.csv')\n",
    "df3.to_csv('processed/BC_pharmacies.csv')\n",
    "\n",
    "df4=pd.read_csv('raw/BC_urgent_care.csv')\n",
    "df4.to_csv('processed/BC_urgent_care.csv')\n",
    "\n",
    "df5=pd.read_csv('raw/BC_walk-in_clinics.csv')\n",
    "df5.to_csv('processed/BC_walk-in_clinics.csv')\n",
    "\n",
    "df5=pd.read_csv('raw/ON_Guelph_healthcare_facilities.csv')\n",
    "df5.to_csv('processed/ON_Guelph_healthcare_facilities.csv')"
   ]
  },
  {
   "cell_type": "code",
   "execution_count": 109,
   "metadata": {
    "execution": {
     "iopub.execute_input": "2022-03-15T18:24:27.083405Z",
     "iopub.status.busy": "2022-03-15T18:24:27.083225Z",
     "iopub.status.idle": "2022-03-15T18:24:27.230842Z",
     "shell.execute_reply": "2022-03-15T18:24:27.230199Z",
     "shell.execute_reply.started": "2022-03-15T18:24:27.083385Z"
    },
    "tags": []
   },
   "outputs": [],
   "source": [
    "# Manitoba\n",
    "\n",
    "# read geojson, output csv\n",
    "# limit to hospitals\n",
    "# remove null values in the geometry\n",
    "\n",
    "import geopandas as gpd\n",
    "import pandas as pd\n",
    "\n",
    "#read geojson with geopandas into geodataframe\n",
    "sc1=gpd.read_file('raw/MB_COVID-19_and_Flu_-_Vaccination_Sites.geojson')\n",
    "\n",
    "df=pd.DataFrame(sc1)\n",
    "\n",
    "\n",
    "def strip_point(x):\n",
    "    \n",
    "    x=str(x)  \n",
    "    if (x == 'nan'):\n",
    "        t = [None,None]\n",
    "        return t\n",
    "    elif x == 'None':\n",
    "        t = [None,None]\n",
    "        return t\n",
    "    else:\n",
    "        t=x.strip('POINT (')\n",
    "        t=t.rstrip(')')\n",
    "        return t.split() \n",
    "\n",
    "\n",
    "LONGS=[]\n",
    "LATS=[]\n",
    "for i in df.geometry:\n",
    "\tLONGS.append(strip_point(i)[0])\n",
    "\tLATS.append(strip_point(i)[1])\n",
    "\n",
    "df[\"LONGITUDE\"]=LONGS\n",
    "df[\"LATITUDE\"]=LATS\n",
    "\n",
    "df.to_csv('processed/MB_covid-19_and_flu_vaccine_sites.csv')\n"
   ]
  },
  {
   "cell_type": "code",
   "execution_count": 110,
   "metadata": {
    "execution": {
     "iopub.execute_input": "2022-03-15T18:24:27.232605Z",
     "iopub.status.busy": "2022-03-15T18:24:27.232410Z",
     "iopub.status.idle": "2022-03-15T18:24:27.249512Z",
     "shell.execute_reply": "2022-03-15T18:24:27.248946Z",
     "shell.execute_reply.started": "2022-03-15T18:24:27.232581Z"
    },
    "tags": []
   },
   "outputs": [],
   "source": [
    "# New Brunswick\n",
    "# replace characters that would not show up correctly in the processed dataset\n",
    "# convert point to lat lon\n",
    "\n",
    "df=pd.read_csv('raw/NB_nursing_homes.csv')\n",
    "\n",
    "df=df.replace('Ã¨','è', regex=True)\n",
    "df=df.replace('Ã´','ô', regex=True)\n",
    "df=df.replace('Ã‰','É', regex=True)\n",
    "df=df.replace('Â','', regex=True)\n",
    "\n",
    "def strip_point(x):\n",
    "    z=x.strip('(')\n",
    "    a=z.rstrip(')')\n",
    "    t=a.replace(\",\", \"\")\n",
    "    return t.split()\n",
    "\n",
    "LONGS=[]\n",
    "LATS=[]\n",
    "for i in df[\"Location\"]:\n",
    "\tLONGS.append(strip_point(i)[1])\n",
    "\tLATS.append(strip_point(i)[0])\n",
    "\n",
    "df[\"LONGITUDE\"]=LONGS\n",
    "df[\"LATITUDE\"]=LATS\n",
    "\n",
    "df.to_csv('processed/NB_nursing_homes.csv')"
   ]
  },
  {
   "cell_type": "code",
   "execution_count": 111,
   "metadata": {
    "execution": {
     "iopub.execute_input": "2022-03-15T18:24:27.250673Z",
     "iopub.status.busy": "2022-03-15T18:24:27.250494Z",
     "iopub.status.idle": "2022-03-15T18:24:27.297839Z",
     "shell.execute_reply": "2022-03-15T18:24:27.297249Z",
     "shell.execute_reply.started": "2022-03-15T18:24:27.250654Z"
    },
    "tags": []
   },
   "outputs": [],
   "source": [
    "# NL healthcare and hospital datasets\n",
    "# convert from xls to csv\n",
    "\n",
    "import openpyxl\n",
    "\n",
    "df = pd.read_excel(\"raw/NL_Hospital.xlsx\", engine='openpyxl')\n",
    "df.to_csv('processed/NL_hospital.csv')\n",
    "\n",
    "df2 = pd.read_excel(\"raw/NL_HealthCentre.xls\", engine='openpyxl')\n",
    "df2.to_csv('processed/NL_healthcare_facilities.csv')\n"
   ]
  },
  {
   "cell_type": "code",
   "execution_count": 112,
   "metadata": {
    "execution": {
     "iopub.execute_input": "2022-03-15T18:24:27.298820Z",
     "iopub.status.busy": "2022-03-15T18:24:27.298640Z",
     "iopub.status.idle": "2022-03-15T18:24:27.308247Z",
     "shell.execute_reply": "2022-03-15T18:24:27.306842Z",
     "shell.execute_reply.started": "2022-03-15T18:24:27.298799Z"
    },
    "tags": []
   },
   "outputs": [],
   "source": [
    "# Processing for Nova Scotia\n",
    "# Convert 'POINT' Geometry into lat and lon\n",
    "\n",
    "import pandas as pd\n",
    "\n",
    "df=pd.read_csv('raw/NS_hospital.csv')\n",
    "\n",
    "def strip_point(x):\n",
    "\n",
    "\tx=str(x)    \n",
    "\tt=x.strip('POINT (')\n",
    "\tt=t.rstrip(')')\n",
    "\treturn t.split()\n",
    "\n",
    "LONGS=[]\n",
    "LATS=[]\n",
    "for i in df[\"the_geom\"]:\n",
    "\tLONGS.append(strip_point(i)[0])\n",
    "\tLATS.append(strip_point(i)[1])\n",
    "\n",
    "df[\"LONGITUDE\"]=LONGS\n",
    "df[\"LATITUDE\"]=LATS\n",
    "\n",
    "df.to_csv('processed/NS_hospital.csv')\n"
   ]
  },
  {
   "cell_type": "code",
   "execution_count": 113,
   "metadata": {
    "execution": {
     "iopub.execute_input": "2022-03-15T18:24:27.309137Z",
     "iopub.status.busy": "2022-03-15T18:24:27.308943Z",
     "iopub.status.idle": "2022-03-15T18:24:27.342974Z",
     "shell.execute_reply": "2022-03-15T18:24:27.342448Z",
     "shell.execute_reply.started": "2022-03-15T18:24:27.309117Z"
    },
    "tags": []
   },
   "outputs": [],
   "source": [
    "# Processing for PEI Health Facilities data\n",
    "# Turn 'Location\" column into long and lat\n",
    "\n",
    "df=pd.read_csv('raw/PE_healthcare_facilities.csv')\n",
    "\n",
    "# df=df.loc[df[\"Facility Type\"] != \"Public Nursing Home\"]\n",
    "\n",
    "def strip_point(x):\n",
    "    z=x.strip('(')\n",
    "    a=z.rstrip(')')\n",
    "    t=a.replace(\",\", \"\")\n",
    "    return t.split()\n",
    "\n",
    "LONGS=[]\n",
    "LATS=[]\n",
    "for i in df[\"Location 1\"]:\n",
    "\tLONGS.append(strip_point(i)[1])\n",
    "\tLATS.append(strip_point(i)[0])\n",
    "\n",
    "df[\"LONGITUDE\"]=LONGS\n",
    "df[\"LATITUDE\"]=LATS\n",
    "\n",
    "df.to_csv('processed/PE_healthcare_facilities.csv')"
   ]
  },
  {
   "cell_type": "code",
   "execution_count": 114,
   "metadata": {
    "execution": {
     "iopub.execute_input": "2022-03-15T18:24:27.343890Z",
     "iopub.status.busy": "2022-03-15T18:24:27.343716Z",
     "iopub.status.idle": "2022-03-15T18:24:27.405562Z",
     "shell.execute_reply": "2022-03-15T18:24:27.404958Z",
     "shell.execute_reply.started": "2022-03-15T18:24:27.343871Z"
    },
    "tags": []
   },
   "outputs": [],
   "source": [
    "# Processing for NB Moncton \n",
    "\n",
    "#read geojson, output csv\n",
    "#limit ourselves to hospitals\n",
    "#Also turn 'POINT' Geometry into lat and lon\n",
    "\n",
    "import geopandas as gpd\n",
    "import pandas as pd\n",
    "\n",
    "#read shapefile with geopandas into geodataframe\n",
    "\n",
    "files = ['raw/NB_Moncton_medical_clinics', 'raw/NB_Moncton_pharmacies', 'raw/NB_Moncton_senior_care_facilities']\n",
    "\n",
    "for file in files:\n",
    "\n",
    "    filename = file + '.geojson'\n",
    "    #print(filename)\n",
    "    sc1=gpd.read_file(filename)\n",
    "\n",
    "    df=pd.DataFrame(sc1)\n",
    "\n",
    "\n",
    "    def strip_point(x):\n",
    "\n",
    "        x=str(x)    \n",
    "        t=x.strip('POINT (')\n",
    "        t=t.rstrip(')')\n",
    "    # \tprint(t)\n",
    "        return t.split()\n",
    "\n",
    "    LONGS=[]\n",
    "    LATS=[]\n",
    "    for i in df.geometry:\n",
    "        LONGS.append(strip_point(i)[0])\n",
    "        LATS.append(strip_point(i)[1])\n",
    "\n",
    "    df[\"LONGITUDE\"]=LONGS\n",
    "    df[\"LATITUDE\"]=LATS\n",
    "\n",
    "    location = 'processed/' + file.strip('raw/') + '.csv'\n",
    "    df.to_csv(location)"
   ]
  },
  {
   "cell_type": "code",
   "execution_count": 115,
   "metadata": {
    "execution": {
     "iopub.execute_input": "2022-03-15T18:24:27.406650Z",
     "iopub.status.busy": "2022-03-15T18:24:27.406365Z",
     "iopub.status.idle": "2022-03-15T18:24:27.654823Z",
     "shell.execute_reply": "2022-03-15T18:24:27.653519Z",
     "shell.execute_reply.started": "2022-03-15T18:24:27.406626Z"
    },
    "tags": []
   },
   "outputs": [],
   "source": [
    "# ON Durham, Toronto clinics, Toronto covid test sites and York hospitals\n",
    "\n",
    "# read geojson, output csv\n",
    "# limit to hospitals\n",
    "# Also turn 'POINT' Geometry into lat and lon\n",
    "\n",
    "\n",
    "import geopandas as gpd\n",
    "import pandas as pd\n",
    "\n",
    "#read shapefile with geopandas into geodataframe\n",
    "\n",
    "files = ['raw/ON_Durham_healthcare_facilities', 'raw/ON_Toronto_covid-19-immunization-clinics', 'raw/ON_Toronto_covid-19-testing-sites', 'raw/ON_York_hospital']\n",
    "\n",
    "for file in files:\n",
    "\n",
    "    filename = file + '.geojson'\n",
    "    #print(filename)\n",
    "    sc1=gpd.read_file(filename)\n",
    "\n",
    "    df=pd.DataFrame(sc1)\n",
    "\n",
    "\n",
    "    def strip_point(x):\n",
    "\n",
    "        x=str(x)    \n",
    "        t=x.strip('POINT (')\n",
    "        t=t.rstrip(')')\n",
    "    # \tprint(t)\n",
    "        return t.split()\n",
    "\n",
    "    LONGS=[]\n",
    "    LATS=[]\n",
    "    for i in df.geometry:\n",
    "        LONGS.append(strip_point(i)[0])\n",
    "        LATS.append(strip_point(i)[1])\n",
    "\n",
    "    df[\"LONGITUDE\"]=LONGS\n",
    "    df[\"LATITUDE\"]=LATS\n",
    "\n",
    "    location = 'processed/' + file.strip(\"raw/\") + '.csv'\n",
    "    df.to_csv(location)"
   ]
  },
  {
   "cell_type": "code",
   "execution_count": 116,
   "metadata": {
    "execution": {
     "iopub.execute_input": "2022-03-15T18:24:27.655899Z",
     "iopub.status.busy": "2022-03-15T18:24:27.655709Z",
     "iopub.status.idle": "2022-03-15T18:24:27.675106Z",
     "shell.execute_reply": "2022-03-15T18:24:27.674563Z",
     "shell.execute_reply.started": "2022-03-15T18:24:27.655878Z"
    },
    "tags": []
   },
   "outputs": [],
   "source": [
    "# QC Gatineau \n",
    "# convert POINT to lat lon\n",
    "\n",
    "import pandas as pd\n",
    "\n",
    "df=pd.read_csv('raw/QC_Gatineau_public_places_including_hospitals.csv')\n",
    "\n",
    "def strip_point(x):\n",
    "\n",
    "    x=str(x)    \n",
    "    t=x.strip('POINT (')\n",
    "    t=t.rstrip(')')\n",
    "    # \tprint(t)\n",
    "    return t.split()\n",
    "\n",
    "LONGS=[]\n",
    "LATS=[]\n",
    "for i in df[\"GEOM\"]:\n",
    "\tLONGS.append(strip_point(i)[1])\n",
    "\tLATS.append(strip_point(i)[0])\n",
    "\n",
    "df[\"LONGITUDE\"]=LONGS\n",
    "df[\"LATITUDE\"]=LATS\n",
    "\n",
    "df2 = df[(df['TYPE'] == 'C.L.S.C.') | (df['TYPE'] == 'C.H.S.L.D.') | (df['TYPE'] == 'Résidence pour personnes âgées') | (df['TYPE'] == 'Centre hospitalier') | (df['TYPE'] == 'Autres services médicaux et de santé') | (df['TYPE'] == 'Résidence pour personnes âgées(Type \"Familiale\")')]\n",
    "df3 = df2.reset_index(drop=True)\n",
    "\n",
    "df3.to_csv('processed/QC_Gatineau_public_places_including_hospitals.csv')"
   ]
  },
  {
   "cell_type": "code",
   "execution_count": 118,
   "metadata": {
    "execution": {
     "iopub.execute_input": "2022-03-15T18:24:39.034639Z",
     "iopub.status.busy": "2022-03-15T18:24:39.034351Z",
     "iopub.status.idle": "2022-03-15T18:24:39.052904Z",
     "shell.execute_reply": "2022-03-15T18:24:39.052339Z",
     "shell.execute_reply.started": "2022-03-15T18:24:39.034613Z"
    },
    "tags": []
   },
   "outputs": [],
   "source": [
    "# QC Quebec city \n",
    "# convert POINT to lat lon\n",
    "\n",
    "import pandas as pd\n",
    "\n",
    "df=pd.read_csv('raw/QC_Quebec_City_public_places.csv')\n",
    "\n",
    "def strip_point(x):\n",
    "\n",
    "    x=str(x)    \n",
    "    t=x.strip('POINT (')\n",
    "    t=t.rstrip(')')\n",
    "    # \tprint(t)\n",
    "    return t.split()\n",
    "\n",
    "LONGS=[]\n",
    "LATS=[]\n",
    "for i in df[\"GEOMETRIE\"]:\n",
    "\tLONGS.append(strip_point(i)[1])\n",
    "\tLATS.append(strip_point(i)[0])\n",
    "\n",
    "df[\"LONGITUDE\"]=LONGS\n",
    "df[\"LATITUDE\"]=LATS\n",
    "\n",
    "df2 = df[df['DESCRIPTION'] == 'Hôpitaux']\n",
    "df3 = df2.reset_index(drop=True)\n",
    "\n",
    "df3.to_csv('processed/QC_Quebec_City_public_places.csv')"
   ]
  },
  {
   "cell_type": "code",
   "execution_count": 119,
   "metadata": {
    "execution": {
     "iopub.execute_input": "2022-03-15T18:24:39.377458Z",
     "iopub.status.busy": "2022-03-15T18:24:39.377129Z",
     "iopub.status.idle": "2022-03-15T18:24:39.418224Z",
     "shell.execute_reply": "2022-03-15T18:24:39.417530Z",
     "shell.execute_reply.started": "2022-03-15T18:24:39.377429Z"
    },
    "tags": []
   },
   "outputs": [],
   "source": [
    "# transfer files directly from PreProcessing/processed to opentabulate/data/input\n",
    "\n",
    "import os\n",
    "from pathlib import Path\n",
    "import shutil\n",
    "\n",
    "src = '/home/jovyan/data-vol-1/ODHF/LODE-ECDO/scripts/HealthFacilities/V2/1-PreProcessing/processed'\n",
    "dst = '/home/jovyan/data-vol-1/ODHF/LODE-ECDO/scripts/HealthFacilities/V2/2-OpenTabulate/opentabulate/data/input'\n",
    "\n",
    "if os.path.exists(dst):\n",
    "    shutil.rmtree(dst)\n",
    "    shutil.copytree(src, dst)"
   ]
  },
  {
   "cell_type": "code",
   "execution_count": 123,
   "metadata": {
    "execution": {
     "iopub.execute_input": "2022-03-16T14:04:34.870658Z",
     "iopub.status.busy": "2022-03-16T14:04:34.870379Z",
     "iopub.status.idle": "2022-03-16T14:04:34.875865Z",
     "shell.execute_reply": "2022-03-16T14:04:34.875216Z",
     "shell.execute_reply.started": "2022-03-16T14:04:34.870631Z"
    },
    "tags": []
   },
   "outputs": [
    {
     "name": "stdout",
     "output_type": "stream",
     "text": [
      "39\n",
      "39\n",
      "39\n"
     ]
    }
   ],
   "source": [
    "# check if all folders contain the same amout of files (datasets). Output would have different number since some files are dropped directly there\n",
    "\n",
    "import os\n",
    "\n",
    "raw = '/home/jovyan/data-vol-1/ODHF/LODE-ECDO/scripts/HealthFacilities/V2/1-PreProcessing/raw'\n",
    "pro = '/home/jovyan/data-vol-1/ODHF/LODE-ECDO/scripts/HealthFacilities/V2/1-PreProcessing/processed'\n",
    "input_ = '/home/jovyan/data-vol-1/ODHF/LODE-ECDO/scripts/HealthFacilities/V2/2-OpenTabulate/opentabulate/data/input'\n",
    "print(len(os.listdir(raw)))\n",
    "print(len(os.listdir(pro)))\n",
    "print(len(os.listdir(input_)))\n"
   ]
  },
  {
   "cell_type": "code",
   "execution_count": null,
   "metadata": {},
   "outputs": [],
   "source": []
  }
 ],
 "metadata": {
  "kernelspec": {
   "display_name": "Python 3",
   "language": "python",
   "name": "python3"
  },
  "language_info": {
   "codemirror_mode": {
    "name": "ipython",
    "version": 3
   },
   "file_extension": ".py",
   "mimetype": "text/x-python",
   "name": "python",
   "nbconvert_exporter": "python",
   "pygments_lexer": "ipython3",
   "version": "3.8.8"
  }
 },
 "nbformat": 4,
 "nbformat_minor": 4
}
