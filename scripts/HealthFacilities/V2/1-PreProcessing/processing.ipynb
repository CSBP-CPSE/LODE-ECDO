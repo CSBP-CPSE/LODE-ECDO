{
 "cells": [
  {
   "cell_type": "code",
   "execution_count": null,
   "metadata": {
    "tags": []
   },
   "outputs": [],
   "source": [
    "'''\n",
    "These scripts prepares raw downloaded CSV files for use with Open Tabulate.\n",
    "It takes the raw directory as input and outputs to the processed directory.\n",
    "The following steps are taken:\n",
    "- Format latitude and longitude as seperate columns\n",
    "- Converts format to CSV \n",
    "- Encodes CSV with utf-8\n",
    "- Filters out data not related to health (eg police stations)\n",
    "\n",
    "-Sam Lumley\n",
    "Dec 2021\n",
    "\n",
    "'''"
   ]
  },
  {
   "cell_type": "code",
   "execution_count": 3,
   "metadata": {
    "execution": {
     "iopub.execute_input": "2022-01-19T16:25:30.433240Z",
     "iopub.status.busy": "2022-01-19T16:25:30.432962Z",
     "iopub.status.idle": "2022-01-19T16:25:30.436812Z",
     "shell.execute_reply": "2022-01-19T16:25:30.436036Z",
     "shell.execute_reply.started": "2022-01-19T16:25:30.433213Z"
    },
    "tags": []
   },
   "outputs": [],
   "source": [
    "import pandas as pd\n",
    "\n",
    "# If necessary, install openpyxl and geopandas\n",
    "# import sys\n",
    "# !conda install --yes --prefix {sys.prefix} openpyxl\n",
    "\n",
    "# %pip install geopandas"
   ]
  },
  {
   "cell_type": "code",
   "execution_count": 5,
   "metadata": {
    "execution": {
     "iopub.execute_input": "2022-01-19T20:42:30.388276Z",
     "iopub.status.busy": "2022-01-19T20:42:30.387952Z",
     "iopub.status.idle": "2022-01-19T20:42:30.393345Z",
     "shell.execute_reply": "2022-01-19T20:42:30.392604Z",
     "shell.execute_reply.started": "2022-01-19T20:42:30.388248Z"
    },
    "tags": []
   },
   "outputs": [],
   "source": [
    "# Generate province folder structure\n",
    "\n",
    "import os\n",
    "\n",
    "folders=['ab','bc','mb','nb','nl','ns','nt','nu','on','pe','qc','sk','yt']\n",
    "\n",
    "for items in folders:\n",
    "    os.mkdir(items)\n"
   ]
  },
  {
   "cell_type": "code",
   "execution_count": 7,
   "metadata": {
    "execution": {
     "iopub.execute_input": "2022-01-19T20:46:13.095755Z",
     "iopub.status.busy": "2022-01-19T20:46:13.095431Z",
     "iopub.status.idle": "2022-01-19T20:46:13.138359Z",
     "shell.execute_reply": "2022-01-19T20:46:13.137431Z",
     "shell.execute_reply.started": "2022-01-19T20:46:13.095726Z"
    },
    "tags": []
   },
   "outputs": [],
   "source": [
    "# AB Calgary covid \n",
    "# convert point to lat lon\n",
    "# ignore empty rows\n",
    "\n",
    "import pandas as pd\n",
    "\n",
    "df=pd.read_csv('raw/AB_Calgary_covid_vaccination_centres.csv')\n",
    "\n",
    "def strip_point(x):\n",
    "    \n",
    "    x=str(x)  \n",
    "    if (x == 'nan'):\n",
    "        t = [None,None]\n",
    "        return t\n",
    "    else:\n",
    "        t=x.strip('POINT (')\n",
    "        t=t.rstrip(')')\n",
    "        return t.split()\n",
    "\n",
    "LONGS=[]\n",
    "LATS=[]\n",
    "for i in df[\"POINT\"]:\n",
    "\tLONGS.append(strip_point(i)[0])\n",
    "\tLATS.append(strip_point(i)[1])\n",
    "\n",
    "df[\"LONGITUDE\"]=LONGS\n",
    "df[\"LATITUDE\"]=LATS\n",
    "\n",
    "df.to_csv('AB_Calgary_covid_vaccination_centres.csv')"
   ]
  },
  {
   "cell_type": "code",
   "execution_count": 69,
   "metadata": {
    "execution": {
     "iopub.execute_input": "2021-12-30T17:35:05.558425Z",
     "iopub.status.busy": "2021-12-30T17:35:05.558142Z",
     "iopub.status.idle": "2021-12-30T17:35:05.568674Z",
     "shell.execute_reply": "2021-12-30T17:35:05.568071Z",
     "shell.execute_reply.started": "2021-12-30T17:35:05.558400Z"
    },
    "tags": []
   },
   "outputs": [],
   "source": [
    "# AB Clgary healthcare \n",
    "# - point to lat lon\n",
    "\n",
    "import pandas as pd\n",
    "\n",
    "df=pd.read_csv('AB_Calgary_healthcare_facilities.csv')\n",
    "\n",
    "def strip_point(x):\n",
    "\n",
    "    x=str(x)    \n",
    "    t=x.strip('POINT (')\n",
    "    t=t.rstrip(')')\n",
    "    # \tprint(t)\n",
    "    return t.split()\n",
    "\n",
    "LONGS=[]\n",
    "LATS=[]\n",
    "for i in df[\"location\"]:\n",
    "\tLONGS.append(strip_point(i)[1])\n",
    "\tLATS.append(strip_point(i)[0])\n",
    "\n",
    "df[\"LONGITUDE\"]=LONGS\n",
    "df[\"LATITUDE\"]=LATS\n",
    "\n",
    "df.to_csv('processed/AB_Calgary_healthcare_facilities.csv')"
   ]
  },
  {
   "cell_type": "code",
   "execution_count": 25,
   "metadata": {
    "execution": {
     "iopub.execute_input": "2022-01-10T22:04:58.955506Z",
     "iopub.status.busy": "2022-01-10T22:04:58.955253Z",
     "iopub.status.idle": "2022-01-10T22:04:58.967363Z",
     "shell.execute_reply": "2022-01-10T22:04:58.966607Z",
     "shell.execute_reply.started": "2022-01-10T22:04:58.955475Z"
    },
    "tags": []
   },
   "outputs": [],
   "source": [
    "# Processing for BC\n",
    "# utf-8 encode datasets\n",
    "\n",
    "df=pd.read_csv('raw/BC_emergency_rooms.csv')\n",
    "df.to_csv('processed/BC_emergency_rooms.csv')\n",
    "\n",
    "df2=pd.read_csv('raw/BC_hospital.csv')\n",
    "df2.to_csv('processed/BC_hospital.csv')\n",
    "\n",
    "df3=pd.read_csv('raw/BC_pharmacies.csv')\n",
    "df3.to_csv('processed/BC_pharmacies.csv')\n",
    "\n",
    "df4=pd.read_csv('raw/BC_urgent_care.csv')\n",
    "df4.to_csv('processed/BC_urgent_care.csv')\n",
    "\n",
    "df5=pd.read_csv('raw/BC_walk-in_clinics.csv')\n",
    "df5.to_csv('processed/BC_walk-in_clinics.csv')\n",
    "\n",
    "df5=pd.read_csv('raw/ON_Guelph_healthcare_facilities.csv')\n",
    "df5.to_csv('processed/ON_Guelph_healthcare_facilities.csv')"
   ]
  },
  {
   "cell_type": "code",
   "execution_count": 22,
   "metadata": {
    "execution": {
     "iopub.execute_input": "2022-01-10T18:55:59.361591Z",
     "iopub.status.busy": "2022-01-10T18:55:59.361319Z",
     "iopub.status.idle": "2022-01-10T18:55:59.555757Z",
     "shell.execute_reply": "2022-01-10T18:55:59.554937Z",
     "shell.execute_reply.started": "2022-01-10T18:55:59.361562Z"
    },
    "tags": []
   },
   "outputs": [],
   "source": [
    "# Processing for Manitoba\n",
    "\n",
    "# - read geojson, output csv\n",
    "# - limit to hospitals\n",
    "# - remove null values for geometry\n",
    "\n",
    "import geopandas as gpd\n",
    "import pandas as pd\n",
    "\n",
    "#read geojson with geopandas into geodataframe\n",
    "sc1=gpd.read_file('raw/MB_COVID-19_and_Flu_-_Vaccination_Sites.geojson')\n",
    "\n",
    "df=pd.DataFrame(sc1)\n",
    "\n",
    "\n",
    "def strip_point(x):\n",
    "    \n",
    "    x=str(x)  \n",
    "    if (x == 'nan'):\n",
    "        t = [None,None]\n",
    "        return t\n",
    "    elif x == 'None':\n",
    "        t = [None,None]\n",
    "        return t\n",
    "    else:\n",
    "        t=x.strip('POINT (')\n",
    "        t=t.rstrip(')')\n",
    "        return t.split() \n",
    "\n",
    "\n",
    "LONGS=[]\n",
    "LATS=[]\n",
    "for i in df.geometry:\n",
    "\tLONGS.append(strip_point(i)[0])\n",
    "\tLATS.append(strip_point(i)[1])\n",
    "\n",
    "df[\"LONGITUDE\"]=LONGS\n",
    "df[\"LATITUDE\"]=LATS\n",
    "\n",
    "df.to_csv('processed/MB_COVID-19_and_Flu_-_Vaccination_Sites.csv')\n"
   ]
  },
  {
   "cell_type": "code",
   "execution_count": 37,
   "metadata": {
    "execution": {
     "iopub.execute_input": "2021-12-21T17:17:26.520778Z",
     "iopub.status.busy": "2021-12-21T17:17:26.520506Z",
     "iopub.status.idle": "2021-12-21T17:17:26.534239Z",
     "shell.execute_reply": "2021-12-21T17:17:26.533431Z",
     "shell.execute_reply.started": "2021-12-21T17:17:26.520752Z"
    },
    "tags": []
   },
   "outputs": [],
   "source": [
    "# Processing for New Brunswick\n",
    "# convert point to lat lon\n",
    "\n",
    "df=pd.read_csv('raw/NB_nursing_homes.csv')\n",
    "\n",
    "# df=df.loc[df[\"Facility Type\"] != \"Public Nursing Home\"]\n",
    "\n",
    "def strip_point(x):\n",
    "\tt=x.strip('(')\n",
    "\tt=t.rstrip(')')\n",
    "#\tt=t.strip(' (')\n",
    "#\tprint(t)\n",
    "\treturn t.split()\n",
    "\n",
    "LONGS=[]\n",
    "LATS=[]\n",
    "for i in df[\"Location\"]:\n",
    "\tLONGS.append(strip_point(i)[1])\n",
    "\tLATS.append(strip_point(i)[0])\n",
    "\n",
    "df[\"LONGITUDE\"]=LONGS\n",
    "df[\"LATITUDE\"]=LATS\n",
    "\n",
    "df.to_csv('processed/NB_nursing_homes.csv')"
   ]
  },
  {
   "cell_type": "code",
   "execution_count": 32,
   "metadata": {
    "execution": {
     "iopub.execute_input": "2021-12-20T21:59:33.915701Z",
     "iopub.status.busy": "2021-12-20T21:59:33.915361Z",
     "iopub.status.idle": "2021-12-20T21:59:33.952502Z",
     "shell.execute_reply": "2021-12-20T21:59:33.951714Z",
     "shell.execute_reply.started": "2021-12-20T21:59:33.915668Z"
    },
    "tags": []
   },
   "outputs": [],
   "source": [
    "# Processing for NL healthcare and hospital datasets\n",
    "# convert from xls to csv\n",
    "\n",
    "import openpyxl\n",
    "\n",
    "# Assisted living\n",
    "\n",
    "df = pd.read_excel(\"raw/NL_Hospital.xlsx\", engine='openpyxl')\n",
    "df.to_csv('processed/NL_Hospital.csv')\n",
    "\n",
    "df2 = pd.read_excel(\"raw/NL_HealthCentre.xls\", engine='openpyxl')\n",
    "df2.to_csv('processed/NL_HealthCentre.csv')\n"
   ]
  },
  {
   "cell_type": "code",
   "execution_count": 41,
   "metadata": {
    "execution": {
     "iopub.execute_input": "2021-12-21T17:23:25.242865Z",
     "iopub.status.busy": "2021-12-21T17:23:25.242589Z",
     "iopub.status.idle": "2021-12-21T17:23:25.252279Z",
     "shell.execute_reply": "2021-12-21T17:23:25.251720Z",
     "shell.execute_reply.started": "2021-12-21T17:23:25.242841Z"
    },
    "tags": []
   },
   "outputs": [],
   "source": [
    "# Processing for Nova Scotia\n",
    "# Convert 'POINT' Geometry into lat and lon\n",
    "\n",
    "import pandas as pd\n",
    "\n",
    "df=pd.read_csv('raw/NS_hospital.csv')\n",
    "\n",
    "def strip_point(x):\n",
    "\n",
    "\tx=str(x)    \n",
    "\tt=x.strip('POINT (')\n",
    "\tt=t.rstrip(')')\n",
    "\treturn t.split()\n",
    "\n",
    "LONGS=[]\n",
    "LATS=[]\n",
    "for i in df[\"the_geom\"]:\n",
    "\tLONGS.append(strip_point(i)[0])\n",
    "\tLATS.append(strip_point(i)[1])\n",
    "\n",
    "df[\"LONGITUDE\"]=LONGS\n",
    "df[\"LATITUDE\"]=LATS\n",
    "\n",
    "df.to_csv('processed/NS_hospital.csv')\n"
   ]
  },
  {
   "cell_type": "code",
   "execution_count": 14,
   "metadata": {
    "execution": {
     "iopub.execute_input": "2021-12-20T20:06:41.977810Z",
     "iopub.status.busy": "2021-12-20T20:06:41.977521Z",
     "iopub.status.idle": "2021-12-20T20:06:41.987967Z",
     "shell.execute_reply": "2021-12-20T20:06:41.987437Z",
     "shell.execute_reply.started": "2021-12-20T20:06:41.977785Z"
    },
    "tags": []
   },
   "outputs": [],
   "source": [
    "# Processing for PEI Health Facilities data\n",
    "# Turn 'Location\" column into long and lat\n",
    "\n",
    "df=pd.read_csv('raw/PE_healthcare_facilities.csv')\n",
    "\n",
    "# df=df.loc[df[\"Facility Type\"] != \"Public Nursing Home\"]\n",
    "\n",
    "def strip_point(x):\n",
    "\tt=x.strip('(')\n",
    "\tt=t.rstrip(')')\n",
    "#\tt=t.strip(' (')\n",
    "#\tprint(t)\n",
    "\treturn t.split()\n",
    "\n",
    "LONGS=[]\n",
    "LATS=[]\n",
    "for i in df[\"Location 1\"]:\n",
    "\tLONGS.append(strip_point(i)[1])\n",
    "\tLATS.append(strip_point(i)[0])\n",
    "\n",
    "df[\"LONGITUDE\"]=LONGS\n",
    "df[\"LATITUDE\"]=LATS\n",
    "\n",
    "df.to_csv('processed/PE_Hospitals.csv')"
   ]
  },
  {
   "cell_type": "code",
   "execution_count": 87,
   "metadata": {
    "execution": {
     "iopub.execute_input": "2021-12-30T19:09:11.491129Z",
     "iopub.status.busy": "2021-12-30T19:09:11.490856Z",
     "iopub.status.idle": "2021-12-30T19:09:11.552826Z",
     "shell.execute_reply": "2021-12-30T19:09:11.552024Z",
     "shell.execute_reply.started": "2021-12-30T19:09:11.491103Z"
    },
    "tags": []
   },
   "outputs": [],
   "source": [
    "# Processing for NB Moncton \n",
    "\n",
    "#read geojson, output csv\n",
    "#limit ourselves to hospitals\n",
    "#Also turn 'POINT' Geometry into lat and lon\n",
    "\n",
    "import geopandas as gpd\n",
    "import pandas as pd\n",
    "\n",
    "#read shapefile with geopandas into geodataframe\n",
    "\n",
    "files = ['raw/NB_Moncton_Medical_Clinics', 'raw/NB_Moncton_Pharmacies', 'raw/NB_Moncton_Senior_Care_Facilities']\n",
    "\n",
    "for file in files:\n",
    "\n",
    "    filename = file + '.geojson'\n",
    "    print(filename)\n",
    "    sc1=gpd.read_file(filename)\n",
    "\n",
    "    df=pd.DataFrame(sc1)\n",
    "\n",
    "\n",
    "    def strip_point(x):\n",
    "\n",
    "        x=str(x)    \n",
    "        t=x.strip('POINT (')\n",
    "        t=t.rstrip(')')\n",
    "    # \tprint(t)\n",
    "        return t.split()\n",
    "\n",
    "    LONGS=[]\n",
    "    LATS=[]\n",
    "    for i in df.geometry:\n",
    "        LONGS.append(strip_point(i)[0])\n",
    "        LATS.append(strip_point(i)[1])\n",
    "\n",
    "    df[\"LONGITUDE\"]=LONGS\n",
    "    df[\"LATITUDE\"]=LATS\n",
    "\n",
    "    location = 'processed/' + file + '.csv'\n",
    "    df.to_csv(location)"
   ]
  },
  {
   "cell_type": "code",
   "execution_count": 24,
   "metadata": {
    "execution": {
     "iopub.execute_input": "2022-01-10T21:52:06.112024Z",
     "iopub.status.busy": "2022-01-10T21:52:06.111637Z",
     "iopub.status.idle": "2022-01-10T21:52:06.226239Z",
     "shell.execute_reply": "2022-01-10T21:52:06.225174Z",
     "shell.execute_reply.started": "2022-01-10T21:52:06.111988Z"
    },
    "tags": []
   },
   "outputs": [
    {
     "name": "stdout",
     "output_type": "stream",
     "text": [
      "raw/ON_Durham_Healthcare_Facilities.geojson\n"
     ]
    },
    {
     "ename": "FileNotFoundError",
     "evalue": "[Errno 2] No such file or directory: 'processed/raw/ON_Durham_Healthcare_Facilities.csv'",
     "output_type": "error",
     "traceback": [
      "\u001b[0;31m---------------------------------------------------------------------------\u001b[0m",
      "\u001b[0;31mFileNotFoundError\u001b[0m                         Traceback (most recent call last)",
      "\u001b[0;32m<ipython-input-24-d59cd583405b>\u001b[0m in \u001b[0;36m<module>\u001b[0;34m\u001b[0m\n\u001b[1;32m     42\u001b[0m \u001b[0;34m\u001b[0m\u001b[0m\n\u001b[1;32m     43\u001b[0m     \u001b[0mlocation\u001b[0m \u001b[0;34m=\u001b[0m \u001b[0;34m'processed/'\u001b[0m \u001b[0;34m+\u001b[0m \u001b[0mfile\u001b[0m \u001b[0;34m+\u001b[0m \u001b[0;34m'.csv'\u001b[0m\u001b[0;34m\u001b[0m\u001b[0;34m\u001b[0m\u001b[0m\n\u001b[0;32m---> 44\u001b[0;31m     \u001b[0mdf\u001b[0m\u001b[0;34m.\u001b[0m\u001b[0mto_csv\u001b[0m\u001b[0;34m(\u001b[0m\u001b[0mlocation\u001b[0m\u001b[0;34m)\u001b[0m\u001b[0;34m\u001b[0m\u001b[0;34m\u001b[0m\u001b[0m\n\u001b[0m",
      "\u001b[0;32m/opt/conda/lib/python3.8/site-packages/pandas/core/generic.py\u001b[0m in \u001b[0;36mto_csv\u001b[0;34m(self, path_or_buf, sep, na_rep, float_format, columns, header, index, index_label, mode, encoding, compression, quoting, quotechar, line_terminator, chunksize, date_format, doublequote, escapechar, decimal, errors, storage_options)\u001b[0m\n\u001b[1;32m   3385\u001b[0m         )\n\u001b[1;32m   3386\u001b[0m \u001b[0;34m\u001b[0m\u001b[0m\n\u001b[0;32m-> 3387\u001b[0;31m         return DataFrameRenderer(formatter).to_csv(\n\u001b[0m\u001b[1;32m   3388\u001b[0m             \u001b[0mpath_or_buf\u001b[0m\u001b[0;34m,\u001b[0m\u001b[0;34m\u001b[0m\u001b[0;34m\u001b[0m\u001b[0m\n\u001b[1;32m   3389\u001b[0m             \u001b[0mline_terminator\u001b[0m\u001b[0;34m=\u001b[0m\u001b[0mline_terminator\u001b[0m\u001b[0;34m,\u001b[0m\u001b[0;34m\u001b[0m\u001b[0;34m\u001b[0m\u001b[0m\n",
      "\u001b[0;32m/opt/conda/lib/python3.8/site-packages/pandas/io/formats/format.py\u001b[0m in \u001b[0;36mto_csv\u001b[0;34m(self, path_or_buf, encoding, sep, columns, index_label, mode, compression, quoting, quotechar, line_terminator, chunksize, date_format, doublequote, escapechar, errors, storage_options)\u001b[0m\n\u001b[1;32m   1081\u001b[0m             \u001b[0mformatter\u001b[0m\u001b[0;34m=\u001b[0m\u001b[0mself\u001b[0m\u001b[0;34m.\u001b[0m\u001b[0mfmt\u001b[0m\u001b[0;34m,\u001b[0m\u001b[0;34m\u001b[0m\u001b[0;34m\u001b[0m\u001b[0m\n\u001b[1;32m   1082\u001b[0m         )\n\u001b[0;32m-> 1083\u001b[0;31m         \u001b[0mcsv_formatter\u001b[0m\u001b[0;34m.\u001b[0m\u001b[0msave\u001b[0m\u001b[0;34m(\u001b[0m\u001b[0;34m)\u001b[0m\u001b[0;34m\u001b[0m\u001b[0;34m\u001b[0m\u001b[0m\n\u001b[0m\u001b[1;32m   1084\u001b[0m \u001b[0;34m\u001b[0m\u001b[0m\n\u001b[1;32m   1085\u001b[0m         \u001b[0;32mif\u001b[0m \u001b[0mcreated_buffer\u001b[0m\u001b[0;34m:\u001b[0m\u001b[0;34m\u001b[0m\u001b[0;34m\u001b[0m\u001b[0m\n",
      "\u001b[0;32m/opt/conda/lib/python3.8/site-packages/pandas/io/formats/csvs.py\u001b[0m in \u001b[0;36msave\u001b[0;34m(self)\u001b[0m\n\u001b[1;32m    226\u001b[0m         \"\"\"\n\u001b[1;32m    227\u001b[0m         \u001b[0;31m# apply compression and byte/text conversion\u001b[0m\u001b[0;34m\u001b[0m\u001b[0;34m\u001b[0m\u001b[0;34m\u001b[0m\u001b[0m\n\u001b[0;32m--> 228\u001b[0;31m         with get_handle(\n\u001b[0m\u001b[1;32m    229\u001b[0m             \u001b[0mself\u001b[0m\u001b[0;34m.\u001b[0m\u001b[0mfilepath_or_buffer\u001b[0m\u001b[0;34m,\u001b[0m\u001b[0;34m\u001b[0m\u001b[0;34m\u001b[0m\u001b[0m\n\u001b[1;32m    230\u001b[0m             \u001b[0mself\u001b[0m\u001b[0;34m.\u001b[0m\u001b[0mmode\u001b[0m\u001b[0;34m,\u001b[0m\u001b[0;34m\u001b[0m\u001b[0;34m\u001b[0m\u001b[0m\n",
      "\u001b[0;32m/opt/conda/lib/python3.8/site-packages/pandas/io/common.py\u001b[0m in \u001b[0;36mget_handle\u001b[0;34m(path_or_buf, mode, encoding, compression, memory_map, is_text, errors, storage_options)\u001b[0m\n\u001b[1;32m    640\u001b[0m                 \u001b[0merrors\u001b[0m \u001b[0;34m=\u001b[0m \u001b[0;34m\"replace\"\u001b[0m\u001b[0;34m\u001b[0m\u001b[0;34m\u001b[0m\u001b[0m\n\u001b[1;32m    641\u001b[0m             \u001b[0;31m# Encoding\u001b[0m\u001b[0;34m\u001b[0m\u001b[0;34m\u001b[0m\u001b[0;34m\u001b[0m\u001b[0m\n\u001b[0;32m--> 642\u001b[0;31m             handle = open(\n\u001b[0m\u001b[1;32m    643\u001b[0m                 \u001b[0mhandle\u001b[0m\u001b[0;34m,\u001b[0m\u001b[0;34m\u001b[0m\u001b[0;34m\u001b[0m\u001b[0m\n\u001b[1;32m    644\u001b[0m                 \u001b[0mioargs\u001b[0m\u001b[0;34m.\u001b[0m\u001b[0mmode\u001b[0m\u001b[0;34m,\u001b[0m\u001b[0;34m\u001b[0m\u001b[0;34m\u001b[0m\u001b[0m\n",
      "\u001b[0;31mFileNotFoundError\u001b[0m: [Errno 2] No such file or directory: 'processed/raw/ON_Durham_Healthcare_Facilities.csv'"
     ]
    }
   ],
   "source": [
    "''' Processing ON Durham, Toronto clinics, \n",
    "Toronto covid test sites and York hospitals\n",
    "\n",
    "read geojson, output csv\n",
    "limit to hospitals\n",
    "Also turn 'POINT' Geometry into lat and lon\n",
    "\n",
    "'''\n",
    "\n",
    "import geopandas as gpd\n",
    "import pandas as pd\n",
    "\n",
    "#read shapefile with geopandas into geodataframe\n",
    "\n",
    "files = ['raw/ON_Durham_Healthcare_Facilities', 'raw/ON_Toronto_covid-19-immunization-clinics', 'raw/ON_Toronto_covid-19-testing-sites', 'raw/ON_York_Hospital']\n",
    "\n",
    "for file in files:\n",
    "\n",
    "    filename = file + '.geojson'\n",
    "    print(filename)\n",
    "    sc1=gpd.read_file(filename)\n",
    "\n",
    "    df=pd.DataFrame(sc1)\n",
    "\n",
    "\n",
    "    def strip_point(x):\n",
    "\n",
    "        x=str(x)    \n",
    "        t=x.strip('POINT (')\n",
    "        t=t.rstrip(')')\n",
    "    # \tprint(t)\n",
    "        return t.split()\n",
    "\n",
    "    LONGS=[]\n",
    "    LATS=[]\n",
    "    for i in df.geometry:\n",
    "        LONGS.append(strip_point(i)[0])\n",
    "        LATS.append(strip_point(i)[1])\n",
    "\n",
    "    df[\"LONGITUDE\"]=LONGS\n",
    "    df[\"LATITUDE\"]=LATS\n",
    "\n",
    "    location = 'processed/' + file + '.csv'\n",
    "    df.to_csv(location)"
   ]
  },
  {
   "cell_type": "code",
   "execution_count": 95,
   "metadata": {
    "execution": {
     "iopub.execute_input": "2021-12-30T22:26:15.560680Z",
     "iopub.status.busy": "2021-12-30T22:26:15.560289Z",
     "iopub.status.idle": "2021-12-30T22:26:15.593212Z",
     "shell.execute_reply": "2021-12-30T22:26:15.592496Z",
     "shell.execute_reply.started": "2021-12-30T22:26:15.560640Z"
    },
    "tags": []
   },
   "outputs": [],
   "source": [
    "# QC Gatineau \n",
    "# - convert POINT to lat lon\n",
    "\n",
    "import pandas as pd\n",
    "\n",
    "df=pd.read_csv('raw/QC_Gatineau_public_places_including_hospitals.csv')\n",
    "\n",
    "def strip_point(x):\n",
    "\n",
    "    x=str(x)    \n",
    "    t=x.strip('POINT (')\n",
    "    t=t.rstrip(')')\n",
    "    # \tprint(t)\n",
    "    return t.split()\n",
    "\n",
    "LONGS=[]\n",
    "LATS=[]\n",
    "for i in df[\"GEOM\"]:\n",
    "\tLONGS.append(strip_point(i)[1])\n",
    "\tLATS.append(strip_point(i)[0])\n",
    "\n",
    "df[\"LONGITUDE\"]=LONGS\n",
    "df[\"LATITUDE\"]=LATS\n",
    "\n",
    "df.to_csv('processed/QC_Gatineau_public_places_including_hospitals.csv')"
   ]
  },
  {
   "cell_type": "code",
   "execution_count": 100,
   "metadata": {
    "execution": {
     "iopub.execute_input": "2021-12-30T22:29:53.311070Z",
     "iopub.status.busy": "2021-12-30T22:29:53.310773Z",
     "iopub.status.idle": "2021-12-30T22:29:53.332779Z",
     "shell.execute_reply": "2021-12-30T22:29:53.332142Z",
     "shell.execute_reply.started": "2021-12-30T22:29:53.311040Z"
    },
    "tags": []
   },
   "outputs": [
    {
     "name": "stdout",
     "output_type": "stream",
     "text": [
      "         ID                           NOM_TOPOGRAPHIE  NO_CIVIQUE  \\\n",
      "416  102269  Centre hospitalier de l'Université Laval      2705.0   \n",
      "418  102267         Centre hospitalier Robert-Giffard         NaN   \n",
      "696  102259                          Hôpital Chauveau     11999.0   \n",
      "697  200528                        Hôpital Christ-Roi       900.0   \n",
      "698  102237                 Hôpital de l'Enfant-Jésus      1401.0   \n",
      "699  102263                Hôpital du Saint-Sacrement      1050.0   \n",
      "700  200473                      Hôpital Jeffery Hale      1250.0   \n",
      "701  102747                             Hôpital Laval         NaN   \n",
      "703  102257           Hôpital Saint-François d'Assise        10.0   \n",
      "741  102261                    L'Hôtel-Dieu de Québec        11.0   \n",
      "\n",
      "                         RUE DESCRIPTION  SUPERFICIE  PERIMETRE  \\\n",
      "416        Boulevard Laurier    Hôpitaux           0          0   \n",
      "418  Chemin de la Canardière    Hôpitaux           0          0   \n",
      "696         Rue de l'Hôpital    Hôpitaux           0          0   \n",
      "697  Boulevard Wilfrid-Hamel    Hôpitaux           0          0   \n",
      "698                  18e Rue    Hôpitaux           0          0   \n",
      "699        Chemin Sainte-Foy    Hôpitaux           0          0   \n",
      "700        Chemin Sainte-Foy    Hôpitaux           0          0   \n",
      "701        Chemin Sainte-Foy    Hôpitaux           0          0   \n",
      "703         Rue De L'Espinay    Hôpitaux           0          0   \n",
      "741           Côte du Palais    Hôpitaux           0          0   \n",
      "\n",
      "                                         GEOMETRIE           LONGITUDE  \\\n",
      "416   POINT (-71.28344242085564 46.76868650091302)   46.76868650091302   \n",
      "418  POINT (-71.22072592305575 46.847932187385126)  46.847932187385126   \n",
      "696   POINT (-71.36992000707106 46.85317097833875)   46.85317097833875   \n",
      "697  POINT (-71.25837456317832 46.811355987527776)  46.811355987527776   \n",
      "698   POINT (-71.22604003267628 46.83748293860262)   46.83748293860262   \n",
      "699   POINT (-71.24672679462493 46.79901560331959)   46.79901560331959   \n",
      "700     POINT (-71.25326166417408 46.796665292246)     46.796665292246   \n",
      "701   POINT (-71.29716546772484 46.77848534323379)   46.77848534323379   \n",
      "703   POINT (-71.23754678002668 46.82844125435023)   46.82844125435023   \n",
      "741  POINT (-71.21085234031672 46.815534053944575)  46.815534053944575   \n",
      "\n",
      "               LATITUDE  \n",
      "416  -71.28344242085564  \n",
      "418  -71.22072592305575  \n",
      "696  -71.36992000707106  \n",
      "697  -71.25837456317832  \n",
      "698  -71.22604003267628  \n",
      "699  -71.24672679462493  \n",
      "700  -71.25326166417408  \n",
      "701  -71.29716546772484  \n",
      "703  -71.23754678002668  \n",
      "741  -71.21085234031672  \n"
     ]
    }
   ],
   "source": [
    "# QC Quebec city \n",
    "# - convert POINT to lat lon\n",
    "\n",
    "import pandas as pd\n",
    "\n",
    "df=pd.read_csv('raw/QC_Quebec City_public_places_including_hospitals.csv')\n",
    "\n",
    "def strip_point(x):\n",
    "\n",
    "    x=str(x)    \n",
    "    t=x.strip('POINT (')\n",
    "    t=t.rstrip(')')\n",
    "    # \tprint(t)\n",
    "    return t.split()\n",
    "\n",
    "LONGS=[]\n",
    "LATS=[]\n",
    "for i in df[\"GEOMETRIE\"]:\n",
    "\tLONGS.append(strip_point(i)[1])\n",
    "\tLATS.append(strip_point(i)[0])\n",
    "\n",
    "df[\"LONGITUDE\"]=LONGS\n",
    "df[\"LATITUDE\"]=LATS\n",
    "\n",
    "df2 = df[df['DESCRIPTION'] == 'Hôpitaux']\n",
    "\n",
    "df2.to_csv('processed/QC_Quebec City_public_places_including_hospitals.csv')"
   ]
  },
  {
   "cell_type": "code",
   "execution_count": null,
   "metadata": {},
   "outputs": [],
   "source": [
    "'''\n",
    "\n",
    "- calgary covid - point to lat lon /\n",
    "- calgary healthcare - point to lat lon /\n",
    "- moncton clinic - geojson /\n",
    "- moncton pharm - geojson /\n",
    "- moncton senior - geojson /\n",
    "- durham - geojson\n",
    "- hamilton hospital - fine\n",
    "- ottawa hospital - fine\n",
    "- toronto - \n",
    "- toronto - \n",
    "- york - \n",
    "- gatineau - \n",
    "- quebec city - \n",
    "- saskatoon - \n",
    "\n",
    "'''"
   ]
  }
 ],
 "metadata": {
  "kernelspec": {
   "display_name": "Python 3",
   "language": "python",
   "name": "python3"
  },
  "language_info": {
   "codemirror_mode": {
    "name": "ipython",
    "version": 3
   },
   "file_extension": ".py",
   "mimetype": "text/x-python",
   "name": "python",
   "nbconvert_exporter": "python",
   "pygments_lexer": "ipython3",
   "version": "3.8.8"
  }
 },
 "nbformat": 4,
 "nbformat_minor": 4
}
