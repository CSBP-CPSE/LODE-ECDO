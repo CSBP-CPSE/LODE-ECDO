{
 "cells": [
  {
   "cell_type": "code",
   "execution_count": 45,
   "metadata": {
    "execution": {
     "iopub.execute_input": "2022-02-14T18:47:44.125561Z",
     "iopub.status.busy": "2022-02-14T18:47:44.125271Z",
     "iopub.status.idle": "2022-02-14T18:47:44.501775Z",
     "shell.execute_reply": "2022-02-14T18:47:44.500598Z",
     "shell.execute_reply.started": "2022-02-14T18:47:44.125533Z"
    },
    "tags": []
   },
   "outputs": [],
   "source": [
    "# This code adds a column with the name of the file, to make it easier to find in later steps of the process\n",
    "\n",
    "\n",
    "import os\n",
    "import pandas as pd\n",
    "import glob\n",
    "\n",
    "files = glob.glob(\"/home/jovyan/data-vol-1/ODHF/LODE-ECDO/scripts/HealthFacilities/V2/2-OpenTabulate/opentabulate/data/output/*.csv\") \n",
    "\n",
    "filenames = []\n",
    "\n",
    "\n",
    "for file in files:\n",
    "    #print(csv)\n",
    "    df = pd.read_csv(file)\n",
    "    #print(df)\n",
    "    \n",
    "    df['filename'] = os.path.basename(file)\n",
    "    filenames.append(df)\n",
    "    df.to_csv(file)\n",
    "\n"
   ]
  },
  {
   "cell_type": "code",
   "execution_count": null,
   "metadata": {},
   "outputs": [],
   "source": []
  },
  {
   "cell_type": "code",
   "execution_count": null,
   "metadata": {},
   "outputs": [],
   "source": []
  }
 ],
 "metadata": {
  "kernelspec": {
   "display_name": "Python 3",
   "language": "python",
   "name": "python3"
  },
  "language_info": {
   "codemirror_mode": {
    "name": "ipython",
    "version": 3
   },
   "file_extension": ".py",
   "mimetype": "text/x-python",
   "name": "python",
   "nbconvert_exporter": "python",
   "pygments_lexer": "ipython3",
   "version": "3.8.8"
  }
 },
 "nbformat": 4,
 "nbformat_minor": 4
}
