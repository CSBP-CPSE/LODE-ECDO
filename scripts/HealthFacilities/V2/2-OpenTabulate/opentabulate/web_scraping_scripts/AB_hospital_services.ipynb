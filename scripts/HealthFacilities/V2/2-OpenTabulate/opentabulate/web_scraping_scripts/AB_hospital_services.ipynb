{
 "cells": [
  {
   "cell_type": "code",
   "execution_count": 31,
   "metadata": {
    "execution": {
     "iopub.execute_input": "2022-03-14T19:37:49.323898Z",
     "iopub.status.busy": "2022-03-14T19:37:49.323627Z",
     "iopub.status.idle": "2022-03-14T19:37:49.342733Z",
     "shell.execute_reply": "2022-03-14T19:37:49.342082Z",
     "shell.execute_reply.started": "2022-03-14T19:37:49.323873Z"
    },
    "tags": []
   },
   "outputs": [],
   "source": [
    "import pandas as pd\n",
    "\n",
    "df = pd.read_csv('AB_hospital_services_(NOT_DONE).csv')\n",
    "\n",
    "\n",
    "df['fax'] = df['info'].str.extract('ax:(.*)')\n",
    "df['info'] = df['info'].str.replace('Fax:(.*)', '', regex=True)\n",
    "df['phone'] = df['info'].str.extract('Ph:(.*)')\n",
    "df['info'] = df['info'].str.replace('Ph:(.*)', '', regex=True)\n",
    "df['phone'] = df['phone'].str.extract(r'(\\d{3}[-\\.\\s]??\\d{3}[-\\.\\s]??\\d{4}|\\(\\d{3}\\)\\s*\\d{3}[-\\.\\s]??\\d{4}|\\d{3}[-\\.\\s]??\\d{4})')\n",
    "df['fax'] = df['fax'].str.extract(r'(\\d{3}[-\\.\\s]??\\d{3}[-\\.\\s]??\\d{4}|\\(\\d{3}\\)\\s*\\d{3}[-\\.\\s]??\\d{4}|\\d{3}[-\\.\\s]??\\d{4})')\n",
    "df['province'] = 'AB'\n",
    "\n",
    "df['street_addr'] = df['info']\n",
    "df = df.drop(columns=['info'])\n",
    "\n",
    "hoskeywords = 'hospital|hôpital|hôpitaux|cancer'\n",
    "ambkeywords = 'centre|complex|campus|health services'\n",
    "df.loc[df['facility_name'].str.contains(ambkeywords, case=False, na=False), 'facility_type'] = 'Ambulatory health care services'\n",
    "df.loc[df['facility_name'].str.contains(hoskeywords, case=False, na=False), 'facility_type'] = 'Hospital'\n",
    "\n",
    "df.to_csv('/home/jovyan/data-vol-1/ODHF/LODE-ECDO/scripts/HealthFacilities/V2/2-OpenTabulate/opentabulate/data/output/AB_hospital_services.csv', index=False)\n",
    "df.to_csv('/home/jovyan/data-vol-1/ODHF/LODE-ECDO/scripts/HealthFacilities/V2/2-OpenTabulate/opentabulate/data/web_scraped/AB_hospital_services.csv', index=False)\n"
   ]
  },
  {
   "cell_type": "code",
   "execution_count": null,
   "metadata": {},
   "outputs": [],
   "source": []
  }
 ],
 "metadata": {
  "kernelspec": {
   "display_name": "Python 3",
   "language": "python",
   "name": "python3"
  },
  "language_info": {
   "codemirror_mode": {
    "name": "ipython",
    "version": 3
   },
   "file_extension": ".py",
   "mimetype": "text/x-python",
   "name": "python",
   "nbconvert_exporter": "python",
   "pygments_lexer": "ipython3",
   "version": "3.8.8"
  }
 },
 "nbformat": 4,
 "nbformat_minor": 4
}
