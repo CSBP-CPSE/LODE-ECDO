{
 "cells": [
  {
   "cell_type": "code",
   "execution_count": 179,
   "metadata": {
    "execution": {
     "iopub.execute_input": "2022-02-04T19:17:45.765507Z",
     "iopub.status.busy": "2022-02-04T19:17:45.765241Z",
     "iopub.status.idle": "2022-02-04T19:17:45.768876Z",
     "shell.execute_reply": "2022-02-04T19:17:45.768233Z",
     "shell.execute_reply.started": "2022-02-04T19:17:45.765482Z"
    },
    "tags": []
   },
   "outputs": [],
   "source": [
    "import pandas as pd\n",
    "import os\n",
    "from os import listdir\n",
    "from hashlib import blake2b\n",
    "from pathlib import Path\n",
    "import numpy as np\n",
    "import string\n",
    "import glob"
   ]
  },
  {
   "cell_type": "code",
   "execution_count": 180,
   "metadata": {
    "execution": {
     "iopub.execute_input": "2022-02-04T19:17:46.015862Z",
     "iopub.status.busy": "2022-02-04T19:17:46.015588Z",
     "iopub.status.idle": "2022-02-04T19:17:46.233073Z",
     "shell.execute_reply": "2022-02-04T19:17:46.232397Z",
     "shell.execute_reply.started": "2022-02-04T19:17:46.015833Z"
    },
    "tags": []
   },
   "outputs": [],
   "source": [
    "# Concatenate all files \n",
    "df = pd.concat([pd.read_csv(file) for file in glob.glob('/home/jovyan/data-vol-1/ODHF/LODE-ECDO/scripts/HealthFacilities/V2/2-OpenTabulate/opentabulate/data/output/*.csv')])\n"
   ]
  },
  {
   "cell_type": "code",
   "execution_count": 181,
   "metadata": {
    "execution": {
     "iopub.execute_input": "2022-02-04T19:17:46.486355Z",
     "iopub.status.busy": "2022-02-04T19:17:46.486039Z",
     "iopub.status.idle": "2022-02-04T19:17:46.504894Z",
     "shell.execute_reply": "2022-02-04T19:17:46.504254Z",
     "shell.execute_reply.started": "2022-02-04T19:17:46.486296Z"
    },
    "tags": []
   },
   "outputs": [],
   "source": [
    "# Removed \"idx\" (because redundant) and 'active' (because only one dataset had this info, and would be hard to keep updated). \n",
    "# **** DON'T FORGET TO ADD PROVINCE LATER ****\n",
    "\n",
    "df = df[['facility_name', 'facility_type', 'health_authority', 'alternative_name', 'number_beds',\n",
    "'address_str', 'street_no', 'street_name', 'street_addr', 'city', 'province', 'postal_code', 'provider', \n",
    "'latitude', 'longitude', 'phone', 'email', 'website' ]]"
   ]
  },
  {
   "cell_type": "code",
   "execution_count": 185,
   "metadata": {
    "execution": {
     "iopub.execute_input": "2022-02-04T19:17:59.214041Z",
     "iopub.status.busy": "2022-02-04T19:17:59.213771Z",
     "iopub.status.idle": "2022-02-04T19:17:59.241446Z",
     "shell.execute_reply": "2022-02-04T19:17:59.240842Z",
     "shell.execute_reply.started": "2022-02-04T19:17:59.214013Z"
    },
    "tags": []
   },
   "outputs": [],
   "source": [
    "\n",
    "\n",
    "# Make postal codes consistent and put spaces instead of '_' + capitalize\n",
    "df['postal_code'] = df['postal_code'].str.replace(' ','').str.upper()\n",
    "df['facility_type'] = df['facility_type'].str.replace('_',' ')\n",
    "\n",
    "# The code below is to convert the columns to integers. I've only needed to use it once and subsequent tries spit out an error. \n",
    "# But if you find these columns become floats again, uncomment and run once \n",
    "df['number_beds'] = df['number_beds'].round(0).astype(pd.Int64Dtype())\n",
    "df['street_no'] = df['street_no'].round(0).astype(pd.Int64Dtype())"
   ]
  },
  {
   "cell_type": "code",
   "execution_count": 186,
   "metadata": {
    "execution": {
     "iopub.execute_input": "2022-02-04T19:17:59.696121Z",
     "iopub.status.busy": "2022-02-04T19:17:59.695845Z",
     "iopub.status.idle": "2022-02-04T19:17:59.821509Z",
     "shell.execute_reply": "2022-02-04T19:17:59.820885Z",
     "shell.execute_reply.started": "2022-02-04T19:17:59.696094Z"
    },
    "tags": []
   },
   "outputs": [],
   "source": [
    "# Standardize facility_type\n",
    "pharkeywords = 'pharmacy|pharmacies'\n",
    "hoskeywords = 'hospital|hôpital|hôpitaux|cancer'\n",
    "ltckeywords = 'residence|residential|résidence|nursing|palliative|senior|special care|seinor|long term|hospice|C.H.S.L.D.'\n",
    "ambkeywords = 'community|clinic|walk in|primary care|tertiary|C.L.S.C.|regional'\n",
    "covidkeywords = 'covid|immunization|vaccine'\n",
    "\n",
    "df.loc[df['facility_type'].str.contains(pharkeywords, case=False, na=False), 'facility_type'] = 'TYPE 0'\n",
    "df.loc[df['facility_type'].str.contains(hoskeywords, case=False, na=False), 'facility_type'] = 'TYPE 1'\n",
    "df.loc[df['facility_type'].str.contains(ltckeywords, case=False, na=False), 'facility_type'] = 'TYPE 2'\n",
    "df.loc[df['facility_type'].str.contains(ambkeywords, case=False, na=False), 'facility_type'] = 'TYPE 3'\n",
    "df.loc[df['facility_type'].str.contains(covidkeywords, case=False, na=False), 'facility_type'] = 'TYPE 4'"
   ]
  },
  {
   "cell_type": "code",
   "execution_count": 187,
   "metadata": {
    "execution": {
     "iopub.execute_input": "2022-02-04T19:18:00.112532Z",
     "iopub.status.busy": "2022-02-04T19:18:00.112278Z",
     "iopub.status.idle": "2022-02-04T19:18:00.457624Z",
     "shell.execute_reply": "2022-02-04T19:18:00.456847Z",
     "shell.execute_reply.started": "2022-02-04T19:18:00.112509Z"
    },
    "tags": []
   },
   "outputs": [
    {
     "name": "stdout",
     "output_type": "stream",
     "text": [
      "[nan 'TYPE 1' 'Health centre' 'TYPE 2' 'TYPE 3' 'TYPE 0'\n",
      " 'Environmental Health' 'Rehabilitation' 'TYPE 4'\n",
      " 'Specialized Care Bed Homes' 'West Prince Health Network'\n",
      " 'Assisted Living' 'Children and Youth Mental Health'\n",
      " 'Family and Children Services' 'Family Health Teams' 'Mental Health'\n",
      " 'Public Health' 'Family Health Team'\n",
      " 'Autres services médicaux et de santé' 'AIDS Bureau'\n",
      " 'Independent Health Facility' 'Family Health Team - Contract'\n",
      " 'Laboratory - Specimen Collection Centre' \"Children's Treatment Centre\"\n",
      " 'Mental Health and Addiction Organization' 'Long-Term Care Home'\n",
      " 'Retirement Home' 'Public Health Unit Office' 'Chronic Care'\n",
      " 'Psychiatric' 'Urgent Care' 'Long care home' 'Basic Medical Needs'\n",
      " 'Healthcare and emergency services' 'Primary Health Care to'\n",
      " 'Acquired Injury' 'personal care homes' 'Other Organization'\n",
      " 'Emergency Room Care' 'Urgent Care Centres']\n"
     ]
    },
    {
     "data": {
      "text/plain": [
       "facility_name        object\n",
       "facility_type        object\n",
       "health_authority     object\n",
       "alternative_name     object\n",
       "number_beds           Int64\n",
       "address_str          object\n",
       "street_no             Int64\n",
       "street_name          object\n",
       "street_addr          object\n",
       "city                 object\n",
       "province             object\n",
       "postal_code          object\n",
       "provider             object\n",
       "latitude            float64\n",
       "longitude           float64\n",
       "phone                object\n",
       "email                object\n",
       "website              object\n",
       "dtype: object"
      ]
     },
     "execution_count": 187,
     "metadata": {},
     "output_type": "execute_result"
    }
   ],
   "source": [
    "df = df.reset_index(drop=True)\n",
    "df.to_csv('merged.csv')\n",
    "df.to_csv('/home/jovyan/data-vol-1/ODHF/LODE-ECDO/scripts/HealthFacilities/V2/4-Parsing/merged.csv')\n",
    "print(df['facility_type'].unique())\n",
    "#list_street_no = df['street_no'].unique()\n",
    "#print(list_street_no)\n",
    "\n",
    "df.dtypes"
   ]
  },
  {
   "cell_type": "code",
   "execution_count": 101,
   "metadata": {
    "execution": {
     "iopub.execute_input": "2022-02-03T15:52:02.248013Z",
     "iopub.status.busy": "2022-02-03T15:52:02.247831Z",
     "iopub.status.idle": "2022-02-03T15:52:02.273888Z",
     "shell.execute_reply": "2022-02-03T15:52:02.273084Z",
     "shell.execute_reply.started": "2022-02-03T15:52:02.247993Z"
    },
    "tags": []
   },
   "outputs": [
    {
     "ename": "KeyError",
     "evalue": "'source_id'",
     "output_type": "error",
     "traceback": [
      "\u001b[0;31m---------------------------------------------------------------------------\u001b[0m",
      "\u001b[0;31mKeyError\u001b[0m                                  Traceback (most recent call last)",
      "\u001b[0;32m/opt/conda/lib/python3.8/site-packages/pandas/core/indexes/base.py\u001b[0m in \u001b[0;36mget_loc\u001b[0;34m(self, key, method, tolerance)\u001b[0m\n\u001b[1;32m   3079\u001b[0m             \u001b[0;32mtry\u001b[0m\u001b[0;34m:\u001b[0m\u001b[0;34m\u001b[0m\u001b[0;34m\u001b[0m\u001b[0m\n\u001b[0;32m-> 3080\u001b[0;31m                 \u001b[0;32mreturn\u001b[0m \u001b[0mself\u001b[0m\u001b[0;34m.\u001b[0m\u001b[0m_engine\u001b[0m\u001b[0;34m.\u001b[0m\u001b[0mget_loc\u001b[0m\u001b[0;34m(\u001b[0m\u001b[0mcasted_key\u001b[0m\u001b[0;34m)\u001b[0m\u001b[0;34m\u001b[0m\u001b[0;34m\u001b[0m\u001b[0m\n\u001b[0m\u001b[1;32m   3081\u001b[0m             \u001b[0;32mexcept\u001b[0m \u001b[0mKeyError\u001b[0m \u001b[0;32mas\u001b[0m \u001b[0merr\u001b[0m\u001b[0;34m:\u001b[0m\u001b[0;34m\u001b[0m\u001b[0;34m\u001b[0m\u001b[0m\n",
      "\u001b[0;32mpandas/_libs/index.pyx\u001b[0m in \u001b[0;36mpandas._libs.index.IndexEngine.get_loc\u001b[0;34m()\u001b[0m\n",
      "\u001b[0;32mpandas/_libs/index.pyx\u001b[0m in \u001b[0;36mpandas._libs.index.IndexEngine.get_loc\u001b[0;34m()\u001b[0m\n",
      "\u001b[0;32mpandas/_libs/hashtable_class_helper.pxi\u001b[0m in \u001b[0;36mpandas._libs.hashtable.PyObjectHashTable.get_item\u001b[0;34m()\u001b[0m\n",
      "\u001b[0;32mpandas/_libs/hashtable_class_helper.pxi\u001b[0m in \u001b[0;36mpandas._libs.hashtable.PyObjectHashTable.get_item\u001b[0;34m()\u001b[0m\n",
      "\u001b[0;31mKeyError\u001b[0m: 'source_id'",
      "\nThe above exception was the direct cause of the following exception:\n",
      "\u001b[0;31mKeyError\u001b[0m                                  Traceback (most recent call last)",
      "\u001b[0;32m<ipython-input-101-06d61f0f47bd>\u001b[0m in \u001b[0;36m<module>\u001b[0;34m\u001b[0m\n\u001b[1;32m     13\u001b[0m     \u001b[0;32mreturn\u001b[0m \u001b[0mdf_temp\u001b[0m\u001b[0;34m[\u001b[0m\u001b[0;34m'temp'\u001b[0m\u001b[0;34m]\u001b[0m\u001b[0;34m\u001b[0m\u001b[0;34m\u001b[0m\u001b[0m\n\u001b[1;32m     14\u001b[0m \u001b[0;34m\u001b[0m\u001b[0m\n\u001b[0;32m---> 15\u001b[0;31m \u001b[0mdf\u001b[0m\u001b[0;34m[\u001b[0m\u001b[0;34m'temp'\u001b[0m\u001b[0;34m]\u001b[0m\u001b[0;34m=\u001b[0m\u001b[0mmake_temp_col\u001b[0m\u001b[0;34m(\u001b[0m\u001b[0mdf\u001b[0m\u001b[0;34m)\u001b[0m\u001b[0;34m\u001b[0m\u001b[0;34m\u001b[0m\u001b[0m\n\u001b[0m\u001b[1;32m     16\u001b[0m \u001b[0mdf\u001b[0m\u001b[0;34m[\u001b[0m\u001b[0;34m'idx'\u001b[0m\u001b[0;34m]\u001b[0m\u001b[0;34m=\u001b[0m\u001b[0mdf\u001b[0m\u001b[0;34m[\u001b[0m\u001b[0;34m'temp'\u001b[0m\u001b[0;34m]\u001b[0m\u001b[0;34m.\u001b[0m\u001b[0mapply\u001b[0m\u001b[0;34m(\u001b[0m\u001b[0mGetHash\u001b[0m\u001b[0;34m)\u001b[0m\u001b[0;34m\u001b[0m\u001b[0;34m\u001b[0m\u001b[0m\n",
      "\u001b[0;32m<ipython-input-101-06d61f0f47bd>\u001b[0m in \u001b[0;36mmake_temp_col\u001b[0;34m(df)\u001b[0m\n\u001b[1;32m      5\u001b[0m     \u001b[0;32mfor\u001b[0m \u001b[0mcol\u001b[0m \u001b[0;32min\u001b[0m \u001b[0mcols\u001b[0m\u001b[0;34m:\u001b[0m\u001b[0;34m\u001b[0m\u001b[0;34m\u001b[0m\u001b[0m\n\u001b[1;32m      6\u001b[0m \u001b[0;34m\u001b[0m\u001b[0m\n\u001b[0;32m----> 7\u001b[0;31m         \u001b[0mdf_temp\u001b[0m\u001b[0;34m[\u001b[0m\u001b[0mcol\u001b[0m\u001b[0;34m]\u001b[0m\u001b[0;34m=\u001b[0m\u001b[0mdf_temp\u001b[0m\u001b[0;34m[\u001b[0m\u001b[0mcol\u001b[0m\u001b[0;34m]\u001b[0m\u001b[0;34m.\u001b[0m\u001b[0mstr\u001b[0m\u001b[0;34m.\u001b[0m\u001b[0mupper\u001b[0m\u001b[0;34m(\u001b[0m\u001b[0;34m)\u001b[0m\u001b[0;34m\u001b[0m\u001b[0;34m\u001b[0m\u001b[0m\n\u001b[0m\u001b[1;32m      8\u001b[0m         \u001b[0mdf_temp\u001b[0m\u001b[0;34m[\u001b[0m\u001b[0mcol\u001b[0m\u001b[0;34m]\u001b[0m\u001b[0;34m=\u001b[0m\u001b[0mdf_temp\u001b[0m\u001b[0;34m[\u001b[0m\u001b[0mcol\u001b[0m\u001b[0;34m]\u001b[0m\u001b[0;34m.\u001b[0m\u001b[0mfillna\u001b[0m\u001b[0;34m(\u001b[0m\u001b[0;34m'NULL'\u001b[0m\u001b[0;34m)\u001b[0m\u001b[0;34m\u001b[0m\u001b[0;34m\u001b[0m\u001b[0m\n\u001b[1;32m      9\u001b[0m \u001b[0;34m\u001b[0m\u001b[0m\n",
      "\u001b[0;32m/opt/conda/lib/python3.8/site-packages/pandas/core/frame.py\u001b[0m in \u001b[0;36m__getitem__\u001b[0;34m(self, key)\u001b[0m\n\u001b[1;32m   3022\u001b[0m             \u001b[0;32mif\u001b[0m \u001b[0mself\u001b[0m\u001b[0;34m.\u001b[0m\u001b[0mcolumns\u001b[0m\u001b[0;34m.\u001b[0m\u001b[0mnlevels\u001b[0m \u001b[0;34m>\u001b[0m \u001b[0;36m1\u001b[0m\u001b[0;34m:\u001b[0m\u001b[0;34m\u001b[0m\u001b[0;34m\u001b[0m\u001b[0m\n\u001b[1;32m   3023\u001b[0m                 \u001b[0;32mreturn\u001b[0m \u001b[0mself\u001b[0m\u001b[0;34m.\u001b[0m\u001b[0m_getitem_multilevel\u001b[0m\u001b[0;34m(\u001b[0m\u001b[0mkey\u001b[0m\u001b[0;34m)\u001b[0m\u001b[0;34m\u001b[0m\u001b[0;34m\u001b[0m\u001b[0m\n\u001b[0;32m-> 3024\u001b[0;31m             \u001b[0mindexer\u001b[0m \u001b[0;34m=\u001b[0m \u001b[0mself\u001b[0m\u001b[0;34m.\u001b[0m\u001b[0mcolumns\u001b[0m\u001b[0;34m.\u001b[0m\u001b[0mget_loc\u001b[0m\u001b[0;34m(\u001b[0m\u001b[0mkey\u001b[0m\u001b[0;34m)\u001b[0m\u001b[0;34m\u001b[0m\u001b[0;34m\u001b[0m\u001b[0m\n\u001b[0m\u001b[1;32m   3025\u001b[0m             \u001b[0;32mif\u001b[0m \u001b[0mis_integer\u001b[0m\u001b[0;34m(\u001b[0m\u001b[0mindexer\u001b[0m\u001b[0;34m)\u001b[0m\u001b[0;34m:\u001b[0m\u001b[0;34m\u001b[0m\u001b[0;34m\u001b[0m\u001b[0m\n\u001b[1;32m   3026\u001b[0m                 \u001b[0mindexer\u001b[0m \u001b[0;34m=\u001b[0m \u001b[0;34m[\u001b[0m\u001b[0mindexer\u001b[0m\u001b[0;34m]\u001b[0m\u001b[0;34m\u001b[0m\u001b[0;34m\u001b[0m\u001b[0m\n",
      "\u001b[0;32m/opt/conda/lib/python3.8/site-packages/pandas/core/indexes/base.py\u001b[0m in \u001b[0;36mget_loc\u001b[0;34m(self, key, method, tolerance)\u001b[0m\n\u001b[1;32m   3080\u001b[0m                 \u001b[0;32mreturn\u001b[0m \u001b[0mself\u001b[0m\u001b[0;34m.\u001b[0m\u001b[0m_engine\u001b[0m\u001b[0;34m.\u001b[0m\u001b[0mget_loc\u001b[0m\u001b[0;34m(\u001b[0m\u001b[0mcasted_key\u001b[0m\u001b[0;34m)\u001b[0m\u001b[0;34m\u001b[0m\u001b[0;34m\u001b[0m\u001b[0m\n\u001b[1;32m   3081\u001b[0m             \u001b[0;32mexcept\u001b[0m \u001b[0mKeyError\u001b[0m \u001b[0;32mas\u001b[0m \u001b[0merr\u001b[0m\u001b[0;34m:\u001b[0m\u001b[0;34m\u001b[0m\u001b[0;34m\u001b[0m\u001b[0m\n\u001b[0;32m-> 3082\u001b[0;31m                 \u001b[0;32mraise\u001b[0m \u001b[0mKeyError\u001b[0m\u001b[0;34m(\u001b[0m\u001b[0mkey\u001b[0m\u001b[0;34m)\u001b[0m \u001b[0;32mfrom\u001b[0m \u001b[0merr\u001b[0m\u001b[0;34m\u001b[0m\u001b[0;34m\u001b[0m\u001b[0m\n\u001b[0m\u001b[1;32m   3083\u001b[0m \u001b[0;34m\u001b[0m\u001b[0m\n\u001b[1;32m   3084\u001b[0m         \u001b[0;32mif\u001b[0m \u001b[0mtolerance\u001b[0m \u001b[0;32mis\u001b[0m \u001b[0;32mnot\u001b[0m \u001b[0;32mNone\u001b[0m\u001b[0;34m:\u001b[0m\u001b[0;34m\u001b[0m\u001b[0;34m\u001b[0m\u001b[0m\n",
      "\u001b[0;31mKeyError\u001b[0m: 'source_id'"
     ]
    }
   ],
   "source": [
    "def make_temp_col(df):\n",
    "    df_temp=df.copy()\n",
    "    cols=['source_id','facility_name','address_str','provider']\n",
    "    del_list=[\" \",\"-\",\"'\",\".\"]\n",
    "    for col in cols:\n",
    "    \n",
    "        df_temp[col]=df_temp[col].str.upper()\n",
    "        df_temp[col]=df_temp[col].fillna('NULL')\n",
    "    \n",
    "        for i in del_list:\n",
    "            df_temp[col]=df_temp[col].str.replace(i,'',regex=False)\n",
    "    df_temp['temp']=df_temp['source_id']+'-'+df_temp['facility_name']+'-'+df_temp['address_str']+'-'+df_temp['provider']\n",
    "    return df_temp['temp']\n",
    "\n",
    "df['temp']=make_temp_col(df)\n",
    "df['idx']=df['temp'].apply(GetHash)"
   ]
  },
  {
   "cell_type": "code",
   "execution_count": null,
   "metadata": {
    "execution": {
     "iopub.status.busy": "2022-02-03T15:52:02.274516Z",
     "iopub.status.idle": "2022-02-03T15:52:02.274752Z",
     "shell.execute_reply": "2022-02-03T15:52:02.274643Z"
    },
    "tags": []
   },
   "outputs": [],
   "source": [
    "df.loc[~df.latitude.isnull(), 'geo_source']='Source'\n",
    "\n",
    "print(len(df), 'entries in database')\n",
    "\n",
    "df.to_csv('ODHFv2_concat.csv',index=False)\n"
   ]
  },
  {
   "cell_type": "code",
   "execution_count": null,
   "metadata": {},
   "outputs": [],
   "source": []
  },
  {
   "cell_type": "code",
   "execution_count": null,
   "metadata": {},
   "outputs": [],
   "source": []
  }
 ],
 "metadata": {
  "kernelspec": {
   "display_name": "Python 3",
   "language": "python",
   "name": "python3"
  },
  "language_info": {
   "codemirror_mode": {
    "name": "ipython",
    "version": 3
   },
   "file_extension": ".py",
   "mimetype": "text/x-python",
   "name": "python",
   "nbconvert_exporter": "python",
   "pygments_lexer": "ipython3",
   "version": "3.8.8"
  }
 },
 "nbformat": 4,
 "nbformat_minor": 4
}
