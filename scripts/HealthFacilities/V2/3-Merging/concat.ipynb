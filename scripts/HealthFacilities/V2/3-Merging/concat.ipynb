{
 "cells": [
  {
   "cell_type": "code",
   "execution_count": 268,
   "metadata": {
    "execution": {
     "iopub.execute_input": "2022-02-14T19:03:59.898441Z",
     "iopub.status.busy": "2022-02-14T19:03:59.898147Z",
     "iopub.status.idle": "2022-02-14T19:03:59.901702Z",
     "shell.execute_reply": "2022-02-14T19:03:59.901110Z",
     "shell.execute_reply.started": "2022-02-14T19:03:59.898413Z"
    },
    "tags": []
   },
   "outputs": [],
   "source": [
    "import pandas as pd\n",
    "import os\n",
    "from os import listdir\n",
    "from pathlib import Path\n",
    "import numpy as np\n",
    "import string\n",
    "import glob"
   ]
  },
  {
   "cell_type": "code",
   "execution_count": 269,
   "metadata": {
    "execution": {
     "iopub.execute_input": "2022-02-14T19:04:02.186175Z",
     "iopub.status.busy": "2022-02-14T19:04:02.185797Z",
     "iopub.status.idle": "2022-02-14T19:04:03.120335Z",
     "shell.execute_reply": "2022-02-14T19:04:03.119623Z",
     "shell.execute_reply.started": "2022-02-14T19:04:02.186135Z"
    },
    "tags": []
   },
   "outputs": [],
   "source": [
    "# Concatenate all files \n",
    "df = pd.concat([pd.read_csv(file) for file in glob.glob('/home/jovyan/data-vol-1/ODHF/LODE-ECDO/scripts/HealthFacilities/V2/2-OpenTabulate/opentabulate/data/output/*.csv')])\n",
    "\n",
    "# Removed \"idx\" (because redundant) and 'active' (because only one dataset had this info, and would be hard to keep updated).\n",
    "df = df[['filename', 'facility_name', 'facility_type', 'health_authority', 'alternative_name', 'number_beds',\n",
    "'address_str', 'street_no', 'street_name', 'street_addr', 'city', 'province', 'postal_code', 'provider', \n",
    "'latitude', 'longitude', 'phone', 'email', 'website' ]]\n",
    "\n",
    "\n",
    "# Make postal codes consistent and put spaces instead of '_' + capitalize\n",
    "df['postal_code'] = df['postal_code'].str.replace(' ','').str.upper()\n",
    "df['facility_type'] = df['facility_type'].str.replace('_',' ')\n",
    "# The code below is to convert the columns to integers. I've only needed to use it once and subsequent tries spit out an error. \n",
    "# But if you find these columns become floats again, uncomment and run once \n",
    "df['number_beds'] = df['number_beds'].round(0).astype(pd.Int64Dtype())\n",
    "df['street_no'] = df['street_no'].round(0).astype(pd.Int64Dtype())\n",
    "\n",
    "\n",
    "# Standardize facility_type\n",
    "labkeywords = 'laboratory'\n",
    "pharkeywords = 'pharmacy|pharmacies'\n",
    "hoskeywords = 'hospital|hôpital|hôpitaux|cancer'\n",
    "mentkeywords = 'mental|psychiatric|rehabilitation'\n",
    "urgkeywords = 'urgent|emergency'\n",
    "ltckeywords = 'residence|residential|résidence|nursing|palliative|senior|special care|seinor|long term|hospice|C.H.S.L.D.|specialized care|long care|long-term|assisted|nursing|retirement|personal care|chronic'\n",
    "ambkeywords = 'community|clinic|walk in|primary care|tertiary|C.L.S.C.|regional|health centre|family|basic|ambulatory|autres|health network|other|primary|independent|public health|children|acquired injury|AIDS'\n",
    "covidkeywords = 'covid|immunization|vaccine'\n",
    "\n",
    "df.loc[df['facility_type'].str.contains(labkeywords, case=False, na=False), 'facility_type'] = 'Laboratory'\n",
    "df.loc[df['facility_type'].str.contains(pharkeywords, case=False, na=False), 'facility_type'] = 'Pharmacy'\n",
    "df.loc[df['facility_type'].str.contains(hoskeywords, case=False, na=False), 'facility_type'] = 'Hospital'\n",
    "df.loc[df['facility_type'].str.contains(mentkeywords, case=False, na=False), 'facility_type'] = 'Mental health and rehabilitation facilities'\n",
    "df.loc[df['facility_type'].str.contains(urgkeywords, case=False, na=False), 'facility_type'] = 'Urgent care facilities'\n",
    "df.loc[df['facility_type'].str.contains(ltckeywords, case=False, na=False), 'facility_type'] = 'Nursing and residential care facilities'\n",
    "df.loc[df['facility_type'].str.contains(ambkeywords, case=False, na=False), 'facility_type'] = 'Ambulatory health care services'\n",
    "df.loc[df['facility_type'].str.contains(covidkeywords, case=False, na=False), 'facility_type'] = 'Covid-19 related facilities'\n",
    "\n",
    "# Add column to show if geosourcing is necessary\n",
    "df.loc[~df.latitude.isnull(), 'geo_source']='Source'\n",
    "\n",
    "df = df.reset_index(drop=True)\n",
    "df.to_csv('merged.csv')\n",
    "df.to_csv('/home/jovyan/data-vol-1/ODHF/LODE-ECDO/scripts/HealthFacilities/V2/4-Parsing/merged.csv')"
   ]
  },
  {
   "cell_type": "code",
   "execution_count": 270,
   "metadata": {
    "execution": {
     "iopub.execute_input": "2022-02-14T19:04:03.508319Z",
     "iopub.status.busy": "2022-02-14T19:04:03.508036Z",
     "iopub.status.idle": "2022-02-14T19:04:03.514095Z",
     "shell.execute_reply": "2022-02-14T19:04:03.513527Z",
     "shell.execute_reply.started": "2022-02-14T19:04:03.508291Z"
    },
    "tags": []
   },
   "outputs": [
    {
     "data": {
      "text/plain": [
       "filename             object\n",
       "facility_name        object\n",
       "facility_type        object\n",
       "health_authority     object\n",
       "alternative_name     object\n",
       "number_beds           Int64\n",
       "address_str          object\n",
       "street_no             Int64\n",
       "street_name          object\n",
       "street_addr          object\n",
       "city                 object\n",
       "province             object\n",
       "postal_code          object\n",
       "provider             object\n",
       "latitude            float64\n",
       "longitude           float64\n",
       "phone                object\n",
       "email                object\n",
       "website              object\n",
       "geo_source           object\n",
       "dtype: object"
      ]
     },
     "execution_count": 270,
     "metadata": {},
     "output_type": "execute_result"
    }
   ],
   "source": [
    "#print(df['facility_type'].unique())\n",
    "#print(df['address_str'].unique())\n",
    "#list_street_no = df['street_no'].unique()\n",
    "#print(list_street_no)\n",
    "df.dtypes"
   ]
  },
  {
   "cell_type": "code",
   "execution_count": 242,
   "metadata": {
    "execution": {
     "iopub.execute_input": "2022-02-09T19:11:42.421220Z",
     "iopub.status.busy": "2022-02-09T19:11:42.420964Z",
     "iopub.status.idle": "2022-02-09T19:11:42.741613Z",
     "shell.execute_reply": "2022-02-09T19:11:42.740801Z",
     "shell.execute_reply.started": "2022-02-09T19:11:42.421196Z"
    },
    "tags": []
   },
   "outputs": [],
   "source": []
  }
 ],
 "metadata": {
  "kernelspec": {
   "display_name": "Python 3",
   "language": "python",
   "name": "python3"
  },
  "language_info": {
   "codemirror_mode": {
    "name": "ipython",
    "version": 3
   },
   "file_extension": ".py",
   "mimetype": "text/x-python",
   "name": "python",
   "nbconvert_exporter": "python",
   "pygments_lexer": "ipython3",
   "version": "3.8.8"
  }
 },
 "nbformat": 4,
 "nbformat_minor": 4
}
