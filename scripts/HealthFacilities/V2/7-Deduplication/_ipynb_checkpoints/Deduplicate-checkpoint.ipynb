{
 "cells": [
  {
   "cell_type": "code",
   "execution_count": null,
   "metadata": {
    "tags": []
   },
   "outputs": [],
   "source": [
    "# -*- coding: utf-8 -*-\n",
    "r\"\"\"\n",
    "This script looks for potential duplicates in a database\n",
    "\n",
    "We are assuming a set of standard columns,\n",
    "Name, Address, StreetNumber, StreetName, City, PostalCode, Province, Latitude, Longitude\n",
    "\n",
    "There are two sections, an initial Preprocessing step, and then the comparison script\n",
    "\n",
    "With minor modification, this can also be used for record linkage between two files.\n",
    "\n",
    "I) Preprocessing:\n",
    "    0. Read in JSON 'source' file that contains\n",
    "        i. file name of database\n",
    "        ii. mappings from database column names to standard names\n",
    "        iii. a short dictionary of terms to replace in the Name field to improve\n",
    "            potential matches (e.g., 'ch' for 'centre hospitalier')\n",
    "    1. Read in database (columns as values from json)\n",
    "    2. Strip all accents from all text fields\n",
    "    3. Process Address and Street Name fields to standardise street types\n",
    "    4. run recordlinkage's \"clean\" function to remove extra whitespace and any\n",
    "        remaining non-ascii characters, and anything in parentheses\n",
    "    5. Standardise PostalCode\n",
    "        \n",
    "II) Record Linkage:\n",
    "    Use RecordLinkageToolkit to perform comparisons and create index pairs:\n",
    "        Criteria:\n",
    "                Province - Block (consider only matches where equal)\n",
    "                Name - Damerau-Levenshtein, qgram\n",
    "                Address - Damerau-Levenshtein, Cosine\n",
    "                StreetNumber - Exact\n",
    "                StreetName - Damerau-Levenshtein, Cosine\n",
    "                City - Damerau-Levenshtein\n",
    "                PostalCode - Exact\n",
    "                Latitude/Longitude - Distance\n",
    "\n",
    "    The result is a Pandas multiindex object, which we then use to create a file\n",
    "    where every line contains the two objects being compared. \n",
    "    \n",
    "    This output file will be fed to a machine learning script for classification.\n",
    "\"\"\""
   ]
  },
  {
   "cell_type": "code",
   "execution_count": null,
   "metadata": {},
   "outputs": [],
   "source": []
  }
 ],
 "metadata": {
  "kernelspec": {
   "display_name": "Python 3",
   "language": "python",
   "name": "python3"
  },
  "language_info": {
   "codemirror_mode": {
    "name": "ipython",
    "version": 3
   },
   "file_extension": ".py",
   "mimetype": "text/x-python",
   "name": "python",
   "nbconvert_exporter": "python",
   "pygments_lexer": "ipython3",
   "version": "3.8.8"
  }
 },
 "nbformat": 4,
 "nbformat_minor": 4
}
