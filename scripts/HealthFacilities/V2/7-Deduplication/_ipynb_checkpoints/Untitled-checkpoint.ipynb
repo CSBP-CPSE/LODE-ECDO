{
 "cells": [
  {
   "cell_type": "code",
   "execution_count": 1,
   "metadata": {
    "execution": {
     "iopub.execute_input": "2022-03-14T13:18:15.746400Z",
     "iopub.status.busy": "2022-03-14T13:18:15.746024Z",
     "iopub.status.idle": "2022-03-14T13:18:16.184422Z",
     "shell.execute_reply": "2022-03-14T13:18:16.183608Z",
     "shell.execute_reply.started": "2022-03-14T13:18:15.746317Z"
    }
   },
   "outputs": [
    {
     "name": "stdout",
     "output_type": "stream",
     "text": [
      "eeace\n"
     ]
    }
   ],
   "source": [
    "from rl_helper import strip_accents\n",
    "\n",
    "print(strip_accents(\"éèàçê\"))"
   ]
  },
  {
   "cell_type": "code",
   "execution_count": 2,
   "metadata": {
    "execution": {
     "iopub.execute_input": "2022-03-15T13:54:19.340477Z",
     "iopub.status.busy": "2022-03-15T13:54:19.340172Z",
     "iopub.status.idle": "2022-03-15T13:54:19.880041Z",
     "shell.execute_reply": "2022-03-15T13:54:19.879333Z",
     "shell.execute_reply.started": "2022-03-15T13:54:19.340449Z"
    }
   },
   "outputs": [],
   "source": [
    "from sklearn.linear_model import SGDClassifier\n",
    "from sklearn import preprocessing\n"
   ]
  },
  {
   "cell_type": "code",
   "execution_count": null,
   "metadata": {},
   "outputs": [],
   "source": []
  }
 ],
 "metadata": {
  "kernelspec": {
   "display_name": "Python 3",
   "language": "python",
   "name": "python3"
  },
  "language_info": {
   "codemirror_mode": {
    "name": "ipython",
    "version": 3
   },
   "file_extension": ".py",
   "mimetype": "text/x-python",
   "name": "python",
   "nbconvert_exporter": "python",
   "pygments_lexer": "ipython3",
   "version": "3.8.8"
  }
 },
 "nbformat": 4,
 "nbformat_minor": 4
}
