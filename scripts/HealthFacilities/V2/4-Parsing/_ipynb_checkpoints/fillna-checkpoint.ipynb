{
 "cells": [
  {
   "cell_type": "code",
   "execution_count": 20,
   "metadata": {
    "execution": {
     "iopub.execute_input": "2022-02-25T18:09:25.090164Z",
     "iopub.status.busy": "2022-02-25T18:09:25.089870Z",
     "iopub.status.idle": "2022-02-25T18:09:25.504941Z",
     "shell.execute_reply": "2022-02-25T18:09:25.504126Z",
     "shell.execute_reply.started": "2022-02-25T18:09:25.090131Z"
    },
    "tags": []
   },
   "outputs": [],
   "source": [
    "# Combine unit, street_no, street_name to fill empty street_addr rows\n",
    "\n",
    "import pandas as pd\n",
    "\n",
    "df = pd.read_csv('combined.csv')\n",
    "df[['unit', 'street_no', 'street_name']] = df[['unit', 'street_no', 'street_name']].fillna('')\n",
    "df['street_addr'] = df['street_addr'].fillna(df['unit'].astype(str)+\" \"+df['street_no'].astype(str)+\" \"+df['street_name'])\n"
   ]
  },
  {
   "cell_type": "code",
   "execution_count": null,
   "metadata": {
    "tags": []
   },
   "outputs": [],
   "source": []
  },
  {
   "cell_type": "code",
   "execution_count": null,
   "metadata": {},
   "outputs": [],
   "source": []
  }
 ],
 "metadata": {
  "kernelspec": {
   "display_name": "Python 3",
   "language": "python",
   "name": "python3"
  },
  "language_info": {
   "codemirror_mode": {
    "name": "ipython",
    "version": 3
   },
   "file_extension": ".py",
   "mimetype": "text/x-python",
   "name": "python",
   "nbconvert_exporter": "python",
   "pygments_lexer": "ipython3",
   "version": "3.8.8"
  }
 },
 "nbformat": 4,
 "nbformat_minor": 4
}
