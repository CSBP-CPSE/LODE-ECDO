{
 "cells": [
  {
   "cell_type": "code",
   "execution_count": 25,
   "metadata": {
    "execution": {
     "iopub.execute_input": "2022-03-16T13:51:00.939933Z",
     "iopub.status.busy": "2022-03-16T13:51:00.939645Z",
     "iopub.status.idle": "2022-03-16T13:51:01.708834Z",
     "shell.execute_reply": "2022-03-16T13:51:01.708141Z",
     "shell.execute_reply.started": "2022-03-16T13:51:00.939906Z"
    },
    "tags": []
   },
   "outputs": [
    {
     "name": "stdout",
     "output_type": "stream",
     "text": [
      "d25b8f83b109c645ecc1977ffb5cc5268b55e8cf    1\n",
      "ab5cf384ee269c710a9d62385e763456d34d0da9    1\n",
      "0c7ebd5f975c3ee90924e7f30c024bf02a518be0    1\n",
      "f5c5c74909aedfe07d79b94ec1f41150b80a785a    1\n",
      "3e0e69efb10645daf23c29ad432ca9f6aab20ef6    1\n",
      "                                           ..\n",
      "0c5c5b468cc130495f2d17ecb0cfcd7c6cce8da9    1\n",
      "a908e3d6301a71e579986016e50a23e8609b9c9a    1\n",
      "4b8f3068d397cabed990e002ba13069d42c408ae    1\n",
      "e955580597c2857642d8fa33cbac2f9c4b483dd6    1\n",
      "1e48b1b5ed2ae3189c479d3e0a196657576a0598    1\n",
      "Name: idx, Length: 22619, dtype: int64\n"
     ]
    }
   ],
   "source": [
    "import pandas as pd\n",
    "import numpy as np\n",
    "import sys\n",
    "from hashlib import blake2b\n",
    "import joblib\n",
    "from hashlib import sha1\n",
    "from hashlib import sha256\n",
    "#np.set_printoptions(threshold=sys.maxsize)\n",
    "\n",
    "\n",
    "f_in = \"parsed.csv\"\n",
    "f_out = \"TEST_combined_hashes.csv\"\n",
    "df=pd.read_csv(f_in, low_memory=False, dtype='str')\n",
    "\n",
    "\n",
    "df['unit'] = np.nan\n",
    "\n",
    "# Merge parsed columns with other columns\n",
    "df['street_no'] = df['street_no'].fillna(df['LP2_street_no'])\n",
    "df['street_name'] = df['street_name'].fillna(df['LP_street_name'])\n",
    "df['postal_code'] = df['postal_code'].fillna(df['LP_PostCode'].str.upper())\n",
    "df['city'] = df['city'].fillna(df['LP_City'].str.capitalize())\n",
    "df['unit'] = df[\"LP3_unit\"].str.capitalize()\n",
    "\n",
    "# Reorder columns\n",
    "df = df[['filename', 'facility_name', 'facility_type', 'health_authority', 'alternative_name', 'number_beds',\n",
    "'address_str', 'unit', 'street_no', 'street_name', 'street_addr', 'city', 'province', 'postal_code', 'provider', \n",
    "'latitude', 'longitude', 'geo_source', 'phone', 'email', 'website' ]]\n",
    "\n",
    "# Remove all postal codes that are not 6 characters long and that do not follow the format of a postal code\n",
    "df['postal_code'] = df['postal_code'].str.replace(' ','').str.upper()\n",
    "df['postal_code'] = df['postal_code'].str.replace('-','').str.upper()\n",
    "mask = df['postal_code'].astype(str).str.len() != 6\n",
    "df.loc[mask, 'postal_code'] = ''\n",
    "#print(df['postal_code'].tolist())\n",
    "\n",
    "\n",
    "#Create unique identifiers for each datapoint\n",
    "\n",
    "def hash_df(x):\n",
    "    h = sha1()\n",
    "    h.update(x.encode())\n",
    "    return h.hexdigest()\n",
    "\n",
    "def make_temp_col(df):\n",
    "    df_temp=df.copy()\n",
    "    cols=['facility_name','street_name','city','latitude','street_no','longitude','facility_type']\n",
    "    del_list=[\"-\",\"'\",\".\"]\n",
    "    for col in cols:\n",
    "    \n",
    "        df_temp[col]=df_temp[col].str.upper()\n",
    "        df_temp[col]=df_temp[col].fillna('NULL')\n",
    "    \n",
    "        for i in del_list:\n",
    "            df_temp[col]=df_temp[col].str.replace(i,'',regex=False)\n",
    "    df_temp['temp']=df_temp['facility_name']+'-'+df_temp['street_name']+'-'+df_temp['city']+'-'+df_temp['latitude']+'-'+df_temp['street_no']+'-'+df_temp['longitude']+'-'+df_temp['facility_type']\n",
    "    return df_temp['temp']\n",
    "\n",
    "df['temp']=make_temp_col(df)\n",
    "df['idx']=df['temp'].apply(hash_df)\n",
    "\n",
    "#Any indexes that are the same basically mean that the data points are the same, which is why we drop duplicates\n",
    "df = df.drop_duplicates(subset=['idx'])\n",
    "df = df.drop(['temp'], axis=1)\n",
    "df.insert(0, 'idx', df.pop('idx'))\n",
    "\n",
    "df.to_csv(f_out, index=False)\n",
    "print(df['idx'].value_counts())\n"
   ]
  },
  {
   "cell_type": "code",
   "execution_count": 22,
   "metadata": {
    "execution": {
     "iopub.execute_input": "2022-03-16T13:49:50.072622Z",
     "iopub.status.busy": "2022-03-16T13:49:50.072321Z",
     "iopub.status.idle": "2022-03-16T13:49:50.077502Z",
     "shell.execute_reply": "2022-03-16T13:49:50.076782Z",
     "shell.execute_reply.started": "2022-03-16T13:49:50.072591Z"
    },
    "tags": []
   },
   "outputs": [
    {
     "name": "stdout",
     "output_type": "stream",
     "text": [
      "The integer hash value is : 4\n",
      "The string hash value is : -7467882991387107840\n",
      "The float hash value is : 1291272085159665688\n"
     ]
    }
   ],
   "source": [
    "# initializing objects\n",
    "int_val = 4\n",
    "str_val = 'GeeksforGeeks'\n",
    "flt_val = 24.56\n",
    " \n",
    "# Printing the hash values.\n",
    "# Notice Integer value doesn't change\n",
    "# You'l have answer later in article.\n",
    "print(\"The integer hash value is : \" + str(hash(int_val)))\n",
    "print(\"The string hash value is : \" + str(hash(str_val)))\n",
    "print(\"The float hash value is : \" + str(hash(flt_val)))"
   ]
  },
  {
   "cell_type": "code",
   "execution_count": null,
   "metadata": {},
   "outputs": [],
   "source": [
    "def make_temp_col(df):\n",
    "    df_temp=df.copy()\n",
    "    cols=['facility_name','street_name','city','latitude','street_no','longitude','facility_type']\n",
    "    del_list=[\"-\",\"'\",\".\"]\n",
    "    for col in cols:\n",
    "    \n",
    "        df_temp[col]=df_temp[col].str.upper()\n",
    "        df_temp[col]=df_temp[col].fillna('NULL')\n",
    "    \n",
    "        for i in del_list:\n",
    "            df_temp[col]=df_temp[col].str.replace(i,'',regex=False)\n",
    "    df_temp['temp']=df_temp['facility_name']+'-'+df_temp['street_name']+'-'+df_temp['city']+'-'+df_temp['latitude']+'-'+df_temp['street_no']+'-'+df_temp['longitude']+'-'+df_temp['facility_type']\n",
    "    return df_temp['temp']\n",
    "\n",
    "df['temp']=make_temp_col(df)\n",
    "df['idx']=df['temp'].apply()"
   ]
  }
 ],
 "metadata": {
  "kernelspec": {
   "display_name": "Python 3",
   "language": "python",
   "name": "python3"
  },
  "language_info": {
   "codemirror_mode": {
    "name": "ipython",
    "version": 3
   },
   "file_extension": ".py",
   "mimetype": "text/x-python",
   "name": "python",
   "nbconvert_exporter": "python",
   "pygments_lexer": "ipython3",
   "version": "3.8.8"
  }
 },
 "nbformat": 4,
 "nbformat_minor": 4
}
