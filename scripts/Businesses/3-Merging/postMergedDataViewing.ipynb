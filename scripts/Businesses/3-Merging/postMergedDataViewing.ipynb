{
 "metadata": {
  "language_info": {
   "codemirror_mode": {
    "name": "ipython",
    "version": 3
   },
   "file_extension": ".py",
   "mimetype": "text/x-python",
   "name": "python",
   "nbconvert_exporter": "python",
   "pygments_lexer": "ipython3",
   "version": "3.8.12"
  },
  "orig_nbformat": 2,
  "kernelspec": {
   "name": "python3812jvsc74a57bd098b0a9b7b4eaaa670588a142fd0a9b87eaafe866f1db4228be72b4211d12040f",
   "display_name": "Python 3.8.12 64-bit ('conda': virtualenv)"
  }
 },
 "nbformat": 4,
 "nbformat_minor": 2,
 "cells": [
  {
   "cell_type": "code",
   "execution_count": 1,
   "metadata": {},
   "outputs": [],
   "source": [
    "import pandas as pd\n",
    "from tqdm import tqdm\n",
    "from datetime import datetime as dt\n",
    "from pytz import timezone\n"
   ]
  },
  {
   "cell_type": "code",
   "execution_count": 2,
   "metadata": {},
   "outputs": [
    {
     "output_type": "stream",
     "name": "stderr",
     "text": [
      "Loading data: 100%|█████████▉| 1354/1355 [00:12<00:00, 104.34it/s]\n",
      "Successfully loaded /home/jovyan/ODBiz/3-Merging/output/ODBiz_merged_2022-06-30.csv\n"
     ]
    }
   ],
   "source": [
    "# Load in the merged dataframe\n",
    "\n",
    "ET = 'Canada/Eastern'\n",
    "start_time = dt.now(timezone(ET))\n",
    "today = str(start_time)[:10]\n",
    "# today = '2022-06-28'\n",
    "\n",
    "mergedFilePathName = f'/home/jovyan/ODBiz/3-Merging/output/ODBiz_merged_{today}.csv'\n",
    "total_lines = 1354503\n",
    "chunksize = 1000\n",
    "# df = pd.read_csv(mergedFilePathName, low_memory=False)\n",
    "df = pd.concat([chunk for chunk in tqdm(pd.read_csv(mergedFilePathName, chunksize=chunksize), desc='Loading data', total=total_lines//chunksize+1)])\n",
    "num_of_rows = df.shape[0]\n",
    "\n",
    "print(f'Successfully loaded {mergedFilePathName}')"
   ]
  },
  {
   "cell_type": "code",
   "execution_count": 3,
   "metadata": {},
   "outputs": [
    {
     "output_type": "stream",
     "name": "stdout",
     "text": [
      "Number of unique data sources: 60\n",
      "--------------------------------------------------------------\n",
      "Unique Non-Canadian Province Entries:\n",
      "nan\n",
      "78\n",
      "LAKEVIEW ESTATES\n"
     ]
    }
   ],
   "source": [
    "# Verify that all source files are present in the merged file and extract a list of non-Canadian 'provinces'\n",
    "\n",
    "print(f'Number of unique data sources: {len(pd.unique(df.localfile))}')\n",
    "print('--------------------------------------------------------------')\n",
    "print('Unique Non-Canadian Province Entries:')\n",
    "can_prov_lst = ['AB', 'BC', 'MB', 'NB', 'NL', 'NS', 'NT', 'NU', 'ON', 'PE', 'QC', 'SK', 'YT']\n",
    "provinces = pd.unique(df.province)\n",
    "non_cad_provs = []\n",
    "for i in provinces:\n",
    "    if not(i in can_prov_lst):\n",
    "        non_cad_provs.append(i)\n",
    "        print(i)\n",
    "\n",
    "\n"
   ]
  },
  {
   "cell_type": "code",
   "execution_count": 4,
   "metadata": {},
   "outputs": [
    {
     "output_type": "stream",
     "name": "stderr",
     "text": [
      "100%|██████████| 1353709/1353709 [01:05<00:00, 20639.84it/s]\n",
      "Number of non-Canadian entries found: 3433\n",
      "/home/jovyan/ODBiz/3-Merging/output/nonCanadianEntries.csv saved\n"
     ]
    }
   ],
   "source": [
    "# Extract a list of indices corresponding to non-Canadian entries and obtain the subset of the df that contains these entries\n",
    "non_cad_idx= []\n",
    "for i, row in tqdm(df.iterrows(), total = num_of_rows):\n",
    "    if row.province in non_cad_provs:\n",
    "        non_cad_idx.append(i)\n",
    "print(f'Number of non-Canadian entries found: {len(non_cad_idx)}')\n",
    "\n",
    "non_cad_df = df.loc[non_cad_idx]\n",
    "nonCanadianEntriesFileName = '/home/jovyan/ODBiz/3-Merging/output/nonCanadianEntries.csv'\n",
    "non_cad_df.to_csv(nonCanadianEntriesFileName)\n",
    "print(f'{nonCanadianEntriesFileName} saved')"
   ]
  },
  {
   "cell_type": "code",
   "execution_count": 5,
   "metadata": {},
   "outputs": [
    {
     "output_type": "execute_result",
     "data": {
      "text/plain": [
       "array(['ON_Pickering_Business_Directory.csv',\n",
       "       'BC_Vancouver_Business_Licences.csv',\n",
       "       'BC_Nanaimo_Business_Licences.csv',\n",
       "       'ON_York_Region_Business_Directory.csv',\n",
       "       'ON_Durham_Business_Directory.csv'], dtype=object)"
      ]
     },
     "metadata": {},
     "execution_count": 5
    }
   ],
   "source": [
    "pd.unique(non_cad_df.localfile)"
   ]
  },
  {
   "cell_type": "code",
   "execution_count": 6,
   "metadata": {},
   "outputs": [
    {
     "output_type": "stream",
     "name": "stderr",
     "text": [
      " 80%|████████  | 3433/4268 [00:00<00:00, 6686.23it/s]Number of foreign entries found: 3433\n",
      "\n"
     ]
    },
    {
     "output_type": "execute_result",
     "data": {
      "text/plain": [
       "                          idx                            localfile  \\\n",
       "72031    0039a977c31c57aeb420  ON_Pickering_Business_Directory.csv   \n",
       "72037    c0df9e756fd7b628fc2d  ON_Pickering_Business_Directory.csv   \n",
       "72230    01a278895da164ece77c  ON_Pickering_Business_Directory.csv   \n",
       "72237    b2375d963df4c7b4a362  ON_Pickering_Business_Directory.csv   \n",
       "72251    51a293bf2cf2f33b9c9d  ON_Pickering_Business_Directory.csv   \n",
       "...                       ...                                  ...   \n",
       "1321070  153132a72dcb33408ddb     ON_Durham_Business_Directory.csv   \n",
       "1323557  18431bf5e63851cd8ac0     ON_Durham_Business_Directory.csv   \n",
       "1324287  48a6f5c3fa4441ffddbd     ON_Durham_Business_Directory.csv   \n",
       "1324361  db5be65a27c6c5602e00     ON_Durham_Business_Directory.csv   \n",
       "1324871  4ac936e2683a43694ffe     ON_Durham_Business_Directory.csv   \n",
       "\n",
       "                       business_name  \\\n",
       "72031    Scugog Council for the Arts   \n",
       "72037          Forget-Me-Not Alpacas   \n",
       "72230                   Elwill Acres   \n",
       "72237              OFA Farm - B33245   \n",
       "72251           Lai & Associates DMC   \n",
       "...                              ...   \n",
       "1321070       Stanmore Equipment Ltd   \n",
       "1323557          Berger Heating Ltd.   \n",
       "1324287                   Brimacombe   \n",
       "1324361        Ground Up Renovations   \n",
       "1324871  Bowmanville New Home Centre   \n",
       "\n",
       "                                           business_sector business_subsector  \\\n",
       "72031    Council for the arts. Arts resource centre and...                NaN   \n",
       "72037    Raise Alpacas, Sell Clothing made of Alpaca fu...                NaN   \n",
       "72230                                             OFA Farm                NaN   \n",
       "72237                                             OFA Farm                NaN   \n",
       "72251            Digital media production and consultancy.                NaN   \n",
       "...                                                    ...                ...   \n",
       "1321070                                                NaN                NaN   \n",
       "1323557                                                NaN                NaN   \n",
       "1324287                                                NaN                NaN   \n",
       "1324361                                                NaN                NaN   \n",
       "1324871                                                NaN                NaN   \n",
       "\n",
       "                                      business_description business_id_no  \\\n",
       "72031                                                  NaN          99931   \n",
       "72037                                                  NaN         552799   \n",
       "72230                                                  NaN         239024   \n",
       "72237                                                  NaN         238726   \n",
       "72251                                                  NaN         569845   \n",
       "...                                                    ...            ...   \n",
       "1321070  Supplier of construction equipment to businesses.         608063   \n",
       "1323557  Heating, ventilation, & air conditioning (HVAC...         238870   \n",
       "1324287                               Ski hill and chalet.         4210.0   \n",
       "1324361                                 Renovation Company       552600.0   \n",
       "1324871                       Real estate showroom centre.       231427.0   \n",
       "\n",
       "        licence_number licence_type primary_NAICS  ... no_part_time  \\\n",
       "72031              NaN          NaN      813410.0  ...          NaN   \n",
       "72037              NaN          NaN      112990.0  ...          NaN   \n",
       "72230              NaN          NaN      111999.0  ...          NaN   \n",
       "72237              NaN          NaN      111999.0  ...          NaN   \n",
       "72251              NaN          NaN      541890.0  ...          NaN   \n",
       "...                ...          ...           ...  ...          ...   \n",
       "1321070            NaN          NaN      532410.0  ...          NaN   \n",
       "1323557            NaN          NaN      238220.0  ...          NaN   \n",
       "1324287            NaN          NaN      713920.0  ...          NaN   \n",
       "1324361            NaN          NaN      236118.0  ...          NaN   \n",
       "1324871            NaN          NaN      531390.0  ...          NaN   \n",
       "\n",
       "        no_seasonal date_established indigenous  status  \\\n",
       "72031           NaN              NaN         no     NaN   \n",
       "72037           NaN              NaN         no     NaN   \n",
       "72230           NaN              NaN         no     NaN   \n",
       "72237           NaN              NaN         no     NaN   \n",
       "72251           NaN              NaN         no     NaN   \n",
       "...             ...              ...        ...     ...   \n",
       "1321070         NaN              NaN         no     NaN   \n",
       "1323557         NaN              NaN         no     NaN   \n",
       "1324287         NaN              NaN         no     NaN   \n",
       "1324361         NaN              NaN         no     NaN   \n",
       "1324871         NaN              NaN         no     NaN   \n",
       "\n",
       "                                provider duplicated idx_basic  \\\n",
       "72031    Regional Municipality of Durham      False     72032   \n",
       "72037    Regional Municipality of Durham      False     72038   \n",
       "72230    Regional Municipality of Durham      False     72231   \n",
       "72237    Regional Municipality of Durham      False     72238   \n",
       "72251    Regional Municipality of Durham      False     72252   \n",
       "...                                  ...        ...       ...   \n",
       "1321070  Regional Municipality of Durham       True   1321071   \n",
       "1323557  Regional Municipality of Durham       True   1323558   \n",
       "1324287  Regional Municipality of Durham       True   1324288   \n",
       "1324361  Regional Municipality of Durham       True   1324362   \n",
       "1324871  Regional Municipality of Durham       True   1324872   \n",
       "\n",
       "                                                      temp geo_source  \n",
       "72031    SCUGOGCOUNCILFORTHEARTS-NULL-99931-8134100-NUL...        NaN  \n",
       "72037    FORGETMENOTALPACAS-NULL-552799-1129900-NULL-NU...        NaN  \n",
       "72230       ELWILLACRES-NULL-239024-1119990-NULL-NULL-NULL        NaN  \n",
       "72237     OFAFARMB33245-NULL-238726-1119990-NULL-NULL-NULL        NaN  \n",
       "72251    LAI&ASSOCIATESDMC-NULL-569845-5418900-NULL-NUL...        NaN  \n",
       "...                                                    ...        ...  \n",
       "1321070  STANMOREEQUIPMENTLTD-NULL-608063-5324100-NULL-...        NaN  \n",
       "1323557  BERGERHEATINGLTD-NULL-238870-2382200-NULL-NULL...        NaN  \n",
       "1324287        BRIMACOMBE-NULL-4210-7139200-NULL-NULL-NULL        NaN  \n",
       "1324361  GROUNDUPRENOVATIONS-NULL-552600-2361180-NULL-N...        NaN  \n",
       "1324871  BOWMANVILLENEWHOMECENTRE-NULL-231427-5313900-N...        NaN  \n",
       "\n",
       "[3433 rows x 46 columns]"
      ],
      "text/html": "<div>\n<style scoped>\n    .dataframe tbody tr th:only-of-type {\n        vertical-align: middle;\n    }\n\n    .dataframe tbody tr th {\n        vertical-align: top;\n    }\n\n    .dataframe thead th {\n        text-align: right;\n    }\n</style>\n<table border=\"1\" class=\"dataframe\">\n  <thead>\n    <tr style=\"text-align: right;\">\n      <th></th>\n      <th>idx</th>\n      <th>localfile</th>\n      <th>business_name</th>\n      <th>business_sector</th>\n      <th>business_subsector</th>\n      <th>business_description</th>\n      <th>business_id_no</th>\n      <th>licence_number</th>\n      <th>licence_type</th>\n      <th>primary_NAICS</th>\n      <th>...</th>\n      <th>no_part_time</th>\n      <th>no_seasonal</th>\n      <th>date_established</th>\n      <th>indigenous</th>\n      <th>status</th>\n      <th>provider</th>\n      <th>duplicated</th>\n      <th>idx_basic</th>\n      <th>temp</th>\n      <th>geo_source</th>\n    </tr>\n  </thead>\n  <tbody>\n    <tr>\n      <th>72031</th>\n      <td>0039a977c31c57aeb420</td>\n      <td>ON_Pickering_Business_Directory.csv</td>\n      <td>Scugog Council for the Arts</td>\n      <td>Council for the arts. Arts resource centre and...</td>\n      <td>NaN</td>\n      <td>NaN</td>\n      <td>99931</td>\n      <td>NaN</td>\n      <td>NaN</td>\n      <td>813410.0</td>\n      <td>...</td>\n      <td>NaN</td>\n      <td>NaN</td>\n      <td>NaN</td>\n      <td>no</td>\n      <td>NaN</td>\n      <td>Regional Municipality of Durham</td>\n      <td>False</td>\n      <td>72032</td>\n      <td>SCUGOGCOUNCILFORTHEARTS-NULL-99931-8134100-NUL...</td>\n      <td>NaN</td>\n    </tr>\n    <tr>\n      <th>72037</th>\n      <td>c0df9e756fd7b628fc2d</td>\n      <td>ON_Pickering_Business_Directory.csv</td>\n      <td>Forget-Me-Not Alpacas</td>\n      <td>Raise Alpacas, Sell Clothing made of Alpaca fu...</td>\n      <td>NaN</td>\n      <td>NaN</td>\n      <td>552799</td>\n      <td>NaN</td>\n      <td>NaN</td>\n      <td>112990.0</td>\n      <td>...</td>\n      <td>NaN</td>\n      <td>NaN</td>\n      <td>NaN</td>\n      <td>no</td>\n      <td>NaN</td>\n      <td>Regional Municipality of Durham</td>\n      <td>False</td>\n      <td>72038</td>\n      <td>FORGETMENOTALPACAS-NULL-552799-1129900-NULL-NU...</td>\n      <td>NaN</td>\n    </tr>\n    <tr>\n      <th>72230</th>\n      <td>01a278895da164ece77c</td>\n      <td>ON_Pickering_Business_Directory.csv</td>\n      <td>Elwill Acres</td>\n      <td>OFA Farm</td>\n      <td>NaN</td>\n      <td>NaN</td>\n      <td>239024</td>\n      <td>NaN</td>\n      <td>NaN</td>\n      <td>111999.0</td>\n      <td>...</td>\n      <td>NaN</td>\n      <td>NaN</td>\n      <td>NaN</td>\n      <td>no</td>\n      <td>NaN</td>\n      <td>Regional Municipality of Durham</td>\n      <td>False</td>\n      <td>72231</td>\n      <td>ELWILLACRES-NULL-239024-1119990-NULL-NULL-NULL</td>\n      <td>NaN</td>\n    </tr>\n    <tr>\n      <th>72237</th>\n      <td>b2375d963df4c7b4a362</td>\n      <td>ON_Pickering_Business_Directory.csv</td>\n      <td>OFA Farm - B33245</td>\n      <td>OFA Farm</td>\n      <td>NaN</td>\n      <td>NaN</td>\n      <td>238726</td>\n      <td>NaN</td>\n      <td>NaN</td>\n      <td>111999.0</td>\n      <td>...</td>\n      <td>NaN</td>\n      <td>NaN</td>\n      <td>NaN</td>\n      <td>no</td>\n      <td>NaN</td>\n      <td>Regional Municipality of Durham</td>\n      <td>False</td>\n      <td>72238</td>\n      <td>OFAFARMB33245-NULL-238726-1119990-NULL-NULL-NULL</td>\n      <td>NaN</td>\n    </tr>\n    <tr>\n      <th>72251</th>\n      <td>51a293bf2cf2f33b9c9d</td>\n      <td>ON_Pickering_Business_Directory.csv</td>\n      <td>Lai &amp; Associates DMC</td>\n      <td>Digital media production and consultancy.</td>\n      <td>NaN</td>\n      <td>NaN</td>\n      <td>569845</td>\n      <td>NaN</td>\n      <td>NaN</td>\n      <td>541890.0</td>\n      <td>...</td>\n      <td>NaN</td>\n      <td>NaN</td>\n      <td>NaN</td>\n      <td>no</td>\n      <td>NaN</td>\n      <td>Regional Municipality of Durham</td>\n      <td>False</td>\n      <td>72252</td>\n      <td>LAI&amp;ASSOCIATESDMC-NULL-569845-5418900-NULL-NUL...</td>\n      <td>NaN</td>\n    </tr>\n    <tr>\n      <th>...</th>\n      <td>...</td>\n      <td>...</td>\n      <td>...</td>\n      <td>...</td>\n      <td>...</td>\n      <td>...</td>\n      <td>...</td>\n      <td>...</td>\n      <td>...</td>\n      <td>...</td>\n      <td>...</td>\n      <td>...</td>\n      <td>...</td>\n      <td>...</td>\n      <td>...</td>\n      <td>...</td>\n      <td>...</td>\n      <td>...</td>\n      <td>...</td>\n      <td>...</td>\n      <td>...</td>\n    </tr>\n    <tr>\n      <th>1321070</th>\n      <td>153132a72dcb33408ddb</td>\n      <td>ON_Durham_Business_Directory.csv</td>\n      <td>Stanmore Equipment Ltd</td>\n      <td>NaN</td>\n      <td>NaN</td>\n      <td>Supplier of construction equipment to businesses.</td>\n      <td>608063</td>\n      <td>NaN</td>\n      <td>NaN</td>\n      <td>532410.0</td>\n      <td>...</td>\n      <td>NaN</td>\n      <td>NaN</td>\n      <td>NaN</td>\n      <td>no</td>\n      <td>NaN</td>\n      <td>Regional Municipality of Durham</td>\n      <td>True</td>\n      <td>1321071</td>\n      <td>STANMOREEQUIPMENTLTD-NULL-608063-5324100-NULL-...</td>\n      <td>NaN</td>\n    </tr>\n    <tr>\n      <th>1323557</th>\n      <td>18431bf5e63851cd8ac0</td>\n      <td>ON_Durham_Business_Directory.csv</td>\n      <td>Berger Heating Ltd.</td>\n      <td>NaN</td>\n      <td>NaN</td>\n      <td>Heating, ventilation, &amp; air conditioning (HVAC...</td>\n      <td>238870</td>\n      <td>NaN</td>\n      <td>NaN</td>\n      <td>238220.0</td>\n      <td>...</td>\n      <td>NaN</td>\n      <td>NaN</td>\n      <td>NaN</td>\n      <td>no</td>\n      <td>NaN</td>\n      <td>Regional Municipality of Durham</td>\n      <td>True</td>\n      <td>1323558</td>\n      <td>BERGERHEATINGLTD-NULL-238870-2382200-NULL-NULL...</td>\n      <td>NaN</td>\n    </tr>\n    <tr>\n      <th>1324287</th>\n      <td>48a6f5c3fa4441ffddbd</td>\n      <td>ON_Durham_Business_Directory.csv</td>\n      <td>Brimacombe</td>\n      <td>NaN</td>\n      <td>NaN</td>\n      <td>Ski hill and chalet.</td>\n      <td>4210.0</td>\n      <td>NaN</td>\n      <td>NaN</td>\n      <td>713920.0</td>\n      <td>...</td>\n      <td>NaN</td>\n      <td>NaN</td>\n      <td>NaN</td>\n      <td>no</td>\n      <td>NaN</td>\n      <td>Regional Municipality of Durham</td>\n      <td>True</td>\n      <td>1324288</td>\n      <td>BRIMACOMBE-NULL-4210-7139200-NULL-NULL-NULL</td>\n      <td>NaN</td>\n    </tr>\n    <tr>\n      <th>1324361</th>\n      <td>db5be65a27c6c5602e00</td>\n      <td>ON_Durham_Business_Directory.csv</td>\n      <td>Ground Up Renovations</td>\n      <td>NaN</td>\n      <td>NaN</td>\n      <td>Renovation Company</td>\n      <td>552600.0</td>\n      <td>NaN</td>\n      <td>NaN</td>\n      <td>236118.0</td>\n      <td>...</td>\n      <td>NaN</td>\n      <td>NaN</td>\n      <td>NaN</td>\n      <td>no</td>\n      <td>NaN</td>\n      <td>Regional Municipality of Durham</td>\n      <td>True</td>\n      <td>1324362</td>\n      <td>GROUNDUPRENOVATIONS-NULL-552600-2361180-NULL-N...</td>\n      <td>NaN</td>\n    </tr>\n    <tr>\n      <th>1324871</th>\n      <td>4ac936e2683a43694ffe</td>\n      <td>ON_Durham_Business_Directory.csv</td>\n      <td>Bowmanville New Home Centre</td>\n      <td>NaN</td>\n      <td>NaN</td>\n      <td>Real estate showroom centre.</td>\n      <td>231427.0</td>\n      <td>NaN</td>\n      <td>NaN</td>\n      <td>531390.0</td>\n      <td>...</td>\n      <td>NaN</td>\n      <td>NaN</td>\n      <td>NaN</td>\n      <td>no</td>\n      <td>NaN</td>\n      <td>Regional Municipality of Durham</td>\n      <td>True</td>\n      <td>1324872</td>\n      <td>BOWMANVILLENEWHOMECENTRE-NULL-231427-5313900-N...</td>\n      <td>NaN</td>\n    </tr>\n  </tbody>\n</table>\n<p>3433 rows × 46 columns</p>\n</div>"
     },
     "metadata": {},
     "execution_count": 6
    }
   ],
   "source": [
    "USA_states = [ 'AK', 'AL', 'AR', 'AZ', 'CA', 'CO', 'CT', 'DC', 'DE', 'FL', 'GA',\n",
    "           'HI', 'IA', 'ID', 'IL', 'IN', 'KS', 'KY', 'LA', 'MA', 'MD', 'ME',\n",
    "           'MI', 'MN', 'MO', 'MS', 'MT', 'NC', 'ND', 'NE', 'NH', 'NJ', 'NM',\n",
    "           'NV', 'NY', 'OH', 'OK', 'OR', 'PA', 'RI', 'SC', 'SD', 'TN', 'TX',\n",
    "           'UT', 'VA', 'VT', 'WA', 'WI', 'WV', 'WY', 'ARIZONA']\n",
    "\n",
    "foreign_prov_codes = list(set(non_cad_provs) - set(USA_states))\n",
    "# for i in foreign_prov_codes:\n",
    "#     print(i)\n",
    "\n",
    "# Extract a list of indices corresponding to foreign code entries and obtain the subset of the df that contains these entries\n",
    "foreign_codes_idx = []\n",
    "for i, row in tqdm(non_cad_df.iterrows(), total = 3433 ):\n",
    "    if row.province in foreign_prov_codes:\n",
    "        foreign_codes_idx.append(i)\n",
    "print(f'Number of foreign entries found: {len(foreign_codes_idx)}')\n",
    "\n",
    "foreign_codes_df = df.loc[foreign_codes_idx]\n",
    "foreign_codes_df"
   ]
  },
  {
   "cell_type": "code",
   "execution_count": 7,
   "metadata": {},
   "outputs": [
    {
     "output_type": "stream",
     "name": "stdout",
     "text": [
      "--------------------------------------------------------------\nUnique Country Entries:\nnan\nCANADA\n"
     ]
    }
   ],
   "source": [
    "# Print the unique countries present\n",
    "print('--------------------------------------------------------------')\n",
    "print('Unique Country Entries:')\n",
    "countries = pd.unique(df['country'])\n",
    "for i in countries:\n",
    "        print(i)"
   ]
  },
  {
   "cell_type": "code",
   "execution_count": 8,
   "metadata": {},
   "outputs": [],
   "source": [
    "sub_df = df[df.province == 'WA']\n",
    "for i,row in sub_df.iterrows():\n",
    "    print(row)\n",
    "    break\n",
    "# df.loc['idx', '8f6bd3c96413edd33d9d']"
   ]
  },
  {
   "cell_type": "code",
   "execution_count": 9,
   "metadata": {},
   "outputs": [
    {
     "output_type": "stream",
     "name": "stdout",
     "text": [
      "List saved to /home/jovyan/ODBiz/3-Merging/output/nonCadProvCodes.txt\n"
     ]
    }
   ],
   "source": [
    "# Write the non-cad prov codes to a file\n",
    "filename = '/home/jovyan/ODBiz/3-Merging/output/nonCadProvCodes.txt'\n",
    "with open(filename, 'w') as f:\n",
    "    for i in non_cad_provs:\n",
    "        f.write(f'{i}\\n')\n",
    "print(f'List saved to {filename}')"
   ]
  },
  {
   "cell_type": "code",
   "execution_count": 10,
   "metadata": {},
   "outputs": [
    {
     "output_type": "execute_result",
     "data": {
      "text/plain": [
       "[nan, 'LAKEVIEW ESTATES', '78']"
      ]
     },
     "metadata": {},
     "execution_count": 10
    }
   ],
   "source": [
    "foreign_prov_codes"
   ]
  },
  {
   "cell_type": "code",
   "execution_count": 11,
   "metadata": {},
   "outputs": [
    {
     "output_type": "stream",
     "name": "stdout",
     "text": [
      "nan\n1.0\nOPEN\nIssued\nInactive\nGone Out of Business\nCancelled\nPending\nInvalid Status Code\nAPPROVED\nRenewal Licensed\nPending Renewal\nLicensed\nMove in Progress\nRenewal Notification Sent\nClose in Progress\nISSUED\nRENEWAL NOTICE\n"
     ]
    }
   ],
   "source": [
    "status_lst = pd.unique(df.status)\n",
    "for i in status_lst:\n",
    "    print(i)"
   ]
  },
  {
   "cell_type": "code",
   "execution_count": 12,
   "metadata": {},
   "outputs": [
    {
     "output_type": "execute_result",
     "data": {
      "text/plain": [
       "array(['BC', 'AB', 'NB', 'ON', nan, 'QC', 'NS', 'MB', 'SK', '78', 'YT',\n",
       "       'NL', 'LAKEVIEW ESTATES', 'NT', 'NU', 'PE'], dtype=object)"
      ]
     },
     "metadata": {},
     "execution_count": 12
    }
   ],
   "source": [
    "provinces"
   ]
  },
  {
   "cell_type": "code",
   "execution_count": null,
   "metadata": {},
   "outputs": [],
   "source": []
  }
 ]
}