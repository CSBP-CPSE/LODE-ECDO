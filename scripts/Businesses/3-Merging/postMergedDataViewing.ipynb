{
 "metadata": {
  "language_info": {
   "codemirror_mode": {
    "name": "ipython",
    "version": 3
   },
   "file_extension": ".py",
   "mimetype": "text/x-python",
   "name": "python",
   "nbconvert_exporter": "python",
   "pygments_lexer": "ipython3",
   "version": "3.8.12"
  },
  "orig_nbformat": 2,
  "kernelspec": {
   "name": "python3812jvsc74a57bd098b0a9b7b4eaaa670588a142fd0a9b87eaafe866f1db4228be72b4211d12040f",
   "display_name": "Python 3.8.12 64-bit ('conda': virtualenv)"
  }
 },
 "nbformat": 4,
 "nbformat_minor": 2,
 "cells": [
  {
   "cell_type": "code",
   "execution_count": 2,
   "metadata": {},
   "outputs": [],
   "source": [
    "import pandas as pd\n",
    "from tqdm import tqdm\n",
    "from datetime import datetime as dt\n",
    "from pytz import timezone\n"
   ]
  },
  {
   "cell_type": "code",
   "execution_count": 3,
   "metadata": {},
   "outputs": [
    {
     "output_type": "stream",
     "name": "stderr",
     "text": [
      "Loading data: 100%|██████████| 1354/1354 [00:12<00:00, 105.46it/s]\n",
      "Successfully loaded /home/jovyan/ODBiz/3-Merging/output/ODBiz_merged_2022-07-04.csv\n"
     ]
    }
   ],
   "source": [
    "# Load in the merged dataframe\n",
    "\n",
    "ET = 'Canada/Eastern'\n",
    "start_time = dt.now(timezone(ET))\n",
    "today = str(start_time)[:10]\n",
    "today = '2022-07-04'\n",
    "\n",
    "mergedFilePathName = f'/home/jovyan/ODBiz/3-Merging/output/ODBiz_merged_{today}.csv'\n",
    "total_lines = 1354503\n",
    "chunksize = 1000\n",
    "# df = pd.read_csv(mergedFilePathName, low_memory=False)\n",
    "df = pd.concat([chunk for chunk in tqdm(pd.read_csv(mergedFilePathName, chunksize=chunksize), desc='Loading data', total=total_lines//chunksize)])\n",
    "num_of_rows = df.shape[0]\n",
    "\n",
    "print(f'Successfully loaded {mergedFilePathName}')"
   ]
  },
  {
   "cell_type": "code",
   "execution_count": 4,
   "metadata": {},
   "outputs": [
    {
     "output_type": "stream",
     "name": "stdout",
     "text": [
      "Number of unique data sources: 60\n--------------------------------------------------------------\nUnique Non-Canadian Province Entries:\nnan\n78\nLAKEVIEW ESTATES\n"
     ]
    }
   ],
   "source": [
    "# Verify that all source files are present in the merged file and extract a list of non-Canadian 'provinces'\n",
    "\n",
    "print(f'Number of unique data sources: {len(pd.unique(df.localfile))}')\n",
    "print('--------------------------------------------------------------')\n",
    "print('Unique Non-Canadian Province Entries:')\n",
    "can_prov_lst = ['AB', 'BC', 'MB', 'NB', 'NL', 'NS', 'NT', 'NU', 'ON', 'PE', 'QC', 'SK', 'YT']\n",
    "provinces = pd.unique(df.province)\n",
    "non_cad_provs = []\n",
    "for i in provinces:\n",
    "    if not(i in can_prov_lst):\n",
    "        non_cad_provs.append(i)\n",
    "        print(i)\n",
    "\n",
    "\n"
   ]
  },
  {
   "cell_type": "code",
   "execution_count": 5,
   "metadata": {},
   "outputs": [
    {
     "output_type": "stream",
     "name": "stderr",
     "text": [
      "100%|██████████| 1353709/1353709 [01:03<00:00, 21293.66it/s]\n",
      "Number of non-Canadian entries found: 3433\n",
      "/home/jovyan/ODBiz/3-Merging/output/nonCanadianEntries.csv saved\n"
     ]
    }
   ],
   "source": [
    "# Extract a list of indices corresponding to non-Canadian entries and obtain the subset of the df that contains these entries\n",
    "non_cad_idx= []\n",
    "for i, row in tqdm(df.iterrows(), total = num_of_rows):\n",
    "    if row.province in non_cad_provs:\n",
    "        non_cad_idx.append(i)\n",
    "print(f'Number of non-Canadian entries found: {len(non_cad_idx)}')\n",
    "\n",
    "non_cad_df = df.loc[non_cad_idx]\n",
    "nonCanadianEntriesFileName = '/home/jovyan/ODBiz/3-Merging/output/nonCanadianEntries.csv'\n",
    "non_cad_df.to_csv(nonCanadianEntriesFileName)\n",
    "print(f'{nonCanadianEntriesFileName} saved')"
   ]
  },
  {
   "cell_type": "code",
   "execution_count": 6,
   "metadata": {},
   "outputs": [
    {
     "output_type": "execute_result",
     "data": {
      "text/plain": [
       "array(['ON_Pickering_Business_Directory.csv',\n",
       "       'BC_Vancouver_Business_Licences.csv',\n",
       "       'BC_Nanaimo_Business_Licences.csv',\n",
       "       'ON_York_Region_Business_Directory.csv',\n",
       "       'ON_Durham_Business_Directory.csv'], dtype=object)"
      ]
     },
     "metadata": {},
     "execution_count": 6
    }
   ],
   "source": [
    "pd.unique(non_cad_df.localfile)"
   ]
  },
  {
   "cell_type": "code",
   "execution_count": 9,
   "metadata": {},
   "outputs": [
    {
     "output_type": "stream",
     "name": "stderr",
     "text": [
      "100%|██████████| 3433/3433 [00:00<00:00, 20916.65it/s]Number of foreign entries found: 3433\n",
      "\n"
     ]
    },
    {
     "output_type": "execute_result",
     "data": {
      "text/plain": [
       "                        idx                            localfile  \\\n",
       "72031  0039a977c31c57aeb420  ON_Pickering_Business_Directory.csv   \n",
       "72037  c0df9e756fd7b628fc2d  ON_Pickering_Business_Directory.csv   \n",
       "72230  01a278895da164ece77c  ON_Pickering_Business_Directory.csv   \n",
       "72237  b2375d963df4c7b4a362  ON_Pickering_Business_Directory.csv   \n",
       "72251  51a293bf2cf2f33b9c9d  ON_Pickering_Business_Directory.csv   \n",
       "\n",
       "                     business_name  \\\n",
       "72031  Scugog Council for the Arts   \n",
       "72037        Forget-Me-Not Alpacas   \n",
       "72230                 Elwill Acres   \n",
       "72237            OFA Farm - B33245   \n",
       "72251         Lai & Associates DMC   \n",
       "\n",
       "                                         business_sector business_subsector  \\\n",
       "72031  Council for the arts. Arts resource centre and...                NaN   \n",
       "72037  Raise Alpacas, Sell Clothing made of Alpaca fu...                NaN   \n",
       "72230                                           OFA Farm                NaN   \n",
       "72237                                           OFA Farm                NaN   \n",
       "72251          Digital media production and consultancy.                NaN   \n",
       "\n",
       "      business_description business_id_no licence_number licence_type  \\\n",
       "72031                  NaN          99931            NaN          NaN   \n",
       "72037                  NaN         552799            NaN          NaN   \n",
       "72230                  NaN         239024            NaN          NaN   \n",
       "72237                  NaN         238726            NaN          NaN   \n",
       "72251                  NaN         569845            NaN          NaN   \n",
       "\n",
       "      primary_NAICS secondary_NAICS                            NAICS_descr  \\\n",
       "72031      813410.0             NaN         Civic and social organizations   \n",
       "72037      112990.0             NaN            All Other Animal Production   \n",
       "72230      111999.0             NaN   All other miscellaneous crop farming   \n",
       "72237      111999.0             NaN   All other miscellaneous crop farming   \n",
       "72251      541890.0             NaN  Other Services Related to Advertising   \n",
       "\n",
       "      alt_econ_act_code alt_econ_act_descrip   latitude  longitude  \\\n",
       "72031               NaN                  NaN  44.105208 -78.944945   \n",
       "72037               NaN                  NaN  44.406632 -79.098971   \n",
       "72230               NaN                  NaN  44.252557 -79.010867   \n",
       "72237               NaN                  NaN  44.495986 -79.112838   \n",
       "72251               NaN                  NaN  43.838946 -79.083910   \n",
       "\n",
       "      full_address full_address_2 mailing_address unit street_no  \\\n",
       "72031          NaN            NaN             NaN  g-1      1266   \n",
       "72037          NaN            NaN             NaN  NaN      1595   \n",
       "72230          NaN            NaN             NaN  NaN    S13325   \n",
       "72237          NaN            NaN             NaN  NaN    B33245   \n",
       "72251          NaN            NaN             NaN  NaN       606   \n",
       "\n",
       "                   street_name street_direction street_type        city  \\\n",
       "72031                 Townline             West        Road      Scugog   \n",
       "72037    Brock Concession Rd 3              NaN         NaN   Beaverton   \n",
       "72230    Brock Concession Rd 4              NaN         NaN  Sunderland   \n",
       "72237  Thorah Concession Rd 10              NaN         NaN   Beaverton   \n",
       "72251            The Esplanade            North         NaN   Pickering   \n",
       "\n",
       "      province postal_code country           business_website email  \\\n",
       "72031      NaN      L9L1A7     NaN          www.scugogarts.ca   NaN   \n",
       "72037      NaN      L0K1A0     NaN  www.forgetmenotalpacas.ca   NaN   \n",
       "72230      NaN      L0C1H0     NaN                        NaN   NaN   \n",
       "72237      NaN      L0K1A0     NaN                        NaN   NaN   \n",
       "72251      NaN      L1V6V2     NaN    www.laiandassociates.ca   NaN   \n",
       "\n",
       "          telephone  telephone_extension toll_free_telephone  fax  \\\n",
       "72031  9059852121.0                  NaN                 NaN  NaN   \n",
       "72037  2892216102.0                  NaN                 NaN  NaN   \n",
       "72230  7053572677.0                  NaN                 NaN  NaN   \n",
       "72237           NaN                  NaN                 NaN  NaN   \n",
       "72251  6476463386.0                  NaN                 NaN  NaN   \n",
       "\n",
       "      total_no_employees  no_full_time  no_part_time  no_seasonal  \\\n",
       "72031                NaN           NaN           NaN          NaN   \n",
       "72037                NaN           NaN           NaN          NaN   \n",
       "72230                NaN           NaN           NaN          NaN   \n",
       "72237                NaN           NaN           NaN          NaN   \n",
       "72251                NaN           NaN           NaN          NaN   \n",
       "\n",
       "      date_established indigenous status                         provider  \\\n",
       "72031              NaN         no    NaN  Regional Municipality of Durham   \n",
       "72037              NaN         no    NaN  Regional Municipality of Durham   \n",
       "72230              NaN         no    NaN  Regional Municipality of Durham   \n",
       "72237              NaN         no    NaN  Regional Municipality of Durham   \n",
       "72251              NaN         no    NaN  Regional Municipality of Durham   \n",
       "\n",
       "       duplicated  idx_basic  \\\n",
       "72031       False      72032   \n",
       "72037       False      72038   \n",
       "72230       False      72231   \n",
       "72237       False      72238   \n",
       "72251       False      72252   \n",
       "\n",
       "                                                    temp geo_source  \n",
       "72031  SCUGOGCOUNCILFORTHEARTS-NULL-99931-8134100-NUL...     Source  \n",
       "72037  FORGETMENOTALPACAS-NULL-552799-1129900-NULL-NU...     Source  \n",
       "72230     ELWILLACRES-NULL-239024-1119990-NULL-NULL-NULL     Source  \n",
       "72237   OFAFARMB33245-NULL-238726-1119990-NULL-NULL-NULL     Source  \n",
       "72251  LAI&ASSOCIATESDMC-NULL-569845-5418900-NULL-NUL...     Source  "
      ],
      "text/html": "<div>\n<style scoped>\n    .dataframe tbody tr th:only-of-type {\n        vertical-align: middle;\n    }\n\n    .dataframe tbody tr th {\n        vertical-align: top;\n    }\n\n    .dataframe thead th {\n        text-align: right;\n    }\n</style>\n<table border=\"1\" class=\"dataframe\">\n  <thead>\n    <tr style=\"text-align: right;\">\n      <th></th>\n      <th>idx</th>\n      <th>localfile</th>\n      <th>business_name</th>\n      <th>business_sector</th>\n      <th>business_subsector</th>\n      <th>business_description</th>\n      <th>business_id_no</th>\n      <th>licence_number</th>\n      <th>licence_type</th>\n      <th>primary_NAICS</th>\n      <th>secondary_NAICS</th>\n      <th>NAICS_descr</th>\n      <th>alt_econ_act_code</th>\n      <th>alt_econ_act_descrip</th>\n      <th>latitude</th>\n      <th>longitude</th>\n      <th>full_address</th>\n      <th>full_address_2</th>\n      <th>mailing_address</th>\n      <th>unit</th>\n      <th>street_no</th>\n      <th>street_name</th>\n      <th>street_direction</th>\n      <th>street_type</th>\n      <th>city</th>\n      <th>province</th>\n      <th>postal_code</th>\n      <th>country</th>\n      <th>business_website</th>\n      <th>email</th>\n      <th>telephone</th>\n      <th>telephone_extension</th>\n      <th>toll_free_telephone</th>\n      <th>fax</th>\n      <th>total_no_employees</th>\n      <th>no_full_time</th>\n      <th>no_part_time</th>\n      <th>no_seasonal</th>\n      <th>date_established</th>\n      <th>indigenous</th>\n      <th>status</th>\n      <th>provider</th>\n      <th>duplicated</th>\n      <th>idx_basic</th>\n      <th>temp</th>\n      <th>geo_source</th>\n    </tr>\n  </thead>\n  <tbody>\n    <tr>\n      <th>72031</th>\n      <td>0039a977c31c57aeb420</td>\n      <td>ON_Pickering_Business_Directory.csv</td>\n      <td>Scugog Council for the Arts</td>\n      <td>Council for the arts. Arts resource centre and...</td>\n      <td>NaN</td>\n      <td>NaN</td>\n      <td>99931</td>\n      <td>NaN</td>\n      <td>NaN</td>\n      <td>813410.0</td>\n      <td>NaN</td>\n      <td>Civic and social organizations</td>\n      <td>NaN</td>\n      <td>NaN</td>\n      <td>44.105208</td>\n      <td>-78.944945</td>\n      <td>NaN</td>\n      <td>NaN</td>\n      <td>NaN</td>\n      <td>g-1</td>\n      <td>1266</td>\n      <td>Townline</td>\n      <td>West</td>\n      <td>Road</td>\n      <td>Scugog</td>\n      <td>NaN</td>\n      <td>L9L1A7</td>\n      <td>NaN</td>\n      <td>www.scugogarts.ca</td>\n      <td>NaN</td>\n      <td>9059852121.0</td>\n      <td>NaN</td>\n      <td>NaN</td>\n      <td>NaN</td>\n      <td>NaN</td>\n      <td>NaN</td>\n      <td>NaN</td>\n      <td>NaN</td>\n      <td>NaN</td>\n      <td>no</td>\n      <td>NaN</td>\n      <td>Regional Municipality of Durham</td>\n      <td>False</td>\n      <td>72032</td>\n      <td>SCUGOGCOUNCILFORTHEARTS-NULL-99931-8134100-NUL...</td>\n      <td>Source</td>\n    </tr>\n    <tr>\n      <th>72037</th>\n      <td>c0df9e756fd7b628fc2d</td>\n      <td>ON_Pickering_Business_Directory.csv</td>\n      <td>Forget-Me-Not Alpacas</td>\n      <td>Raise Alpacas, Sell Clothing made of Alpaca fu...</td>\n      <td>NaN</td>\n      <td>NaN</td>\n      <td>552799</td>\n      <td>NaN</td>\n      <td>NaN</td>\n      <td>112990.0</td>\n      <td>NaN</td>\n      <td>All Other Animal Production</td>\n      <td>NaN</td>\n      <td>NaN</td>\n      <td>44.406632</td>\n      <td>-79.098971</td>\n      <td>NaN</td>\n      <td>NaN</td>\n      <td>NaN</td>\n      <td>NaN</td>\n      <td>1595</td>\n      <td>Brock Concession Rd 3</td>\n      <td>NaN</td>\n      <td>NaN</td>\n      <td>Beaverton</td>\n      <td>NaN</td>\n      <td>L0K1A0</td>\n      <td>NaN</td>\n      <td>www.forgetmenotalpacas.ca</td>\n      <td>NaN</td>\n      <td>2892216102.0</td>\n      <td>NaN</td>\n      <td>NaN</td>\n      <td>NaN</td>\n      <td>NaN</td>\n      <td>NaN</td>\n      <td>NaN</td>\n      <td>NaN</td>\n      <td>NaN</td>\n      <td>no</td>\n      <td>NaN</td>\n      <td>Regional Municipality of Durham</td>\n      <td>False</td>\n      <td>72038</td>\n      <td>FORGETMENOTALPACAS-NULL-552799-1129900-NULL-NU...</td>\n      <td>Source</td>\n    </tr>\n    <tr>\n      <th>72230</th>\n      <td>01a278895da164ece77c</td>\n      <td>ON_Pickering_Business_Directory.csv</td>\n      <td>Elwill Acres</td>\n      <td>OFA Farm</td>\n      <td>NaN</td>\n      <td>NaN</td>\n      <td>239024</td>\n      <td>NaN</td>\n      <td>NaN</td>\n      <td>111999.0</td>\n      <td>NaN</td>\n      <td>All other miscellaneous crop farming</td>\n      <td>NaN</td>\n      <td>NaN</td>\n      <td>44.252557</td>\n      <td>-79.010867</td>\n      <td>NaN</td>\n      <td>NaN</td>\n      <td>NaN</td>\n      <td>NaN</td>\n      <td>S13325</td>\n      <td>Brock Concession Rd 4</td>\n      <td>NaN</td>\n      <td>NaN</td>\n      <td>Sunderland</td>\n      <td>NaN</td>\n      <td>L0C1H0</td>\n      <td>NaN</td>\n      <td>NaN</td>\n      <td>NaN</td>\n      <td>7053572677.0</td>\n      <td>NaN</td>\n      <td>NaN</td>\n      <td>NaN</td>\n      <td>NaN</td>\n      <td>NaN</td>\n      <td>NaN</td>\n      <td>NaN</td>\n      <td>NaN</td>\n      <td>no</td>\n      <td>NaN</td>\n      <td>Regional Municipality of Durham</td>\n      <td>False</td>\n      <td>72231</td>\n      <td>ELWILLACRES-NULL-239024-1119990-NULL-NULL-NULL</td>\n      <td>Source</td>\n    </tr>\n    <tr>\n      <th>72237</th>\n      <td>b2375d963df4c7b4a362</td>\n      <td>ON_Pickering_Business_Directory.csv</td>\n      <td>OFA Farm - B33245</td>\n      <td>OFA Farm</td>\n      <td>NaN</td>\n      <td>NaN</td>\n      <td>238726</td>\n      <td>NaN</td>\n      <td>NaN</td>\n      <td>111999.0</td>\n      <td>NaN</td>\n      <td>All other miscellaneous crop farming</td>\n      <td>NaN</td>\n      <td>NaN</td>\n      <td>44.495986</td>\n      <td>-79.112838</td>\n      <td>NaN</td>\n      <td>NaN</td>\n      <td>NaN</td>\n      <td>NaN</td>\n      <td>B33245</td>\n      <td>Thorah Concession Rd 10</td>\n      <td>NaN</td>\n      <td>NaN</td>\n      <td>Beaverton</td>\n      <td>NaN</td>\n      <td>L0K1A0</td>\n      <td>NaN</td>\n      <td>NaN</td>\n      <td>NaN</td>\n      <td>NaN</td>\n      <td>NaN</td>\n      <td>NaN</td>\n      <td>NaN</td>\n      <td>NaN</td>\n      <td>NaN</td>\n      <td>NaN</td>\n      <td>NaN</td>\n      <td>NaN</td>\n      <td>no</td>\n      <td>NaN</td>\n      <td>Regional Municipality of Durham</td>\n      <td>False</td>\n      <td>72238</td>\n      <td>OFAFARMB33245-NULL-238726-1119990-NULL-NULL-NULL</td>\n      <td>Source</td>\n    </tr>\n    <tr>\n      <th>72251</th>\n      <td>51a293bf2cf2f33b9c9d</td>\n      <td>ON_Pickering_Business_Directory.csv</td>\n      <td>Lai &amp; Associates DMC</td>\n      <td>Digital media production and consultancy.</td>\n      <td>NaN</td>\n      <td>NaN</td>\n      <td>569845</td>\n      <td>NaN</td>\n      <td>NaN</td>\n      <td>541890.0</td>\n      <td>NaN</td>\n      <td>Other Services Related to Advertising</td>\n      <td>NaN</td>\n      <td>NaN</td>\n      <td>43.838946</td>\n      <td>-79.083910</td>\n      <td>NaN</td>\n      <td>NaN</td>\n      <td>NaN</td>\n      <td>NaN</td>\n      <td>606</td>\n      <td>The Esplanade</td>\n      <td>North</td>\n      <td>NaN</td>\n      <td>Pickering</td>\n      <td>NaN</td>\n      <td>L1V6V2</td>\n      <td>NaN</td>\n      <td>www.laiandassociates.ca</td>\n      <td>NaN</td>\n      <td>6476463386.0</td>\n      <td>NaN</td>\n      <td>NaN</td>\n      <td>NaN</td>\n      <td>NaN</td>\n      <td>NaN</td>\n      <td>NaN</td>\n      <td>NaN</td>\n      <td>NaN</td>\n      <td>no</td>\n      <td>NaN</td>\n      <td>Regional Municipality of Durham</td>\n      <td>False</td>\n      <td>72252</td>\n      <td>LAI&amp;ASSOCIATESDMC-NULL-569845-5418900-NULL-NUL...</td>\n      <td>Source</td>\n    </tr>\n  </tbody>\n</table>\n</div>"
     },
     "metadata": {},
     "execution_count": 9
    }
   ],
   "source": [
    "USA_states = [ 'AK', 'AL', 'AR', 'AZ', 'CA', 'CO', 'CT', 'DC', 'DE', 'FL', 'GA',\n",
    "           'HI', 'IA', 'ID', 'IL', 'IN', 'KS', 'KY', 'LA', 'MA', 'MD', 'ME',\n",
    "           'MI', 'MN', 'MO', 'MS', 'MT', 'NC', 'ND', 'NE', 'NH', 'NJ', 'NM',\n",
    "           'NV', 'NY', 'OH', 'OK', 'OR', 'PA', 'RI', 'SC', 'SD', 'TN', 'TX',\n",
    "           'UT', 'VA', 'VT', 'WA', 'WI', 'WV', 'WY', 'ARIZONA']\n",
    "\n",
    "foreign_prov_codes = list(set(non_cad_provs) - set(USA_states))\n",
    "# for i in foreign_prov_codes:\n",
    "#     print(i)\n",
    "\n",
    "# Extract a list of indices corresponding to foreign code entries and obtain the subset of the df that contains these entries\n",
    "foreign_codes_idx = []\n",
    "for i, row in tqdm(non_cad_df.iterrows(), total = 3433 ):\n",
    "    if row.province in foreign_prov_codes:\n",
    "        foreign_codes_idx.append(i)\n",
    "print(f'Number of foreign entries found: {len(foreign_codes_idx)}')\n",
    "\n",
    "foreign_codes_df = df.loc[foreign_codes_idx]\n",
    "pd.options.display.max_columns = None\n",
    "foreign_codes_df.head()"
   ]
  },
  {
   "cell_type": "code",
   "execution_count": 19,
   "metadata": {},
   "outputs": [
    {
     "output_type": "stream",
     "name": "stdout",
     "text": [
      "--------------------------------------------------------------\nUnique Country Entries:\nnan\nCANADA\n"
     ]
    }
   ],
   "source": [
    "# Print the unique countries present\n",
    "print('--------------------------------------------------------------')\n",
    "print('Unique Country Entries:')\n",
    "countries = pd.unique(df['country'])\n",
    "for i in countries:\n",
    "        print(i)"
   ]
  },
  {
   "cell_type": "code",
   "execution_count": 20,
   "metadata": {},
   "outputs": [],
   "source": [
    "sub_df = df[df.province == 'WA']\n",
    "for i,row in sub_df.iterrows():\n",
    "    print(row)\n",
    "    break\n",
    "# df.loc['idx', '8f6bd3c96413edd33d9d']"
   ]
  },
  {
   "cell_type": "code",
   "execution_count": 21,
   "metadata": {},
   "outputs": [
    {
     "output_type": "stream",
     "name": "stdout",
     "text": [
      "List saved to /home/jovyan/ODBiz/3-Merging/output/nonCadProvCodes.txt\n"
     ]
    }
   ],
   "source": [
    "# Write the non-cad prov codes to a file\n",
    "filename = '/home/jovyan/ODBiz/3-Merging/output/nonCadProvCodes.txt'\n",
    "with open(filename, 'w') as f:\n",
    "    for i in non_cad_provs:\n",
    "        f.write(f'{i}\\n')\n",
    "print(f'List saved to {filename}')"
   ]
  },
  {
   "cell_type": "code",
   "execution_count": 22,
   "metadata": {},
   "outputs": [
    {
     "output_type": "execute_result",
     "data": {
      "text/plain": [
       "[nan, '78', 'LAKEVIEW ESTATES']"
      ]
     },
     "metadata": {},
     "execution_count": 22
    }
   ],
   "source": [
    "foreign_prov_codes"
   ]
  },
  {
   "cell_type": "code",
   "execution_count": 23,
   "metadata": {},
   "outputs": [
    {
     "output_type": "stream",
     "name": "stdout",
     "text": [
      "nan\n1.0\nOPEN\nIssued\nInactive\nGone Out of Business\nCancelled\nPending\nInvalid Status Code\nAPPROVED\nRenewal Licensed\nPending Renewal\nLicensed\nMove in Progress\nRenewal Notification Sent\nClose in Progress\nISSUED\nRENEWAL NOTICE\n"
     ]
    }
   ],
   "source": [
    "status_lst = pd.unique(df.status)\n",
    "for i in status_lst:\n",
    "    print(i)"
   ]
  },
  {
   "cell_type": "code",
   "execution_count": 24,
   "metadata": {},
   "outputs": [
    {
     "output_type": "execute_result",
     "data": {
      "text/plain": [
       "array(['BC', 'AB', 'NB', 'ON', nan, 'QC', 'NS', 'MB', 'SK', '78', 'YT',\n",
       "       'NL', 'LAKEVIEW ESTATES', 'NT', 'NU', 'PE'], dtype=object)"
      ]
     },
     "metadata": {},
     "execution_count": 24
    }
   ],
   "source": [
    "provinces"
   ]
  },
  {
   "cell_type": "code",
   "execution_count": null,
   "metadata": {},
   "outputs": [],
   "source": []
  }
 ]
}