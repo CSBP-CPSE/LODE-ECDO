{
 "metadata": {
  "language_info": {
   "codemirror_mode": {
    "name": "ipython",
    "version": 3
   },
   "file_extension": ".py",
   "mimetype": "text/x-python",
   "name": "python",
   "nbconvert_exporter": "python",
   "pygments_lexer": "ipython3",
   "version": "3.10.5"
  },
  "orig_nbformat": 2,
  "kernelspec": {
   "name": "python3105jvsc74a57bd03f6acfd5c7a89dd4516208ed2cd5283b5177bf58d22f895010c388a779688e5d",
   "display_name": "Python 3.10.5 64-bit"
  },
  "metadata": {
   "interpreter": {
    "hash": "3f6acfd5c7a89dd4516208ed2cd5283b5177bf58d22f895010c388a779688e5d"
   }
  }
 },
 "nbformat": 4,
 "nbformat_minor": 2,
 "cells": [
  {
   "cell_type": "code",
   "execution_count": 1,
   "metadata": {},
   "outputs": [],
   "source": [
    "import MergingBiz\n",
    "import RemoveInvalidCoordinates\n",
    "import FilterNoAddrInfo\n"
   ]
  },
  {
   "cell_type": "code",
   "execution_count": 2,
   "metadata": {},
   "outputs": [],
   "source": [
    "# ExtractOpenTabOutput.main()"
   ]
  },
  {
   "cell_type": "code",
   "execution_count": 3,
   "metadata": {},
   "outputs": [
    {
     "output_type": "stream",
     "name": "stdout",
     "text": [
      "----------------------------------------------------------------------------------------------------------------------------\n",
      "Merging files: 100%|██████████| 60/60 [00:04<00:00, 12.94it/s]\n",
      "File saved to /home/jovyan/ODBiz/3-Merging/double_check/csv_rows.csv\n",
      "File saved to /home/jovyan/ODBiz/3-Merging/double_check/csv_rows_sorted.csv\n",
      "Reordering columns...\n",
      "Done in 1 s\n",
      "Standardizing Province Names...\n",
      "File saved to /home/jovyan/ODBiz/3-Merging/double_check/standardized_province_names.csv\n",
      "Done in 1 s\n",
      "Standardizing Country Names...\n",
      "Done in 0 s\n",
      "Making Postal Codes consistent...\n",
      "Done in 0 s\n",
      "Fixing hyphens...\n",
      "Done in 1 s\n",
      "Marking Duplicates...\n",
      "Done in 1 s\n",
      "Creating temp column:\n",
      "Capitalize values and remove punctuation characters: 100%|██████████| 9/9 [00:09<00:00,  1.02s/it]\n",
      "Fill blanks with NULL...\n",
      "Done in 5 s\n",
      "Appending dup_key columns together and assign to temp column: 100%|██████████| 9/9 [00:02<00:00,  3.95it/s]\n",
      "Applying hashing to get new indicies...\n",
      "Filling in geo_source column\n",
      "Dropping duplicates\n",
      "41567 duplicate rows dropped\n",
      "Done in 3 s\n",
      "Writing 802564 dataframe entries to csv. This will take a while and unfortunately no easy progress bar solutions were available here...\n",
      "Duplicates only csv saved to /home/jovyan/ODBiz/3-Merging/double_check/ODBiz_dups_only.csv\n",
      "File saved to /home/jovyan/ODBiz/3-Merging/output/1-ODBiz_merged_2022-07-28.csv\n",
      "csv took 12 s to save\n",
      "Execution finished in 49.008975 seconds\n"
     ]
    }
   ],
   "source": [
    "MergingBiz.main()"
   ]
  },
  {
   "cell_type": "code",
   "execution_count": 4,
   "metadata": {},
   "outputs": [
    {
     "output_type": "stream",
     "name": "stderr",
     "text": [
      "Loading data: 100%|██████████| 81/81 [00:04<00:00, 16.35it/s]\n",
      "\n",
      "Fixing invalid coordinates and marking valid ones\n",
      "Done in 0 s\n",
      "Forcing invalid coords to be blank\n",
      "Affected rows saved to /home/jovyan/ODBiz/3-Merging/double_check/invalid_coords_affected_rows.csv\n",
      "Done in 8 s\n",
      "File saved to /home/jovyan/ODBiz/3-Merging/double_check/coord_ranges.csv\n",
      "df saved to /home/jovyan/ODBiz/3-Merging/output/2-ODBiz_merged_2022-07-28.csv\n"
     ]
    }
   ],
   "source": [
    "RemoveInvalidCoordinates.main()"
   ]
  },
  {
   "cell_type": "code",
   "execution_count": 5,
   "metadata": {},
   "outputs": [
    {
     "output_type": "stream",
     "name": "stderr",
     "text": [
      "Loading data: 100%|██████████| 9/9 [00:04<00:00,  1.98it/s]\n",
      "Filling in NA as empty string\n",
      "Done in 4 s\n",
      "Concatenating address info\n",
      "Done in 8 s\n",
      "Checking for blanks\n",
      "Done in 0 s\n",
      "Dropping entries with insufficient address info\n",
      "Saving df_no_info to /home/jovyan/ODBiz/3-Merging/double_check/no_addr_info.csv\n",
      "Done in 1 s\n",
      "Saving df to /home/jovyan/ODBiz/3-Merging/output/3-ODBiz_merged_2022-07-28.csv\n",
      "Done in 13 s\n",
      "df saved to /home/jovyan/ODBiz/3-Merging/output/3-ODBiz_merged_2022-07-28.csv\n"
     ]
    }
   ],
   "source": [
    "FilterNoAddrInfo.main()"
   ]
  },
  {
   "cell_type": "code",
   "execution_count": null,
   "metadata": {},
   "outputs": [],
   "source": []
  }
 ]
}