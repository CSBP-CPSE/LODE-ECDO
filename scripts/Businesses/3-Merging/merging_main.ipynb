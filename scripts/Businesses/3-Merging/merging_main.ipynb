{
 "cells": [
  {
   "cell_type": "code",
   "execution_count": 1,
   "metadata": {},
   "outputs": [],
   "source": [
    "import MergingBiz\n",
    "import RemoveInvalidCoordinates\n",
    "import FilterNoAddrInfo\n",
    "import fix_NAICS_codes\n"
   ]
  },
  {
   "cell_type": "code",
   "execution_count": 2,
   "metadata": {},
   "outputs": [],
   "source": [
    "# ExtractOpenTabOutput.main()"
   ]
  },
  {
   "cell_type": "code",
   "execution_count": 3,
   "metadata": {},
   "outputs": [
    {
     "output_type": "stream",
     "name": "stdout",
     "text": [
      "----------------------------------------------------------------------------------------------------------------------------\n",
      "Merging files: 100%|██████████| 61/61 [00:04<00:00, 12.87it/s]\n",
      "File saved to /home/jovyan/ODBiz/3-Merging/double_check/csv_rows.csv\n",
      "File saved to /home/jovyan/ODBiz/3-Merging/double_check/csv_rows_sorted.csv\n",
      "Reordering columns...\n",
      "Done in 1 s\n",
      "Standardizing Province Names...\n",
      "File saved to /home/jovyan/ODBiz/3-Merging/double_check/standardized_province_names.csv\n",
      "Done in 1 s\n",
      "Standardizing Country Names...\n",
      "Done in 0 s\n",
      "Making Postal Codes consistent...\n",
      "Done in 0 s\n",
      "Fixing hyphens...\n",
      "Done in 1 s\n",
      "Creating temp column:\n",
      "Capitalize values and remove punctuation characters: 100%|██████████| 9/9 [00:11<00:00,  1.24s/it]\n",
      "Fill blanks with NULL...\n",
      "Done in 4 s\n",
      "Appending dup_key columns together and assign to temp column: 100%|██████████| 9/9 [00:02<00:00,  3.97it/s]\n",
      "Applying hashing to get new indicies...\n",
      "Filling in geo_source column\n",
      "Marking Duplicates...\n",
      "Done in 0 s\n",
      "Dropping duplicates\n",
      "60204 duplicate rows dropped\n",
      "Done in 1 s\n",
      "Writing 803765 dataframe entries to csv. This will take a while and unfortunately no easy progress bar solutions were available here...\n",
      "Duplicates only csv saved to /home/jovyan/ODBiz/3-Merging/double_check/ODBiz_dups_only.csv\n",
      "File saved to /home/jovyan/ODBiz/3-Merging/output/1-ODBiz_merged_2022-08-12.csv\n",
      "csv took 14 s to save\n",
      "Execution finished in 46.919607 seconds\n"
     ]
    }
   ],
   "source": [
    "MergingBiz.main()"
   ]
  },
  {
   "cell_type": "code",
   "execution_count": 4,
   "metadata": {},
   "outputs": [
    {
     "output_type": "stream",
     "name": "stderr",
     "text": [
      "Loading data: 100%|██████████| 81/81 [00:04<00:00, 16.62it/s]\n",
      "\n",
      "Fixing invalid coordinates and marking valid ones\n",
      "Done in 0 s\n",
      "Forcing invalid coords to be blank\n",
      "Affected rows saved to /home/jovyan/ODBiz/3-Merging/double_check/invalid_coords_affected_rows.csv\n",
      "Done in 10 s\n",
      "File saved to /home/jovyan/ODBiz/3-Merging/double_check/coord_ranges.csv\n",
      "df saved to /home/jovyan/ODBiz/3-Merging/output/2-ODBiz_merged_2022-08-12.csv\n"
     ]
    }
   ],
   "source": [
    "RemoveInvalidCoordinates.main()"
   ]
  },
  {
   "cell_type": "code",
   "execution_count": 5,
   "metadata": {},
   "outputs": [
    {
     "output_type": "stream",
     "name": "stderr",
     "text": [
      "Loading data: 100%|██████████| 9/9 [00:04<00:00,  1.93it/s]\n",
      "Filling in NA as empty string\n",
      "Done in 4 s\n",
      "Concatenating address info\n",
      "Done in 7 s\n",
      "Checking for blanks\n",
      "Done in 0 s\n",
      "Dropping entries with insufficient address info\n",
      "Saving df_no_info to /home/jovyan/ODBiz/3-Merging/double_check/no_addr_info.csv\n",
      "Done in 1 s\n",
      "Saving df to /home/jovyan/ODBiz/3-Merging/output/3-ODBiz_merged_2022-08-12.csv\n",
      "Done in 12 s\n",
      "df saved to /home/jovyan/ODBiz/3-Merging/output/3-ODBiz_merged_2022-08-12.csv\n"
     ]
    }
   ],
   "source": [
    "FilterNoAddrInfo.main()"
   ]
  },
  {
   "cell_type": "code",
   "execution_count": 6,
   "metadata": {},
   "outputs": [
    {
     "output_type": "stream",
     "name": "stderr",
     "text": [
      "Loading data: 100%|██████████| 9/9 [00:04<00:00,  1.94it/s]\n",
      "Loaded in        803584 rows\n",
      "Resulting df has 803584 rows\n",
      "File saved to /home/jovyan/ODBiz/3-Merging/output/4-ODBiz_merged_2022-08-12.csv\n",
      "Execution finished in 17 s\n"
     ]
    }
   ],
   "source": [
    "fix_NAICS_codes.main()"
   ]
  },
  {
   "cell_type": "code",
   "execution_count": 7,
   "metadata": {},
   "outputs": [
    {
     "output_type": "stream",
     "name": "stdout",
     "text": [
      "Most recent merged file saved to /home/jovyan/ODBiz/4-Parsing/input/ODBiz_Merged.csv\n"
     ]
    }
   ],
   "source": [
    "# Move the most recent merged file to 4-Parsing\n",
    "import re \n",
    "import os \n",
    "import shutil\n",
    "import pandas as pd\n",
    "from tqdm import tqdm\n",
    "from datetime import datetime\n",
    "from dateutil.parser import parse\n",
    "\n",
    "# Find the latest merged file\n",
    "most_recent_date = datetime.min\n",
    "most_recent_iter = 0\n",
    "merged_output_dir = '/home/jovyan/ODBiz/3-Merging/output'\n",
    "parsing_input_dir = '/home/jovyan/ODBiz/4-Parsing/input'\n",
    "for f in os.listdir(merged_output_dir):\n",
    "    if f.endswith('.csv'):\n",
    "        date_search = re.search('(\\d*)-ODBiz_merged_(\\d{4}-\\d{2}-\\d{2})', f)\n",
    "        if date_search:\n",
    "            iteration = date_search.group(1)\n",
    "            file_date = parse(date_search.group(2))\n",
    "            if file_date > most_recent_date:\n",
    "                most_recent_date = (file_date)\n",
    "                most_recent_iter = iteration\n",
    "            elif file_date == most_recent_date and iteration > most_recent_iter:\n",
    "                most_recent_iter = iteration\n",
    "\n",
    "most_recent_filename = f'{most_recent_iter}-ODBiz_merged_{most_recent_date.date()}.csv'\n",
    "most_recent_filepath = f'{merged_output_dir}/{most_recent_filename}'\n",
    "\n",
    "# Update the parsing/input directory to have the latest merged file\n",
    "if os.path.exists(parsing_input_dir):\n",
    "    shutil.rmtree(parsing_input_dir)\n",
    "os.makedirs(parsing_input_dir)\n",
    "output_filepath = f'{parsing_input_dir}/ODBiz_Merged.csv'\n",
    " \n",
    "# # Copy over only a subset of the df\n",
    "# chunksize = 100000\n",
    "# for df in pd.read_csv(most_recent_filepath, chunksize=chunksize, dtype = str):\n",
    "#     df.to_csv(output_filepath, index = False)\n",
    "#     print(f'A subset of the most recent merged file has been saved to {output_filepath}')\n",
    "#     break\n",
    "\n",
    "# Copy over the entire df\n",
    "shutil.copyfile(most_recent_filepath, output_filepath)\n",
    "print(f'most_recent_filepath = {most_recent_filepath}')\n",
    "print(f'Most recent merged file saved to {output_filepath}')"
   ]
  },
  {
   "cell_type": "code",
   "execution_count": null,
   "metadata": {},
   "outputs": [],
   "source": []
  }
 ],
 "metadata": {
  "kernelspec": {
   "name": "python3105jvsc74a57bd03f6acfd5c7a89dd4516208ed2cd5283b5177bf58d22f895010c388a779688e5d",
   "display_name": "Python 3.10.5 64-bit ('odbiz': conda)"
  },
  "language_info": {
   "codemirror_mode": {
    "name": "ipython",
    "version": 3
   },
   "file_extension": ".py",
   "mimetype": "text/x-python",
   "name": "python",
   "nbconvert_exporter": "python",
   "pygments_lexer": "ipython3",
   "version": "3.10.5"
  },
  "metadata": {
   "interpreter": {
    "hash": "3f6acfd5c7a89dd4516208ed2cd5283b5177bf58d22f895010c388a779688e5d"
   }
  }
 },
 "nbformat": 4,
 "nbformat_minor": 4
}