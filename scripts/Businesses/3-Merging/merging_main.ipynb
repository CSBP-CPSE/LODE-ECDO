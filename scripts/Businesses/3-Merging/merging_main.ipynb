{
 "metadata": {
  "language_info": {
   "codemirror_mode": {
    "name": "ipython",
    "version": 3
   },
   "file_extension": ".py",
   "mimetype": "text/x-python",
   "name": "python",
   "nbconvert_exporter": "python",
   "pygments_lexer": "ipython3",
   "version": "3.8.12"
  },
  "orig_nbformat": 2,
  "kernelspec": {
   "name": "python3812jvsc74a57bd098b0a9b7b4eaaa670588a142fd0a9b87eaafe866f1db4228be72b4211d12040f",
   "display_name": "Python 3.8.12 64-bit ('base': conda)"
  }
 },
 "nbformat": 4,
 "nbformat_minor": 2,
 "cells": [
  {
   "cell_type": "code",
   "execution_count": null,
   "metadata": {},
   "outputs": [],
   "source": [
    "from importlib import import_module\n",
    "\n",
    "ExtractOpenTabOutput = import_module('1-ExtractOpenTabOutput')\n",
    "MergingBiz = import_module('2-MergingBiz')\n",
    "RemoveInvalidCoordinates = import_module('3-RemoveInvalidCoordinates')\n",
    "FilterNoAddrInfo = import_module('4-FilterNoAddrInfo')\n",
    "\n",
    "# ExtractOpenTabOutput = __import__('1-ExtractOpenTabOutput')\n",
    "# MergingBiz = __import__('2-MergingBiz')\n",
    "# RemoveInvalidCoordinates = __import__('3-RemoveInvalidCoordinates')\n",
    "# FilterNoAddrInfo = __import__('4-FilterNoAddrInfo')\n",
    "\n"
   ]
  },
  {
   "cell_type": "code",
   "execution_count": 7,
   "metadata": {},
   "outputs": [
    {
     "output_type": "stream",
     "name": "stdout",
     "text": [
      "Files unzipped to /home/jovyan/ODBiz/3-Merging/input\n"
     ]
    }
   ],
   "source": [
    "ExtractOpenTabOutput.main()"
   ]
  },
  {
   "cell_type": "code",
   "execution_count": 8,
   "metadata": {},
   "outputs": [
    {
     "output_type": "stream",
     "name": "stdout",
     "text": [
      "Begin merging files together...\n",
      "100%|██████████| 60/60 [00:03<00:00, 16.15it/s]\n",
      "Standardizing Province Names...\n",
      "100%|██████████| 20/20 [00:05<00:00,  3.66it/s]\n",
      "Standardizing Country Names...\n",
      "100%|██████████| 1/1 [00:00<00:00,  1.66it/s]\n",
      "Making Postal Codes consistent...\n",
      "100%|██████████| 844131/844131 [00:00<00:00, 1935792.92it/s]\n",
      "Marking Duplicates\n",
      "Creating idx_basic...\n",
      "100%|██████████| 844131/844131 [00:00<00:00, 2005533.08it/s]\n",
      "Creating temp column:\n",
      "Capitalize values and fill in blanks of dup_key columns with NULL to a copy of the df\n",
      "100%|██████████| 9/9 [00:16<00:00,  1.84s/it]\n",
      "Appending dup_key columns together and assign to temp column\n",
      "100%|██████████| 9/9 [00:02<00:00,  3.99it/s]\n",
      "Applying hashing to get new indicies...\n",
      "100%|██████████| 844131/844131 [00:00<00:00, 1970954.60it/s]\n",
      "Filling in geo_source column\n",
      "Dropping duplicates\n",
      "41567 duplicate rows dropped\n",
      "Writing 802564 dataframe entries to csv. This will take a while and unfortunately no easy progress bar solutions were available here...\n",
      "File saved to /home/jovyan/ODBiz/3-Merging/output/ODBiz_dups_only_2022-07-19.csv\n",
      "File saved to /home/jovyan/ODBiz/3-Merging/output/2-ODBiz_merged_2022-07-19.csv\n",
      "Finished in 55.934782 seconds\n"
     ]
    }
   ],
   "source": [
    "MergingBiz.main()"
   ]
  },
  {
   "cell_type": "code",
   "execution_count": 11,
   "metadata": {},
   "outputs": [
    {
     "output_type": "error",
     "ename": "Error",
     "evalue": "Pip module Unable to parse debugpy output, please log an issue with https://github.com/microsoft/vscode-jupyter is required for debugging cells. You will need to install it to debug cells.",
     "traceback": [
      "Error: Pip module Unable to parse debugpy output, please log an issue with https://github.com/microsoft/vscode-jupyter is required for debugging cells. You will need to install it to debug cells.",
      "at _.parseConnectInfo (/etc/share/code-server/extensions/ms-toolsai.jupyter-2021.6.832593372/out/client/extension.js:90:161460)",
      "at _.connectToLocal (/etc/share/code-server/extensions/ms-toolsai.jupyter-2021.6.832593372/out/client/extension.js:90:161987)",
      "at async _.connect (/etc/share/code-server/extensions/ms-toolsai.jupyter-2021.6.832593372/out/client/extension.js:90:159864)",
      "at async _.startDebugSession (/etc/share/code-server/extensions/ms-toolsai.jupyter-2021.6.832593372/out/client/extension.js:90:159011)",
      "at async D.submitCode (/etc/share/code-server/extensions/ms-toolsai.jupyter-2021.6.832593372/out/client/extension.js:37:622214)",
      "at async D.handleRunByLine (/etc/share/code-server/extensions/ms-toolsai.jupyter-2021.6.832593372/out/client/extension.js:37:610158)"
     ]
    }
   ],
   "source": [
    "RemoveInvalidCoordinates.main()"
   ]
  },
  {
   "cell_type": "code",
   "execution_count": 10,
   "metadata": {},
   "outputs": [
    {
     "output_type": "stream",
     "name": "stderr",
     "text": [
      "Loading data: 100%|██████████| 13/13 [00:07<00:00,  1.75it/s]\n",
      "Filling in NA as empty string\n",
      "Done in 7 s\n",
      "Concatenating address info\n",
      "Done in 13 s\n",
      "Checking for blanks\n",
      "Done in 0 s\n",
      "Dropping entries with insufficient address info\n",
      "Done in 2 s\n",
      "Saving df to /home/jovyan/ODBiz/3-Merging/output/4-ODBiz_merged_2022-07-19.csv\n",
      "Done in 20 s\n",
      "df saved to /home/jovyan/ODBiz/3-Merging/output/4-ODBiz_merged_2022-07-19.csv\n"
     ]
    }
   ],
   "source": [
    "FilterNoAddrInfo.main()"
   ]
  }
 ]
}