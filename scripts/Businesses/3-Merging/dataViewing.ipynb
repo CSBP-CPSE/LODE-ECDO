{
 "metadata": {
  "language_info": {
   "codemirror_mode": {
    "name": "ipython",
    "version": 3
   },
   "file_extension": ".py",
   "mimetype": "text/x-python",
   "name": "python",
   "nbconvert_exporter": "python",
   "pygments_lexer": "ipython3",
   "version": "3.8.12"
  },
  "orig_nbformat": 2,
  "kernelspec": {
   "name": "python3812jvsc74a57bd098b0a9b7b4eaaa670588a142fd0a9b87eaafe866f1db4228be72b4211d12040f",
   "display_name": "Python 3.8.12 64-bit ('base': conda)"
  }
 },
 "nbformat": 4,
 "nbformat_minor": 2,
 "cells": [
  {
   "cell_type": "code",
   "execution_count": 1,
   "metadata": {},
   "outputs": [],
   "source": [
    "import pandas as pd\n",
    "from tqdm import tqdm\n",
    "from datetime import datetime as dt\n",
    "from pytz import timezone\n"
   ]
  },
  {
   "cell_type": "code",
   "execution_count": 2,
   "metadata": {},
   "outputs": [
    {
     "output_type": "stream",
     "name": "stderr",
     "text": [
      "Loading data: 100%|██████████| 1355/1355 [00:14<00:00, 92.00it/s]\n",
      "Successfully loaded /home/jovyan/ODBiz/3-Merging/output/ODBiz_merged_2022-06-24.csv\n"
     ]
    }
   ],
   "source": [
    "# Load in the merged dataframe\n",
    "\n",
    "ET = 'Canada/Eastern'\n",
    "start_time = dt.now(timezone(ET))\n",
    "today = str(start_time)[:10]\n",
    "\n",
    "mergedFilePathName = f'/home/jovyan/ODBiz/3-Merging/output/ODBiz_merged_{today}.csv'\n",
    "total_lines = 1354503\n",
    "chunksize = 1000\n",
    "# df = pd.read_csv(mergedFilePathName, low_memory=False)\n",
    "df = pd.concat([chunk for chunk in tqdm(pd.read_csv(mergedFilePathName, chunksize=chunksize), desc='Loading data', total=total_lines//chunksize+1)])\n",
    "num_of_rows = df.shape[0]\n",
    "\n",
    "print(f'Successfully loaded {mergedFilePathName}')"
   ]
  },
  {
   "cell_type": "code",
   "execution_count": 3,
   "metadata": {},
   "outputs": [
    {
     "output_type": "stream",
     "name": "stdout",
     "text": [
      "Number of unique data sources: 60\n",
      "--------------------------------------------------------------\n",
      "Unique Non-Canadian Province Entries:\n",
      "WA\n",
      "nan\n",
      "NC\n",
      "IL\n",
      "CA\n",
      "TX\n",
      "NY\n",
      "PQ\n",
      "CO\n",
      "NV\n",
      "AL\n",
      "GA\n",
      "AZ\n",
      "NJ\n",
      "FL\n",
      "US\n",
      "MA\n",
      "PA\n",
      "OH\n",
      "KS\n",
      "WI\n",
      "VA\n",
      "UT\n",
      "DE\n",
      "OR\n",
      "78\n",
      "`\n",
      "SC\n",
      "MI\n",
      "MD\n",
      "CT\n",
      "QB\n",
      "NF\n",
      "ID\n",
      "MN\n",
      "MO\n",
      "SP\n",
      "RJ\n",
      "IN\n",
      "HB\n",
      "TN\n",
      "LAKEVIEW ESTATES\n",
      "TEHRAN\n",
      "MT\n",
      "OK\n",
      "CHESHITE\n",
      "ARIZONA\n"
     ]
    }
   ],
   "source": [
    "# Verify that all source files are present in the merged file and extract a list of non-Canadian 'provinces'\n",
    "\n",
    "print(f'Number of unique data sources: {len(pd.unique(df.localfile))}')\n",
    "print('--------------------------------------------------------------')\n",
    "print('Unique Non-Canadian Province Entries:')\n",
    "can_prov_lst = ['AB', 'BC', 'MB', 'NB', 'NL', 'NS', 'NT', 'NU', 'ON', 'PE', 'QC', 'SK', 'YT']\n",
    "provinces = pd.unique(df.province)\n",
    "non_cad_provs = []\n",
    "for i in provinces:\n",
    "    if not(i in can_prov_lst):\n",
    "        non_cad_provs.append(i)\n",
    "        print(i)\n",
    "\n",
    "\n"
   ]
  },
  {
   "cell_type": "code",
   "execution_count": 21,
   "metadata": {},
   "outputs": [
    {
     "output_type": "stream",
     "name": "stderr",
     "text": [
      "100%|██████████| 1354503/1354503 [01:14<00:00, 18242.20it/s]\n",
      "Number of non-Canadian entries found: 4268\n",
      "/home/jovyan/ODBiz/3-Merging/output/nonCanadianEntries.csv saved\n"
     ]
    }
   ],
   "source": [
    "# Extract a list of indices corresponding to non-Canadian entries and obtain the subset of the df that contains these entries\n",
    "non_cad_idx= []\n",
    "for i, row in tqdm(df.iterrows(), total = num_of_rows):\n",
    "    if row.province in non_cad_provs:\n",
    "        non_cad_idx.append(i)\n",
    "print(f'Number of non-Canadian entries found: {len(non_cad_idx)}')\n",
    "\n",
    "non_cad_df = df.loc[non_cad_idx]\n",
    "nonCanadianEntriesFileName = '/home/jovyan/ODBiz/3-Merging/output/nonCanadianEntries.csv'\n",
    "non_cad_df.to_csv(nonCanadianEntriesFileName)\n",
    "print(f'{nonCanadianEntriesFileName} saved')"
   ]
  },
  {
   "cell_type": "code",
   "execution_count": 7,
   "metadata": {},
   "outputs": [
    {
     "output_type": "execute_result",
     "data": {
      "text/plain": [
       "array(['BC_Vancouver_Business_Licences.csv',\n",
       "       'ON_Durham_Business_Directory.csv',\n",
       "       'BC_Nanaimo_Business_Licences.csv',\n",
       "       'ON_York_Region_Business_Directory.csv',\n",
       "       'ON_Pickering_Business_Directory.csv'], dtype=object)"
      ]
     },
     "metadata": {},
     "execution_count": 7
    }
   ],
   "source": [
    "pd.unique(non_cad_df.localfile)"
   ]
  },
  {
   "cell_type": "code",
   "execution_count": 19,
   "metadata": {},
   "outputs": [
    {
     "output_type": "stream",
     "name": "stderr",
     "text": [
      "100%|██████████| 4268/4268 [00:00<00:00, 17463.33it/s]Number of foreign entries found: 3485\n",
      "\n"
     ]
    },
    {
     "output_type": "execute_result",
     "data": {
      "text/plain": [
       "                          idx                            localfile  \\\n",
       "99261    c103f9f66001544d655d   BC_Vancouver_Business_Licences.csv   \n",
       "104860   a2d286aba44fbc7cf0aa   BC_Vancouver_Business_Licences.csv   \n",
       "104904   5a375baae54e8bda2f7f   BC_Vancouver_Business_Licences.csv   \n",
       "104993   1ea63da9455ce22e0bcf   BC_Vancouver_Business_Licences.csv   \n",
       "105015   5aab43277f19558e9fdb   BC_Vancouver_Business_Licences.csv   \n",
       "...                       ...                                  ...   \n",
       "1348794  153132a72dcb33408ddb  ON_Pickering_Business_Directory.csv   \n",
       "1351281  18431bf5e63851cd8ac0  ON_Pickering_Business_Directory.csv   \n",
       "1352011  48a6f5c3fa4441ffddbd  ON_Pickering_Business_Directory.csv   \n",
       "1352085  db5be65a27c6c5602e00  ON_Pickering_Business_Directory.csv   \n",
       "1352595  4ac936e2683a43694ffe  ON_Pickering_Business_Directory.csv   \n",
       "\n",
       "                        business_name  \\\n",
       "99261          Ipsos Reid Corporation   \n",
       "104860       Creekside Architects Ltd   \n",
       "104904          Golden Properties Ltd   \n",
       "104993    Oceanic Business Centre Inc   \n",
       "105015   North Arm Transportation Ltd   \n",
       "...                               ...   \n",
       "1348794        Stanmore Equipment Ltd   \n",
       "1351281           Berger Heating Ltd.   \n",
       "1352011                    Brimacombe   \n",
       "1352085         Ground Up Renovations   \n",
       "1352595   Bowmanville New Home Centre   \n",
       "\n",
       "                                           business_sector business_subsector  \\\n",
       "99261                                       Administration             Office   \n",
       "104860                                          Consultant             Office   \n",
       "104904                                 Property Management             Office   \n",
       "104993                                Secretarial Services             Office   \n",
       "105015                                      Shipping Agent             Office   \n",
       "...                                                    ...                ...   \n",
       "1348794  Supplier of construction equipment to businesses.                NaN   \n",
       "1351281  Heating, ventilation, & air conditioning (HVAC...                NaN   \n",
       "1352011                               Ski hill and chalet.                NaN   \n",
       "1352085                                 Renovation Company                NaN   \n",
       "1352595                       Real estate showroom centre.                NaN   \n",
       "\n",
       "        business_description business_id_no licence_number licence_type  \\\n",
       "99261                    NaN            NaN      13-184744          NaN   \n",
       "104860                   NaN            NaN      13-181328          NaN   \n",
       "104904                   NaN            NaN      13-181458          NaN   \n",
       "104993                   NaN            NaN      13-181682          NaN   \n",
       "105015                   NaN            NaN      13-181741          NaN   \n",
       "...                      ...            ...            ...          ...   \n",
       "1348794                  NaN         608063            NaN          NaN   \n",
       "1351281                  NaN         238870            NaN          NaN   \n",
       "1352011                  NaN           4210            NaN          NaN   \n",
       "1352085                  NaN         552600            NaN          NaN   \n",
       "1352595                  NaN         231427            NaN          NaN   \n",
       "\n",
       "        primary_NAICS  ... no_full_time no_part_time no_seasonal  \\\n",
       "99261             NaN  ...          NaN          NaN         NaN   \n",
       "104860            NaN  ...          NaN          NaN         NaN   \n",
       "104904            NaN  ...          NaN          NaN         NaN   \n",
       "104993            NaN  ...          NaN          NaN         NaN   \n",
       "105015            NaN  ...          NaN          NaN         NaN   \n",
       "...               ...  ...          ...          ...         ...   \n",
       "1348794      532410.0  ...          NaN          NaN         NaN   \n",
       "1351281      238220.0  ...          NaN          NaN         NaN   \n",
       "1352011      713920.0  ...          NaN          NaN         NaN   \n",
       "1352085      236118.0  ...          NaN          NaN         NaN   \n",
       "1352595      531390.0  ...          NaN          NaN         NaN   \n",
       "\n",
       "        date_established  indigenous                         provider  \\\n",
       "99261                NaN          no                City of Vancouver   \n",
       "104860               NaN          no                City of Vancouver   \n",
       "104904               NaN          no                City of Vancouver   \n",
       "104993               NaN          no                City of Vancouver   \n",
       "105015               NaN          no                City of Vancouver   \n",
       "...                  ...         ...                              ...   \n",
       "1348794              NaN          no  Regional Municipality of Durham   \n",
       "1351281              NaN          no  Regional Municipality of Durham   \n",
       "1352011              NaN          no  Regional Municipality of Durham   \n",
       "1352085              NaN          no  Regional Municipality of Durham   \n",
       "1352595              NaN          no  Regional Municipality of Durham   \n",
       "\n",
       "        duplicated idx_basic  \\\n",
       "99261        False     99262   \n",
       "104860       False    104861   \n",
       "104904       False    104905   \n",
       "104993       False    104994   \n",
       "105015       False    105016   \n",
       "...            ...       ...   \n",
       "1348794       True   1348795   \n",
       "1351281       True   1351282   \n",
       "1352011       True   1352012   \n",
       "1352085       True   1352086   \n",
       "1352595       True   1352596   \n",
       "\n",
       "                                                      temp geo_source  \n",
       "99261    IPSOSREIDCORPORATION-13184744-NULL-NULL-NULL-N...        NaN  \n",
       "104860   CREEKSIDEARCHITECTSLTD-13181328-NULL-NULL-NULL...        NaN  \n",
       "104904   GOLDENPROPERTIESLTD-13181458-NULL-NULL-NULL-NU...        NaN  \n",
       "104993   OCEANICBUSINESSCENTREINC-13181682-NULL-NULL-NU...        NaN  \n",
       "105015   NORTHARMTRANSPORTATIONLTD-13181741-NULL-NULL-N...        NaN  \n",
       "...                                                    ...        ...  \n",
       "1348794  STANMOREEQUIPMENTLTD-NULL-608063-5324100-NULL-...        NaN  \n",
       "1351281  BERGERHEATINGLTD-NULL-238870-2382200-NULL-NULL...        NaN  \n",
       "1352011        BRIMACOMBE-NULL-4210-7139200-NULL-NULL-NULL        NaN  \n",
       "1352085  GROUNDUPRENOVATIONS-NULL-552600-2361180-NULL-N...        NaN  \n",
       "1352595  BOWMANVILLENEWHOMECENTRE-NULL-231427-5313900-N...        NaN  \n",
       "\n",
       "[3485 rows x 45 columns]"
      ],
      "text/html": "<div>\n<style scoped>\n    .dataframe tbody tr th:only-of-type {\n        vertical-align: middle;\n    }\n\n    .dataframe tbody tr th {\n        vertical-align: top;\n    }\n\n    .dataframe thead th {\n        text-align: right;\n    }\n</style>\n<table border=\"1\" class=\"dataframe\">\n  <thead>\n    <tr style=\"text-align: right;\">\n      <th></th>\n      <th>idx</th>\n      <th>localfile</th>\n      <th>business_name</th>\n      <th>business_sector</th>\n      <th>business_subsector</th>\n      <th>business_description</th>\n      <th>business_id_no</th>\n      <th>licence_number</th>\n      <th>licence_type</th>\n      <th>primary_NAICS</th>\n      <th>...</th>\n      <th>no_full_time</th>\n      <th>no_part_time</th>\n      <th>no_seasonal</th>\n      <th>date_established</th>\n      <th>indigenous</th>\n      <th>provider</th>\n      <th>duplicated</th>\n      <th>idx_basic</th>\n      <th>temp</th>\n      <th>geo_source</th>\n    </tr>\n  </thead>\n  <tbody>\n    <tr>\n      <th>99261</th>\n      <td>c103f9f66001544d655d</td>\n      <td>BC_Vancouver_Business_Licences.csv</td>\n      <td>Ipsos Reid Corporation</td>\n      <td>Administration</td>\n      <td>Office</td>\n      <td>NaN</td>\n      <td>NaN</td>\n      <td>13-184744</td>\n      <td>NaN</td>\n      <td>NaN</td>\n      <td>...</td>\n      <td>NaN</td>\n      <td>NaN</td>\n      <td>NaN</td>\n      <td>NaN</td>\n      <td>no</td>\n      <td>City of Vancouver</td>\n      <td>False</td>\n      <td>99262</td>\n      <td>IPSOSREIDCORPORATION-13184744-NULL-NULL-NULL-N...</td>\n      <td>NaN</td>\n    </tr>\n    <tr>\n      <th>104860</th>\n      <td>a2d286aba44fbc7cf0aa</td>\n      <td>BC_Vancouver_Business_Licences.csv</td>\n      <td>Creekside Architects Ltd</td>\n      <td>Consultant</td>\n      <td>Office</td>\n      <td>NaN</td>\n      <td>NaN</td>\n      <td>13-181328</td>\n      <td>NaN</td>\n      <td>NaN</td>\n      <td>...</td>\n      <td>NaN</td>\n      <td>NaN</td>\n      <td>NaN</td>\n      <td>NaN</td>\n      <td>no</td>\n      <td>City of Vancouver</td>\n      <td>False</td>\n      <td>104861</td>\n      <td>CREEKSIDEARCHITECTSLTD-13181328-NULL-NULL-NULL...</td>\n      <td>NaN</td>\n    </tr>\n    <tr>\n      <th>104904</th>\n      <td>5a375baae54e8bda2f7f</td>\n      <td>BC_Vancouver_Business_Licences.csv</td>\n      <td>Golden Properties Ltd</td>\n      <td>Property Management</td>\n      <td>Office</td>\n      <td>NaN</td>\n      <td>NaN</td>\n      <td>13-181458</td>\n      <td>NaN</td>\n      <td>NaN</td>\n      <td>...</td>\n      <td>NaN</td>\n      <td>NaN</td>\n      <td>NaN</td>\n      <td>NaN</td>\n      <td>no</td>\n      <td>City of Vancouver</td>\n      <td>False</td>\n      <td>104905</td>\n      <td>GOLDENPROPERTIESLTD-13181458-NULL-NULL-NULL-NU...</td>\n      <td>NaN</td>\n    </tr>\n    <tr>\n      <th>104993</th>\n      <td>1ea63da9455ce22e0bcf</td>\n      <td>BC_Vancouver_Business_Licences.csv</td>\n      <td>Oceanic Business Centre Inc</td>\n      <td>Secretarial Services</td>\n      <td>Office</td>\n      <td>NaN</td>\n      <td>NaN</td>\n      <td>13-181682</td>\n      <td>NaN</td>\n      <td>NaN</td>\n      <td>...</td>\n      <td>NaN</td>\n      <td>NaN</td>\n      <td>NaN</td>\n      <td>NaN</td>\n      <td>no</td>\n      <td>City of Vancouver</td>\n      <td>False</td>\n      <td>104994</td>\n      <td>OCEANICBUSINESSCENTREINC-13181682-NULL-NULL-NU...</td>\n      <td>NaN</td>\n    </tr>\n    <tr>\n      <th>105015</th>\n      <td>5aab43277f19558e9fdb</td>\n      <td>BC_Vancouver_Business_Licences.csv</td>\n      <td>North Arm Transportation Ltd</td>\n      <td>Shipping Agent</td>\n      <td>Office</td>\n      <td>NaN</td>\n      <td>NaN</td>\n      <td>13-181741</td>\n      <td>NaN</td>\n      <td>NaN</td>\n      <td>...</td>\n      <td>NaN</td>\n      <td>NaN</td>\n      <td>NaN</td>\n      <td>NaN</td>\n      <td>no</td>\n      <td>City of Vancouver</td>\n      <td>False</td>\n      <td>105016</td>\n      <td>NORTHARMTRANSPORTATIONLTD-13181741-NULL-NULL-N...</td>\n      <td>NaN</td>\n    </tr>\n    <tr>\n      <th>...</th>\n      <td>...</td>\n      <td>...</td>\n      <td>...</td>\n      <td>...</td>\n      <td>...</td>\n      <td>...</td>\n      <td>...</td>\n      <td>...</td>\n      <td>...</td>\n      <td>...</td>\n      <td>...</td>\n      <td>...</td>\n      <td>...</td>\n      <td>...</td>\n      <td>...</td>\n      <td>...</td>\n      <td>...</td>\n      <td>...</td>\n      <td>...</td>\n      <td>...</td>\n      <td>...</td>\n    </tr>\n    <tr>\n      <th>1348794</th>\n      <td>153132a72dcb33408ddb</td>\n      <td>ON_Pickering_Business_Directory.csv</td>\n      <td>Stanmore Equipment Ltd</td>\n      <td>Supplier of construction equipment to businesses.</td>\n      <td>NaN</td>\n      <td>NaN</td>\n      <td>608063</td>\n      <td>NaN</td>\n      <td>NaN</td>\n      <td>532410.0</td>\n      <td>...</td>\n      <td>NaN</td>\n      <td>NaN</td>\n      <td>NaN</td>\n      <td>NaN</td>\n      <td>no</td>\n      <td>Regional Municipality of Durham</td>\n      <td>True</td>\n      <td>1348795</td>\n      <td>STANMOREEQUIPMENTLTD-NULL-608063-5324100-NULL-...</td>\n      <td>NaN</td>\n    </tr>\n    <tr>\n      <th>1351281</th>\n      <td>18431bf5e63851cd8ac0</td>\n      <td>ON_Pickering_Business_Directory.csv</td>\n      <td>Berger Heating Ltd.</td>\n      <td>Heating, ventilation, &amp; air conditioning (HVAC...</td>\n      <td>NaN</td>\n      <td>NaN</td>\n      <td>238870</td>\n      <td>NaN</td>\n      <td>NaN</td>\n      <td>238220.0</td>\n      <td>...</td>\n      <td>NaN</td>\n      <td>NaN</td>\n      <td>NaN</td>\n      <td>NaN</td>\n      <td>no</td>\n      <td>Regional Municipality of Durham</td>\n      <td>True</td>\n      <td>1351282</td>\n      <td>BERGERHEATINGLTD-NULL-238870-2382200-NULL-NULL...</td>\n      <td>NaN</td>\n    </tr>\n    <tr>\n      <th>1352011</th>\n      <td>48a6f5c3fa4441ffddbd</td>\n      <td>ON_Pickering_Business_Directory.csv</td>\n      <td>Brimacombe</td>\n      <td>Ski hill and chalet.</td>\n      <td>NaN</td>\n      <td>NaN</td>\n      <td>4210</td>\n      <td>NaN</td>\n      <td>NaN</td>\n      <td>713920.0</td>\n      <td>...</td>\n      <td>NaN</td>\n      <td>NaN</td>\n      <td>NaN</td>\n      <td>NaN</td>\n      <td>no</td>\n      <td>Regional Municipality of Durham</td>\n      <td>True</td>\n      <td>1352012</td>\n      <td>BRIMACOMBE-NULL-4210-7139200-NULL-NULL-NULL</td>\n      <td>NaN</td>\n    </tr>\n    <tr>\n      <th>1352085</th>\n      <td>db5be65a27c6c5602e00</td>\n      <td>ON_Pickering_Business_Directory.csv</td>\n      <td>Ground Up Renovations</td>\n      <td>Renovation Company</td>\n      <td>NaN</td>\n      <td>NaN</td>\n      <td>552600</td>\n      <td>NaN</td>\n      <td>NaN</td>\n      <td>236118.0</td>\n      <td>...</td>\n      <td>NaN</td>\n      <td>NaN</td>\n      <td>NaN</td>\n      <td>NaN</td>\n      <td>no</td>\n      <td>Regional Municipality of Durham</td>\n      <td>True</td>\n      <td>1352086</td>\n      <td>GROUNDUPRENOVATIONS-NULL-552600-2361180-NULL-N...</td>\n      <td>NaN</td>\n    </tr>\n    <tr>\n      <th>1352595</th>\n      <td>4ac936e2683a43694ffe</td>\n      <td>ON_Pickering_Business_Directory.csv</td>\n      <td>Bowmanville New Home Centre</td>\n      <td>Real estate showroom centre.</td>\n      <td>NaN</td>\n      <td>NaN</td>\n      <td>231427</td>\n      <td>NaN</td>\n      <td>NaN</td>\n      <td>531390.0</td>\n      <td>...</td>\n      <td>NaN</td>\n      <td>NaN</td>\n      <td>NaN</td>\n      <td>NaN</td>\n      <td>no</td>\n      <td>Regional Municipality of Durham</td>\n      <td>True</td>\n      <td>1352596</td>\n      <td>BOWMANVILLENEWHOMECENTRE-NULL-231427-5313900-N...</td>\n      <td>NaN</td>\n    </tr>\n  </tbody>\n</table>\n<p>3485 rows × 45 columns</p>\n</div>"
     },
     "metadata": {},
     "execution_count": 19
    }
   ],
   "source": [
    "USA_states = [ 'AK', 'AL', 'AR', 'AZ', 'CA', 'CO', 'CT', 'DC', 'DE', 'FL', 'GA',\n",
    "           'HI', 'IA', 'ID', 'IL', 'IN', 'KS', 'KY', 'LA', 'MA', 'MD', 'ME',\n",
    "           'MI', 'MN', 'MO', 'MS', 'MT', 'NC', 'ND', 'NE', 'NH', 'NJ', 'NM',\n",
    "           'NV', 'NY', 'OH', 'OK', 'OR', 'PA', 'RI', 'SC', 'SD', 'TN', 'TX',\n",
    "           'UT', 'VA', 'VT', 'WA', 'WI', 'WV', 'WY', 'ARIZONA']\n",
    "\n",
    "foreign_prov_codes = list(set(non_cad_provs) - set(USA_states))\n",
    "# for i in foreign_prov_codes:\n",
    "#     print(i)\n",
    "\n",
    "# Extract a list of indices corresponding to foreign code entries and obtain the subset of the df that contains these entries\n",
    "foreign_codes_idx = []\n",
    "for i, row in tqdm(non_cad_df.iterrows(), total = 4268 ):\n",
    "    if row.province in foreign_prov_codes:\n",
    "        foreign_codes_idx.append(i)\n",
    "print(f'Number of foreign entries found: {len(foreign_codes_idx)}')\n",
    "\n",
    "foreign_codes_df = df.loc[foreign_codes_idx]\n",
    "foreign_codes_df"
   ]
  },
  {
   "cell_type": "code",
   "execution_count": 5,
   "metadata": {},
   "outputs": [
    {
     "output_type": "stream",
     "name": "stdout",
     "text": [
      "--------------------------------------------------------------\nUnique Country Entries:\nnan\nCANADA\n"
     ]
    }
   ],
   "source": [
    "# Print the unique countries present\n",
    "print('--------------------------------------------------------------')\n",
    "print('Unique Country Entries:')\n",
    "countries = pd.unique(df['country'])\n",
    "for i in countries:\n",
    "        print(i)"
   ]
  },
  {
   "cell_type": "code",
   "execution_count": 6,
   "metadata": {},
   "outputs": [
    {
     "output_type": "stream",
     "name": "stdout",
     "text": [
      "idx                                                  8f6bd3c96413edd33d9d\nlocalfile                              BC_Vancouver_Business_Licences.csv\nbusiness_name                                        IMATS Vancouver 2013\nbusiness_sector                                              Show/Contest\nbusiness_subsector                             Exhibitions/Shows/Concerts\nbusiness_description                                                  NaN\nbusiness_id_no                                                        NaN\nlicence_number                                                  13-389885\nlicence_type                                                          NaN\nprimary_NAICS                                                         NaN\nsecondary_NAICS                                                       NaN\nNAICS_descr                                                           NaN\nalt_econ_act_code                                                     NaN\nalt_econ_act_descrip                                                  NaN\nlatitude                                                              NaN\nlongitude                                                             NaN\nfull_address                                                          NaN\nfull_address_2                                                        NaN\nmailing_address                                                       NaN\nunit                                                                  NaN\nstreet_no                                                         12808.0\nstreet_name                                                NE 95th Street\nstreet_direction                                                      NaN\nstreet_type                                                           NaN\ncity                                                            Vancouver\nprovince                                                               WA\npostal_code                                                         98682\ncountry                                                               NaN\nbusiness_website                                                      NaN\nemail                                                                 NaN\ntelephone                                                             NaN\ntelephone_extension                                                   NaN\ntoll_free_telephone                                                   NaN\nfax                                                                   NaN\ntotal_no_employees                                                    0.0\nno_full_time                                                          NaN\nno_part_time                                                          NaN\nno_seasonal                                                           NaN\ndate_established                                                      NaN\nindigenous                                                             no\nprovider                                                City of Vancouver\nduplicated                                                          False\nidx_basic                                                           96546\ntemp                    IMATSVANCOUVER2013-13389885-NULL-NULL-NULL-NUL...\ngeo_source                                                            NaN\nName: 96545, dtype: object\n"
     ]
    }
   ],
   "source": [
    "sub_df = df[df.province == 'WA']\n",
    "for i,row in sub_df.iterrows():\n",
    "    print(row)\n",
    "    break\n",
    "# df.loc['idx', '8f6bd3c96413edd33d9d']"
   ]
  },
  {
   "cell_type": "code",
   "execution_count": null,
   "metadata": {},
   "outputs": [],
   "source": []
  }
 ]
}