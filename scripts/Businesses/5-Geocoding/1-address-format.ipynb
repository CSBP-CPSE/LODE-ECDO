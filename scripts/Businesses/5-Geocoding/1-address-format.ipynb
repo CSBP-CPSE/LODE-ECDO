{
 "cells": [
  {
   "cell_type": "code",
   "execution_count": 12,
   "metadata": {
    "execution": {
     "iopub.execute_input": "2022-09-01T14:10:31.573372Z",
     "iopub.status.busy": "2022-09-01T14:10:31.573121Z",
     "iopub.status.idle": "2022-09-01T14:10:31.577316Z",
     "shell.execute_reply": "2022-09-01T14:10:31.576427Z",
     "shell.execute_reply.started": "2022-09-01T14:10:31.573345Z"
    },
    "tags": []
   },
   "outputs": [],
   "source": [
    "# this script is to applies formating to addresses\n",
    "\n",
    "# The formatting functions apply three main processes to the input addresses. These are\n",
    "# * removing punctuation\n",
    "# * standardising directions (e.g., north &rarr; n)\n",
    "# * standardising street types (e.g., street &rarr; st)\n",
    "\n",
    "import pandas as pd\n",
    "from Address_Format_Funcs import AddressClean_en, AddressClean_fr"
   ]
  },
  {
   "cell_type": "code",
   "execution_count": 23,
   "metadata": {
    "execution": {
     "iopub.execute_input": "2022-09-01T14:51:04.467402Z",
     "iopub.status.busy": "2022-09-01T14:51:04.467109Z",
     "iopub.status.idle": "2022-09-01T14:51:10.065620Z",
     "shell.execute_reply": "2022-09-01T14:51:10.064937Z",
     "shell.execute_reply.started": "2022-09-01T14:51:04.467373Z"
    },
    "tags": []
   },
   "outputs": [
    {
     "name": "stderr",
     "output_type": "stream",
     "text": [
      "<ipython-input-23-caac82b1244d>:1: DtypeWarning: Columns (3,4,5,6,7,8,9,11,12,13,14,15,19,20,21,22,23,25,26,29,30,31,32,34,35,36,40,42,44) have mixed types. Specify dtype option on import or set low_memory=False.\n",
      "  df = pd.read_csv('data/ODBiz_parsed.csv')\n"
     ]
    },
    {
     "data": {
      "text/plain": [
       "0"
      ]
     },
     "execution_count": 23,
     "metadata": {},
     "output_type": "execute_result"
    }
   ],
   "source": [
    "df = pd.read_csv('data/ODBiz_parsed.csv')\n",
    "df['full_address'].isna().sum()\n",
    "\n",
    "# list(df)"
   ]
  },
  {
   "cell_type": "code",
   "execution_count": 22,
   "metadata": {
    "execution": {
     "iopub.execute_input": "2022-09-01T14:50:43.403476Z",
     "iopub.status.busy": "2022-09-01T14:50:43.403184Z",
     "iopub.status.idle": "2022-09-01T14:50:43.409288Z",
     "shell.execute_reply": "2022-09-01T14:50:43.408417Z",
     "shell.execute_reply.started": "2022-09-01T14:50:43.403438Z"
    },
    "tags": []
   },
   "outputs": [
    {
     "data": {
      "text/plain": [
       "803584"
      ]
     },
     "execution_count": 22,
     "metadata": {},
     "output_type": "execute_result"
    }
   ],
   "source": [
    "# FOR TESTING we are removing any records which have no street number or name\n",
    "# and restricting the columns\n",
    "\n",
    "# let's stop doing that. do this at the address matching stage\n",
    "\n",
    "# df = df[df['street_name'].notna()]\n",
    "# df = df[df['street_no'].notna()]\n",
    "# df = df[['localfile', 'province', 'city', 'mailing_address', 'street_no', 'street_name', 'latitude', 'longitude']]\n",
    "# sample = df.sample(100)\n",
    "# list(df)\n",
    "\n",
    "# df['full_address'].isna().sum()\n",
    "# df['street_name'].isna().sum()\n",
    "len(df)"
   ]
  },
  {
   "cell_type": "code",
   "execution_count": 8,
   "metadata": {
    "execution": {
     "iopub.execute_input": "2022-08-29T14:54:05.905703Z",
     "iopub.status.busy": "2022-08-29T14:54:05.905425Z",
     "iopub.status.idle": "2022-08-29T14:54:06.097957Z",
     "shell.execute_reply": "2022-08-29T14:54:06.097036Z",
     "shell.execute_reply.started": "2022-08-29T14:54:05.905673Z"
    },
    "tags": []
   },
   "outputs": [
    {
     "name": "stdout",
     "output_type": "stream",
     "text": [
      "34973\n",
      "106548\n",
      "63886\n",
      "257289\n"
     ]
    }
   ],
   "source": [
    "print(df['street_no'].nunique())  \n",
    "print(df['street_no'].isna().sum())\n",
    "print(df['LP_street_name'].nunique())\n",
    "print(df['LP_street_name'].isna().sum())"
   ]
  },
  {
   "cell_type": "code",
   "execution_count": 9,
   "metadata": {
    "execution": {
     "iopub.execute_input": "2022-08-29T14:55:17.275119Z",
     "iopub.status.busy": "2022-08-29T14:55:17.274839Z",
     "iopub.status.idle": "2022-08-29T15:04:45.862664Z",
     "shell.execute_reply": "2022-08-29T15:04:45.861765Z",
     "shell.execute_reply.started": "2022-08-29T14:55:17.275086Z"
    },
    "tags": []
   },
   "outputs": [],
   "source": [
    "# apply formatting functions\n",
    "# test = df\n",
    "df = AddressClean_en(df,'street_name','formatted_en')\n",
    "# df = AddressClean_fr(df,'street_name','formatted_fr')"
   ]
  },
  {
   "cell_type": "code",
   "execution_count": 10,
   "metadata": {
    "execution": {
     "iopub.execute_input": "2022-08-29T15:11:06.402277Z",
     "iopub.status.busy": "2022-08-29T15:11:06.402016Z",
     "iopub.status.idle": "2022-08-29T15:11:33.991896Z",
     "shell.execute_reply": "2022-08-29T15:11:33.991157Z",
     "shell.execute_reply.started": "2022-08-29T15:11:06.402248Z"
    },
    "tags": []
   },
   "outputs": [],
   "source": [
    "df = AddressClean_fr(df,'street_name','formatted_fr')"
   ]
  },
  {
   "cell_type": "code",
   "execution_count": 11,
   "metadata": {
    "execution": {
     "iopub.execute_input": "2022-08-29T15:11:41.627820Z",
     "iopub.status.busy": "2022-08-29T15:11:41.627554Z",
     "iopub.status.idle": "2022-08-29T15:11:54.103447Z",
     "shell.execute_reply": "2022-08-29T15:11:54.102705Z",
     "shell.execute_reply.started": "2022-08-29T15:11:41.627793Z"
    },
    "tags": []
   },
   "outputs": [],
   "source": [
    "df.to_csv('data/formatted.csv',index=False)"
   ]
  }
 ],
 "metadata": {
  "kernelspec": {
   "display_name": "Python [conda env:root] *",
   "language": "python",
   "name": "conda-root-py"
  },
  "language_info": {
   "codemirror_mode": {
    "name": "ipython",
    "version": 3
   },
   "file_extension": ".py",
   "mimetype": "text/x-python",
   "name": "python",
   "nbconvert_exporter": "python",
   "pygments_lexer": "ipython3",
   "version": "3.8.12"
  }
 },
 "nbformat": 4,
 "nbformat_minor": 4
}
