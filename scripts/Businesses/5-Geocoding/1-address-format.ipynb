{
 "cells": [
  {
   "cell_type": "code",
   "execution_count": 48,
   "metadata": {
    "execution": {
     "iopub.execute_input": "2022-08-05T18:28:58.054082Z",
     "iopub.status.busy": "2022-08-05T18:28:58.053143Z",
     "iopub.status.idle": "2022-08-05T18:28:58.057854Z",
     "shell.execute_reply": "2022-08-05T18:28:58.056966Z",
     "shell.execute_reply.started": "2022-08-05T18:28:58.054043Z"
    },
    "tags": []
   },
   "outputs": [],
   "source": [
    "# this script is to applies formating to addresses\n",
    "\n",
    "import pandas as pd\n",
    "from Address_Format_Funcs import AddressClean_en, AddressClean_fr"
   ]
  },
  {
   "cell_type": "code",
   "execution_count": 49,
   "metadata": {
    "execution": {
     "iopub.execute_input": "2022-08-05T18:29:12.304791Z",
     "iopub.status.busy": "2022-08-05T18:29:12.303983Z",
     "iopub.status.idle": "2022-08-05T18:29:18.804151Z",
     "shell.execute_reply": "2022-08-05T18:29:18.803235Z",
     "shell.execute_reply.started": "2022-08-05T18:29:12.304762Z"
    },
    "tags": []
   },
   "outputs": [
    {
     "name": "stderr",
     "output_type": "stream",
     "text": [
      "/tmp/ipykernel_10264/3900506342.py:1: DtypeWarning: Columns (3,4,5,6,7,8,10,11,12,13,16,17,18,19,20,21,22,23,26,27,28,29,30,32,33,34,38,40,42) have mixed types. Specify dtype option on import or set low_memory=False.\n",
      "  df = pd.read_csv('4-ODBiz_merged_2022-08-04.csv')\n"
     ]
    }
   ],
   "source": [
    "df = pd.read_csv('4-ODBiz_merged_2022-08-04.csv')\n",
    "\n",
    "# test the formating function on a sample which has street names/ numbers\n",
    "df = df[df['street_name'].notna()]\n",
    "df = df[df['street_no'].notna()]\n",
    "\n",
    "df = df[['localfile', 'province', 'mailing_address', 'street_no', 'street_name']]\n",
    "\n",
    "# df = df[df['province'] == 'AB']\n",
    "\n",
    "# list(df)"
   ]
  },
  {
   "cell_type": "code",
   "execution_count": 50,
   "metadata": {
    "execution": {
     "iopub.execute_input": "2022-08-05T18:29:27.425337Z",
     "iopub.status.busy": "2022-08-05T18:29:27.424369Z",
     "iopub.status.idle": "2022-08-05T18:29:27.438245Z",
     "shell.execute_reply": "2022-08-05T18:29:27.437572Z",
     "shell.execute_reply.started": "2022-08-05T18:29:27.425291Z"
    },
    "tags": []
   },
   "outputs": [
    {
     "data": {
      "text/html": [
       "<div>\n",
       "<style scoped>\n",
       "    .dataframe tbody tr th:only-of-type {\n",
       "        vertical-align: middle;\n",
       "    }\n",
       "\n",
       "    .dataframe tbody tr th {\n",
       "        vertical-align: top;\n",
       "    }\n",
       "\n",
       "    .dataframe thead th {\n",
       "        text-align: right;\n",
       "    }\n",
       "</style>\n",
       "<table border=\"1\" class=\"dataframe\">\n",
       "  <thead>\n",
       "    <tr style=\"text-align: right;\">\n",
       "      <th></th>\n",
       "      <th>localfile</th>\n",
       "      <th>province</th>\n",
       "      <th>mailing_address</th>\n",
       "      <th>street_no</th>\n",
       "      <th>street_name</th>\n",
       "    </tr>\n",
       "  </thead>\n",
       "  <tbody>\n",
       "    <tr>\n",
       "      <th>0</th>\n",
       "      <td>BC_Victoria_Business_Licences.csv</td>\n",
       "      <td>BC</td>\n",
       "      <td>NaN</td>\n",
       "      <td>1417</td>\n",
       "      <td>PEMBROKE ST</td>\n",
       "    </tr>\n",
       "    <tr>\n",
       "      <th>1</th>\n",
       "      <td>BC_Victoria_Business_Licences.csv</td>\n",
       "      <td>BC</td>\n",
       "      <td>NaN</td>\n",
       "      <td>2626</td>\n",
       "      <td>BRIDGE ST</td>\n",
       "    </tr>\n",
       "    <tr>\n",
       "      <th>2</th>\n",
       "      <td>BC_Victoria_Business_Licences.csv</td>\n",
       "      <td>BC</td>\n",
       "      <td>NaN</td>\n",
       "      <td>1519</td>\n",
       "      <td>PANDORA AVE</td>\n",
       "    </tr>\n",
       "    <tr>\n",
       "      <th>3</th>\n",
       "      <td>BC_Victoria_Business_Licences.csv</td>\n",
       "      <td>BC</td>\n",
       "      <td>NaN</td>\n",
       "      <td>1070</td>\n",
       "      <td>JOAN CRES</td>\n",
       "    </tr>\n",
       "    <tr>\n",
       "      <th>4</th>\n",
       "      <td>BC_Victoria_Business_Licences.csv</td>\n",
       "      <td>BC</td>\n",
       "      <td>NaN</td>\n",
       "      <td>1540</td>\n",
       "      <td>FORT ST</td>\n",
       "    </tr>\n",
       "    <tr>\n",
       "      <th>...</th>\n",
       "      <td>...</td>\n",
       "      <td>...</td>\n",
       "      <td>...</td>\n",
       "      <td>...</td>\n",
       "      <td>...</td>\n",
       "    </tr>\n",
       "    <tr>\n",
       "      <th>800690</th>\n",
       "      <td>BC_Maple_Ridge_Business_Licences.csv</td>\n",
       "      <td>BC</td>\n",
       "      <td>NaN</td>\n",
       "      <td>11564.0</td>\n",
       "      <td>CREEKSIDE ST</td>\n",
       "    </tr>\n",
       "    <tr>\n",
       "      <th>800691</th>\n",
       "      <td>BC_Maple_Ridge_Business_Licences.csv</td>\n",
       "      <td>BC</td>\n",
       "      <td>NaN</td>\n",
       "      <td>11575.0</td>\n",
       "      <td>236 ST</td>\n",
       "    </tr>\n",
       "    <tr>\n",
       "      <th>800692</th>\n",
       "      <td>BC_Maple_Ridge_Business_Licences.csv</td>\n",
       "      <td>BC</td>\n",
       "      <td>NaN</td>\n",
       "      <td>20130.0</td>\n",
       "      <td>STEWART CRES</td>\n",
       "    </tr>\n",
       "    <tr>\n",
       "      <th>800693</th>\n",
       "      <td>BC_Maple_Ridge_Business_Licences.csv</td>\n",
       "      <td>BC</td>\n",
       "      <td>NaN</td>\n",
       "      <td>13176.0</td>\n",
       "      <td>LILLEY DR</td>\n",
       "    </tr>\n",
       "    <tr>\n",
       "      <th>800694</th>\n",
       "      <td>BC_Maple_Ridge_Business_Licences.csv</td>\n",
       "      <td>BC</td>\n",
       "      <td>NaN</td>\n",
       "      <td>11963.0</td>\n",
       "      <td>227 ST</td>\n",
       "    </tr>\n",
       "  </tbody>\n",
       "</table>\n",
       "<p>219942 rows × 5 columns</p>\n",
       "</div>"
      ],
      "text/plain": [
       "                                   localfile province mailing_address  \\\n",
       "0          BC_Victoria_Business_Licences.csv       BC             NaN   \n",
       "1          BC_Victoria_Business_Licences.csv       BC             NaN   \n",
       "2          BC_Victoria_Business_Licences.csv       BC             NaN   \n",
       "3          BC_Victoria_Business_Licences.csv       BC             NaN   \n",
       "4          BC_Victoria_Business_Licences.csv       BC             NaN   \n",
       "...                                      ...      ...             ...   \n",
       "800690  BC_Maple_Ridge_Business_Licences.csv       BC             NaN   \n",
       "800691  BC_Maple_Ridge_Business_Licences.csv       BC             NaN   \n",
       "800692  BC_Maple_Ridge_Business_Licences.csv       BC             NaN   \n",
       "800693  BC_Maple_Ridge_Business_Licences.csv       BC             NaN   \n",
       "800694  BC_Maple_Ridge_Business_Licences.csv       BC             NaN   \n",
       "\n",
       "       street_no   street_name  \n",
       "0           1417   PEMBROKE ST  \n",
       "1           2626     BRIDGE ST  \n",
       "2           1519   PANDORA AVE  \n",
       "3           1070     JOAN CRES  \n",
       "4           1540       FORT ST  \n",
       "...          ...           ...  \n",
       "800690   11564.0  CREEKSIDE ST  \n",
       "800691   11575.0        236 ST  \n",
       "800692   20130.0  STEWART CRES  \n",
       "800693   13176.0     LILLEY DR  \n",
       "800694   11963.0        227 ST  \n",
       "\n",
       "[219942 rows x 5 columns]"
      ]
     },
     "execution_count": 50,
     "metadata": {},
     "output_type": "execute_result"
    }
   ],
   "source": [
    "df"
   ]
  },
  {
   "cell_type": "code",
   "execution_count": 51,
   "metadata": {
    "execution": {
     "iopub.execute_input": "2022-08-05T18:29:53.691918Z",
     "iopub.status.busy": "2022-08-05T18:29:53.690885Z",
     "iopub.status.idle": "2022-08-05T18:29:53.703893Z",
     "shell.execute_reply": "2022-08-05T18:29:53.702565Z",
     "shell.execute_reply.started": "2022-08-05T18:29:53.691871Z"
    },
    "tags": []
   },
   "outputs": [],
   "source": [
    "sample = df.sample(599)\n",
    "# list(sample)\n",
    "sample = sample[['localfile', 'mailing_address', 'street_no', 'street_name']]"
   ]
  },
  {
   "cell_type": "code",
   "execution_count": 43,
   "metadata": {
    "execution": {
     "iopub.execute_input": "2022-08-05T13:48:31.483924Z",
     "iopub.status.busy": "2022-08-05T13:48:31.483186Z",
     "iopub.status.idle": "2022-08-05T13:48:31.493291Z",
     "shell.execute_reply": "2022-08-05T13:48:31.492616Z",
     "shell.execute_reply.started": "2022-08-05T13:48:31.483892Z"
    },
    "tags": []
   },
   "outputs": [
    {
     "data": {
      "text/html": [
       "<div>\n",
       "<style scoped>\n",
       "    .dataframe tbody tr th:only-of-type {\n",
       "        vertical-align: middle;\n",
       "    }\n",
       "\n",
       "    .dataframe tbody tr th {\n",
       "        vertical-align: top;\n",
       "    }\n",
       "\n",
       "    .dataframe thead th {\n",
       "        text-align: right;\n",
       "    }\n",
       "</style>\n",
       "<table border=\"1\" class=\"dataframe\">\n",
       "  <thead>\n",
       "    <tr style=\"text-align: right;\">\n",
       "      <th></th>\n",
       "      <th>localfile</th>\n",
       "      <th>mailing_address</th>\n",
       "      <th>street_no</th>\n",
       "      <th>street_name</th>\n",
       "    </tr>\n",
       "  </thead>\n",
       "  <tbody>\n",
       "    <tr>\n",
       "      <th>7242</th>\n",
       "      <td>AB_Banff_Business_Licences.csv</td>\n",
       "      <td>NaN</td>\n",
       "      <td>205</td>\n",
       "      <td>BEAR ST</td>\n",
       "    </tr>\n",
       "    <tr>\n",
       "      <th>7245</th>\n",
       "      <td>AB_Banff_Business_Licences.csv</td>\n",
       "      <td>NaN</td>\n",
       "      <td>117</td>\n",
       "      <td>BANFF AVE</td>\n",
       "    </tr>\n",
       "    <tr>\n",
       "      <th>7230</th>\n",
       "      <td>AB_Banff_Business_Licences.csv</td>\n",
       "      <td>NaN</td>\n",
       "      <td>209</td>\n",
       "      <td>BANFF AVE</td>\n",
       "    </tr>\n",
       "    <tr>\n",
       "      <th>7763</th>\n",
       "      <td>AB_Banff_Business_Licences.csv</td>\n",
       "      <td>NaN</td>\n",
       "      <td>220</td>\n",
       "      <td>BEAR ST</td>\n",
       "    </tr>\n",
       "    <tr>\n",
       "      <th>7561</th>\n",
       "      <td>AB_Banff_Business_Licences.csv</td>\n",
       "      <td>NaN</td>\n",
       "      <td>138</td>\n",
       "      <td>BEAR ST</td>\n",
       "    </tr>\n",
       "  </tbody>\n",
       "</table>\n",
       "</div>"
      ],
      "text/plain": [
       "                           localfile mailing_address street_no street_name\n",
       "7242  AB_Banff_Business_Licences.csv             NaN       205     BEAR ST\n",
       "7245  AB_Banff_Business_Licences.csv             NaN       117   BANFF AVE\n",
       "7230  AB_Banff_Business_Licences.csv             NaN       209   BANFF AVE\n",
       "7763  AB_Banff_Business_Licences.csv             NaN       220     BEAR ST\n",
       "7561  AB_Banff_Business_Licences.csv             NaN       138     BEAR ST"
      ]
     },
     "execution_count": 43,
     "metadata": {},
     "output_type": "execute_result"
    }
   ],
   "source": [
    "sample.head()"
   ]
  },
  {
   "cell_type": "code",
   "execution_count": 53,
   "metadata": {
    "execution": {
     "iopub.execute_input": "2022-08-05T18:30:53.565740Z",
     "iopub.status.busy": "2022-08-05T18:30:53.565339Z",
     "iopub.status.idle": "2022-08-05T18:30:55.121402Z",
     "shell.execute_reply": "2022-08-05T18:30:55.120608Z",
     "shell.execute_reply.started": "2022-08-05T18:30:53.565712Z"
    },
    "tags": []
   },
   "outputs": [],
   "source": [
    "# test = pd.read_csv('example.csv')\n",
    "test = df\n",
    "\n",
    "test = AddressClean_en(sample,'street_name','formatted_en')\n",
    "test = AddressClean_fr(sample,'street_name','formatted_fr')\n",
    "\n",
    "df.to_csv('formatted.csv',index=False)\n"
   ]
  },
  {
   "cell_type": "code",
   "execution_count": null,
   "metadata": {},
   "outputs": [],
   "source": []
  }
 ],
 "metadata": {
  "kernelspec": {
   "display_name": "data_exploration (odbiz)",
   "language": "python",
   "name": "myenv"
  },
  "language_info": {
   "codemirror_mode": {
    "name": "ipython",
    "version": 3
   },
   "file_extension": ".py",
   "mimetype": "text/x-python",
   "name": "python",
   "nbconvert_exporter": "python",
   "pygments_lexer": "ipython3",
   "version": "3.10.5"
  }
 },
 "nbformat": 4,
 "nbformat_minor": 4
}
