{
 "cells": [
  {
   "cell_type": "code",
   "execution_count": 9,
   "metadata": {
    "execution": {
     "iopub.execute_input": "2022-04-22T02:23:54.031669Z",
     "iopub.status.busy": "2022-04-22T02:23:54.031386Z",
     "iopub.status.idle": "2022-04-22T02:23:54.035787Z",
     "shell.execute_reply": "2022-04-22T02:23:54.035102Z",
     "shell.execute_reply.started": "2022-04-22T02:23:54.031641Z"
    },
    "tags": []
   },
   "outputs": [],
   "source": [
    "# -*- coding: utf-8 -*-\n",
    "\"\"\"\n",
    "This script is used to reverse geocode health sources which do not have street addresses\n",
    "but do have lat/lon coordinates. It uses the OSM Nominatim API.\n",
    "\n",
    "It filters out results results that have already been geocoded so that new data \n",
    "can be added to the pipeline without re-processing each record.\n",
    "\n",
    "This script is adapted from Education Facilities to Healthcare.\n",
    "\"\"\"\n",
    "\n",
    "import requests\n",
    "import json\n",
    "import pandas as pd\n",
    "import numpy as np\n",
    "import time\n",
    "from os.path import exists\n",
    "from datetime import datetime\n",
    "\n",
    "# temporarily suppresses SettingWithCopyWarning\n",
    "pd.options.mode.chained_assignment = None "
   ]
  },
  {
   "cell_type": "code",
   "execution_count": 10,
   "metadata": {
    "execution": {
     "iopub.execute_input": "2022-04-22T02:23:54.608129Z",
     "iopub.status.busy": "2022-04-22T02:23:54.607850Z",
     "iopub.status.idle": "2022-04-22T02:23:54.836319Z",
     "shell.execute_reply": "2022-04-22T02:23:54.835655Z",
     "shell.execute_reply.started": "2022-04-22T02:23:54.608102Z"
    },
    "tags": []
   },
   "outputs": [
    {
     "name": "stdout",
     "output_type": "stream",
     "text": [
      "no previous csv detected\n"
     ]
    }
   ],
   "source": [
    "# load new input data and (optionally) output data from previous runs \n",
    "\n",
    "input_data = \"geocoded_2022-04-21.csv\"\n",
    "prev_reverse_geocoded_data = \"\"\n",
    "\n",
    "df_input = pd.read_csv(input_data, low_memory=False, dtype=\"str\")\n",
    "\n",
    "# detect previously geocoded rows from previous output\n",
    "if exists(prev_reverse_geocoded_data):\n",
    "    df_previous_run = pd.read_csv(prev_reverse_geocoded_data, low_memory=False, dtype=\"str\")\n",
    "    remove_list = ['osm_reverse', 'no_osm', 'osm_facility_name', 'osm_address', 'gc_street_address', 'osm_city']\n",
    "    df_previously_r_geocoded = df_previous_run[df_previous_run[\"geo_source\"].isin(remove_list)]    \n",
    "    print(str(len(df_previously_r_geocoded)) + ' records already reverse geocoded in previous run')\n",
    "else:\n",
    "    df_previously_r_geocoded = None\n",
    "    print('no previous csv detected')"
   ]
  },
  {
   "cell_type": "code",
   "execution_count": 11,
   "metadata": {
    "execution": {
     "iopub.execute_input": "2022-04-22T02:23:56.402245Z",
     "iopub.status.busy": "2022-04-22T02:23:56.401951Z",
     "iopub.status.idle": "2022-04-22T02:23:57.291241Z",
     "shell.execute_reply": "2022-04-22T02:23:57.290544Z",
     "shell.execute_reply.started": "2022-04-22T02:23:56.402215Z"
    },
    "tags": []
   },
   "outputs": [],
   "source": [
    "# replace empty row values with na\n",
    "df_input = df_input.replace(r'^\\s*$', np.nan, regex=True)"
   ]
  },
  {
   "cell_type": "code",
   "execution_count": 38,
   "metadata": {
    "execution": {
     "iopub.execute_input": "2022-04-22T17:54:39.261824Z",
     "iopub.status.busy": "2022-04-22T17:54:39.261541Z",
     "iopub.status.idle": "2022-04-22T17:54:39.266658Z",
     "shell.execute_reply": "2022-04-22T17:54:39.265859Z",
     "shell.execute_reply.started": "2022-04-22T17:54:39.261797Z"
    },
    "tags": []
   },
   "outputs": [
    {
     "data": {
      "text/plain": [
       "27323"
      ]
     },
     "execution_count": 38,
     "metadata": {},
     "output_type": "execute_result"
    }
   ],
   "source": [
    "len(df_input)"
   ]
  },
  {
   "cell_type": "code",
   "execution_count": 12,
   "metadata": {
    "execution": {
     "iopub.execute_input": "2022-04-22T02:23:57.292575Z",
     "iopub.status.busy": "2022-04-22T02:23:57.292339Z",
     "iopub.status.idle": "2022-04-22T02:23:57.298442Z",
     "shell.execute_reply": "2022-04-22T02:23:57.297701Z",
     "shell.execute_reply.started": "2022-04-22T02:23:57.292551Z"
    },
    "tags": []
   },
   "outputs": [
    {
     "name": "stdout",
     "output_type": "stream",
     "text": [
      "missing street addresses: 4207\n"
     ]
    }
   ],
   "source": [
    "print(\"missing street addresses: \" + str(df_input['street_addr'].isnull().sum()))"
   ]
  },
  {
   "cell_type": "code",
   "execution_count": 13,
   "metadata": {
    "execution": {
     "iopub.execute_input": "2022-04-22T02:24:01.734968Z",
     "iopub.status.busy": "2022-04-22T02:24:01.734653Z",
     "iopub.status.idle": "2022-04-22T02:24:01.801741Z",
     "shell.execute_reply": "2022-04-22T02:24:01.801118Z",
     "shell.execute_reply.started": "2022-04-22T02:24:01.734941Z"
    },
    "tags": []
   },
   "outputs": [
    {
     "name": "stdout",
     "output_type": "stream",
     "text": [
      "no previously geocoded results found in dataframe\n",
      "missing street addresses: 4207\n",
      "number of addresses created from other columns: 0\n",
      "4207 records left to reverse geocode\n"
     ]
    }
   ],
   "source": [
    "# filter input data for rows that have already been reverse geocoded, based on 'temp_id'\n",
    "\n",
    "if isinstance(df_previously_r_geocoded, pd.DataFrame):\n",
    "    geo_list = list(df_previously_r_geocoded['temp_id'])\n",
    "#     print(\"filenames already coded: \" + str(set(geo_list)))\n",
    "    # split df\n",
    "        # df = input that has a filename than isn't in the \n",
    "        # already coded list\n",
    "        \n",
    "        # df_leftover1 = previously geocoded data filtered\n",
    "        # to just those which are marked as coded\n",
    "    \n",
    "    df = df_input[~df_input['temp_id'].isin(geo_list)]\n",
    "    df_previously_coded = df_previous_run[df_previous_run['temp_id'].isin(geo_list)]\n",
    "#     print(str(len(df_input) - len(df)) + ' records excluded from reverse geocoding based on filename')\n",
    "else:\n",
    "    print('no previously geocoded results found in dataframe')\n",
    "    df_previously_coded = pd.DataFrame()\n",
    "    df = df_input\n",
    "    \n",
    "print(\"missing street addresses: \" + str(df['street_addr'].isnull().sum()))\n",
    "\n",
    "# filter df to those without street address but with street name and street number\n",
    "df_geo_source = df[(df.street_addr.notnull())]\n",
    "df_no_address = df[(df.street_addr.isnull())]\n",
    "\n",
    "# create new street address from street address and number\n",
    "# df_concat_address = those which no street_addr, but do have both street name and street number\n",
    "df_concat_address = df_no_address[(df_no_address.street_name.notnull()) & (df_no_address.street_no.notnull())]\n",
    "df_concat_address['street_addr'] = df_concat_address['street_addr'].fillna(df_concat_address['street_no'].astype(str) + \" \" + df_concat_address['street_name'])\n",
    "print(\"number of addresses created from other columns: \" + str(len(df_concat_address)))\n",
    "\n",
    "\n",
    "# df_leftover = results that do not need geocoding\n",
    "# = those previously coded, those with newly concatenated results, \n",
    "# and those with geo_source already given \n",
    "df_leftover = pd.concat([df_previously_coded, df_concat_address, df_geo_source])\n",
    "\n",
    "# df = just those with no street_addr, which also have a missing value for streen_name or streen_no\n",
    "df = df_no_address[(df_no_address.street_name.isnull()) | (df_no_address.street_no.isnull())]\n",
    "\n",
    "\n",
    "print(str(len(df)) + \" records left to reverse geocode\")\n",
    "\n",
    "# sanity check for length of dataframes\n",
    "diff = len(df_input) - len(df_leftover) - len(df)\n",
    "if diff != 0:\n",
    "    print('ERROR there are ' + str(-diff) + ' extra records. review the scripts to correct')"
   ]
  },
  {
   "cell_type": "code",
   "execution_count": 14,
   "metadata": {
    "execution": {
     "iopub.execute_input": "2022-04-22T02:24:04.109958Z",
     "iopub.status.busy": "2022-04-22T02:24:04.109670Z",
     "iopub.status.idle": "2022-04-22T02:24:04.120488Z",
     "shell.execute_reply": "2022-04-22T02:24:04.118696Z",
     "shell.execute_reply.started": "2022-04-22T02:24:04.109929Z"
    },
    "tags": []
   },
   "outputs": [],
   "source": [
    "# define parameters for osm api call\n",
    "headers = {\n",
    "    'User-Agent': 'Sam Lumley, Statistics Canada',\n",
    "    'From': 'sam.lumley@statcan.gc.ca' \n",
    "    }\n",
    "\n",
    "url = 'https://nominatim.openstreetmap.org/reverse?'\n",
    "\n",
    "JSONS = []\n",
    "JSONS_CITIES = []\n",
    "\n",
    "# define our api queries\n",
    "\n",
    "lats = list(df['latitude'])\n",
    "lons = list(df['longitude'])"
   ]
  },
  {
   "cell_type": "code",
   "execution_count": null,
   "metadata": {
    "tags": []
   },
   "outputs": [],
   "source": [
    "# make a nominatim reverse geocode request for each record \n",
    "\n",
    "# first batch 0-1703\n",
    "\n",
    "# for i in range(5): # use this line for testing small batches\n",
    "for i in range(len(lats) - 1704):\n",
    "    \n",
    "    i = i + 1704\n",
    "    \n",
    "    # temp, get last five. so from len(lats) - 5 to len(lats)\n",
    "#     i = i + len(lats) - 5\n",
    "    \n",
    "    lat = lats[i]\n",
    "    lon = lons[i]\n",
    "    print(str(i) + \": lat: \" + str(lat) + \", lon: \" + str(lon))\n",
    "    \n",
    "    request_timing = 3 # seconds between api requests\n",
    "            \n",
    "    params = {'lat': lat,\n",
    "            'lon': lon,\n",
    "            'format':'json',\n",
    "            'email':'sam.lumley@statcan.gc.ca'}\n",
    "    time.sleep(request_timing) \n",
    "    coords = requests.get(url, params=params, headers=headers)\n",
    "    resp = coords.json()\n",
    "        \n",
    "    if len(resp) > 0:\n",
    "        print('osm address found')\n",
    "        df['geo_source'].iloc[i] = \"osm_reverse\"\n",
    "    else:\n",
    "        print('no osm address found')\n",
    "        \n",
    "                \n",
    "    JSONS.append(resp)\n",
    "\n",
    "#     if resp!=[]:\n",
    "#         print(resp)"
   ]
  },
  {
   "cell_type": "code",
   "execution_count": 23,
   "metadata": {
    "execution": {
     "iopub.execute_input": "2022-04-22T16:03:33.896444Z",
     "iopub.status.busy": "2022-04-22T16:03:33.896188Z",
     "iopub.status.idle": "2022-04-22T16:03:34.037148Z",
     "shell.execute_reply": "2022-04-22T16:03:34.036491Z",
     "shell.execute_reply.started": "2022-04-22T16:03:33.896422Z"
    },
    "tags": []
   },
   "outputs": [],
   "source": [
    "with open('reverse_nominatim_0-4207.json', 'w', encoding='utf-8') as f:\n",
    "    json.dump(JSONS, f, ensure_ascii=False, indent=4) "
   ]
  },
  {
   "cell_type": "code",
   "execution_count": 30,
   "metadata": {
    "execution": {
     "iopub.execute_input": "2022-04-22T17:51:42.263352Z",
     "iopub.status.busy": "2022-04-22T17:51:42.263103Z",
     "iopub.status.idle": "2022-04-22T17:51:42.267516Z",
     "shell.execute_reply": "2022-04-22T17:51:42.266899Z",
     "shell.execute_reply.started": "2022-04-22T17:51:42.263328Z"
    },
    "tags": []
   },
   "outputs": [
    {
     "data": {
      "text/plain": [
       "4105"
      ]
     },
     "execution_count": 30,
     "metadata": {},
     "output_type": "execute_result"
    }
   ],
   "source": [
    "len(JSONS)\n",
    "\n",
    "# doing things in batches\n",
    "# first batch up to 1704"
   ]
  },
  {
   "cell_type": "code",
   "execution_count": 33,
   "metadata": {
    "execution": {
     "iopub.execute_input": "2022-04-22T17:53:45.295375Z",
     "iopub.status.busy": "2022-04-22T17:53:45.295095Z",
     "iopub.status.idle": "2022-04-22T17:53:46.295226Z",
     "shell.execute_reply": "2022-04-22T17:53:46.294550Z",
     "shell.execute_reply.started": "2022-04-22T17:53:45.295348Z"
    },
    "tags": []
   },
   "outputs": [],
   "source": [
    "# read json request results into our dataframe\n",
    "\n",
    "def append_blank(index):\n",
    "    df['geo_source'].iloc[index] = \"no_osm\"\n",
    "    LATS.append('')\n",
    "    LONS.append('')\n",
    "    NAME.append('')\n",
    "    ST_NO.append('')\n",
    "    ST_NAME.append('')\n",
    "    CITY.append('')\n",
    "    PROV.append('')\n",
    "    POST.append('')\n",
    "    COUNTRY.append('')\n",
    "    TYPE.append('')\n",
    "    CLASS.append('')\n",
    "\n",
    "with open('reverse_nominatim_0-4207.json', 'r', encoding='utf-8') as f:\n",
    "    JSONS=json.load(f)    \n",
    "\n",
    "LATS = []\n",
    "LONS = []\n",
    "NAME = []\n",
    "ST_NO = []\n",
    "ST_NAME = []\n",
    "CITY = []\n",
    "PROV = []\n",
    "POST = []\n",
    "COUNTRY = []\n",
    "TYPE = []\n",
    "CLASS = []\n",
    "\n",
    "\n",
    "for index, element in enumerate(JSONS):\n",
    "    if element==[]:\n",
    "        my_function()\n",
    "    else:\n",
    "        # For now we will use everything osm gives us\n",
    "        # later we might want to filter by class - eg just to \"amenity\" \n",
    "        \n",
    "#         if (element['address']['country_code']=='ca') and ('amenity' in element['address'].keys()): \n",
    "#         if (element['address']['country_code']=='ca') and ((element['class'] in ['amenity', 'place', 'building']) ):\n",
    "            \n",
    "        if 'address' in element:\n",
    "            if 'country_code' in element['address']:\n",
    "                if (element['address']['country_code']=='ca'):\n",
    "                    df['geo_source'].iloc[index] = \"osm_reverse\"\n",
    "                    COUNTRY.append(element['address']['country_code'])\n",
    "                    LATS.append(element['lat'])\n",
    "                    LONS.append(element['lon'])\n",
    "                    \n",
    "                    if 'amenity' in element.keys():\n",
    "                        NAME.append(element['address']['amenity'])\n",
    "                    else:\n",
    "                        NAME.append('')\n",
    "                        \n",
    "                    if 'house_number' in element['address']:\n",
    "                        ST_NO.append(element['address']['house_number'])\n",
    "                    else:\n",
    "                        ST_NO.append('')    \n",
    "                        \n",
    "                    if 'road' in element['address']:\n",
    "                        ST_NAME.append(element['address']['road'])\n",
    "    #                     df['geo_source'].iloc[index] = \"osm_street\"\n",
    "                    else:\n",
    "                        ST_NAME.append('') \n",
    "                \n",
    "                    if 'city' in  element['address']:\n",
    "                        CITY.append(element['address']['city'])\n",
    "                    else:\n",
    "                        CITY.append('')    \n",
    "\n",
    "                    if 'state' in element.keys():\n",
    "                        PROV.append(element['address']['state'])\n",
    "                    else:\n",
    "                        PROV.append('')\n",
    "\n",
    "                    if 'postcode' in element['address']:\n",
    "                        POST.append(element['address']['postcode'])\n",
    "                    else:\n",
    "                        POST.append('')\n",
    "\n",
    "                    COUNTRY.append(element['address']['country_code'])\n",
    "\n",
    "                    if 'type' in element.keys():\n",
    "                        TYPE.append(element['type'])\n",
    "                    else:\n",
    "                        TYPE.append('')\n",
    "                    if 'class' in element.keys():\n",
    "                        CLASS.append(element['class'])\n",
    "                    else:\n",
    "                        CLASS.append('')  \n",
    "                        \n",
    "                else:\n",
    "                    append_blank(index)\n",
    "                        \n",
    "            else:\n",
    "                append_blank(index)\n",
    "                        \n",
    "        else:\n",
    "            append_blank(index)\n",
    "\n",
    "# append results to dataframe\n",
    "df['osm_name'] = NAME\n",
    "df['osm_street_no'] = ST_NO\n",
    "df['osm_street_name'] = ST_NAME\n",
    "df['osm_city'] = CITY\n",
    "df['osm_province'] = PROV\n",
    "df['osm_postal_code'] = POST\n",
    "df['osm_class'] = CLASS\n",
    "df['osm_type'] = TYPE\n",
    "df['osm_lat'] = LATS\n",
    "df['osm_lon'] = LONS        "
   ]
  },
  {
   "cell_type": "code",
   "execution_count": 34,
   "metadata": {
    "execution": {
     "iopub.execute_input": "2022-04-22T17:53:51.089080Z",
     "iopub.status.busy": "2022-04-22T17:53:51.088700Z",
     "iopub.status.idle": "2022-04-22T17:53:51.097169Z",
     "shell.execute_reply": "2022-04-22T17:53:51.096406Z",
     "shell.execute_reply.started": "2022-04-22T17:53:51.089039Z"
    },
    "tags": []
   },
   "outputs": [
    {
     "data": {
      "text/plain": [
       "osm_reverse    4115\n",
       "no_osm           92\n",
       "Name: geo_source, dtype: int64"
      ]
     },
     "execution_count": 34,
     "metadata": {},
     "output_type": "execute_result"
    }
   ],
   "source": [
    "df['geo_source'].value_counts()"
   ]
  },
  {
   "cell_type": "code",
   "execution_count": 35,
   "metadata": {
    "execution": {
     "iopub.execute_input": "2022-04-22T17:53:56.506233Z",
     "iopub.status.busy": "2022-04-22T17:53:56.505968Z",
     "iopub.status.idle": "2022-04-22T17:53:56.510843Z",
     "shell.execute_reply": "2022-04-22T17:53:56.510142Z",
     "shell.execute_reply.started": "2022-04-22T17:53:56.506209Z"
    },
    "tags": []
   },
   "outputs": [
    {
     "data": {
      "text/plain": [
       "4207"
      ]
     },
     "execution_count": 35,
     "metadata": {},
     "output_type": "execute_result"
    }
   ],
   "source": [
    "len(JSONS)"
   ]
  },
  {
   "cell_type": "code",
   "execution_count": 36,
   "metadata": {
    "execution": {
     "iopub.execute_input": "2022-04-22T17:54:06.354609Z",
     "iopub.status.busy": "2022-04-22T17:54:06.354194Z",
     "iopub.status.idle": "2022-04-22T17:54:06.379925Z",
     "shell.execute_reply": "2022-04-22T17:54:06.379076Z",
     "shell.execute_reply.started": "2022-04-22T17:54:06.354554Z"
    },
    "tags": []
   },
   "outputs": [],
   "source": [
    "# recombine datasets: (1) no reverse geocode needed\n",
    "# (2) previously reverse geocoded (3) newly reverse geocoded\n",
    "df_everything = pd.concat([df_leftover, df])"
   ]
  },
  {
   "cell_type": "code",
   "execution_count": 37,
   "metadata": {
    "execution": {
     "iopub.execute_input": "2022-04-22T17:54:07.432798Z",
     "iopub.status.busy": "2022-04-22T17:54:07.432534Z",
     "iopub.status.idle": "2022-04-22T17:54:07.436798Z",
     "shell.execute_reply": "2022-04-22T17:54:07.436278Z",
     "shell.execute_reply.started": "2022-04-22T17:54:07.432772Z"
    },
    "tags": []
   },
   "outputs": [
    {
     "data": {
      "text/plain": [
       "27323"
      ]
     },
     "execution_count": 37,
     "metadata": {},
     "output_type": "execute_result"
    }
   ],
   "source": [
    "len(df_everything)"
   ]
  },
  {
   "cell_type": "code",
   "execution_count": 39,
   "metadata": {
    "execution": {
     "iopub.execute_input": "2022-04-22T17:54:57.052560Z",
     "iopub.status.busy": "2022-04-22T17:54:57.052302Z",
     "iopub.status.idle": "2022-04-22T17:54:57.393355Z",
     "shell.execute_reply": "2022-04-22T17:54:57.392659Z",
     "shell.execute_reply.started": "2022-04-22T17:54:57.052535Z"
    },
    "tags": []
   },
   "outputs": [],
   "source": [
    "date = str(datetime.today().strftime('%Y-%m-%d'))\n",
    "filename = \"reverse_geocoded_\" + date + \".csv\"\n",
    "df_everything.to_csv(filename, index=False)"
   ]
  },
  {
   "cell_type": "code",
   "execution_count": 40,
   "metadata": {
    "execution": {
     "iopub.execute_input": "2022-04-22T17:55:01.892161Z",
     "iopub.status.busy": "2022-04-22T17:55:01.891896Z",
     "iopub.status.idle": "2022-04-22T17:55:01.899455Z",
     "shell.execute_reply": "2022-04-22T17:55:01.898754Z",
     "shell.execute_reply.started": "2022-04-22T17:55:01.892136Z"
    },
    "tags": []
   },
   "outputs": [
    {
     "data": {
      "text/plain": [
       "Source               20937\n",
       "osm_reverse           4115\n",
       "osm_address            986\n",
       "osm_facility_name      588\n",
       "osm_city               404\n",
       "no_osm                 290\n",
       "gc_street_address        3\n",
       "Name: geo_source, dtype: int64"
      ]
     },
     "execution_count": 40,
     "metadata": {},
     "output_type": "execute_result"
    }
   ],
   "source": [
    "df_everything['geo_source'].value_counts()"
   ]
  },
  {
   "cell_type": "code",
   "execution_count": null,
   "metadata": {},
   "outputs": [],
   "source": []
  }
 ],
 "metadata": {
  "kernelspec": {
   "display_name": "Python 3",
   "language": "python",
   "name": "python3"
  },
  "language_info": {
   "codemirror_mode": {
    "name": "ipython",
    "version": 3
   },
   "file_extension": ".py",
   "mimetype": "text/x-python",
   "name": "python",
   "nbconvert_exporter": "python",
   "pygments_lexer": "ipython3",
   "version": "3.8.12"
  }
 },
 "nbformat": 4,
 "nbformat_minor": 4
}
