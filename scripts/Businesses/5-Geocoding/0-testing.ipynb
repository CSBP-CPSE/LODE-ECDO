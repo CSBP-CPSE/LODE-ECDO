{
 "cells": [
  {
   "cell_type": "code",
   "execution_count": 2,
   "metadata": {
    "execution": {
     "iopub.execute_input": "2022-09-01T14:52:06.800380Z",
     "iopub.status.busy": "2022-09-01T14:52:06.800139Z",
     "iopub.status.idle": "2022-09-01T14:52:07.485685Z",
     "shell.execute_reply": "2022-09-01T14:52:07.484874Z",
     "shell.execute_reply.started": "2022-09-01T14:52:06.800355Z"
    },
    "tags": []
   },
   "outputs": [],
   "source": [
    "import pandas as pd"
   ]
  },
  {
   "cell_type": "code",
   "execution_count": null,
   "metadata": {
    "execution": {
     "iopub.execute_input": "2022-08-16T14:36:50.648915Z",
     "iopub.status.busy": "2022-08-16T14:36:50.648617Z"
    },
    "tags": []
   },
   "outputs": [],
   "source": [
    "df_q = pd.read_csv('data/oda-addresses/ODA_QC_v1.csv', low_memory=False)"
   ]
  },
  {
   "cell_type": "code",
   "execution_count": 4,
   "metadata": {
    "execution": {
     "iopub.execute_input": "2022-08-16T14:33:10.345115Z",
     "iopub.status.busy": "2022-08-16T14:33:10.344890Z",
     "iopub.status.idle": "2022-08-16T14:33:10.426873Z",
     "shell.execute_reply": "2022-08-16T14:33:10.425914Z",
     "shell.execute_reply.started": "2022-08-16T14:33:10.345086Z"
    },
    "tags": []
   },
   "outputs": [],
   "source": [
    "# what's the problem with quebec matching?\n",
    "test = df_q[df_q.street == 'Rue Queen']"
   ]
  },
  {
   "cell_type": "code",
   "execution_count": null,
   "metadata": {},
   "outputs": [],
   "source": [
    "# how many results are there to geocode?"
   ]
  },
  {
   "cell_type": "code",
   "execution_count": 4,
   "metadata": {
    "execution": {
     "iopub.execute_input": "2022-08-16T14:29:32.253716Z",
     "iopub.status.busy": "2022-08-16T14:29:32.253420Z",
     "iopub.status.idle": "2022-08-16T14:29:32.723276Z",
     "shell.execute_reply": "2022-08-16T14:29:32.721914Z",
     "shell.execute_reply.started": "2022-08-16T14:29:32.253684Z"
    }
   },
   "outputs": [],
   "source": [
    "df = pd.read_csv('formatted.csv', low_memory=False)"
   ]
  },
  {
   "cell_type": "code",
   "execution_count": 6,
   "metadata": {
    "execution": {
     "iopub.execute_input": "2022-08-16T14:30:41.195344Z",
     "iopub.status.busy": "2022-08-16T14:30:41.194980Z",
     "iopub.status.idle": "2022-08-16T14:30:41.200999Z",
     "shell.execute_reply": "2022-08-16T14:30:41.200094Z",
     "shell.execute_reply.started": "2022-08-16T14:30:41.195306Z"
    },
    "tags": []
   },
   "outputs": [
    {
     "data": {
      "text/plain": [
       "219942"
      ]
     },
     "execution_count": 6,
     "metadata": {},
     "output_type": "execute_result"
    }
   ],
   "source": [
    "len(df)"
   ]
  },
  {
   "cell_type": "code",
   "execution_count": 7,
   "metadata": {
    "execution": {
     "iopub.execute_input": "2022-08-16T14:30:53.276870Z",
     "iopub.status.busy": "2022-08-16T14:30:53.276429Z",
     "iopub.status.idle": "2022-08-16T14:30:53.284233Z",
     "shell.execute_reply": "2022-08-16T14:30:53.283193Z",
     "shell.execute_reply.started": "2022-08-16T14:30:53.276814Z"
    }
   },
   "outputs": [
    {
     "data": {
      "text/plain": [
       "['localfile',\n",
       " 'province',\n",
       " 'mailing_address',\n",
       " 'street_no',\n",
       " 'street_name',\n",
       " 'latitude',\n",
       " 'longitude',\n",
       " 'formatted_en',\n",
       " 'formatted_fr']"
      ]
     },
     "execution_count": 7,
     "metadata": {},
     "output_type": "execute_result"
    }
   ],
   "source": [
    "list(df)"
   ]
  },
  {
   "cell_type": "code",
   "execution_count": 8,
   "metadata": {
    "execution": {
     "iopub.execute_input": "2022-08-16T14:31:21.072756Z",
     "iopub.status.busy": "2022-08-16T14:31:21.072392Z",
     "iopub.status.idle": "2022-08-16T14:31:21.089986Z",
     "shell.execute_reply": "2022-08-16T14:31:21.089185Z",
     "shell.execute_reply.started": "2022-08-16T14:31:21.072716Z"
    }
   },
   "outputs": [],
   "source": [
    "df = df[df['latitude'].isnull()]"
   ]
  },
  {
   "cell_type": "code",
   "execution_count": 9,
   "metadata": {
    "execution": {
     "iopub.execute_input": "2022-08-16T14:31:24.689746Z",
     "iopub.status.busy": "2022-08-16T14:31:24.689467Z",
     "iopub.status.idle": "2022-08-16T14:31:24.697240Z",
     "shell.execute_reply": "2022-08-16T14:31:24.696183Z",
     "shell.execute_reply.started": "2022-08-16T14:31:24.689717Z"
    }
   },
   "outputs": [
    {
     "data": {
      "text/plain": [
       "81656"
      ]
     },
     "execution_count": 9,
     "metadata": {},
     "output_type": "execute_result"
    }
   ],
   "source": [
    "len(df)"
   ]
  },
  {
   "cell_type": "code",
   "execution_count": 3,
   "metadata": {
    "execution": {
     "iopub.execute_input": "2022-08-16T14:37:02.902318Z",
     "iopub.status.busy": "2022-08-16T14:37:02.902011Z",
     "iopub.status.idle": "2022-08-16T14:37:09.620044Z",
     "shell.execute_reply": "2022-08-16T14:37:09.619021Z",
     "shell.execute_reply.started": "2022-08-16T14:37:02.902285Z"
    },
    "tags": []
   },
   "outputs": [
    {
     "name": "stderr",
     "output_type": "stream",
     "text": [
      "<ipython-input-3-72c3504bc1ef>:1: DtypeWarning: Columns (3,4,5,6,7,8,10,11,12,13,16,17,18,19,20,21,22,23,26,27,28,29,30,32,33,34,38,40,42) have mixed types. Specify dtype option on import or set low_memory=False.\n",
      "  df = pd.read_csv('data/4-ODBiz_merged_2022-08-04.csv')\n"
     ]
    }
   ],
   "source": [
    "df = pd.read_csv('data/4-ODBiz_merged_2022-08-04.csv')"
   ]
  },
  {
   "cell_type": "code",
   "execution_count": 6,
   "metadata": {
    "execution": {
     "iopub.execute_input": "2022-08-16T14:33:24.104518Z",
     "iopub.status.busy": "2022-08-16T14:33:24.104233Z",
     "iopub.status.idle": "2022-08-16T14:33:24.116183Z",
     "shell.execute_reply": "2022-08-16T14:33:24.115388Z",
     "shell.execute_reply.started": "2022-08-16T14:33:24.104487Z"
    },
    "tags": []
   },
   "outputs": [
    {
     "data": {
      "text/plain": [
       "803658"
      ]
     },
     "execution_count": 6,
     "metadata": {},
     "output_type": "execute_result"
    }
   ],
   "source": [
    "len(df)"
   ]
  },
  {
   "cell_type": "code",
   "execution_count": 5,
   "metadata": {
    "execution": {
     "iopub.execute_input": "2022-08-16T14:37:47.588475Z",
     "iopub.status.busy": "2022-08-16T14:37:47.588171Z",
     "iopub.status.idle": "2022-08-16T14:37:47.922240Z",
     "shell.execute_reply": "2022-08-16T14:37:47.921015Z",
     "shell.execute_reply.started": "2022-08-16T14:37:47.588443Z"
    },
    "tags": []
   },
   "outputs": [],
   "source": [
    "df = df[df['longitude'].isnull()]"
   ]
  },
  {
   "cell_type": "code",
   "execution_count": 6,
   "metadata": {
    "execution": {
     "iopub.execute_input": "2022-08-16T14:37:49.283759Z",
     "iopub.status.busy": "2022-08-16T14:37:49.283429Z",
     "iopub.status.idle": "2022-08-16T14:37:49.571471Z",
     "shell.execute_reply": "2022-08-16T14:37:49.570631Z",
     "shell.execute_reply.started": "2022-08-16T14:37:49.283723Z"
    },
    "tags": []
   },
   "outputs": [
    {
     "data": {
      "text/plain": [
       "598891"
      ]
     },
     "execution_count": 6,
     "metadata": {},
     "output_type": "execute_result"
    }
   ],
   "source": [
    "len(df)"
   ]
  },
  {
   "cell_type": "code",
   "execution_count": 7,
   "metadata": {
    "execution": {
     "iopub.execute_input": "2022-08-16T14:38:05.613804Z",
     "iopub.status.busy": "2022-08-16T14:38:05.613508Z",
     "iopub.status.idle": "2022-08-16T14:38:05.618060Z",
     "shell.execute_reply": "2022-08-16T14:38:05.617057Z",
     "shell.execute_reply.started": "2022-08-16T14:38:05.613773Z"
    }
   },
   "outputs": [],
   "source": [
    "# number without lat/ lon: 598891"
   ]
  },
  {
   "cell_type": "code",
   "execution_count": null,
   "metadata": {
    "tags": []
   },
   "outputs": [],
   "source": [
    "# I might want to deduplicate before running the address match script\n",
    "df = df.drop_duplicates(subset=['street_no','formatted_en'])"
   ]
  },
  {
   "cell_type": "code",
   "execution_count": 4,
   "metadata": {
    "execution": {
     "iopub.execute_input": "2022-08-16T18:48:54.503778Z",
     "iopub.status.busy": "2022-08-16T18:48:54.503366Z",
     "iopub.status.idle": "2022-08-16T18:48:54.516933Z",
     "shell.execute_reply": "2022-08-16T18:48:54.515798Z",
     "shell.execute_reply.started": "2022-08-16T18:48:54.503731Z"
    },
    "tags": []
   },
   "outputs": [],
   "source": [
    "df = pd.read_csv('output_all.csv', low_memory=False)"
   ]
  },
  {
   "cell_type": "code",
   "execution_count": 7,
   "metadata": {
    "execution": {
     "iopub.execute_input": "2022-08-16T18:52:06.205498Z",
     "iopub.status.busy": "2022-08-16T18:52:06.205162Z",
     "iopub.status.idle": "2022-08-16T18:52:06.213255Z",
     "shell.execute_reply": "2022-08-16T18:52:06.211645Z",
     "shell.execute_reply.started": "2022-08-16T18:52:06.205458Z"
    },
    "tags": []
   },
   "outputs": [],
   "source": [
    "# get those which match lat lon\n",
    "\n",
    "df_lat = df[~df['latitude'].isna()]\n",
    "df_lat = df_lat[~df_lat['x'].isna()]"
   ]
  },
  {
   "cell_type": "code",
   "execution_count": 12,
   "metadata": {
    "execution": {
     "iopub.execute_input": "2022-08-16T18:55:14.729167Z",
     "iopub.status.busy": "2022-08-16T18:55:14.728734Z",
     "iopub.status.idle": "2022-08-16T18:55:14.742084Z",
     "shell.execute_reply": "2022-08-16T18:55:14.741234Z",
     "shell.execute_reply.started": "2022-08-16T18:55:14.729118Z"
    },
    "tags": []
   },
   "outputs": [],
   "source": [
    "df_lat.to_csv(\"latlon_compairson.csv\", index=False)"
   ]
  },
  {
   "cell_type": "code",
   "execution_count": 9,
   "metadata": {
    "execution": {
     "iopub.execute_input": "2022-08-16T18:53:33.011711Z",
     "iopub.status.busy": "2022-08-16T18:53:33.011418Z",
     "iopub.status.idle": "2022-08-16T18:53:33.017819Z",
     "shell.execute_reply": "2022-08-16T18:53:33.016821Z",
     "shell.execute_reply.started": "2022-08-16T18:53:33.011680Z"
    },
    "tags": []
   },
   "outputs": [],
   "source": [
    "# get sample of imperfect matches between 60-95\n",
    "\n",
    "# df_match = df_q[df_q.ratio == 'Rue Queen']\n",
    "df_match = df[df['ratio'].between(60, 98)]\n",
    "\n",
    "\n",
    "# in general, 80 good, but not for numbers (eg 10th st versus 15th st are very similar)"
   ]
  },
  {
   "cell_type": "code",
   "execution_count": 10,
   "metadata": {
    "execution": {
     "iopub.execute_input": "2022-08-16T18:53:36.481964Z",
     "iopub.status.busy": "2022-08-16T18:53:36.480228Z",
     "iopub.status.idle": "2022-08-16T18:53:36.506112Z",
     "shell.execute_reply": "2022-08-16T18:53:36.505001Z",
     "shell.execute_reply.started": "2022-08-16T18:53:36.481908Z"
    }
   },
   "outputs": [
    {
     "data": {
      "text/html": [
       "<div>\n",
       "<style scoped>\n",
       "    .dataframe tbody tr th:only-of-type {\n",
       "        vertical-align: middle;\n",
       "    }\n",
       "\n",
       "    .dataframe tbody tr th {\n",
       "        vertical-align: top;\n",
       "    }\n",
       "\n",
       "    .dataframe thead th {\n",
       "        text-align: right;\n",
       "    }\n",
       "</style>\n",
       "<table border=\"1\" class=\"dataframe\">\n",
       "  <thead>\n",
       "    <tr style=\"text-align: right;\">\n",
       "      <th></th>\n",
       "      <th>localfile</th>\n",
       "      <th>province</th>\n",
       "      <th>mailing_address</th>\n",
       "      <th>street_no</th>\n",
       "      <th>street_name</th>\n",
       "      <th>latitude</th>\n",
       "      <th>longitude</th>\n",
       "      <th>formatted_en</th>\n",
       "      <th>formatted_fr</th>\n",
       "      <th>matches_r</th>\n",
       "      <th>ratio</th>\n",
       "      <th>x</th>\n",
       "      <th>y</th>\n",
       "    </tr>\n",
       "  </thead>\n",
       "  <tbody>\n",
       "    <tr>\n",
       "      <th>88</th>\n",
       "      <td>AB_Banff_Business_Licences.csv</td>\n",
       "      <td>AB</td>\n",
       "      <td>NaN</td>\n",
       "      <td>100</td>\n",
       "      <td>SUNDANCE ROAD</td>\n",
       "      <td>NaN</td>\n",
       "      <td>NaN</td>\n",
       "      <td>sundance rd</td>\n",
       "      <td>SUNDANCE ROAD</td>\n",
       "      <td>SUNDANCE ROAD</td>\n",
       "      <td>92.0</td>\n",
       "      <td>-115.582085</td>\n",
       "      <td>51.174765</td>\n",
       "    </tr>\n",
       "    <tr>\n",
       "      <th>106</th>\n",
       "      <td>BC_Vancouver_Business_Licences.csv</td>\n",
       "      <td>BC</td>\n",
       "      <td>NaN</td>\n",
       "      <td>1753</td>\n",
       "      <td>Marine Drive</td>\n",
       "      <td>NaN</td>\n",
       "      <td>NaN</td>\n",
       "      <td>marine dr</td>\n",
       "      <td>Marine Drive</td>\n",
       "      <td>Garner Rd</td>\n",
       "      <td>67.0</td>\n",
       "      <td>NaN</td>\n",
       "      <td>NaN</td>\n",
       "    </tr>\n",
       "    <tr>\n",
       "      <th>116</th>\n",
       "      <td>BC_Burnaby_Business_Licences_2.csv</td>\n",
       "      <td>BC</td>\n",
       "      <td>NaN</td>\n",
       "      <td>6745</td>\n",
       "      <td>STATION HILL CRT</td>\n",
       "      <td>NaN</td>\n",
       "      <td>NaN</td>\n",
       "      <td>station hill crt</td>\n",
       "      <td>STATION HILL CRT</td>\n",
       "      <td>STATION HILL CT</td>\n",
       "      <td>97.0</td>\n",
       "      <td>-122.962960</td>\n",
       "      <td>49.210420</td>\n",
       "    </tr>\n",
       "    <tr>\n",
       "      <th>117</th>\n",
       "      <td>BC_Vancouver_Business_Licences.csv</td>\n",
       "      <td>BC</td>\n",
       "      <td>NaN</td>\n",
       "      <td>3675</td>\n",
       "      <td>W 10TH AV</td>\n",
       "      <td>NaN</td>\n",
       "      <td>NaN</td>\n",
       "      <td>w 10th av</td>\n",
       "      <td>W 10TH AV</td>\n",
       "      <td>W 15TH AV</td>\n",
       "      <td>89.0</td>\n",
       "      <td>NaN</td>\n",
       "      <td>NaN</td>\n",
       "    </tr>\n",
       "    <tr>\n",
       "      <th>118</th>\n",
       "      <td>BC_Vancouver_Business_Licences.csv</td>\n",
       "      <td>BC</td>\n",
       "      <td>NaN</td>\n",
       "      <td>1280</td>\n",
       "      <td>GRANVILLE ST</td>\n",
       "      <td>49.276157</td>\n",
       "      <td>-123.127071</td>\n",
       "      <td>granville st</td>\n",
       "      <td>GRANVILLE ST</td>\n",
       "      <td>CORNELL ST</td>\n",
       "      <td>64.0</td>\n",
       "      <td>NaN</td>\n",
       "      <td>NaN</td>\n",
       "    </tr>\n",
       "    <tr>\n",
       "      <th>129</th>\n",
       "      <td>BC_Vancouver_Business_Licences.csv</td>\n",
       "      <td>BC</td>\n",
       "      <td>NaN</td>\n",
       "      <td>1711</td>\n",
       "      <td>W BROADWAY</td>\n",
       "      <td>49.263978</td>\n",
       "      <td>-123.143743</td>\n",
       "      <td>w broadway</td>\n",
       "      <td>W BROADWAY</td>\n",
       "      <td>BOWEN ROAD</td>\n",
       "      <td>60.0</td>\n",
       "      <td>NaN</td>\n",
       "      <td>NaN</td>\n",
       "    </tr>\n",
       "    <tr>\n",
       "      <th>132</th>\n",
       "      <td>BC_Vancouver_Business_Licences.csv</td>\n",
       "      <td>BC</td>\n",
       "      <td>NaN</td>\n",
       "      <td>815</td>\n",
       "      <td>COMMERCIAL DRIVE</td>\n",
       "      <td>49.277321</td>\n",
       "      <td>-123.070731</td>\n",
       "      <td>commercial dr</td>\n",
       "      <td>COMMERCIAL DRIVE</td>\n",
       "      <td>COMMERCIAL DRIVE</td>\n",
       "      <td>90.0</td>\n",
       "      <td>-123.070730</td>\n",
       "      <td>49.277320</td>\n",
       "    </tr>\n",
       "    <tr>\n",
       "      <th>138</th>\n",
       "      <td>BC_Vancouver_Business_Licences.csv</td>\n",
       "      <td>BC</td>\n",
       "      <td>NaN</td>\n",
       "      <td>888</td>\n",
       "      <td>SE MARINE DRIVE</td>\n",
       "      <td>49.210433</td>\n",
       "      <td>-123.087875</td>\n",
       "      <td>se marine dr</td>\n",
       "      <td>SE MARINE DRIVE</td>\n",
       "      <td>SE MARINE DRIVE</td>\n",
       "      <td>89.0</td>\n",
       "      <td>NaN</td>\n",
       "      <td>NaN</td>\n",
       "    </tr>\n",
       "    <tr>\n",
       "      <th>139</th>\n",
       "      <td>BC_Vancouver_Business_Licences.csv</td>\n",
       "      <td>BC</td>\n",
       "      <td>NaN</td>\n",
       "      <td>1028</td>\n",
       "      <td>MAINLAND ST</td>\n",
       "      <td>49.276087</td>\n",
       "      <td>-123.119287</td>\n",
       "      <td>mainland st</td>\n",
       "      <td>MAINLAND ST</td>\n",
       "      <td>FINLAYSON ST</td>\n",
       "      <td>70.0</td>\n",
       "      <td>NaN</td>\n",
       "      <td>NaN</td>\n",
       "    </tr>\n",
       "    <tr>\n",
       "      <th>140</th>\n",
       "      <td>BC_Vancouver_Business_Licences.csv</td>\n",
       "      <td>BC</td>\n",
       "      <td>NaN</td>\n",
       "      <td>2285</td>\n",
       "      <td>W 41st</td>\n",
       "      <td>NaN</td>\n",
       "      <td>NaN</td>\n",
       "      <td>w 41st</td>\n",
       "      <td>W 41st</td>\n",
       "      <td>141 St</td>\n",
       "      <td>67.0</td>\n",
       "      <td>NaN</td>\n",
       "      <td>NaN</td>\n",
       "    </tr>\n",
       "    <tr>\n",
       "      <th>145</th>\n",
       "      <td>BC_Vancouver_Business_Licences.csv</td>\n",
       "      <td>BC</td>\n",
       "      <td>NaN</td>\n",
       "      <td>888</td>\n",
       "      <td>Davie St</td>\n",
       "      <td>49.278085</td>\n",
       "      <td>-123.128243</td>\n",
       "      <td>davie st</td>\n",
       "      <td>Davie St</td>\n",
       "      <td>VIEW ST</td>\n",
       "      <td>80.0</td>\n",
       "      <td>NaN</td>\n",
       "      <td>NaN</td>\n",
       "    </tr>\n",
       "    <tr>\n",
       "      <th>156</th>\n",
       "      <td>BC_Vancouver_Business_Licences.csv</td>\n",
       "      <td>BC</td>\n",
       "      <td>NaN</td>\n",
       "      <td>625</td>\n",
       "      <td>MAIN ST</td>\n",
       "      <td>49.279149</td>\n",
       "      <td>-123.100331</td>\n",
       "      <td>main st</td>\n",
       "      <td>MAIN ST</td>\n",
       "      <td>MAIN ST ST</td>\n",
       "      <td>82.0</td>\n",
       "      <td>-119.590290</td>\n",
       "      <td>49.493870</td>\n",
       "    </tr>\n",
       "    <tr>\n",
       "      <th>157</th>\n",
       "      <td>BC_Vancouver_Business_Licences.csv</td>\n",
       "      <td>BC</td>\n",
       "      <td>NaN</td>\n",
       "      <td>1290</td>\n",
       "      <td>E 12TH AV</td>\n",
       "      <td>49.259465</td>\n",
       "      <td>-123.077963</td>\n",
       "      <td>e 12th av</td>\n",
       "      <td>E 12TH AV</td>\n",
       "      <td>E 11TH AV</td>\n",
       "      <td>89.0</td>\n",
       "      <td>-123.077790</td>\n",
       "      <td>49.260270</td>\n",
       "    </tr>\n",
       "    <tr>\n",
       "      <th>180</th>\n",
       "      <td>BC_Vancouver_Business_Licences.csv</td>\n",
       "      <td>BC</td>\n",
       "      <td>NaN</td>\n",
       "      <td>773</td>\n",
       "      <td>DENMAN ST</td>\n",
       "      <td>49.291844</td>\n",
       "      <td>-123.135453</td>\n",
       "      <td>denman st</td>\n",
       "      <td>DENMAN ST</td>\n",
       "      <td>DOMINION ST</td>\n",
       "      <td>60.0</td>\n",
       "      <td>NaN</td>\n",
       "      <td>NaN</td>\n",
       "    </tr>\n",
       "    <tr>\n",
       "      <th>183</th>\n",
       "      <td>BC_Vancouver_Business_Licences.csv</td>\n",
       "      <td>BC</td>\n",
       "      <td>NaN</td>\n",
       "      <td>516</td>\n",
       "      <td>Robson St</td>\n",
       "      <td>49.280172</td>\n",
       "      <td>-123.118309</td>\n",
       "      <td>robson st</td>\n",
       "      <td>Robson St</td>\n",
       "      <td>TORONTO ST</td>\n",
       "      <td>63.0</td>\n",
       "      <td>NaN</td>\n",
       "      <td>NaN</td>\n",
       "    </tr>\n",
       "    <tr>\n",
       "      <th>189</th>\n",
       "      <td>BC_Vancouver_Business_Licences.csv</td>\n",
       "      <td>BC</td>\n",
       "      <td>NaN</td>\n",
       "      <td>34</td>\n",
       "      <td>W 2nd Av</td>\n",
       "      <td>49.268931</td>\n",
       "      <td>-123.104901</td>\n",
       "      <td>w 2nd av</td>\n",
       "      <td>W 2nd Av</td>\n",
       "      <td>W 22ND AV</td>\n",
       "      <td>94.0</td>\n",
       "      <td>NaN</td>\n",
       "      <td>NaN</td>\n",
       "    </tr>\n",
       "    <tr>\n",
       "      <th>194</th>\n",
       "      <td>BC_Burnaby_Business_Licences_2.csv</td>\n",
       "      <td>BC</td>\n",
       "      <td>NaN</td>\n",
       "      <td>7089</td>\n",
       "      <td>LOUGHEED HWY</td>\n",
       "      <td>NaN</td>\n",
       "      <td>NaN</td>\n",
       "      <td>lougheed hwy</td>\n",
       "      <td>LOUGHEED HWY</td>\n",
       "      <td>LOUGHEED HY</td>\n",
       "      <td>96.0</td>\n",
       "      <td>-122.956570</td>\n",
       "      <td>49.259090</td>\n",
       "    </tr>\n",
       "    <tr>\n",
       "      <th>198</th>\n",
       "      <td>BC_Vancouver_Business_Licences.csv</td>\n",
       "      <td>BC</td>\n",
       "      <td>NaN</td>\n",
       "      <td>3321</td>\n",
       "      <td>Kingsway</td>\n",
       "      <td>49.233974</td>\n",
       "      <td>-123.034869</td>\n",
       "      <td>kingsway</td>\n",
       "      <td>Kingsway</td>\n",
       "      <td>KINGSLEY ST</td>\n",
       "      <td>63.0</td>\n",
       "      <td>NaN</td>\n",
       "      <td>NaN</td>\n",
       "    </tr>\n",
       "    <tr>\n",
       "      <th>210</th>\n",
       "      <td>NT_Yellowknife_Business_Directory.csv</td>\n",
       "      <td>NT</td>\n",
       "      <td>NaN</td>\n",
       "      <td>142</td>\n",
       "      <td>HALL CRES</td>\n",
       "      <td>NaN</td>\n",
       "      <td>NaN</td>\n",
       "      <td>hall cres</td>\n",
       "      <td>HALL CRES</td>\n",
       "      <td>HALL CR</td>\n",
       "      <td>88.0</td>\n",
       "      <td>-114.409570</td>\n",
       "      <td>62.433760</td>\n",
       "    </tr>\n",
       "    <tr>\n",
       "      <th>233</th>\n",
       "      <td>NT_Yellowknife_Business_Directory.csv</td>\n",
       "      <td>NT</td>\n",
       "      <td>NaN</td>\n",
       "      <td>154</td>\n",
       "      <td>HALL CRES</td>\n",
       "      <td>NaN</td>\n",
       "      <td>NaN</td>\n",
       "      <td>hall cres</td>\n",
       "      <td>HALL CRES</td>\n",
       "      <td>HALL CR</td>\n",
       "      <td>88.0</td>\n",
       "      <td>-114.409060</td>\n",
       "      <td>62.433050</td>\n",
       "    </tr>\n",
       "    <tr>\n",
       "      <th>272</th>\n",
       "      <td>NT_Yellowknife_Business_Directory.csv</td>\n",
       "      <td>NT</td>\n",
       "      <td>NaN</td>\n",
       "      <td>5012</td>\n",
       "      <td>50 AVE</td>\n",
       "      <td>NaN</td>\n",
       "      <td>NaN</td>\n",
       "      <td>50 ave</td>\n",
       "      <td>50 AVE</td>\n",
       "      <td>52 AVE</td>\n",
       "      <td>83.0</td>\n",
       "      <td>NaN</td>\n",
       "      <td>NaN</td>\n",
       "    </tr>\n",
       "    <tr>\n",
       "      <th>275</th>\n",
       "      <td>NT_Yellowknife_Business_Directory.csv</td>\n",
       "      <td>NT</td>\n",
       "      <td>NaN</td>\n",
       "      <td>5010</td>\n",
       "      <td>50 ST</td>\n",
       "      <td>NaN</td>\n",
       "      <td>NaN</td>\n",
       "      <td>50 st</td>\n",
       "      <td>50 ST</td>\n",
       "      <td>57 ST</td>\n",
       "      <td>80.0</td>\n",
       "      <td>NaN</td>\n",
       "      <td>NaN</td>\n",
       "    </tr>\n",
       "    <tr>\n",
       "      <th>281</th>\n",
       "      <td>NT_Yellowknife_Business_Directory.csv</td>\n",
       "      <td>NT</td>\n",
       "      <td>NaN</td>\n",
       "      <td>455</td>\n",
       "      <td>HALL CRES</td>\n",
       "      <td>NaN</td>\n",
       "      <td>NaN</td>\n",
       "      <td>hall cres</td>\n",
       "      <td>HALL CRES</td>\n",
       "      <td>HALL CR</td>\n",
       "      <td>88.0</td>\n",
       "      <td>-114.407900</td>\n",
       "      <td>62.434070</td>\n",
       "    </tr>\n",
       "    <tr>\n",
       "      <th>290</th>\n",
       "      <td>NT_Yellowknife_Business_Directory.csv</td>\n",
       "      <td>NT</td>\n",
       "      <td>NaN</td>\n",
       "      <td>5109</td>\n",
       "      <td>51 ST</td>\n",
       "      <td>NaN</td>\n",
       "      <td>NaN</td>\n",
       "      <td>51 st</td>\n",
       "      <td>51 ST</td>\n",
       "      <td>54 ST</td>\n",
       "      <td>80.0</td>\n",
       "      <td>NaN</td>\n",
       "      <td>NaN</td>\n",
       "    </tr>\n",
       "    <tr>\n",
       "      <th>294</th>\n",
       "      <td>NT_Yellowknife_Business_Directory.csv</td>\n",
       "      <td>NT</td>\n",
       "      <td>NaN</td>\n",
       "      <td>27</td>\n",
       "      <td>MELVILLE DR</td>\n",
       "      <td>NaN</td>\n",
       "      <td>NaN</td>\n",
       "      <td>melville dr</td>\n",
       "      <td>MELVILLE DR</td>\n",
       "      <td>MANDEVILLE DR</td>\n",
       "      <td>83.0</td>\n",
       "      <td>-114.427920</td>\n",
       "      <td>62.439950</td>\n",
       "    </tr>\n",
       "  </tbody>\n",
       "</table>\n",
       "</div>"
      ],
      "text/plain": [
       "                                 localfile province mailing_address street_no  \\\n",
       "88          AB_Banff_Business_Licences.csv       AB             NaN       100   \n",
       "106     BC_Vancouver_Business_Licences.csv       BC             NaN      1753   \n",
       "116     BC_Burnaby_Business_Licences_2.csv       BC             NaN      6745   \n",
       "117     BC_Vancouver_Business_Licences.csv       BC             NaN      3675   \n",
       "118     BC_Vancouver_Business_Licences.csv       BC             NaN      1280   \n",
       "129     BC_Vancouver_Business_Licences.csv       BC             NaN      1711   \n",
       "132     BC_Vancouver_Business_Licences.csv       BC             NaN       815   \n",
       "138     BC_Vancouver_Business_Licences.csv       BC             NaN       888   \n",
       "139     BC_Vancouver_Business_Licences.csv       BC             NaN      1028   \n",
       "140     BC_Vancouver_Business_Licences.csv       BC             NaN      2285   \n",
       "145     BC_Vancouver_Business_Licences.csv       BC             NaN       888   \n",
       "156     BC_Vancouver_Business_Licences.csv       BC             NaN       625   \n",
       "157     BC_Vancouver_Business_Licences.csv       BC             NaN      1290   \n",
       "180     BC_Vancouver_Business_Licences.csv       BC             NaN       773   \n",
       "183     BC_Vancouver_Business_Licences.csv       BC             NaN       516   \n",
       "189     BC_Vancouver_Business_Licences.csv       BC             NaN        34   \n",
       "194     BC_Burnaby_Business_Licences_2.csv       BC             NaN      7089   \n",
       "198     BC_Vancouver_Business_Licences.csv       BC             NaN      3321   \n",
       "210  NT_Yellowknife_Business_Directory.csv       NT             NaN       142   \n",
       "233  NT_Yellowknife_Business_Directory.csv       NT             NaN       154   \n",
       "272  NT_Yellowknife_Business_Directory.csv       NT             NaN      5012   \n",
       "275  NT_Yellowknife_Business_Directory.csv       NT             NaN      5010   \n",
       "281  NT_Yellowknife_Business_Directory.csv       NT             NaN       455   \n",
       "290  NT_Yellowknife_Business_Directory.csv       NT             NaN      5109   \n",
       "294  NT_Yellowknife_Business_Directory.csv       NT             NaN        27   \n",
       "\n",
       "          street_name   latitude   longitude      formatted_en  \\\n",
       "88      SUNDANCE ROAD        NaN         NaN       sundance rd   \n",
       "106      Marine Drive        NaN         NaN         marine dr   \n",
       "116  STATION HILL CRT        NaN         NaN  station hill crt   \n",
       "117         W 10TH AV        NaN         NaN         w 10th av   \n",
       "118      GRANVILLE ST  49.276157 -123.127071      granville st   \n",
       "129        W BROADWAY  49.263978 -123.143743        w broadway   \n",
       "132  COMMERCIAL DRIVE  49.277321 -123.070731     commercial dr   \n",
       "138   SE MARINE DRIVE  49.210433 -123.087875      se marine dr   \n",
       "139       MAINLAND ST  49.276087 -123.119287       mainland st   \n",
       "140            W 41st        NaN         NaN            w 41st   \n",
       "145          Davie St  49.278085 -123.128243          davie st   \n",
       "156           MAIN ST  49.279149 -123.100331           main st   \n",
       "157         E 12TH AV  49.259465 -123.077963         e 12th av   \n",
       "180         DENMAN ST  49.291844 -123.135453         denman st   \n",
       "183         Robson St  49.280172 -123.118309         robson st   \n",
       "189          W 2nd Av  49.268931 -123.104901          w 2nd av   \n",
       "194      LOUGHEED HWY        NaN         NaN      lougheed hwy   \n",
       "198          Kingsway  49.233974 -123.034869          kingsway   \n",
       "210         HALL CRES        NaN         NaN         hall cres   \n",
       "233         HALL CRES        NaN         NaN         hall cres   \n",
       "272            50 AVE        NaN         NaN            50 ave   \n",
       "275             50 ST        NaN         NaN             50 st   \n",
       "281         HALL CRES        NaN         NaN         hall cres   \n",
       "290             51 ST        NaN         NaN             51 st   \n",
       "294       MELVILLE DR        NaN         NaN       melville dr   \n",
       "\n",
       "         formatted_fr         matches_r  ratio           x          y  \n",
       "88      SUNDANCE ROAD     SUNDANCE ROAD   92.0 -115.582085  51.174765  \n",
       "106      Marine Drive         Garner Rd   67.0         NaN        NaN  \n",
       "116  STATION HILL CRT   STATION HILL CT   97.0 -122.962960  49.210420  \n",
       "117         W 10TH AV         W 15TH AV   89.0         NaN        NaN  \n",
       "118      GRANVILLE ST        CORNELL ST   64.0         NaN        NaN  \n",
       "129        W BROADWAY        BOWEN ROAD   60.0         NaN        NaN  \n",
       "132  COMMERCIAL DRIVE  COMMERCIAL DRIVE   90.0 -123.070730  49.277320  \n",
       "138   SE MARINE DRIVE   SE MARINE DRIVE   89.0         NaN        NaN  \n",
       "139       MAINLAND ST      FINLAYSON ST   70.0         NaN        NaN  \n",
       "140            W 41st            141 St   67.0         NaN        NaN  \n",
       "145          Davie St           VIEW ST   80.0         NaN        NaN  \n",
       "156           MAIN ST        MAIN ST ST   82.0 -119.590290  49.493870  \n",
       "157         E 12TH AV         E 11TH AV   89.0 -123.077790  49.260270  \n",
       "180         DENMAN ST       DOMINION ST   60.0         NaN        NaN  \n",
       "183         Robson St        TORONTO ST   63.0         NaN        NaN  \n",
       "189          W 2nd Av         W 22ND AV   94.0         NaN        NaN  \n",
       "194      LOUGHEED HWY       LOUGHEED HY   96.0 -122.956570  49.259090  \n",
       "198          Kingsway       KINGSLEY ST   63.0         NaN        NaN  \n",
       "210         HALL CRES           HALL CR   88.0 -114.409570  62.433760  \n",
       "233         HALL CRES           HALL CR   88.0 -114.409060  62.433050  \n",
       "272            50 AVE            52 AVE   83.0         NaN        NaN  \n",
       "275             50 ST             57 ST   80.0         NaN        NaN  \n",
       "281         HALL CRES           HALL CR   88.0 -114.407900  62.434070  \n",
       "290             51 ST             54 ST   80.0         NaN        NaN  \n",
       "294       MELVILLE DR     MANDEVILLE DR   83.0 -114.427920  62.439950  "
      ]
     },
     "execution_count": 10,
     "metadata": {},
     "output_type": "execute_result"
    }
   ],
   "source": [
    "df_match"
   ]
  },
  {
   "cell_type": "code",
   "execution_count": 11,
   "metadata": {
    "execution": {
     "iopub.execute_input": "2022-08-16T18:54:44.655565Z",
     "iopub.status.busy": "2022-08-16T18:54:44.655177Z",
     "iopub.status.idle": "2022-08-16T18:54:44.668302Z",
     "shell.execute_reply": "2022-08-16T18:54:44.667124Z",
     "shell.execute_reply.started": "2022-08-16T18:54:44.655525Z"
    }
   },
   "outputs": [],
   "source": [
    "df_match.to_csv(\"imprefect_match_sample.csv\", index=False)"
   ]
  },
  {
   "cell_type": "code",
   "execution_count": 3,
   "metadata": {
    "execution": {
     "iopub.execute_input": "2022-09-01T14:52:11.461903Z",
     "iopub.status.busy": "2022-09-01T14:52:11.461633Z",
     "iopub.status.idle": "2022-09-01T14:52:17.409407Z",
     "shell.execute_reply": "2022-09-01T14:52:17.408565Z",
     "shell.execute_reply.started": "2022-09-01T14:52:11.461873Z"
    },
    "tags": []
   },
   "outputs": [
    {
     "name": "stderr",
     "output_type": "stream",
     "text": [
      "<ipython-input-3-fbac1f1a8790>:1: DtypeWarning: Columns (3,4,5,6,7,8,9,11,12,13,14,15,19,20,21,22,23,25,26,29,30,31,32,34,35,36,40,42,44) have mixed types. Specify dtype option on import or set low_memory=False.\n",
      "  df = pd.read_csv('data/ODBiz_parsed.csv')\n"
     ]
    },
    {
     "data": {
      "text/plain": [
       "0"
      ]
     },
     "execution_count": 3,
     "metadata": {},
     "output_type": "execute_result"
    }
   ],
   "source": [
    "df = pd.read_csv('data/ODBiz_parsed.csv')\n",
    "df['full_address'].isna().sum()\n"
   ]
  },
  {
   "cell_type": "code",
   "execution_count": 4,
   "metadata": {
    "execution": {
     "iopub.execute_input": "2022-09-01T14:52:32.530935Z",
     "iopub.status.busy": "2022-09-01T14:52:32.530252Z",
     "iopub.status.idle": "2022-09-01T14:52:32.536633Z",
     "shell.execute_reply": "2022-09-01T14:52:32.534972Z",
     "shell.execute_reply.started": "2022-09-01T14:52:32.530895Z"
    }
   },
   "outputs": [
    {
     "data": {
      "text/plain": [
       "803584"
      ]
     },
     "execution_count": 4,
     "metadata": {},
     "output_type": "execute_result"
    }
   ],
   "source": [
    "len(df)"
   ]
  },
  {
   "cell_type": "code",
   "execution_count": null,
   "metadata": {},
   "outputs": [],
   "source": []
  }
 ],
 "metadata": {
  "kernelspec": {
   "display_name": "Python 3 (ipykernel)",
   "language": "python",
   "name": "python3"
  },
  "language_info": {
   "codemirror_mode": {
    "name": "ipython",
    "version": 3
   },
   "file_extension": ".py",
   "mimetype": "text/x-python",
   "name": "python",
   "nbconvert_exporter": "python",
   "pygments_lexer": "ipython3",
   "version": "3.8.12"
  }
 },
 "nbformat": 4,
 "nbformat_minor": 4
}
