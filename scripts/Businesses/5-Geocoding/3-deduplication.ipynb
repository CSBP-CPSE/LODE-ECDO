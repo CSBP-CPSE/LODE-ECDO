{
 "cells": [
  {
   "cell_type": "code",
   "execution_count": 2,
   "metadata": {
    "execution": {
     "iopub.execute_input": "2022-08-25T14:53:00.165276Z",
     "iopub.status.busy": "2022-08-25T14:53:00.164931Z",
     "iopub.status.idle": "2022-08-25T14:53:00.170450Z",
     "shell.execute_reply": "2022-08-25T14:53:00.169184Z",
     "shell.execute_reply.started": "2022-08-25T14:53:00.165236Z"
    },
    "tags": []
   },
   "outputs": [],
   "source": [
    "# We're doing some basic deduplication removing exact matches for street number \n",
    "# + strong fuzzy matches for street names. "
   ]
  },
  {
   "cell_type": "code",
   "execution_count": 1,
   "metadata": {
    "execution": {
     "iopub.execute_input": "2022-08-25T18:20:37.906484Z",
     "iopub.status.busy": "2022-08-25T18:20:37.906104Z",
     "iopub.status.idle": "2022-08-25T18:20:38.656256Z",
     "shell.execute_reply": "2022-08-25T18:20:38.654980Z",
     "shell.execute_reply.started": "2022-08-25T18:20:37.906374Z"
    },
    "tags": []
   },
   "outputs": [
    {
     "name": "stderr",
     "output_type": "stream",
     "text": [
      "/home/jovyan/.local/lib/python3.8/site-packages/thefuzz/fuzz.py:11: UserWarning: Using slow pure-python SequenceMatcher. Install python-Levenshtein to remove this warning\n",
      "  warnings.warn('Using slow pure-python SequenceMatcher. Install python-Levenshtein to remove this warning')\n"
     ]
    }
   ],
   "source": [
    "import pandas as pd\n",
    "\n",
    "from thefuzz import fuzz\n",
    "from thefuzz import process"
   ]
  },
  {
   "cell_type": "code",
   "execution_count": 18,
   "metadata": {
    "execution": {
     "iopub.execute_input": "2022-08-25T18:25:44.748291Z",
     "iopub.status.busy": "2022-08-25T18:25:44.748003Z",
     "iopub.status.idle": "2022-08-25T18:25:45.543968Z",
     "shell.execute_reply": "2022-08-25T18:25:45.543094Z",
     "shell.execute_reply.started": "2022-08-25T18:25:44.748260Z"
    },
    "tags": []
   },
   "outputs": [
    {
     "name": "stdout",
     "output_type": "stream",
     "text": [
      "rows:  803658\n"
     ]
    }
   ],
   "source": [
    "df = pd.read_csv('formatted_25.csv', low_memory=False)\n",
    "print('rows: ', len(df))"
   ]
  },
  {
   "cell_type": "code",
   "execution_count": 7,
   "metadata": {
    "execution": {
     "iopub.execute_input": "2022-08-25T18:21:20.185693Z",
     "iopub.status.busy": "2022-08-25T18:21:20.185408Z",
     "iopub.status.idle": "2022-08-25T18:21:20.191762Z",
     "shell.execute_reply": "2022-08-25T18:21:20.190672Z",
     "shell.execute_reply.started": "2022-08-25T18:21:20.185662Z"
    },
    "tags": []
   },
   "outputs": [
    {
     "data": {
      "text/plain": [
       "pandas.core.frame.DataFrame"
      ]
     },
     "execution_count": 7,
     "metadata": {},
     "output_type": "execute_result"
    }
   ],
   "source": [
    "type(df)"
   ]
  },
  {
   "cell_type": "code",
   "execution_count": 20,
   "metadata": {
    "execution": {
     "iopub.execute_input": "2022-08-25T18:26:36.318130Z",
     "iopub.status.busy": "2022-08-25T18:26:36.317668Z",
     "iopub.status.idle": "2022-08-25T18:26:36.646548Z",
     "shell.execute_reply": "2022-08-25T18:26:36.645315Z",
     "shell.execute_reply.started": "2022-08-25T18:26:36.318077Z"
    },
    "tags": []
   },
   "outputs": [
    {
     "name": "stdout",
     "output_type": "stream",
     "text": [
      "rows:  676262\n"
     ]
    }
   ],
   "source": [
    "# Start by removing exact matches\n",
    "\n",
    "# df = df.drop_duplicates(subset=['street_no','formatted_en', 'province'])\n",
    "# df = df[(~df.duplicated(subset=['street_no','formatted_en', 'province'])) | df['street_no','formatted_en', 'province'].isna()]\n",
    "\n",
    "df = df[~df.duplicated(subset=['street_no','formatted_en', 'province']) | df['street_no'].isna() | df['formatted_en'].isna() | df['province'].isna()]\n",
    "\n",
    "print('rows: ', len(df))\n",
    "# if (province_code == 'QC'):\n",
    "#     df = df.drop_duplicates(subset=['street_no','formatted_fr'])\n",
    "# else:\n",
    "#     df = df.drop_duplicates(subset=['street_no','formatted_en'])"
   ]
  },
  {
   "cell_type": "code",
   "execution_count": 8,
   "metadata": {
    "execution": {
     "iopub.execute_input": "2022-08-25T18:21:35.621571Z",
     "iopub.status.busy": "2022-08-25T18:21:35.621289Z",
     "iopub.status.idle": "2022-08-25T18:21:35.628058Z",
     "shell.execute_reply": "2022-08-25T18:21:35.627099Z",
     "shell.execute_reply.started": "2022-08-25T18:21:35.621542Z"
    },
    "tags": []
   },
   "outputs": [
    {
     "data": {
      "text/plain": [
       "['localfile',\n",
       " 'province',\n",
       " 'mailing_address',\n",
       " 'street_no',\n",
       " 'street_name',\n",
       " 'latitude',\n",
       " 'longitude',\n",
       " 'formatted_en',\n",
       " 'formatted_fr']"
      ]
     },
     "execution_count": 8,
     "metadata": {},
     "output_type": "execute_result"
    }
   ],
   "source": [
    "# ok, so it looks like a lot of results might be duplicated quite simply\n",
    "# now, let's find out how many we have to geocode. and how many simple \n",
    "# deduplication removes\n",
    "list(df)"
   ]
  },
  {
   "cell_type": "code",
   "execution_count": 15,
   "metadata": {
    "execution": {
     "iopub.execute_input": "2022-08-25T18:24:50.562498Z",
     "iopub.status.busy": "2022-08-25T18:24:50.562082Z",
     "iopub.status.idle": "2022-08-25T18:24:50.578170Z",
     "shell.execute_reply": "2022-08-25T18:24:50.577245Z",
     "shell.execute_reply.started": "2022-08-25T18:24:50.562449Z"
    },
    "tags": []
   },
   "outputs": [
    {
     "data": {
      "text/html": [
       "<div>\n",
       "<style scoped>\n",
       "    .dataframe tbody tr th:only-of-type {\n",
       "        vertical-align: middle;\n",
       "    }\n",
       "\n",
       "    .dataframe tbody tr th {\n",
       "        vertical-align: top;\n",
       "    }\n",
       "\n",
       "    .dataframe thead th {\n",
       "        text-align: right;\n",
       "    }\n",
       "</style>\n",
       "<table border=\"1\" class=\"dataframe\">\n",
       "  <thead>\n",
       "    <tr style=\"text-align: right;\">\n",
       "      <th></th>\n",
       "      <th>localfile</th>\n",
       "      <th>province</th>\n",
       "      <th>mailing_address</th>\n",
       "      <th>street_no</th>\n",
       "      <th>street_name</th>\n",
       "      <th>latitude</th>\n",
       "      <th>longitude</th>\n",
       "      <th>formatted_en</th>\n",
       "      <th>formatted_fr</th>\n",
       "    </tr>\n",
       "  </thead>\n",
       "  <tbody>\n",
       "    <tr>\n",
       "      <th>0</th>\n",
       "      <td>BC_Victoria_Business_Licences.csv</td>\n",
       "      <td>BC</td>\n",
       "      <td>NaN</td>\n",
       "      <td>1417</td>\n",
       "      <td>PEMBROKE ST</td>\n",
       "      <td>48.431011</td>\n",
       "      <td>-123.341208</td>\n",
       "      <td>pembroke st</td>\n",
       "      <td>PEMBROKE ST</td>\n",
       "    </tr>\n",
       "    <tr>\n",
       "      <th>7108</th>\n",
       "      <td>AB_Banff_Business_Licences.csv</td>\n",
       "      <td>AB</td>\n",
       "      <td>NaN</td>\n",
       "      <td>202</td>\n",
       "      <td>BANFF AVE</td>\n",
       "      <td>NaN</td>\n",
       "      <td>NaN</td>\n",
       "      <td>banff ave</td>\n",
       "      <td>BANFF AVE</td>\n",
       "    </tr>\n",
       "    <tr>\n",
       "      <th>8050</th>\n",
       "      <td>NB_Saint_John_Grocery_Stores.csv</td>\n",
       "      <td>NB</td>\n",
       "      <td>NaN</td>\n",
       "      <td>NaN</td>\n",
       "      <td>NaN</td>\n",
       "      <td>45.276229</td>\n",
       "      <td>-66.054280</td>\n",
       "      <td>NaN</td>\n",
       "      <td>NaN</td>\n",
       "    </tr>\n",
       "    <tr>\n",
       "      <th>41744</th>\n",
       "      <td>ON_Hamilton_Licenced_Public_Halls.csv</td>\n",
       "      <td>ON</td>\n",
       "      <td>NaN</td>\n",
       "      <td>NaN</td>\n",
       "      <td>NaN</td>\n",
       "      <td>NaN</td>\n",
       "      <td>NaN</td>\n",
       "      <td>NaN</td>\n",
       "      <td>NaN</td>\n",
       "    </tr>\n",
       "    <tr>\n",
       "      <th>62083</th>\n",
       "      <td>ON_Pickering_Business_Directory.csv</td>\n",
       "      <td>NaN</td>\n",
       "      <td>NaN</td>\n",
       "      <td>1266</td>\n",
       "      <td>Townline</td>\n",
       "      <td>44.105207</td>\n",
       "      <td>-78.944945</td>\n",
       "      <td>tline</td>\n",
       "      <td>Townline</td>\n",
       "    </tr>\n",
       "    <tr>\n",
       "      <th>72035</th>\n",
       "      <td>BC_Vancouver_Business_Licences.csv</td>\n",
       "      <td>QC</td>\n",
       "      <td>NaN</td>\n",
       "      <td>NaN</td>\n",
       "      <td>NaN</td>\n",
       "      <td>NaN</td>\n",
       "      <td>NaN</td>\n",
       "      <td>NaN</td>\n",
       "      <td>NaN</td>\n",
       "    </tr>\n",
       "    <tr>\n",
       "      <th>78598</th>\n",
       "      <td>BC_Vancouver_Business_Licences.csv</td>\n",
       "      <td>MB</td>\n",
       "      <td>NaN</td>\n",
       "      <td>NaN</td>\n",
       "      <td>NaN</td>\n",
       "      <td>NaN</td>\n",
       "      <td>NaN</td>\n",
       "      <td>NaN</td>\n",
       "      <td>NaN</td>\n",
       "    </tr>\n",
       "    <tr>\n",
       "      <th>85799</th>\n",
       "      <td>BC_Vancouver_Business_Licences.csv</td>\n",
       "      <td>SK</td>\n",
       "      <td>NaN</td>\n",
       "      <td>NaN</td>\n",
       "      <td>NaN</td>\n",
       "      <td>NaN</td>\n",
       "      <td>NaN</td>\n",
       "      <td>NaN</td>\n",
       "      <td>NaN</td>\n",
       "    </tr>\n",
       "    <tr>\n",
       "      <th>89630</th>\n",
       "      <td>BC_Vancouver_Business_Licences.csv</td>\n",
       "      <td>NS</td>\n",
       "      <td>NaN</td>\n",
       "      <td>NaN</td>\n",
       "      <td>NaN</td>\n",
       "      <td>NaN</td>\n",
       "      <td>NaN</td>\n",
       "      <td>NaN</td>\n",
       "      <td>NaN</td>\n",
       "    </tr>\n",
       "    <tr>\n",
       "      <th>101201</th>\n",
       "      <td>BC_Vancouver_Business_Licences.csv</td>\n",
       "      <td>78</td>\n",
       "      <td>NaN</td>\n",
       "      <td>NaN</td>\n",
       "      <td>NaN</td>\n",
       "      <td>NaN</td>\n",
       "      <td>NaN</td>\n",
       "      <td>NaN</td>\n",
       "      <td>NaN</td>\n",
       "    </tr>\n",
       "    <tr>\n",
       "      <th>108949</th>\n",
       "      <td>BC_Vancouver_Business_Licences.csv</td>\n",
       "      <td>YT</td>\n",
       "      <td>NaN</td>\n",
       "      <td>NaN</td>\n",
       "      <td>NaN</td>\n",
       "      <td>NaN</td>\n",
       "      <td>NaN</td>\n",
       "      <td>NaN</td>\n",
       "      <td>NaN</td>\n",
       "    </tr>\n",
       "    <tr>\n",
       "      <th>109249</th>\n",
       "      <td>BC_Vancouver_Business_Licences.csv</td>\n",
       "      <td>NL</td>\n",
       "      <td>NaN</td>\n",
       "      <td>NaN</td>\n",
       "      <td>NaN</td>\n",
       "      <td>NaN</td>\n",
       "      <td>NaN</td>\n",
       "      <td>NaN</td>\n",
       "      <td>NaN</td>\n",
       "    </tr>\n",
       "    <tr>\n",
       "      <th>184327</th>\n",
       "      <td>BC_Vancouver_Business_Licences.csv</td>\n",
       "      <td>LAKEVIEW ESTATES</td>\n",
       "      <td>NaN</td>\n",
       "      <td>NaN</td>\n",
       "      <td>NaN</td>\n",
       "      <td>NaN</td>\n",
       "      <td>NaN</td>\n",
       "      <td>NaN</td>\n",
       "      <td>NaN</td>\n",
       "    </tr>\n",
       "    <tr>\n",
       "      <th>653458</th>\n",
       "      <td>NT_Yellowknife_Business_Directory.csv</td>\n",
       "      <td>NT</td>\n",
       "      <td>NaN</td>\n",
       "      <td>119</td>\n",
       "      <td>GWILLIAM CRES</td>\n",
       "      <td>NaN</td>\n",
       "      <td>NaN</td>\n",
       "      <td>gwilliam cres</td>\n",
       "      <td>GWILLIAM CRES</td>\n",
       "    </tr>\n",
       "    <tr>\n",
       "      <th>690643</th>\n",
       "      <td>NU_Indigenous_Business.csv</td>\n",
       "      <td>NU</td>\n",
       "      <td>NaN</td>\n",
       "      <td>NaN</td>\n",
       "      <td>NaN</td>\n",
       "      <td>NaN</td>\n",
       "      <td>NaN</td>\n",
       "      <td>NaN</td>\n",
       "      <td>NaN</td>\n",
       "    </tr>\n",
       "    <tr>\n",
       "      <th>796215</th>\n",
       "      <td>Indigenous_Business_Directory.csv</td>\n",
       "      <td>PE</td>\n",
       "      <td>NaN</td>\n",
       "      <td>NaN</td>\n",
       "      <td>NaN</td>\n",
       "      <td>NaN</td>\n",
       "      <td>NaN</td>\n",
       "      <td>NaN</td>\n",
       "      <td>NaN</td>\n",
       "    </tr>\n",
       "  </tbody>\n",
       "</table>\n",
       "</div>"
      ],
      "text/plain": [
       "                                    localfile          province  \\\n",
       "0           BC_Victoria_Business_Licences.csv                BC   \n",
       "7108           AB_Banff_Business_Licences.csv                AB   \n",
       "8050         NB_Saint_John_Grocery_Stores.csv                NB   \n",
       "41744   ON_Hamilton_Licenced_Public_Halls.csv                ON   \n",
       "62083     ON_Pickering_Business_Directory.csv               NaN   \n",
       "72035      BC_Vancouver_Business_Licences.csv                QC   \n",
       "78598      BC_Vancouver_Business_Licences.csv                MB   \n",
       "85799      BC_Vancouver_Business_Licences.csv                SK   \n",
       "89630      BC_Vancouver_Business_Licences.csv                NS   \n",
       "101201     BC_Vancouver_Business_Licences.csv                78   \n",
       "108949     BC_Vancouver_Business_Licences.csv                YT   \n",
       "109249     BC_Vancouver_Business_Licences.csv                NL   \n",
       "184327     BC_Vancouver_Business_Licences.csv  LAKEVIEW ESTATES   \n",
       "653458  NT_Yellowknife_Business_Directory.csv                NT   \n",
       "690643             NU_Indigenous_Business.csv                NU   \n",
       "796215      Indigenous_Business_Directory.csv                PE   \n",
       "\n",
       "       mailing_address street_no    street_name   latitude   longitude  \\\n",
       "0                  NaN      1417    PEMBROKE ST  48.431011 -123.341208   \n",
       "7108               NaN       202      BANFF AVE        NaN         NaN   \n",
       "8050               NaN       NaN            NaN  45.276229  -66.054280   \n",
       "41744              NaN       NaN            NaN        NaN         NaN   \n",
       "62083              NaN      1266       Townline  44.105207  -78.944945   \n",
       "72035              NaN       NaN            NaN        NaN         NaN   \n",
       "78598              NaN       NaN            NaN        NaN         NaN   \n",
       "85799              NaN       NaN            NaN        NaN         NaN   \n",
       "89630              NaN       NaN            NaN        NaN         NaN   \n",
       "101201             NaN       NaN            NaN        NaN         NaN   \n",
       "108949             NaN       NaN            NaN        NaN         NaN   \n",
       "109249             NaN       NaN            NaN        NaN         NaN   \n",
       "184327             NaN       NaN            NaN        NaN         NaN   \n",
       "653458             NaN       119  GWILLIAM CRES        NaN         NaN   \n",
       "690643             NaN       NaN            NaN        NaN         NaN   \n",
       "796215             NaN       NaN            NaN        NaN         NaN   \n",
       "\n",
       "         formatted_en   formatted_fr  \n",
       "0         pembroke st    PEMBROKE ST  \n",
       "7108        banff ave      BANFF AVE  \n",
       "8050              NaN            NaN  \n",
       "41744             NaN            NaN  \n",
       "62083           tline       Townline  \n",
       "72035             NaN            NaN  \n",
       "78598             NaN            NaN  \n",
       "85799             NaN            NaN  \n",
       "89630             NaN            NaN  \n",
       "101201            NaN            NaN  \n",
       "108949            NaN            NaN  \n",
       "109249            NaN            NaN  \n",
       "184327            NaN            NaN  \n",
       "653458  gwilliam cres  GWILLIAM CRES  \n",
       "690643            NaN            NaN  \n",
       "796215            NaN            NaN  "
      ]
     },
     "execution_count": 15,
     "metadata": {},
     "output_type": "execute_result"
    }
   ],
   "source": [
    "df"
   ]
  },
  {
   "cell_type": "code",
   "execution_count": 25,
   "metadata": {
    "execution": {
     "iopub.execute_input": "2022-08-25T15:42:26.364663Z",
     "iopub.status.busy": "2022-08-25T15:42:26.364372Z",
     "iopub.status.idle": "2022-08-25T15:42:26.375283Z",
     "shell.execute_reply": "2022-08-25T15:42:26.374149Z",
     "shell.execute_reply.started": "2022-08-25T15:42:26.364629Z"
    }
   },
   "outputs": [
    {
     "name": "stdout",
     "output_type": "stream",
     "text": [
      "35824\n"
     ]
    }
   ],
   "source": [
    "# how many to geocode?\n",
    "print(len(df[df['longitude'].isnull()]))"
   ]
  },
  {
   "cell_type": "code",
   "execution_count": 26,
   "metadata": {
    "execution": {
     "iopub.execute_input": "2022-08-25T15:43:18.575547Z",
     "iopub.status.busy": "2022-08-25T15:43:18.575158Z",
     "iopub.status.idle": "2022-08-25T15:43:18.582613Z",
     "shell.execute_reply": "2022-08-25T15:43:18.579639Z",
     "shell.execute_reply.started": "2022-08-25T15:43:18.575501Z"
    }
   },
   "outputs": [],
   "source": [
    "# ok, 'only' 35824. Is that right?? That's not too many at all. And it'll be way less with matching. \n",
    "# do I need to match any addresses that are geocoded already? or is it just for geocoding? prob former"
   ]
  },
  {
   "cell_type": "code",
   "execution_count": 30,
   "metadata": {
    "execution": {
     "iopub.execute_input": "2022-08-25T17:38:54.774344Z",
     "iopub.status.busy": "2022-08-25T17:38:54.774058Z",
     "iopub.status.idle": "2022-08-25T17:38:54.788503Z",
     "shell.execute_reply": "2022-08-25T17:38:54.786707Z",
     "shell.execute_reply.started": "2022-08-25T17:38:54.774310Z"
    }
   },
   "outputs": [],
   "source": [
    "df = pd.DataFrame({\n",
    "    'brand': ['Yum Yum', 'Yum Yum', 'Indomie', 'Indomie', 'Indomie'],\n",
    "    'style': ['cup', 'cup', 'cup', 'pack', 'pack'],\n",
    "    'rating': [4, 4, 3.5, 15, 5]\n",
    "})"
   ]
  },
  {
   "cell_type": "code",
   "execution_count": 13,
   "metadata": {
    "execution": {
     "iopub.execute_input": "2022-08-25T18:22:49.822404Z",
     "iopub.status.busy": "2022-08-25T18:22:49.822100Z",
     "iopub.status.idle": "2022-08-25T18:22:49.867445Z",
     "shell.execute_reply": "2022-08-25T18:22:49.866332Z",
     "shell.execute_reply.started": "2022-08-25T18:22:49.822372Z"
    },
    "tags": []
   },
   "outputs": [
    {
     "data": {
      "text/plain": [
       "array(['BC', 'AB', 'NB', 'ON', nan, 'QC', 'MB', 'SK', 'NS', '78', 'YT',\n",
       "       'NL', 'LAKEVIEW ESTATES', 'NT', 'NU', 'PE'], dtype=object)"
      ]
     },
     "execution_count": 13,
     "metadata": {},
     "output_type": "execute_result"
    }
   ],
   "source": [
    "df['province'].unique()"
   ]
  },
  {
   "cell_type": "code",
   "execution_count": 32,
   "metadata": {
    "execution": {
     "iopub.execute_input": "2022-08-25T17:40:11.342526Z",
     "iopub.status.busy": "2022-08-25T17:40:11.342212Z",
     "iopub.status.idle": "2022-08-25T17:40:11.353942Z",
     "shell.execute_reply": "2022-08-25T17:40:11.352953Z",
     "shell.execute_reply.started": "2022-08-25T17:40:11.342487Z"
    }
   },
   "outputs": [
    {
     "data": {
      "text/html": [
       "<div>\n",
       "<style scoped>\n",
       "    .dataframe tbody tr th:only-of-type {\n",
       "        vertical-align: middle;\n",
       "    }\n",
       "\n",
       "    .dataframe tbody tr th {\n",
       "        vertical-align: top;\n",
       "    }\n",
       "\n",
       "    .dataframe thead th {\n",
       "        text-align: right;\n",
       "    }\n",
       "</style>\n",
       "<table border=\"1\" class=\"dataframe\">\n",
       "  <thead>\n",
       "    <tr style=\"text-align: right;\">\n",
       "      <th></th>\n",
       "      <th>brand</th>\n",
       "      <th>style</th>\n",
       "      <th>rating</th>\n",
       "    </tr>\n",
       "  </thead>\n",
       "  <tbody>\n",
       "    <tr>\n",
       "      <th>0</th>\n",
       "      <td>Yum Yum</td>\n",
       "      <td>cup</td>\n",
       "      <td>4.0</td>\n",
       "    </tr>\n",
       "    <tr>\n",
       "      <th>2</th>\n",
       "      <td>Indomie</td>\n",
       "      <td>cup</td>\n",
       "      <td>3.5</td>\n",
       "    </tr>\n",
       "    <tr>\n",
       "      <th>3</th>\n",
       "      <td>Indomie</td>\n",
       "      <td>pack</td>\n",
       "      <td>15.0</td>\n",
       "    </tr>\n",
       "  </tbody>\n",
       "</table>\n",
       "</div>"
      ],
      "text/plain": [
       "     brand style  rating\n",
       "0  Yum Yum   cup     4.0\n",
       "2  Indomie   cup     3.5\n",
       "3  Indomie  pack    15.0"
      ]
     },
     "execution_count": 32,
     "metadata": {},
     "output_type": "execute_result"
    }
   ],
   "source": [
    "df.drop_duplicates(subset=['brand','style'])"
   ]
  },
  {
   "cell_type": "code",
   "execution_count": null,
   "metadata": {},
   "outputs": [],
   "source": []
  }
 ],
 "metadata": {
  "kernelspec": {
   "display_name": "Python 3 (ipykernel)",
   "language": "python",
   "name": "python3"
  },
  "language_info": {
   "codemirror_mode": {
    "name": "ipython",
    "version": 3
   },
   "file_extension": ".py",
   "mimetype": "text/x-python",
   "name": "python",
   "nbconvert_exporter": "python",
   "pygments_lexer": "ipython3",
   "version": "3.8.12"
  }
 },
 "nbformat": 4,
 "nbformat_minor": 4
}
