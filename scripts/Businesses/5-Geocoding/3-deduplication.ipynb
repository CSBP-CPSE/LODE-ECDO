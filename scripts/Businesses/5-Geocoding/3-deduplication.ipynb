{
 "cells": [
  {
   "cell_type": "code",
   "execution_count": 2,
   "metadata": {
    "execution": {
     "iopub.execute_input": "2022-08-25T14:53:00.165276Z",
     "iopub.status.busy": "2022-08-25T14:53:00.164931Z",
     "iopub.status.idle": "2022-08-25T14:53:00.170450Z",
     "shell.execute_reply": "2022-08-25T14:53:00.169184Z",
     "shell.execute_reply.started": "2022-08-25T14:53:00.165236Z"
    },
    "tags": []
   },
   "outputs": [],
   "source": [
    "# We're doing some basic deduplication to remove exact matches for street number \n",
    "# + strong fuzzy matches for street names\n",
    "# within the same city\n",
    "\n",
    "\n",
    "# NOTE if I'm deduplicating, I need to be careful to retain data\n",
    "# specifically for now, I want to keep the one with a geocode\n",
    "\n",
    "# I'll need to sort the data first perhaps - https://stackoverflow.com/questions/43814487/remove-duplicate-rows-in-pandas-dataframe-based-on-condition\n",
    "# then the nan ones for geo will be lower"
   ]
  },
  {
   "cell_type": "code",
   "execution_count": 1,
   "metadata": {
    "execution": {
     "iopub.execute_input": "2022-08-30T14:13:00.365655Z",
     "iopub.status.busy": "2022-08-30T14:13:00.365390Z",
     "iopub.status.idle": "2022-08-30T14:13:00.960769Z",
     "shell.execute_reply": "2022-08-30T14:13:00.959753Z",
     "shell.execute_reply.started": "2022-08-30T14:13:00.365579Z"
    },
    "tags": []
   },
   "outputs": [
    {
     "name": "stderr",
     "output_type": "stream",
     "text": [
      "/home/jovyan/.local/lib/python3.8/site-packages/thefuzz/fuzz.py:11: UserWarning: Using slow pure-python SequenceMatcher. Install python-Levenshtein to remove this warning\n",
      "  warnings.warn('Using slow pure-python SequenceMatcher. Install python-Levenshtein to remove this warning')\n"
     ]
    }
   ],
   "source": [
    "import pandas as pd\n",
    "\n",
    "from thefuzz import fuzz\n",
    "from thefuzz import process"
   ]
  },
  {
   "cell_type": "code",
   "execution_count": 10,
   "metadata": {
    "execution": {
     "iopub.execute_input": "2022-08-30T14:16:19.811226Z",
     "iopub.status.busy": "2022-08-30T14:16:19.810798Z",
     "iopub.status.idle": "2022-08-30T14:16:32.199938Z",
     "shell.execute_reply": "2022-08-30T14:16:32.199146Z",
     "shell.execute_reply.started": "2022-08-30T14:16:19.811172Z"
    },
    "tags": []
   },
   "outputs": [
    {
     "name": "stdout",
     "output_type": "stream",
     "text": [
      "rows:  803584\n"
     ]
    }
   ],
   "source": [
    "df = pd.read_csv('data/formatted.csv', low_memory=False)\n",
    "print('rows: ', len(df))"
   ]
  },
  {
   "cell_type": "code",
   "execution_count": 11,
   "metadata": {
    "execution": {
     "iopub.execute_input": "2022-08-30T14:16:33.528907Z",
     "iopub.status.busy": "2022-08-30T14:16:33.528580Z",
     "iopub.status.idle": "2022-08-30T14:16:33.905655Z",
     "shell.execute_reply": "2022-08-30T14:16:33.904799Z",
     "shell.execute_reply.started": "2022-08-30T14:16:33.528874Z"
    },
    "tags": []
   },
   "outputs": [
    {
     "name": "stdout",
     "output_type": "stream",
     "text": [
      "598853\n"
     ]
    }
   ],
   "source": [
    "print(len(df[df['longitude'].isnull()]))"
   ]
  },
  {
   "cell_type": "code",
   "execution_count": 13,
   "metadata": {
    "execution": {
     "iopub.execute_input": "2022-08-30T14:16:39.309175Z",
     "iopub.status.busy": "2022-08-30T14:16:39.308891Z",
     "iopub.status.idle": "2022-08-30T14:16:39.315526Z",
     "shell.execute_reply": "2022-08-30T14:16:39.314874Z",
     "shell.execute_reply.started": "2022-08-30T14:16:39.309144Z"
    },
    "tags": []
   },
   "outputs": [
    {
     "data": {
      "text/plain": [
       "803554   NaN\n",
       "803555   NaN\n",
       "803556   NaN\n",
       "803557   NaN\n",
       "803558   NaN\n",
       "803559   NaN\n",
       "803560   NaN\n",
       "803561   NaN\n",
       "803562   NaN\n",
       "803563   NaN\n",
       "803564   NaN\n",
       "803565   NaN\n",
       "803566   NaN\n",
       "803567   NaN\n",
       "803568   NaN\n",
       "803569   NaN\n",
       "803570   NaN\n",
       "803571   NaN\n",
       "803572   NaN\n",
       "803573   NaN\n",
       "803574   NaN\n",
       "803575   NaN\n",
       "803576   NaN\n",
       "803577   NaN\n",
       "803578   NaN\n",
       "803579   NaN\n",
       "803580   NaN\n",
       "803581   NaN\n",
       "803582   NaN\n",
       "803583   NaN\n",
       "Name: latitude, dtype: float64"
      ]
     },
     "execution_count": 13,
     "metadata": {},
     "output_type": "execute_result"
    }
   ],
   "source": [
    "df['latitude'].tail(30)"
   ]
  },
  {
   "cell_type": "code",
   "execution_count": 17,
   "metadata": {
    "execution": {
     "iopub.execute_input": "2022-08-30T14:20:13.114555Z",
     "iopub.status.busy": "2022-08-30T14:20:13.114284Z",
     "iopub.status.idle": "2022-08-30T14:20:14.440297Z",
     "shell.execute_reply": "2022-08-30T14:20:14.439455Z",
     "shell.execute_reply.started": "2022-08-30T14:20:13.114525Z"
    },
    "tags": []
   },
   "outputs": [
    {
     "name": "stdout",
     "output_type": "stream",
     "text": [
      "rows:  484011\n"
     ]
    }
   ],
   "source": [
    "# Start by removing exact matches\n",
    "\n",
    "# df = df.drop_duplicates(subset=['street_no','formatted_en', 'province'])\n",
    "# df = df[(~df.duplicated(subset=['street_no','formatted_en', 'province'])) | df['street_no','formatted_en', 'province'].isna()]\n",
    "\n",
    "# sort so that we keep records of the lat/lon if present\n",
    "df.sort_values(['latitude'])\n",
    "# this only seems to change the result by 20. Does that make sense? That suggests that pretty much all of the duplicates have the same lat/lon information\n",
    "\n",
    "df_city = df[~df.duplicated(subset=['street_no','formatted_en', 'province', 'city'], keep='first') | df['street_no'].isna() | df['formatted_en'].isna() | df['province'].isna() | df['city'].isna()]\n",
    "# df_province = df[~df.duplicated(subset=['street_no','formatted_en', 'province']) | df['street_no'].isna() | df['formatted_en'].isna() | df['province'].isna()]\n",
    "# df_nogeo = df[~df.duplicated(subset=['street_no','formatted_en']) | df['street_no'].isna() | df['formatted_en'].isna()]\n",
    "\n",
    "# FOR TESTING create a dataframe of duplicates for inspection\n",
    "\n",
    "print('rows: ', len(df_city))\n",
    "# print('rows: ', len(df_province))\n",
    "# print('rows: ', len(df_nogeo))\n",
    "# if (province_code == 'QC'):\n",
    "#     df = df.drop_duplicates(subset=['street_no','formatted_fr'])\n",
    "# else:\n",
    "#     df = df.drop_duplicates(subset=['street_no','formatted_en'])"
   ]
  },
  {
   "cell_type": "code",
   "execution_count": 20,
   "metadata": {
    "execution": {
     "iopub.execute_input": "2022-08-30T14:25:08.767834Z",
     "iopub.status.busy": "2022-08-30T14:25:08.767540Z",
     "iopub.status.idle": "2022-08-30T14:25:09.294995Z",
     "shell.execute_reply": "2022-08-30T14:25:09.294120Z",
     "shell.execute_reply.started": "2022-08-30T14:25:08.767799Z"
    },
    "tags": []
   },
   "outputs": [],
   "source": [
    "duplicates = df[df.duplicated(subset=['street_no','formatted_en', 'province', 'city'], keep=False)]"
   ]
  },
  {
   "cell_type": "code",
   "execution_count": 31,
   "metadata": {
    "execution": {
     "iopub.execute_input": "2022-08-30T14:28:43.787942Z",
     "iopub.status.busy": "2022-08-30T14:28:43.787622Z",
     "iopub.status.idle": "2022-08-30T14:28:44.450604Z",
     "shell.execute_reply": "2022-08-30T14:28:44.449834Z",
     "shell.execute_reply.started": "2022-08-30T14:28:43.787910Z"
    },
    "tags": []
   },
   "outputs": [
    {
     "data": {
      "text/html": [
       "<div>\n",
       "<style scoped>\n",
       "    .dataframe tbody tr th:only-of-type {\n",
       "        vertical-align: middle;\n",
       "    }\n",
       "\n",
       "    .dataframe tbody tr th {\n",
       "        vertical-align: top;\n",
       "    }\n",
       "\n",
       "    .dataframe thead th {\n",
       "        text-align: right;\n",
       "    }\n",
       "</style>\n",
       "<table border=\"1\" class=\"dataframe\">\n",
       "  <thead>\n",
       "    <tr style=\"text-align: right;\">\n",
       "      <th></th>\n",
       "      <th>street_no</th>\n",
       "      <th>formatted_en</th>\n",
       "      <th>province</th>\n",
       "      <th>city</th>\n",
       "    </tr>\n",
       "  </thead>\n",
       "  <tbody>\n",
       "    <tr>\n",
       "      <th>578989</th>\n",
       "      <td>#</td>\n",
       "      <td>bellamy rd n</td>\n",
       "      <td>ON</td>\n",
       "      <td>TORONTO, ON</td>\n",
       "    </tr>\n",
       "    <tr>\n",
       "      <th>570656</th>\n",
       "      <td>#</td>\n",
       "      <td>bellamy rd n</td>\n",
       "      <td>ON</td>\n",
       "      <td>TORONTO, ON</td>\n",
       "    </tr>\n",
       "    <tr>\n",
       "      <th>577458</th>\n",
       "      <td>#</td>\n",
       "      <td>bellamy rd n</td>\n",
       "      <td>ON</td>\n",
       "      <td>TORONTO, ON</td>\n",
       "    </tr>\n",
       "    <tr>\n",
       "      <th>575168</th>\n",
       "      <td>#</td>\n",
       "      <td>bellamy rd n</td>\n",
       "      <td>ON</td>\n",
       "      <td>TORONTO, ON</td>\n",
       "    </tr>\n",
       "    <tr>\n",
       "      <th>575276</th>\n",
       "      <td>#</td>\n",
       "      <td>bellamy rd n</td>\n",
       "      <td>ON</td>\n",
       "      <td>TORONTO, ON</td>\n",
       "    </tr>\n",
       "    <tr>\n",
       "      <th>563142</th>\n",
       "      <td>#</td>\n",
       "      <td>bellamy rd n</td>\n",
       "      <td>ON</td>\n",
       "      <td>TORONTO, ON</td>\n",
       "    </tr>\n",
       "    <tr>\n",
       "      <th>573346</th>\n",
       "      <td>#</td>\n",
       "      <td>bellamy rd n</td>\n",
       "      <td>ON</td>\n",
       "      <td>TORONTO, ON</td>\n",
       "    </tr>\n",
       "    <tr>\n",
       "      <th>592282</th>\n",
       "      <td>#</td>\n",
       "      <td>bellamy rd n</td>\n",
       "      <td>ON</td>\n",
       "      <td>TORONTO, ON</td>\n",
       "    </tr>\n",
       "    <tr>\n",
       "      <th>560760</th>\n",
       "      <td>#</td>\n",
       "      <td>bellamy rd n</td>\n",
       "      <td>ON</td>\n",
       "      <td>TORONTO, ON</td>\n",
       "    </tr>\n",
       "    <tr>\n",
       "      <th>581196</th>\n",
       "      <td>#</td>\n",
       "      <td>bellamy rd n</td>\n",
       "      <td>ON</td>\n",
       "      <td>TORONTO, ON</td>\n",
       "    </tr>\n",
       "    <tr>\n",
       "      <th>583967</th>\n",
       "      <td>#</td>\n",
       "      <td>bellamy rd n</td>\n",
       "      <td>ON</td>\n",
       "      <td>TORONTO, ON</td>\n",
       "    </tr>\n",
       "    <tr>\n",
       "      <th>551454</th>\n",
       "      <td>#</td>\n",
       "      <td>st regis cres n</td>\n",
       "      <td>ON</td>\n",
       "      <td>TORONTO, ON</td>\n",
       "    </tr>\n",
       "    <tr>\n",
       "      <th>550363</th>\n",
       "      <td>#</td>\n",
       "      <td>st regis cres n</td>\n",
       "      <td>ON</td>\n",
       "      <td>TORONTO, ON</td>\n",
       "    </tr>\n",
       "    <tr>\n",
       "      <th>550234</th>\n",
       "      <td>#</td>\n",
       "      <td>st regis cres n</td>\n",
       "      <td>ON</td>\n",
       "      <td>TORONTO, ON</td>\n",
       "    </tr>\n",
       "    <tr>\n",
       "      <th>554595</th>\n",
       "      <td>#</td>\n",
       "      <td>st regis cres n</td>\n",
       "      <td>ON</td>\n",
       "      <td>TORONTO, ON</td>\n",
       "    </tr>\n",
       "    <tr>\n",
       "      <th>549766</th>\n",
       "      <td>#</td>\n",
       "      <td>st regis cres n</td>\n",
       "      <td>ON</td>\n",
       "      <td>TORONTO, ON</td>\n",
       "    </tr>\n",
       "    <tr>\n",
       "      <th>505026</th>\n",
       "      <td>##</td>\n",
       "      <td>##no street name</td>\n",
       "      <td>ON</td>\n",
       "      <td>UNKNOWN, ON</td>\n",
       "    </tr>\n",
       "    <tr>\n",
       "      <th>645801</th>\n",
       "      <td>##</td>\n",
       "      <td>##no street name</td>\n",
       "      <td>ON</td>\n",
       "      <td>UNKNOWN, ON</td>\n",
       "    </tr>\n",
       "    <tr>\n",
       "      <th>590425</th>\n",
       "      <td>#010a</td>\n",
       "      <td>adelaide st w</td>\n",
       "      <td>ON</td>\n",
       "      <td>TORONTO, ON</td>\n",
       "    </tr>\n",
       "    <tr>\n",
       "      <th>579529</th>\n",
       "      <td>#010a</td>\n",
       "      <td>adelaide st w</td>\n",
       "      <td>ON</td>\n",
       "      <td>TORONTO, ON</td>\n",
       "    </tr>\n",
       "    <tr>\n",
       "      <th>523677</th>\n",
       "      <td>#010b</td>\n",
       "      <td>front st w</td>\n",
       "      <td>ON</td>\n",
       "      <td>TORONTO, ON</td>\n",
       "    </tr>\n",
       "    <tr>\n",
       "      <th>518576</th>\n",
       "      <td>#010b</td>\n",
       "      <td>front st w</td>\n",
       "      <td>ON</td>\n",
       "      <td>TORONTO, ON</td>\n",
       "    </tr>\n",
       "    <tr>\n",
       "      <th>533711</th>\n",
       "      <td>#02a</td>\n",
       "      <td>eglinton ave e</td>\n",
       "      <td>ON</td>\n",
       "      <td>TORONTO, ON</td>\n",
       "    </tr>\n",
       "    <tr>\n",
       "      <th>538131</th>\n",
       "      <td>#02a</td>\n",
       "      <td>eglinton ave e</td>\n",
       "      <td>ON</td>\n",
       "      <td>TORONTO, ON</td>\n",
       "    </tr>\n",
       "    <tr>\n",
       "      <th>534360</th>\n",
       "      <td>#02a</td>\n",
       "      <td>eglinton ave e</td>\n",
       "      <td>ON</td>\n",
       "      <td>TORONTO, ON</td>\n",
       "    </tr>\n",
       "    <tr>\n",
       "      <th>587029</th>\n",
       "      <td>#044/f1</td>\n",
       "      <td>dundas st w</td>\n",
       "      <td>ON</td>\n",
       "      <td>TORONTO, ON</td>\n",
       "    </tr>\n",
       "    <tr>\n",
       "      <th>582839</th>\n",
       "      <td>#044/f1</td>\n",
       "      <td>dundas st w</td>\n",
       "      <td>ON</td>\n",
       "      <td>TORONTO, ON</td>\n",
       "    </tr>\n",
       "    <tr>\n",
       "      <th>522465</th>\n",
       "      <td>#0510</td>\n",
       "      <td>sheppard ave e</td>\n",
       "      <td>ON</td>\n",
       "      <td>TORONTO, ON</td>\n",
       "    </tr>\n",
       "    <tr>\n",
       "      <th>528657</th>\n",
       "      <td>#0510</td>\n",
       "      <td>sheppard ave e</td>\n",
       "      <td>ON</td>\n",
       "      <td>TORONTO, ON</td>\n",
       "    </tr>\n",
       "    <tr>\n",
       "      <th>573007</th>\n",
       "      <td>#1</td>\n",
       "      <td>bellamy rd n</td>\n",
       "      <td>ON</td>\n",
       "      <td>TORONTO, ON</td>\n",
       "    </tr>\n",
       "  </tbody>\n",
       "</table>\n",
       "</div>"
      ],
      "text/plain": [
       "       street_no      formatted_en province         city\n",
       "578989         #      bellamy rd n       ON  TORONTO, ON\n",
       "570656         #      bellamy rd n       ON  TORONTO, ON\n",
       "577458         #      bellamy rd n       ON  TORONTO, ON\n",
       "575168         #      bellamy rd n       ON  TORONTO, ON\n",
       "575276         #      bellamy rd n       ON  TORONTO, ON\n",
       "563142         #      bellamy rd n       ON  TORONTO, ON\n",
       "573346         #      bellamy rd n       ON  TORONTO, ON\n",
       "592282         #      bellamy rd n       ON  TORONTO, ON\n",
       "560760         #      bellamy rd n       ON  TORONTO, ON\n",
       "581196         #      bellamy rd n       ON  TORONTO, ON\n",
       "583967         #      bellamy rd n       ON  TORONTO, ON\n",
       "551454         #   st regis cres n       ON  TORONTO, ON\n",
       "550363         #   st regis cres n       ON  TORONTO, ON\n",
       "550234         #   st regis cres n       ON  TORONTO, ON\n",
       "554595         #   st regis cres n       ON  TORONTO, ON\n",
       "549766         #   st regis cres n       ON  TORONTO, ON\n",
       "505026        ##  ##no street name       ON  UNKNOWN, ON\n",
       "645801        ##  ##no street name       ON  UNKNOWN, ON\n",
       "590425     #010a     adelaide st w       ON  TORONTO, ON\n",
       "579529     #010a     adelaide st w       ON  TORONTO, ON\n",
       "523677     #010b        front st w       ON  TORONTO, ON\n",
       "518576     #010b        front st w       ON  TORONTO, ON\n",
       "533711      #02a    eglinton ave e       ON  TORONTO, ON\n",
       "538131      #02a    eglinton ave e       ON  TORONTO, ON\n",
       "534360      #02a    eglinton ave e       ON  TORONTO, ON\n",
       "587029   #044/f1       dundas st w       ON  TORONTO, ON\n",
       "582839   #044/f1       dundas st w       ON  TORONTO, ON\n",
       "522465     #0510    sheppard ave e       ON  TORONTO, ON\n",
       "528657     #0510    sheppard ave e       ON  TORONTO, ON\n",
       "573007        #1      bellamy rd n       ON  TORONTO, ON"
      ]
     },
     "execution_count": 31,
     "metadata": {},
     "output_type": "execute_result"
    }
   ],
   "source": [
    "duplicates = duplicates.sort_values(['street_no','formatted_en', 'province', 'city'])\n",
    "duplicates[['street_no','formatted_en', 'province', 'city']].head(30)"
   ]
  },
  {
   "cell_type": "code",
   "execution_count": 18,
   "metadata": {
    "execution": {
     "iopub.execute_input": "2022-08-30T14:20:15.623557Z",
     "iopub.status.busy": "2022-08-30T14:20:15.623292Z",
     "iopub.status.idle": "2022-08-30T14:20:15.869249Z",
     "shell.execute_reply": "2022-08-30T14:20:15.868354Z",
     "shell.execute_reply.started": "2022-08-30T14:20:15.623529Z"
    },
    "tags": []
   },
   "outputs": [
    {
     "name": "stdout",
     "output_type": "stream",
     "text": [
      "398644\n"
     ]
    }
   ],
   "source": [
    "# how many to geocode?\n",
    "print(len(df_city[df_city['latitude'].isnull()]))"
   ]
  },
  {
   "cell_type": "code",
   "execution_count": 8,
   "metadata": {
    "execution": {
     "iopub.execute_input": "2022-08-29T15:38:20.066950Z",
     "iopub.status.busy": "2022-08-29T15:38:20.066707Z",
     "iopub.status.idle": "2022-08-29T15:38:20.095067Z",
     "shell.execute_reply": "2022-08-29T15:38:20.094400Z",
     "shell.execute_reply.started": "2022-08-29T15:38:20.066925Z"
    },
    "tags": []
   },
   "outputs": [
    {
     "data": {
      "text/plain": [
       "array(['BC', 'AB', 'NB', 'ON', nan, 'QC', 'MB', 'SK', 'NS', '78', 'YT',\n",
       "       'NL', 'LAKEVIEW ESTATES', 'NT', 'NU', 'PE'], dtype=object)"
      ]
     },
     "execution_count": 8,
     "metadata": {},
     "output_type": "execute_result"
    }
   ],
   "source": [
    "df_city['province'].unique()"
   ]
  },
  {
   "cell_type": "code",
   "execution_count": 12,
   "metadata": {
    "execution": {
     "iopub.execute_input": "2022-08-29T15:40:32.508545Z",
     "iopub.status.busy": "2022-08-29T15:40:32.508261Z",
     "iopub.status.idle": "2022-08-29T15:40:32.588603Z",
     "shell.execute_reply": "2022-08-29T15:40:32.587581Z",
     "shell.execute_reply.started": "2022-08-29T15:40:32.508514Z"
    },
    "tags": []
   },
   "outputs": [
    {
     "data": {
      "text/html": [
       "<div>\n",
       "<style scoped>\n",
       "    .dataframe tbody tr th:only-of-type {\n",
       "        vertical-align: middle;\n",
       "    }\n",
       "\n",
       "    .dataframe tbody tr th {\n",
       "        vertical-align: top;\n",
       "    }\n",
       "\n",
       "    .dataframe thead th {\n",
       "        text-align: right;\n",
       "    }\n",
       "</style>\n",
       "<table border=\"1\" class=\"dataframe\">\n",
       "  <thead>\n",
       "    <tr style=\"text-align: right;\">\n",
       "      <th></th>\n",
       "      <th>idx</th>\n",
       "      <th>localfile</th>\n",
       "      <th>business_name</th>\n",
       "      <th>business_sector</th>\n",
       "      <th>business_subsector</th>\n",
       "      <th>business_description</th>\n",
       "      <th>business_id_no</th>\n",
       "      <th>licence_number</th>\n",
       "      <th>licence_type</th>\n",
       "      <th>primary_NAICS</th>\n",
       "      <th>...</th>\n",
       "      <th>LP_Unit</th>\n",
       "      <th>LP_street_no_alt</th>\n",
       "      <th>LP2_unit</th>\n",
       "      <th>LP2_street_no</th>\n",
       "      <th>spill</th>\n",
       "      <th>LP3_unit</th>\n",
       "      <th>parsing_err_exists</th>\n",
       "      <th>flagged_parsing_err</th>\n",
       "      <th>formatted_en</th>\n",
       "      <th>formatted_fr</th>\n",
       "    </tr>\n",
       "  </thead>\n",
       "  <tbody>\n",
       "    <tr>\n",
       "      <th>101179</th>\n",
       "      <td>7a122c15a250341d251a</td>\n",
       "      <td>BC_Vancouver_Business_Licences.csv</td>\n",
       "      <td>Post The Butcher Inc</td>\n",
       "      <td>Office</td>\n",
       "      <td>Broker</td>\n",
       "      <td>NaN</td>\n",
       "      <td>NaN</td>\n",
       "      <td>19-138327</td>\n",
       "      <td>NaN</td>\n",
       "      <td>NaN</td>\n",
       "      <td>...</td>\n",
       "      <td>NaN</td>\n",
       "      <td>NaN</td>\n",
       "      <td>NaN</td>\n",
       "      <td>NaN</td>\n",
       "      <td>NaN</td>\n",
       "      <td>NaN</td>\n",
       "      <td>False</td>\n",
       "      <td>False</td>\n",
       "      <td>NaN</td>\n",
       "      <td>NaN</td>\n",
       "    </tr>\n",
       "    <tr>\n",
       "      <th>184292</th>\n",
       "      <td>69139e8fad512fe66792</td>\n",
       "      <td>BC_Vancouver_Business_Licences.csv</td>\n",
       "      <td>(Naoko Winther)</td>\n",
       "      <td>Health Services</td>\n",
       "      <td>Counselling</td>\n",
       "      <td>NaN</td>\n",
       "      <td>NaN</td>\n",
       "      <td>22-123793</td>\n",
       "      <td>NaN</td>\n",
       "      <td>NaN</td>\n",
       "      <td>...</td>\n",
       "      <td>NaN</td>\n",
       "      <td>NaN</td>\n",
       "      <td>NaN</td>\n",
       "      <td>NaN</td>\n",
       "      <td>NaN</td>\n",
       "      <td>NaN</td>\n",
       "      <td>False</td>\n",
       "      <td>False</td>\n",
       "      <td>NaN</td>\n",
       "      <td>NaN</td>\n",
       "    </tr>\n",
       "  </tbody>\n",
       "</table>\n",
       "<p>2 rows × 58 columns</p>\n",
       "</div>"
      ],
      "text/plain": [
       "                         idx                           localfile  \\\n",
       "101179  7a122c15a250341d251a  BC_Vancouver_Business_Licences.csv   \n",
       "184292  69139e8fad512fe66792  BC_Vancouver_Business_Licences.csv   \n",
       "\n",
       "               business_name  business_sector business_subsector  \\\n",
       "101179  Post The Butcher Inc           Office             Broker   \n",
       "184292       (Naoko Winther)  Health Services        Counselling   \n",
       "\n",
       "       business_description business_id_no licence_number licence_type  \\\n",
       "101179                  NaN            NaN      19-138327          NaN   \n",
       "184292                  NaN            NaN      22-123793          NaN   \n",
       "\n",
       "        primary_NAICS  ... LP_Unit LP_street_no_alt LP2_unit LP2_street_no  \\\n",
       "101179            NaN  ...     NaN              NaN      NaN           NaN   \n",
       "184292            NaN  ...     NaN              NaN      NaN           NaN   \n",
       "\n",
       "        spill  LP3_unit parsing_err_exists flagged_parsing_err formatted_en  \\\n",
       "101179    NaN       NaN              False               False          NaN   \n",
       "184292    NaN       NaN              False               False          NaN   \n",
       "\n",
       "       formatted_fr  \n",
       "101179          NaN  \n",
       "184292          NaN  \n",
       "\n",
       "[2 rows x 58 columns]"
      ]
     },
     "execution_count": 12,
     "metadata": {},
     "output_type": "execute_result"
    }
   ],
   "source": [
    "df_city[(df_city['province'] == 'LAKEVIEW ESTATES') | (df_city['province'] == '78')]"
   ]
  },
  {
   "cell_type": "code",
   "execution_count": 36,
   "metadata": {
    "execution": {
     "iopub.execute_input": "2022-09-01T14:47:45.421126Z",
     "iopub.status.busy": "2022-09-01T14:47:45.420866Z",
     "iopub.status.idle": "2022-09-01T14:47:45.426070Z",
     "shell.execute_reply": "2022-09-01T14:47:45.425293Z",
     "shell.execute_reply.started": "2022-09-01T14:47:45.421100Z"
    },
    "tags": []
   },
   "outputs": [
    {
     "data": {
      "text/plain": [
       "803584"
      ]
     },
     "execution_count": 36,
     "metadata": {},
     "output_type": "execute_result"
    }
   ],
   "source": [
    "len(df)"
   ]
  },
  {
   "cell_type": "code",
   "execution_count": 35,
   "metadata": {
    "execution": {
     "iopub.execute_input": "2022-09-01T14:47:39.847735Z",
     "iopub.status.busy": "2022-09-01T14:47:39.847444Z",
     "iopub.status.idle": "2022-09-01T14:47:39.889586Z",
     "shell.execute_reply": "2022-09-01T14:47:39.888694Z",
     "shell.execute_reply.started": "2022-09-01T14:47:39.847703Z"
    },
    "tags": []
   },
   "outputs": [
    {
     "data": {
      "text/plain": [
       "0"
      ]
     },
     "execution_count": 35,
     "metadata": {},
     "output_type": "execute_result"
    }
   ],
   "source": [
    "df['full_address'].isna().sum()"
   ]
  },
  {
   "cell_type": "code",
   "execution_count": 34,
   "metadata": {
    "execution": {
     "iopub.execute_input": "2022-09-01T14:15:17.790313Z",
     "iopub.status.busy": "2022-09-01T14:15:17.790040Z",
     "iopub.status.idle": "2022-09-01T14:15:17.796112Z",
     "shell.execute_reply": "2022-09-01T14:15:17.795324Z",
     "shell.execute_reply.started": "2022-09-01T14:15:17.790283Z"
    }
   },
   "outputs": [
    {
     "data": {
      "text/plain": [
       "['idx',\n",
       " 'localfile',\n",
       " 'business_name',\n",
       " 'business_sector',\n",
       " 'business_subsector',\n",
       " 'business_description',\n",
       " 'business_id_no',\n",
       " 'licence_number',\n",
       " 'licence_type',\n",
       " 'primary_NAICS',\n",
       " 'secondary_NAICS',\n",
       " 'NAICS_descr',\n",
       " 'alt_econ_act_code',\n",
       " 'alt_econ_act_descrip',\n",
       " 'latitude',\n",
       " 'longitude',\n",
       " 'full_address',\n",
       " 'full_address_2',\n",
       " 'mailing_address',\n",
       " 'postal_code',\n",
       " 'unit',\n",
       " 'street_no',\n",
       " 'street_name',\n",
       " 'street_direction',\n",
       " 'street_type',\n",
       " 'city',\n",
       " 'province',\n",
       " 'country',\n",
       " 'business_website',\n",
       " 'email',\n",
       " 'telephone',\n",
       " 'telephone_extension',\n",
       " 'toll_free_telephone',\n",
       " 'fax',\n",
       " 'total_no_employees',\n",
       " 'no_full_time',\n",
       " 'no_part_time',\n",
       " 'no_seasonal',\n",
       " 'date_established',\n",
       " 'indigenous',\n",
       " 'status',\n",
       " 'provider',\n",
       " 'geo_source',\n",
       " 'LP_street_no',\n",
       " 'LP_street_name',\n",
       " 'LP_City',\n",
       " 'LP_Province',\n",
       " 'LP_PostCode',\n",
       " 'LP_Unit',\n",
       " 'LP_street_no_alt',\n",
       " 'LP2_unit',\n",
       " 'LP2_street_no',\n",
       " 'spill',\n",
       " 'LP3_unit',\n",
       " 'parsing_err_exists',\n",
       " 'flagged_parsing_err',\n",
       " 'formatted_en',\n",
       " 'formatted_fr']"
      ]
     },
     "execution_count": 34,
     "metadata": {},
     "output_type": "execute_result"
    }
   ],
   "source": [
    "list(df)"
   ]
  },
  {
   "cell_type": "code",
   "execution_count": null,
   "metadata": {},
   "outputs": [],
   "source": []
  }
 ],
 "metadata": {
  "kernelspec": {
   "display_name": "Python 3 (ipykernel)",
   "language": "python",
   "name": "python3"
  },
  "language_info": {
   "codemirror_mode": {
    "name": "ipython",
    "version": 3
   },
   "file_extension": ".py",
   "mimetype": "text/x-python",
   "name": "python",
   "nbconvert_exporter": "python",
   "pygments_lexer": "ipython3",
   "version": "3.8.12"
  }
 },
 "nbformat": 4,
 "nbformat_minor": 4
}
