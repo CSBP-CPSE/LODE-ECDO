{
 "cells": [
  {
   "cell_type": "code",
   "execution_count": 2,
   "metadata": {
    "execution": {
     "iopub.execute_input": "2022-08-05T19:24:57.071711Z",
     "iopub.status.busy": "2022-08-05T19:24:57.070668Z",
     "iopub.status.idle": "2022-08-05T19:24:57.077212Z",
     "shell.execute_reply": "2022-08-05T19:24:57.076483Z",
     "shell.execute_reply.started": "2022-08-05T19:24:57.071672Z"
    },
    "tags": []
   },
   "outputs": [
    {
     "name": "stdout",
     "output_type": "stream",
     "text": [
      "https://www150.statcan.gc.ca/n1/pub/46-26-0001/2021001/ODA_AB_v1.zip\n",
      "https://www150.statcan.gc.ca/n1/pub/46-26-0001/2021001/ODA_BC_v1.zip\n",
      "https://www150.statcan.gc.ca/n1/pub/46-26-0001/2021001/ODA_MB_v1.zip\n",
      "https://www150.statcan.gc.ca/n1/pub/46-26-0001/2021001/ODA_NB_v1.zip\n",
      "https://www150.statcan.gc.ca/n1/pub/46-26-0001/2021001/ODA_NT_v1.zip\n",
      "https://www150.statcan.gc.ca/n1/pub/46-26-0001/2021001/ODA_NS_v1.zip\n",
      "https://www150.statcan.gc.ca/n1/pub/46-26-0001/2021001/ODA_ON_v1.zip\n",
      "https://www150.statcan.gc.ca/n1/pub/46-26-0001/2021001/ODA_PE_v1.zip\n",
      "https://www150.statcan.gc.ca/n1/pub/46-26-0001/2021001/ODA_QC_v1.zip\n",
      "https://www150.statcan.gc.ca/n1/pub/46-26-0001/2021001/ODA_SK_v1.zip\n"
     ]
    }
   ],
   "source": [
    "# download the ODA data files\n",
    "\n",
    "# go \n",
    "\n",
    "provinces = ['AB', 'BC', 'MB', 'NB', 'NT', 'NS', 'ON', 'PE', 'QC', 'SK']\n",
    "\n",
    "for province_code in provinces:\n",
    "    url = \"https://www150.statcan.gc.ca/n1/pub/46-26-0001/2021001/ODA_\" + province_code + \"_v1.zip\"\n",
    "    print(url)\n",
    "\n",
    "\n",
    "# https://www150.statcan.gc.ca/n1/pub/46-26-0001/2021001/ODA_AB_v1.zip\n",
    "\n",
    "# https://www150.statcan.gc.ca/n1/pub/46-26-0001/2021001/ODA_BC_v1.zip\n",
    "    \n",
    "# https://www150.statcan.gc.ca/n1/pub/46-26-0001/2021001/ODA_SK_v1.zip"
   ]
  },
  {
   "cell_type": "code",
   "execution_count": null,
   "metadata": {},
   "outputs": [],
   "source": []
  }
 ],
 "metadata": {
  "kernelspec": {
   "display_name": "data_exploration (odbiz)",
   "language": "python",
   "name": "myenv"
  },
  "language_info": {
   "codemirror_mode": {
    "name": "ipython",
    "version": 3
   },
   "file_extension": ".py",
   "mimetype": "text/x-python",
   "name": "python",
   "nbconvert_exporter": "python",
   "pygments_lexer": "ipython3",
   "version": "3.10.5"
  }
 },
 "nbformat": 4,
 "nbformat_minor": 4
}
