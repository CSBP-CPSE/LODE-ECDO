{
 "cells": [
  {
   "cell_type": "code",
   "execution_count": 1,
   "metadata": {
    "execution": {
     "iopub.execute_input": "2022-08-29T19:21:21.427344Z",
     "iopub.status.busy": "2022-08-29T19:21:21.427055Z",
     "iopub.status.idle": "2022-08-29T19:21:21.433515Z",
     "shell.execute_reply": "2022-08-29T19:21:21.432512Z",
     "shell.execute_reply.started": "2022-08-29T19:21:21.427279Z"
    },
    "tags": []
   },
   "outputs": [],
   "source": [
    "# download the ODA data files"
   ]
  },
  {
   "cell_type": "code",
   "execution_count": 1,
   "metadata": {
    "execution": {
     "iopub.execute_input": "2022-08-29T19:24:05.904523Z",
     "iopub.status.busy": "2022-08-29T19:24:05.904093Z",
     "iopub.status.idle": "2022-08-29T19:24:05.957307Z",
     "shell.execute_reply": "2022-08-29T19:24:05.956444Z",
     "shell.execute_reply.started": "2022-08-29T19:24:05.904442Z"
    },
    "tags": []
   },
   "outputs": [],
   "source": [
    "import requests, zipfile, io"
   ]
  },
  {
   "cell_type": "code",
   "execution_count": 5,
   "metadata": {
    "execution": {
     "iopub.execute_input": "2022-08-08T13:32:47.152134Z",
     "iopub.status.busy": "2022-08-08T13:32:47.151462Z",
     "iopub.status.idle": "2022-08-08T13:33:29.255954Z",
     "shell.execute_reply": "2022-08-08T13:33:29.254965Z",
     "shell.execute_reply.started": "2022-08-08T13:32:47.152095Z"
    },
    "tags": []
   },
   "outputs": [
    {
     "name": "stdout",
     "output_type": "stream",
     "text": [
      "https://www150.statcan.gc.ca/n1/pub/46-26-0001/2021001/ODA_AB_v1.zip\n",
      "https://www150.statcan.gc.ca/n1/pub/46-26-0001/2021001/ODA_BC_v1.zip\n",
      "https://www150.statcan.gc.ca/n1/pub/46-26-0001/2021001/ODA_MB_v1.zip\n",
      "https://www150.statcan.gc.ca/n1/pub/46-26-0001/2021001/ODA_NB_v1.zip\n",
      "https://www150.statcan.gc.ca/n1/pub/46-26-0001/2021001/ODA_NT_v1.zip\n",
      "https://www150.statcan.gc.ca/n1/pub/46-26-0001/2021001/ODA_NS_v1.zip\n",
      "https://www150.statcan.gc.ca/n1/pub/46-26-0001/2021001/ODA_ON_v1.zip\n",
      "https://www150.statcan.gc.ca/n1/pub/46-26-0001/2021001/ODA_PE_v1.zip\n",
      "https://www150.statcan.gc.ca/n1/pub/46-26-0001/2021001/ODA_QC_v1.zip\n",
      "https://www150.statcan.gc.ca/n1/pub/46-26-0001/2021001/ODA_SK_v1.zip\n"
     ]
    }
   ],
   "source": [
    "# go \n",
    "\n",
    "provinces = ['AB', 'BC', 'MB', 'NB', 'NT', 'NS', 'ON', 'PE', 'QC', 'SK']\n",
    "\n",
    "for province_code in provinces:\n",
    "    zip_file_url = \"https://www150.statcan.gc.ca/n1/pub/46-26-0001/2021001/ODA_\" + province_code + \"_v1.zip\"\n",
    "    r = requests.get(zip_file_url)\n",
    "    z = zipfile.ZipFile(io.BytesIO(r.content))\n",
    "    z.extractall(\"data/oda-addresses\")\n",
    "    \n",
    "\n",
    "\n",
    "\n",
    "# https://www150.statcan.gc.ca/n1/pub/46-26-0001/2021001/ODA_AB_v1.zip\n",
    "\n",
    "# https://www150.statcan.gc.ca/n1/pub/46-26-0001/2021001/ODA_BC_v1.zip\n",
    "    \n",
    "# https://www150.statcan.gc.ca/n1/pub/46-26-0001/2021001/ODA_SK_v1.zip"
   ]
  },
  {
   "cell_type": "code",
   "execution_count": 2,
   "metadata": {
    "execution": {
     "iopub.execute_input": "2022-08-29T19:24:09.230806Z",
     "iopub.status.busy": "2022-08-29T19:24:09.230000Z",
     "iopub.status.idle": "2022-08-29T19:24:09.652227Z",
     "shell.execute_reply": "2022-08-29T19:24:09.651379Z",
     "shell.execute_reply.started": "2022-08-29T19:24:09.230772Z"
    },
    "tags": []
   },
   "outputs": [],
   "source": [
    "import pandas as pd\n",
    "from Address_Format_Funcs import AddressClean_en, AddressClean_fr"
   ]
  },
  {
   "cell_type": "code",
   "execution_count": 3,
   "metadata": {
    "execution": {
     "iopub.execute_input": "2022-08-29T19:24:11.934269Z",
     "iopub.status.busy": "2022-08-29T19:24:11.933641Z",
     "iopub.status.idle": "2022-08-29T19:24:16.483350Z",
     "shell.execute_reply": "2022-08-29T19:24:16.482511Z",
     "shell.execute_reply.started": "2022-08-29T19:24:11.934232Z"
    },
    "tags": []
   },
   "outputs": [
    {
     "name": "stderr",
     "output_type": "stream",
     "text": [
      "/tmp/ipykernel_27199/3510776553.py:3: DtypeWarning: Columns (5,7,8,9,10,12,15,17) have mixed types. Specify dtype option on import or set low_memory=False.\n",
      "  df = pd.read_csv('data/oda-addresses/ODA_QC_v1.csv')\n"
     ]
    }
   ],
   "source": [
    "# apply formatting to quebec\n",
    "\n",
    "df = pd.read_csv('data/oda-addresses/ODA_QC_v1.csv')"
   ]
  },
  {
   "cell_type": "code",
   "execution_count": 8,
   "metadata": {
    "execution": {
     "iopub.execute_input": "2022-08-29T19:27:27.186016Z",
     "iopub.status.busy": "2022-08-29T19:27:27.185516Z",
     "iopub.status.idle": "2022-08-29T19:27:27.193009Z",
     "shell.execute_reply": "2022-08-29T19:27:27.192284Z",
     "shell.execute_reply.started": "2022-08-29T19:27:27.185983Z"
    },
    "tags": []
   },
   "outputs": [
    {
     "data": {
      "text/plain": [
       "1254207                     av nault\n",
       "1254208                 av lariviere\n",
       "1254209           boul temiscamingue\n",
       "1254210                av de capella\n",
       "1254211                rang ducharme\n",
       "1254212               ch de la croix\n",
       "1254213            av des bois-jolis\n",
       "1254214                   ch charron\n",
       "1254215                 rue lavallee\n",
       "1254216              rue iberville o\n",
       "1254217              rue iberville o\n",
       "1254218              rue iberville o\n",
       "1254219                    av quebec\n",
       "1254220                    av quebec\n",
       "1254221         ch du lac-labyrinthe\n",
       "1254222              rang des cypres\n",
       "1254223                   ch plourde\n",
       "1254224           boul temiscamingue\n",
       "1254225           boul temiscamingue\n",
       "1254226             rue taschereau e\n",
       "1254227         av sainte-bernadette\n",
       "1254228                 av pelissier\n",
       "1254229                     av nault\n",
       "1254230                     av nault\n",
       "1254231                     av nault\n",
       "1254232              rue de cadillac\n",
       "1254233    rue monseigneur-tessier o\n",
       "1254234                rue pronovost\n",
       "1254235                  rue leblanc\n",
       "1254236                  rue leblanc\n",
       "Name: street, dtype: object"
      ]
     },
     "execution_count": 8,
     "metadata": {},
     "output_type": "execute_result"
    }
   ],
   "source": [
    "# list(df)\n",
    "# df = df.sample(30)\n",
    "df['street'].tail(30)"
   ]
  },
  {
   "cell_type": "code",
   "execution_count": 5,
   "metadata": {
    "execution": {
     "iopub.execute_input": "2022-08-29T19:24:28.066180Z",
     "iopub.status.busy": "2022-08-29T19:24:28.065361Z",
     "iopub.status.idle": "2022-08-29T19:25:16.167095Z",
     "shell.execute_reply": "2022-08-29T19:25:16.166251Z",
     "shell.execute_reply.started": "2022-08-29T19:24:28.066149Z"
    },
    "tags": []
   },
   "outputs": [],
   "source": [
    "df = AddressClean_fr(df,'street','street')\n",
    "# df['street']=df['formatted_fr']\n",
    "df['street']=df['street'].str.lower()"
   ]
  },
  {
   "cell_type": "code",
   "execution_count": 7,
   "metadata": {
    "execution": {
     "iopub.execute_input": "2022-08-29T19:27:22.216223Z",
     "iopub.status.busy": "2022-08-29T19:27:22.215108Z",
     "iopub.status.idle": "2022-08-29T19:27:22.990389Z",
     "shell.execute_reply": "2022-08-29T19:27:22.989378Z",
     "shell.execute_reply.started": "2022-08-29T19:27:22.216178Z"
    }
   },
   "outputs": [],
   "source": [
    "df.street = df.street.str.replace('  ', ' ')"
   ]
  },
  {
   "cell_type": "code",
   "execution_count": 9,
   "metadata": {
    "execution": {
     "iopub.execute_input": "2022-08-29T19:27:31.588354Z",
     "iopub.status.busy": "2022-08-29T19:27:31.587787Z",
     "iopub.status.idle": "2022-08-29T19:27:43.592817Z",
     "shell.execute_reply": "2022-08-29T19:27:43.591912Z",
     "shell.execute_reply.started": "2022-08-29T19:27:31.588302Z"
    },
    "tags": []
   },
   "outputs": [],
   "source": [
    "df.to_csv('data/oda-addresses/ODA_QC_v1_formatted.csv',index=False)"
   ]
  },
  {
   "cell_type": "code",
   "execution_count": 61,
   "metadata": {
    "execution": {
     "iopub.execute_input": "2022-08-29T17:51:08.249966Z",
     "iopub.status.busy": "2022-08-29T17:51:08.249179Z",
     "iopub.status.idle": "2022-08-29T17:51:08.254504Z",
     "shell.execute_reply": "2022-08-29T17:51:08.253741Z",
     "shell.execute_reply.started": "2022-08-29T17:51:08.249931Z"
    },
    "tags": []
   },
   "outputs": [],
   "source": []
  },
  {
   "cell_type": "code",
   "execution_count": null,
   "metadata": {},
   "outputs": [],
   "source": []
  }
 ],
 "metadata": {
  "kernelspec": {
   "display_name": "Python [conda env:odbiz]",
   "language": "python",
   "name": "conda-env-odbiz-py"
  },
  "language_info": {
   "codemirror_mode": {
    "name": "ipython",
    "version": 3
   },
   "file_extension": ".py",
   "mimetype": "text/x-python",
   "name": "python",
   "nbconvert_exporter": "python",
   "pygments_lexer": "ipython3",
   "version": "3.8.13"
  }
 },
 "nbformat": 4,
 "nbformat_minor": 4
}
