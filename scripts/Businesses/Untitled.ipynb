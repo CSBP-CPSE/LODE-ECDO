{
 "cells": [
  {
   "cell_type": "code",
   "execution_count": 6,
   "metadata": {
    "execution": {
     "iopub.execute_input": "2022-02-17T18:23:10.468607Z",
     "iopub.status.busy": "2022-02-17T18:23:10.468313Z",
     "iopub.status.idle": "2022-02-17T18:23:18.451171Z",
     "shell.execute_reply": "2022-02-17T18:23:18.450496Z",
     "shell.execute_reply.started": "2022-02-17T18:23:10.468577Z"
    },
    "tags": []
   },
   "outputs": [],
   "source": [
    "import pandas as pd\n",
    "df = pd.read_csv('business-licences-van.csv')\n",
    "df = df.replace(';', ',')\n",
    "df.to_csv('final.csv')"
   ]
  },
  {
   "cell_type": "code",
   "execution_count": null,
   "metadata": {},
   "outputs": [],
   "source": []
  }
 ],
 "metadata": {
  "kernelspec": {
   "display_name": "Python 3",
   "language": "python",
   "name": "python3"
  },
  "language_info": {
   "codemirror_mode": {
    "name": "ipython",
    "version": 3
   },
   "file_extension": ".py",
   "mimetype": "text/x-python",
   "name": "python",
   "nbconvert_exporter": "python",
   "pygments_lexer": "ipython3",
   "version": "3.8.8"
  }
 },
 "nbformat": 4,
 "nbformat_minor": 4
}
