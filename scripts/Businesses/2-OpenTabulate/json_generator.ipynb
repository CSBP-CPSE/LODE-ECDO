{
 "cells": [
  {
   "cell_type": "code",
   "execution_count": 1,
   "metadata": {
    "execution": {
     "iopub.execute_input": "2022-04-13T16:32:22.547153Z",
     "iopub.status.busy": "2022-04-13T16:32:22.546814Z",
     "iopub.status.idle": "2022-04-13T16:32:22.619459Z",
     "shell.execute_reply": "2022-04-13T16:32:22.618356Z",
     "shell.execute_reply.started": "2022-04-13T16:32:22.547079Z"
    }
   },
   "outputs": [
    {
     "name": "stdout",
     "output_type": "stream",
     "text": [
      "AB_Calgary_Business_Licences.csv.csv\n",
      "AB_Calgary_Business_Licences.json.json\n"
     ]
    },
    {
     "ename": "KeyError",
     "evalue": "'facility_name'",
     "output_type": "error",
     "traceback": [
      "\u001b[0;31m---------------------------------------------------------------------------\u001b[0m",
      "\u001b[0;31mKeyError\u001b[0m                                  Traceback (most recent call last)",
      "\u001b[0;32m<ipython-input-1-9c69ac8661d9>\u001b[0m in \u001b[0;36m<module>\u001b[0;34m\u001b[0m\n\u001b[1;32m     87\u001b[0m \u001b[0;34m\u001b[0m\u001b[0m\n\u001b[1;32m     88\u001b[0m \u001b[0;32mif\u001b[0m \u001b[0m__name__\u001b[0m \u001b[0;34m==\u001b[0m \u001b[0;34m\"__main__\"\u001b[0m\u001b[0;34m:\u001b[0m\u001b[0;34m\u001b[0m\u001b[0;34m\u001b[0m\u001b[0m\n\u001b[0;32m---> 89\u001b[0;31m     \u001b[0mmain\u001b[0m\u001b[0;34m(\u001b[0m\u001b[0;34m)\u001b[0m\u001b[0;34m\u001b[0m\u001b[0;34m\u001b[0m\u001b[0m\n\u001b[0m",
      "\u001b[0;32m<ipython-input-1-9c69ac8661d9>\u001b[0m in \u001b[0;36mmain\u001b[0;34m()\u001b[0m\n\u001b[1;32m     46\u001b[0m         \u001b[0;31m# Only adding k,v pairs that are not blank\u001b[0m\u001b[0;34m\u001b[0m\u001b[0;34m\u001b[0m\u001b[0;34m\u001b[0m\u001b[0m\n\u001b[1;32m     47\u001b[0m         \u001b[0;32mfor\u001b[0m \u001b[0mf\u001b[0m \u001b[0;32min\u001b[0m \u001b[0mhealthFields\u001b[0m\u001b[0;34m:\u001b[0m\u001b[0;34m\u001b[0m\u001b[0;34m\u001b[0m\u001b[0m\n\u001b[0;32m---> 48\u001b[0;31m             \u001b[0;32mif\u001b[0m \u001b[0mrow\u001b[0m\u001b[0;34m[\u001b[0m\u001b[0mf\u001b[0m\u001b[0;34m]\u001b[0m \u001b[0;34m!=\u001b[0m \u001b[0;34m''\u001b[0m\u001b[0;34m:\u001b[0m\u001b[0;34m\u001b[0m\u001b[0;34m\u001b[0m\u001b[0m\n\u001b[0m\u001b[1;32m     49\u001b[0m                 \u001b[0mhealthdict\u001b[0m\u001b[0;34m[\u001b[0m\u001b[0mf\u001b[0m\u001b[0;34m]\u001b[0m \u001b[0;34m=\u001b[0m \u001b[0mrow\u001b[0m\u001b[0;34m[\u001b[0m\u001b[0mf\u001b[0m\u001b[0;34m]\u001b[0m\u001b[0;34m\u001b[0m\u001b[0;34m\u001b[0m\u001b[0m\n\u001b[1;32m     50\u001b[0m         \u001b[0;32mfor\u001b[0m \u001b[0mf\u001b[0m \u001b[0;32min\u001b[0m \u001b[0mgeoFields\u001b[0m\u001b[0;34m:\u001b[0m\u001b[0;34m\u001b[0m\u001b[0;34m\u001b[0m\u001b[0m\n",
      "\u001b[0;31mKeyError\u001b[0m: 'facility_name'"
     ]
    }
   ],
   "source": [
    "\"\"\"\n",
    "Creates JSON source files for opentabulate according to a variable map csv.\n",
    "\n",
    "Modified for use with odhf health data sources by Sam Lumley\n",
    "\n",
    "\n",
    "File organization:\n",
    "    dir/\n",
    "        json/ (output folder for src files.)\n",
    "        variablemap.csv\n",
    "        jsongenerator.py\n",
    "\n",
    "\"\"\"\n",
    "\n",
    "import csv\n",
    "import json\n",
    "\n",
    "def main():\n",
    "\n",
    "    # input variable map file\n",
    "    input_file = csv.DictReader(open('variablemap.csv')) \n",
    "\n",
    "    # define schema objects\n",
    "    healthFields = ['facility_name', 'facility_type', 'health_authority',\n",
    "                   'alternative_name', 'number_beds', 'active'] # Forced for all features in data source\n",
    "    geoFields = ['longitude', 'latitude'] \n",
    "    addressFields = ['address_str', 'street_no', 'street_name', 'street_addr',\n",
    "                    'street_addr', 'city', 'province', 'postal_code'] \n",
    "    contactFields = ['phone', 'email', 'website', 'fax']     \n",
    "\n",
    "    for row in input_file: # Each row is a data source\n",
    "    \n",
    "        filename = f\"{row['localfile']}.csv\"\n",
    "        print(filename)\n",
    "        json_filename = filename.replace(\".csv\", \".json\")\n",
    "        print(json_filename)\n",
    "        OP = open(f\"sources/src-{json_filename}\", \"w\")\n",
    "        \n",
    "            \n",
    "         # Dictionaries for schema json fields\n",
    "        healthdict = {}\n",
    "        geodict = {}\n",
    "        addressdict = {}\n",
    "        contactdict = {}\n",
    "\n",
    "        # Only adding k,v pairs that are not blank\n",
    "        for f in healthFields:\n",
    "            if row[f] != '':\n",
    "                healthdict[f] = row[f]\n",
    "        for f in geoFields:\n",
    "            if row[f] != '':\n",
    "                geodict[f] = row[f]\n",
    "        for f in addressFields:\n",
    "            if row[f] != '':\n",
    "                addressdict[f] = row[f]\n",
    "        for f in contactFields:\n",
    "            if row[f] != '':\n",
    "                contactdict[f] = row[f]\n",
    "                \n",
    "        # function to add force to a string\n",
    "\n",
    "        # SL define json structure and static fields\n",
    "        jsondict = {\n",
    "            \"localfile\": filename,\n",
    "            \"schema_groups\": [\"health\", \"geocoordinates\", \"address\", \"contact\"],\n",
    "            \"source\": row['source_url'],\n",
    "            \"licence\": row['lisence_url'],\n",
    "            \"provider\": row['provider'],\n",
    "            \"format\": {\n",
    "                \"type\": \"csv\",\n",
    "                \"delimiter\": \",\",\n",
    "                \"quote\": \"\\\"\"\n",
    "            },   \n",
    "            \"schema\": {\n",
    "                \"health\": healthdict,\n",
    "                \"geocoordinates\": geodict,\n",
    "                \"address\": addressdict,\n",
    "                \"contact\": contactdict\n",
    "            }   \n",
    "        }  \n",
    "        \n",
    "        # Create the dictionary for the json output\n",
    "        json_data = json.dumps(jsondict, indent=4)  # Formatting\n",
    "        OP.write(json_data)  # Write to json\n",
    "        OP.close()\n",
    "\n",
    "\n",
    "if __name__ == \"__main__\":\n",
    "    main()"
   ]
  },
  {
   "cell_type": "code",
   "execution_count": null,
   "metadata": {},
   "outputs": [],
   "source": []
  }
 ],
 "metadata": {
  "kernelspec": {
   "display_name": "Python 3",
   "language": "python",
   "name": "python3"
  },
  "language_info": {
   "codemirror_mode": {
    "name": "ipython",
    "version": 3
   },
   "file_extension": ".py",
   "mimetype": "text/x-python",
   "name": "python",
   "nbconvert_exporter": "python",
   "pygments_lexer": "ipython3",
   "version": "3.8.12"
  }
 },
 "nbformat": 4,
 "nbformat_minor": 4
}
