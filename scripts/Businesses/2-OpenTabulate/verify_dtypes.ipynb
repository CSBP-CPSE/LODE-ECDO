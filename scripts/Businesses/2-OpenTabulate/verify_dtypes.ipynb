{
 "metadata": {
  "language_info": {
   "codemirror_mode": {
    "name": "ipython",
    "version": 3
   },
   "file_extension": ".py",
   "mimetype": "text/x-python",
   "name": "python",
   "nbconvert_exporter": "python",
   "pygments_lexer": "ipython3",
   "version": "3.8.12"
  },
  "orig_nbformat": 2,
  "kernelspec": {
   "name": "python3812jvsc74a57bd098b0a9b7b4eaaa670588a142fd0a9b87eaafe866f1db4228be72b4211d12040f",
   "display_name": "Python 3.8.12 64-bit ('base': conda)"
  }
 },
 "nbformat": 4,
 "nbformat_minor": 2,
 "cells": [
  {
   "cell_type": "code",
   "execution_count": 21,
   "metadata": {},
   "outputs": [],
   "source": [
    "# Import packages\n",
    "import pandas as pd\n",
    "from tqdm import tqdm\n"
   ]
  },
  {
   "cell_type": "code",
   "execution_count": 22,
   "metadata": {},
   "outputs": [],
   "source": [
    "# Load in variablemap\n",
    "var_map = pd.read_csv('/home/jovyan/ODBiz/2-OpenTabulate/variablemap.csv')\n",
    "localfiles = var_map['localfile'].values\n",
    "var_map = var_map.set_index('localfile')\n",
    "# street_no = var_map.loc['BC_Vancouver_Business_Licences.csv', 'street_no']\n"
   ]
  },
  {
   "cell_type": "code",
   "execution_count": 23,
   "metadata": {},
   "outputs": [],
   "source": [
    "expected_dtypes = {\n",
    "'localfile': None,\n",
    "'source_url': None,\n",
    "'provider': None,\n",
    "'licence': None,\n",
    "'last_updated': None,\n",
    "'update_frequency': None,\n",
    "'notes': None,\n",
    "'business_name': None,\n",
    "'business_sector': None,\n",
    "'business_subsector': None,\n",
    "'business_description': None,\n",
    "'business_id_no': None,\n",
    "'licence_number': None,\n",
    "'licence_type': None,\n",
    "'primary_NAICS': int,\n",
    "'secondary_NAICS': int,\n",
    "'NAICS_descr': None,\n",
    "'alt_econ_act_code': None,\n",
    "'alt_econ_act_descrip': None,\n",
    "'latitude': float,\n",
    "'longitude': float,\n",
    "'full_address': None,\n",
    "'full_address_2': None,\n",
    "'mailing_address': None,\n",
    "'unit': None,\n",
    "'street_no': int,\n",
    "'street_name': None,\n",
    "'street_direction': None,\n",
    "'street_type': None,\n",
    "'city': None,\n",
    "'province': None,\n",
    "'postal_code': None,\n",
    "'country': None,\n",
    "'business_website': None,\n",
    "'email': None,\n",
    "'telephone': None,\n",
    "'telephone_extension': None,\n",
    "'toll_free_telephone': None,\n",
    "'fax': None,\n",
    "'total_no_employees': None,\n",
    "'no_full_time': None,\n",
    "'no_part_time': None,\n",
    "'no_seasonal': None,\n",
    "'date_established': None,\n",
    "'indigenous': None,\n",
    "'status': None\n",
    "}"
   ]
  },
  {
   "cell_type": "code",
   "execution_count": 48,
   "metadata": {},
   "outputs": [
    {
     "output_type": "stream",
     "name": "stdout",
     "text": [
      "Loaded in /home/jovyan/ODBiz/2-OpenTabulate/data/output/AB_Strathcona_Business_Directory.csv\n\n----------------------------------------------------------------------------\n\n"
     ]
    }
   ],
   "source": [
    "csv_dir = '/home/jovyan/ODBiz/2-OpenTabulate/data/output'\n",
    "i = 0\n",
    "localfile = localfiles[i]\n",
    "localfile = 'AB_Strathcona_Business_Directory.csv'\n",
    "# for localfile in localfiles:\n",
    "if True:\n",
    "    filename = f'{csv_dir}/{localfile}'\n",
    "    df = pd.read_csv(filename, dtype  = {'primary_NAICS': 'Int64'})\n",
    "    print(f'Loaded in {filename}')\n",
    "    for k in expected_dtypes:\n",
    "        if k in df.columns:\n",
    "            k_dtype = df[k].dtype\n",
    "            conditions = [\n",
    "                df[k].dtype == expected_dtypes[k], # column's dtype matches expected\n",
    "                expected_dtypes[k] is None, # Expected dtype was left blank\n",
    "                expected_dtypes[k] == int and df[k].dtype == 'Int64', # pandas alias for the int dtype to include nan\n",
    "            ]\n",
    "            if not(any(conditions)):\n",
    "                print(f'WARNING: The column `{k}` has dtype `{str(k_dtype)}`. Expected `{str(expected_dtypes[k])}`')\n",
    "    print('\\n----------------------------------------------------------------------------\\n')\n"
   ]
  },
  {
   "cell_type": "code",
   "execution_count": 32,
   "metadata": {},
   "outputs": [
    {
     "output_type": "execute_result",
     "data": {
      "text/plain": [
       "   idx                             localfile   longitude   latitude  \\\n",
       "0    0  AB_Strathcona_Business_Directory.csv -113.350672  53.558726   \n",
       "1    1  AB_Strathcona_Business_Directory.csv -113.220894  53.526966   \n",
       "2    2  AB_Strathcona_Business_Directory.csv -112.978333  53.465523   \n",
       "3    3  AB_Strathcona_Business_Directory.csv -113.079173  53.777201   \n",
       "4    4  AB_Strathcona_Business_Directory.csv -113.317849  53.563241   \n",
       "\n",
       "                      business_name business_sector business_subsector  \\\n",
       "0                  Petro-Canada Inc             NaN                NaN   \n",
       "1  Caldon Management Associates Ltd             NaN                NaN   \n",
       "2                       Bushman Inc             NaN                NaN   \n",
       "3                           Pembina             NaN                NaN   \n",
       "4                            Vacant             NaN                NaN   \n",
       "\n",
       "  business_description  primary_NAICS           business_website  \\\n",
       "0                  NaN            NaN                        NaN   \n",
       "1                  NaN            NaN                        NaN   \n",
       "2                  NaN            NaN  http://www.bushman-inc.ca   \n",
       "3                  NaN            NaN                        NaN   \n",
       "4                  NaN            0.0                        NaN   \n",
       "\n",
       "      telephone indigenous       full_address        city province  \\\n",
       "0           NaN         no  401 PETROLEUM WAY  Strathcona       AB   \n",
       "1  780-464-5569         no   52501 RNG RD 225  Strathcona       AB   \n",
       "2           NaN         no      21061A WYE RD  Strathcona       AB   \n",
       "3           NaN         no   55418 RNG RD 214  Strathcona       AB   \n",
       "4           NaN         no                NaN  Strathcona       AB   \n",
       "\n",
       "           provider  \n",
       "0  Stathcona County  \n",
       "1  Stathcona County  \n",
       "2  Stathcona County  \n",
       "3  Stathcona County  \n",
       "4  Stathcona County  "
      ],
      "text/html": "<div>\n<style scoped>\n    .dataframe tbody tr th:only-of-type {\n        vertical-align: middle;\n    }\n\n    .dataframe tbody tr th {\n        vertical-align: top;\n    }\n\n    .dataframe thead th {\n        text-align: right;\n    }\n</style>\n<table border=\"1\" class=\"dataframe\">\n  <thead>\n    <tr style=\"text-align: right;\">\n      <th></th>\n      <th>idx</th>\n      <th>localfile</th>\n      <th>longitude</th>\n      <th>latitude</th>\n      <th>business_name</th>\n      <th>business_sector</th>\n      <th>business_subsector</th>\n      <th>business_description</th>\n      <th>primary_NAICS</th>\n      <th>business_website</th>\n      <th>telephone</th>\n      <th>indigenous</th>\n      <th>full_address</th>\n      <th>city</th>\n      <th>province</th>\n      <th>provider</th>\n    </tr>\n  </thead>\n  <tbody>\n    <tr>\n      <th>0</th>\n      <td>0</td>\n      <td>AB_Strathcona_Business_Directory.csv</td>\n      <td>-113.350672</td>\n      <td>53.558726</td>\n      <td>Petro-Canada Inc</td>\n      <td>NaN</td>\n      <td>NaN</td>\n      <td>NaN</td>\n      <td>NaN</td>\n      <td>NaN</td>\n      <td>NaN</td>\n      <td>no</td>\n      <td>401 PETROLEUM WAY</td>\n      <td>Strathcona</td>\n      <td>AB</td>\n      <td>Stathcona County</td>\n    </tr>\n    <tr>\n      <th>1</th>\n      <td>1</td>\n      <td>AB_Strathcona_Business_Directory.csv</td>\n      <td>-113.220894</td>\n      <td>53.526966</td>\n      <td>Caldon Management Associates Ltd</td>\n      <td>NaN</td>\n      <td>NaN</td>\n      <td>NaN</td>\n      <td>NaN</td>\n      <td>NaN</td>\n      <td>780-464-5569</td>\n      <td>no</td>\n      <td>52501 RNG RD 225</td>\n      <td>Strathcona</td>\n      <td>AB</td>\n      <td>Stathcona County</td>\n    </tr>\n    <tr>\n      <th>2</th>\n      <td>2</td>\n      <td>AB_Strathcona_Business_Directory.csv</td>\n      <td>-112.978333</td>\n      <td>53.465523</td>\n      <td>Bushman Inc</td>\n      <td>NaN</td>\n      <td>NaN</td>\n      <td>NaN</td>\n      <td>NaN</td>\n      <td>http://www.bushman-inc.ca</td>\n      <td>NaN</td>\n      <td>no</td>\n      <td>21061A WYE RD</td>\n      <td>Strathcona</td>\n      <td>AB</td>\n      <td>Stathcona County</td>\n    </tr>\n    <tr>\n      <th>3</th>\n      <td>3</td>\n      <td>AB_Strathcona_Business_Directory.csv</td>\n      <td>-113.079173</td>\n      <td>53.777201</td>\n      <td>Pembina</td>\n      <td>NaN</td>\n      <td>NaN</td>\n      <td>NaN</td>\n      <td>NaN</td>\n      <td>NaN</td>\n      <td>NaN</td>\n      <td>no</td>\n      <td>55418 RNG RD 214</td>\n      <td>Strathcona</td>\n      <td>AB</td>\n      <td>Stathcona County</td>\n    </tr>\n    <tr>\n      <th>4</th>\n      <td>4</td>\n      <td>AB_Strathcona_Business_Directory.csv</td>\n      <td>-113.317849</td>\n      <td>53.563241</td>\n      <td>Vacant</td>\n      <td>NaN</td>\n      <td>NaN</td>\n      <td>NaN</td>\n      <td>0.0</td>\n      <td>NaN</td>\n      <td>NaN</td>\n      <td>no</td>\n      <td>NaN</td>\n      <td>Strathcona</td>\n      <td>AB</td>\n      <td>Stathcona County</td>\n    </tr>\n  </tbody>\n</table>\n</div>"
     },
     "metadata": {},
     "execution_count": 32
    }
   ],
   "source": [
    "pd.set_option('display.max_columns', None)\n",
    "df.head()"
   ]
  },
  {
   "cell_type": "code",
   "execution_count": 42,
   "metadata": {},
   "outputs": [
    {
     "output_type": "execute_result",
     "data": {
      "text/plain": [
       "<IntegerArray>\n",
       "[  <NA>,      0, 441210, 621210, 541215, 238350, 561730, 112110, 484110,\n",
       " 611690,\n",
       " ...\n",
       " 484120, 486910, 531110, 562210, 418410, 414460, 524290, 712120, 339110,\n",
       " 484239]\n",
       "Length: 413, dtype: Int64"
      ]
     },
     "metadata": {},
     "execution_count": 42
    }
   ],
   "source": [
    "pd.unique(df['primary_NAICS'])"
   ]
  },
  {
   "cell_type": "code",
   "execution_count": 45,
   "metadata": {},
   "outputs": [
    {
     "output_type": "stream",
     "name": "stdout",
     "text": [
      "True\n"
     ]
    }
   ],
   "source": [
    "print(df['primary_NAICS'].dtype == 'Int64')\n"
   ]
  },
  {
   "cell_type": "code",
   "execution_count": null,
   "metadata": {},
   "outputs": [],
   "source": []
  }
 ]
}