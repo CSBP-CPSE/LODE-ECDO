{
 "cells": [
  {
   "source": [
    "# 1-openTabulate.ipynb\n",
    "\n",
    "1. Creates JSON source files for opentabulate according to a variable map csv.\n",
    "\n",
    "2. After generating all the source files, the notebook runs the following commands in terminal:\n",
    "    ```\n",
    "    $ cd /home/jovyan/ODBiz/2-OpenTabulate/sources\n",
    "    $ opentab *\n",
    "    ```\n",
    "    In order to run opentabulate on all the generated .json files.\n",
    "\n",
    "3. Compresses the output files into a .zip file so that it can be easily moved into another server with more RAM"
   ],
   "cell_type": "markdown",
   "metadata": {}
  },
  {
   "source": [
    "# 1. json-generator\n",
    "\n",
    "The cell below creates JSON source files for opentabulate according to a variable map csv.\n",
    "Modified for use with ODBiz data sources by Skye Chen"
   ],
   "cell_type": "markdown",
   "metadata": {}
  },
  {
   "cell_type": "code",
   "execution_count": 1,
   "metadata": {
    "tags": []
   },
   "outputs": [
    {
     "output_type": "stream",
     "name": "stdout",
     "text": [
      "File saved to /home/jovyan/ODBiz/2-OpenTabulate/sources/AB_Banff_Business_Licences.json\nFile saved to /home/jovyan/ODBiz/2-OpenTabulate/sources/AB_Calgary_Business_Licences.json\nFile saved to /home/jovyan/ODBiz/2-OpenTabulate/sources/AB_Chestermere_Businesses.json\nFile saved to /home/jovyan/ODBiz/2-OpenTabulate/sources/AB_Edmonton_Business_Licences.json\nFile saved to /home/jovyan/ODBiz/2-OpenTabulate/sources/AB_Strathcona_Business_Directory.json\nFile saved to /home/jovyan/ODBiz/2-OpenTabulate/sources/BC_Burnaby_Business_Licences.json\nFile saved to /home/jovyan/ODBiz/2-OpenTabulate/sources/BC_Chilliwack_Business_Licences.json\nFile saved to /home/jovyan/ODBiz/2-OpenTabulate/sources/BC_Indigenous_Business_Listings.json\nFile saved to /home/jovyan/ODBiz/2-OpenTabulate/sources/BC_Kelowna_Business_Licence.json\nFile saved to /home/jovyan/ODBiz/2-OpenTabulate/sources/BC_Langley_Business_Licences.json\nFile saved to /home/jovyan/ODBiz/2-OpenTabulate/sources/BC_Liquor_licences.json\nFile saved to /home/jovyan/ODBiz/2-OpenTabulate/sources/BC_Maple_Ridge_Business_Licences.json\nFile saved to /home/jovyan/ODBiz/2-OpenTabulate/sources/BC_Nanaimo_Business_Licences.json\nFile saved to /home/jovyan/ODBiz/2-OpenTabulate/sources/BC_New_Westminster_Business_Licences.json\nFile saved to /home/jovyan/ODBiz/2-OpenTabulate/sources/BC_New_Westminster_Business_Licences_(Childcare).json\nFile saved to /home/jovyan/ODBiz/2-OpenTabulate/sources/BC_New_Westminster_Business_Licences_(Intermunicipal).json\nFile saved to /home/jovyan/ODBiz/2-OpenTabulate/sources/BC_New_Westminster_Business_Licences_(New_this_Year).json\nFile saved to /home/jovyan/ODBiz/2-OpenTabulate/sources/BC_New_Westminster_Business_Licences_(Nonresidents).json\nFile saved to /home/jovyan/ODBiz/2-OpenTabulate/sources/BC_New_Westminster_Business_Licences_(Residents).json\nFile saved to /home/jovyan/ODBiz/2-OpenTabulate/sources/BC_Port_Moody_Business_Directory.json\nFile saved to /home/jovyan/ODBiz/2-OpenTabulate/sources/BC_Prince_George_Business_Licence.json\nFile saved to /home/jovyan/ODBiz/2-OpenTabulate/sources/BC_Richmond_Based_Businesses.json\nFile saved to /home/jovyan/ODBiz/2-OpenTabulate/sources/BC_Squamish_Business_Licence_Annual_2021.json\nFile saved to /home/jovyan/ODBiz/2-OpenTabulate/sources/BC_Surrey_Business_Licences.json\nFile saved to /home/jovyan/ODBiz/2-OpenTabulate/sources/BC_Vancouver_Business_Licences.json\nFile saved to /home/jovyan/ODBiz/2-OpenTabulate/sources/BC_Victoria_Business_Licences.json\nFile saved to /home/jovyan/ODBiz/2-OpenTabulate/sources/BC_Wineries.json\nFile saved to /home/jovyan/ODBiz/2-OpenTabulate/sources/Indigenous_Business_Directory.json\nFile saved to /home/jovyan/ODBiz/2-OpenTabulate/sources/MB_Indigenous_AFOA.json\nFile saved to /home/jovyan/ODBiz/2-OpenTabulate/sources/NB_Moncton_Grocery_Stores.json\nFile saved to /home/jovyan/ODBiz/2-OpenTabulate/sources/NB_Moncton_Ph_Pharmacies.json\nFile saved to /home/jovyan/ODBiz/2-OpenTabulate/sources/NB_Saint_John_Grocery_Stores.json\nFile saved to /home/jovyan/ODBiz/2-OpenTabulate/sources/NT_Yellowknife_Business_Directory.json\nFile saved to /home/jovyan/ODBiz/2-OpenTabulate/sources/NU_Indigenous_Business.json\nFile saved to /home/jovyan/ODBiz/2-OpenTabulate/sources/ON_Brampton_Business_Directory.json\nFile saved to /home/jovyan/ODBiz/2-OpenTabulate/sources/ON_Caledon_Business_Directory.json\nFile saved to /home/jovyan/ODBiz/2-OpenTabulate/sources/ON_Cambridge_Business_Directory.json\nFile saved to /home/jovyan/ODBiz/2-OpenTabulate/sources/ON_Durham_Business_Directory.json\nFile saved to /home/jovyan/ODBiz/2-OpenTabulate/sources/ON_Greater_Sudbury_Business_Licences.json\nFile saved to /home/jovyan/ODBiz/2-OpenTabulate/sources/ON_Hamilton_Licenced_Basic_Food_Shops.json\nFile saved to /home/jovyan/ODBiz/2-OpenTabulate/sources/ON_Hamilton_Licenced_Food_Establishments.json\nFile saved to /home/jovyan/ODBiz/2-OpenTabulate/sources/ON_Hamilton_Licenced_Kennels_and_Pet_Shops.json\nFile saved to /home/jovyan/ODBiz/2-OpenTabulate/sources/ON_Hamilton_Licenced_Lodging_Houses.json\nFile saved to /home/jovyan/ODBiz/2-OpenTabulate/sources/ON_Hamilton_Licenced_Places_of_Amusement.json\nFile saved to /home/jovyan/ODBiz/2-OpenTabulate/sources/ON_Hamilton_Licenced_Public_Garages.json\nFile saved to /home/jovyan/ODBiz/2-OpenTabulate/sources/ON_Hamilton_Licenced_Public_Halls.json\nFile saved to /home/jovyan/ODBiz/2-OpenTabulate/sources/ON_Hamilton_Licenced_Residential_Care_Facilities.json\nFile saved to /home/jovyan/ODBiz/2-OpenTabulate/sources/ON_Hamilton_Licenced_Salvage_Yards.json\nFile saved to /home/jovyan/ODBiz/2-OpenTabulate/sources/ON_Hamilton_Licenced_Second_Hand_Shops.json\nFile saved to /home/jovyan/ODBiz/2-OpenTabulate/sources/ON_Kitchener_Business_Directory.json\nFile saved to /home/jovyan/ODBiz/2-OpenTabulate/sources/ON_Mississauga_Business_Directory.json\nFile saved to /home/jovyan/ODBiz/2-OpenTabulate/sources/ON_oebd.json\nFile saved to /home/jovyan/ODBiz/2-OpenTabulate/sources/ON_Ottawa_Cultural_Businesses.json\nFile saved to /home/jovyan/ODBiz/2-OpenTabulate/sources/ON_Ottawa_Street_Food_Vendors.json\nFile saved to /home/jovyan/ODBiz/2-OpenTabulate/sources/ON_Pickering_Business_Directory.json\nFile saved to /home/jovyan/ODBiz/2-OpenTabulate/sources/ON_Toronto_Business_Licences.json\nFile saved to /home/jovyan/ODBiz/2-OpenTabulate/sources/ON_Welland_Business_Directory.json\nFile saved to /home/jovyan/ODBiz/2-OpenTabulate/sources/ON_York_Region_Business_Directory.json\nFile saved to /home/jovyan/ODBiz/2-OpenTabulate/sources/QC_Etablissements.json\nFile saved to /home/jovyan/ODBiz/2-OpenTabulate/sources/QC_Sherbrooke_Entreprises.json\n"
     ]
    }
   ],
   "source": [
    "\"\"\"\n",
    "1. json-generator\n",
    "\n",
    "Creates JSON source files for opentabulate according to a variable map csv.\n",
    "Modified for use with ODBiz data sources by Skye Chen\n",
    "\"\"\"\n",
    "\n",
    "import csv\n",
    "import json\n",
    "from tqdm import tqdm\n",
    "\n",
    "# Define file path name\n",
    "opentabDir = '/home/jovyan/ODBiz/2-OpenTabulate'\n",
    "\n",
    "# input variable map file\n",
    "input_file = csv.DictReader(open(f'{opentabDir}/variablemap.csv', encoding = 'utf-8-sig')) \n",
    "\n",
    "# define schema objects (Forced for all features in data source)\n",
    "metadataFields = ('localfile',)\n",
    "\n",
    "geoFields = ('longitude', 'latitude')\n",
    "\n",
    "bizFields = ('business_name',\n",
    "        'business_sector',\n",
    "        'business_subsector',\n",
    "        'business_description',\n",
    "        'business_id_no',\n",
    "        'licence_number',\n",
    "        'licence_type',\n",
    "        'primary_NAICS',\n",
    "        'secondary_NAICS',\n",
    "        'NAICS_descr',\n",
    "        'alt_econ_act_code',\n",
    "        'alt_econ_act_descrip',\n",
    "        'business_website',\n",
    "        'email',\n",
    "        'telephone',\n",
    "        'telephone_extension',\n",
    "        'toll_free_telephone',\n",
    "        'fax',\n",
    "        'total_no_employees',\n",
    "        'no_full_time',\n",
    "        'no_part_time',\n",
    "        'no_seasonal',\n",
    "        'date_established',\n",
    "        'indigenous',\n",
    "        'status')\n",
    "\n",
    "addressFields = ('full_address',\n",
    "                'full_address_2',\n",
    "                'mailing_address',\n",
    "                'unit',\n",
    "                'street_no',\n",
    "                'street_name',\n",
    "                'street_direction',\n",
    "                'street_type',\n",
    "                'city',\n",
    "                'province',\n",
    "                'postal_code',\n",
    "                'country')\n",
    "\n",
    "for row in (input_file): # Each row is a data source\n",
    "\n",
    "    filename = f\"{row['localfile']}\"\n",
    "    json_filename = filename.replace(\".csv\", \".json\")\n",
    "    OP = open(f\"{opentabDir}/sources/{json_filename}\", \"w\")\n",
    "    \n",
    "        \n",
    "    # Dictionaries for schema json field\n",
    "    metadata_dict = {}\n",
    "    geo_dict = {}\n",
    "    address_dict = {}\n",
    "    biz_dict = {}\n",
    "\n",
    "    # Only adding k,v pairs that are not blank\n",
    "    for f in metadataFields:\n",
    "        if row[f] != '':\n",
    "            metadata_dict[f] = row[f]\n",
    "    for f in geoFields:\n",
    "        if row[f] != '':\n",
    "            geo_dict[f] = row[f]\n",
    "    for f in addressFields:\n",
    "        if row[f] != '':\n",
    "            address_dict[f] = row[f]\n",
    "    for f in bizFields:\n",
    "        if row[f] != '':\n",
    "            biz_dict[f] = row[f]\n",
    "            \n",
    "    # function to add force to a string\n",
    "\n",
    "    # SL define json structure and static fields\n",
    "    jsondict = {\n",
    "        \"localfile\": filename,\n",
    "        \"schema_groups\": [\"metadata\", \"geocoordinates\", \"address\", \"biz\"],\n",
    "        \"source\": row['source_url'],\n",
    "        \"licence\": row['licence'],\n",
    "        \"provider\": row['provider'],\n",
    "        \"format\": {\n",
    "            \"type\": \"csv\",\n",
    "            \"delimiter\": \",\",\n",
    "            \"quote\": \"\\\"\"\n",
    "        },   \n",
    "        \"schema\": {\n",
    "            \"metadata\": {\n",
    "                'localfile': f'force:{filename}'\n",
    "            },\n",
    "            \"geocoordinates\": geo_dict,\n",
    "            \"biz\": biz_dict,\n",
    "            \"address\": address_dict\n",
    "        }   \n",
    "    }  \n",
    "    \n",
    "    # Create the dictionary for the json output and write to file\n",
    "    json_data = json.dumps(jsondict, indent=4)  # Formatting\n",
    "    OP.write(json_data)  # Write to json\n",
    "    print(f'File saved to {OP.name}')\n",
    "    OP.close()\n",
    "\n"
   ]
  },
  {
   "source": [
    "# 2. opentab \n",
    "\n",
    "The cell below runs the following commands in terminal:\n",
    "```\n",
    "$ cd /home/jovyan/ODBiz/2-OpenTabulate/sources\n",
    "$ opentab *\n",
    "```\n",
    "In order to run opentabulate on all the generated .json files.\n"
   ],
   "cell_type": "markdown",
   "metadata": {}
  },
  {
   "cell_type": "code",
   "execution_count": 2,
   "metadata": {},
   "outputs": [
    {
     "output_type": "stream",
     "name": "stdout",
     "text": [
      "Beginning data processing.\n",
      "Completed processing in 42.9076714492403 seconds.\n"
     ]
    }
   ],
   "source": [
    "%%bash\n",
    "cd /home/jovyan/ODBiz/2-OpenTabulate/sources\n",
    "opentab *"
   ]
  },
  {
   "source": [
    "# 3. Move Output Files to Merging\n"
   ],
   "cell_type": "markdown",
   "metadata": {}
  },
  {
   "cell_type": "code",
   "execution_count": null,
   "metadata": {},
   "outputs": [],
   "source": [
    "# transfer files directly from OpenTab/data/output to Merging/input\n",
    "src = '../2-OpenTabulate/data/output'\n",
    "dst = '../3-Merging/input'\n",
    "\n",
    "if os.path.exists(dst):\n",
    "    shutil.rmtree(dst)\n",
    "    shutil.copytree(src, dst)\n",
    "print('Directory successfully copied!')"
   ]
  },
  {
   "source": [
    "# DEPRECATED 3. compressOutputFiles\n",
    "\n",
    "The cell below compresses the output files to make it easier to export to the server with more RAM.\n",
    "The compressed file is named `OpenTabCompressedOutput.tar.gz`"
   ],
   "cell_type": "markdown",
   "metadata": {}
  },
  {
   "cell_type": "code",
   "execution_count": 3,
   "metadata": {},
   "outputs": [
    {
     "output_type": "stream",
     "name": "stdout",
     "text": [
      "Output saved to /home/jovyan/ODBizOpenTabCompressedOutput/OpenTabCompressedOutput.zip\n"
     ]
    }
   ],
   "source": [
    "# '''\n",
    "DEPRECATED\n",
    "# 3. compressOutputFiles\n",
    "\n",
    "# Run this cell to compress the output files to make it easier to export to the server with more RAM.\n",
    "# The compressed file is named `OpenTabCompressedOutput.tar.gz`\n",
    "# '''\n",
    "\n",
    "# import shutil\n",
    "\n",
    "# dir_to_compress = '/home/jovyan/ODBiz/2-OpenTabulate/data/output'\n",
    "# output_filename = '/home/jovyan/ODBizOpenTabCompressedOutput/OpenTabCompressedOutput'\n",
    "\n",
    "# outName = shutil.make_archive(output_filename, 'zip', dir_to_compress)\n",
    "# print(f'Output saved to {outName}')"
   ]
  }
 ],
 "metadata": {
  "kernelspec": {
   "name": "python3812jvsc74a57bd098b0a9b7b4eaaa670588a142fd0a9b87eaafe866f1db4228be72b4211d12040f",
   "display_name": "Python 3.8.12 64-bit ('base': conda)"
  },
  "language_info": {
   "codemirror_mode": {
    "name": "ipython",
    "version": 3
   },
   "file_extension": ".py",
   "mimetype": "text/x-python",
   "name": "python",
   "nbconvert_exporter": "python",
   "pygments_lexer": "ipython3",
   "version": "3.8.12"
  }
 },
 "nbformat": 4,
 "nbformat_minor": 4
}