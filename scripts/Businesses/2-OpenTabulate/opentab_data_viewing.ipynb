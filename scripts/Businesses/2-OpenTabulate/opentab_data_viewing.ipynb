{
 "metadata": {
  "language_info": {
   "codemirror_mode": {
    "name": "ipython",
    "version": 3
   },
   "file_extension": ".py",
   "mimetype": "text/x-python",
   "name": "python",
   "nbconvert_exporter": "python",
   "pygments_lexer": "ipython3",
   "version": "3.8.12"
  },
  "orig_nbformat": 2,
  "kernelspec": {
   "name": "python3812jvsc74a57bd098b0a9b7b4eaaa670588a142fd0a9b87eaafe866f1db4228be72b4211d12040f",
   "display_name": "Python 3.8.12 64-bit ('base': conda)"
  }
 },
 "nbformat": 4,
 "nbformat_minor": 2,
 "cells": [
  {
   "cell_type": "code",
   "execution_count": 3,
   "metadata": {},
   "outputs": [
    {
     "output_type": "stream",
     "name": "stderr",
     "text": [
      "Loading data: 100%|██████████| 637/637 [00:07<00:00, 84.21it/s] \n",
      "636061\n"
     ]
    },
    {
     "output_type": "execute_result",
     "data": {
      "text/plain": [
       "        Unnamed: 0  FOLDERYEAR  LicenceRSN LicenceNumber  \\\n",
       "0                0          13     1988567     13-325119   \n",
       "1                1          13     1988589     13-325138   \n",
       "2                2          13     1988600     13-325148   \n",
       "3                3          13     1988632     13-187211   \n",
       "4                4          13     1988768     13-186372   \n",
       "...            ...         ...         ...           ...   \n",
       "636056      636850          22     3959625     22-147667   \n",
       "636057      636851          22     3959627     22-147669   \n",
       "636058      636852          22     3959635     22-147677   \n",
       "636059      636853          22     3959637     22-147679   \n",
       "636060      636854          22     3959639     22-147681   \n",
       "\n",
       "        LicenceRevisionNumber                                  BusinessName  \\\n",
       "0                           0            Beyond Sound Event Productions Ltd   \n",
       "1                           0  J Robert Thibodeau Architecture + Design Inc   \n",
       "2                           0                               (Narinder Gill)   \n",
       "3                           1                    MLF Event Architecture Inc   \n",
       "4                           1                Ocean West Financial Group Inc   \n",
       "...                       ...                                           ...   \n",
       "636056                      0                    Wimaan Thai Restaurant Ltd   \n",
       "636057                      0                                0909551 BC Ltd   \n",
       "636058                      0                               (Andre Barrett)   \n",
       "636059                      0             Healthbridge Wellness Centres Inc   \n",
       "636060                      0             The Dirty Apron Delicatessen Corp   \n",
       "\n",
       "                    BusinessTradeName   Status                 IssuedDate  \\\n",
       "0                        Beyond Sound   Issued  2013-03-15T17:56:12-04:00   \n",
       "1                                 NaN   Issued  2013-05-02T13:30:53-04:00   \n",
       "2                                 NaN   Issued  2013-03-15T17:52:44-04:00   \n",
       "3                                 NaN   Issued  2013-03-19T18:17:17-04:00   \n",
       "4                                 NaN   Issued  2013-03-26T18:09:00-04:00   \n",
       "...                               ...      ...                        ...   \n",
       "636056         Wimaan Thai Restaurant   Issued  2021-12-24T17:29:10-05:00   \n",
       "636057  Kishimoto Japanese Restaurant   Issued  2021-12-01T22:56:36-05:00   \n",
       "636058               Riddim and Spice  Pending                        NaN   \n",
       "636059           Yaletown L'Antipasto   Issued  2021-12-30T15:49:19-05:00   \n",
       "636060                            NaN  Pending                        NaN   \n",
       "\n",
       "       ExpiredDate  ... Country PostalCode           LocalArea  \\\n",
       "0       2013-12-31  ...      CA    V5T 3J9      Mount Pleasant   \n",
       "1       2013-12-31  ...      CA    V5Y 1N2      Mount Pleasant   \n",
       "2       2013-12-31  ...      CA        NaN              Sunset   \n",
       "3       2013-12-31  ...      CA    V6B 2T4            Downtown   \n",
       "4       2013-12-31  ...      CA    V6E 2Y3            West End   \n",
       "...            ...  ...     ...        ...                 ...   \n",
       "636056  2022-12-31  ...      CA    V6R 2B8           Kitsilano   \n",
       "636057  2022-12-31  ...      CA    V5N 4A9  Grandview-Woodland   \n",
       "636058         NaN  ...      CA    V5N 4A8  Grandview-Woodland   \n",
       "636059  2022-12-31  ...      CA    V6B 5P2            Downtown   \n",
       "636060         NaN  ...      CA    V6B 2L3            Downtown   \n",
       "\n",
       "       NumberofEmployees FeePaid                ExtractDate  \\\n",
       "0                    1.0   158.0  2019-07-21T16:49:09-04:00   \n",
       "1                    7.0   147.0  2019-07-21T16:49:09-04:00   \n",
       "2                    0.0    97.0  2019-07-21T16:49:09-04:00   \n",
       "3                    1.0    22.0  2019-07-21T16:49:09-04:00   \n",
       "4                    6.0    22.0  2019-07-21T16:49:09-04:00   \n",
       "...                  ...     ...                        ...   \n",
       "636056              10.0  1392.0  2022-02-15T03:09:42-05:00   \n",
       "636057              15.0  1174.0  2022-02-15T03:09:42-05:00   \n",
       "636058               0.0     NaN  2022-02-15T03:09:42-05:00   \n",
       "636059              10.0  1087.0  2022-02-15T03:09:42-05:00   \n",
       "636060              18.0  1370.0  2022-02-15T03:09:42-05:00   \n",
       "\n",
       "                                                     Geom        long  \\\n",
       "0       {\"coordinates\": [-123.093530332101, 49.2576936... -123.093530   \n",
       "1       {\"coordinates\": [-123.108309208116, 49.2635872... -123.108309   \n",
       "2                                                     NaN         NaN   \n",
       "3       {\"coordinates\": [-123.120093418192, 49.2755430... -123.120093   \n",
       "4       {\"coordinates\": [-123.122008869142, 49.2845352... -123.122009   \n",
       "...                                                   ...         ...   \n",
       "636056  {\"coordinates\": [-123.184479662511, 49.2645862... -123.184480   \n",
       "636057  {\"coordinates\": [-123.069351978091, 49.2665092... -123.069352   \n",
       "636058  {\"coordinates\": [-123.070030204642, 49.2673831... -123.070030   \n",
       "636059  {\"coordinates\": [-123.121328560504, 49.2754477... -123.121329   \n",
       "636060  {\"coordinates\": [-123.109080265212, 49.2805012... -123.109080   \n",
       "\n",
       "              lat                                 business_name  \n",
       "0       49.257694            Beyond Sound Event Productions Ltd  \n",
       "1       49.263587  J Robert Thibodeau Architecture + Design Inc  \n",
       "2             NaN                               (Narinder Gill)  \n",
       "3       49.275543                    MLF Event Architecture Inc  \n",
       "4       49.284535                Ocean West Financial Group Inc  \n",
       "...           ...                                           ...  \n",
       "636056  49.264586                    Wimaan Thai Restaurant Ltd  \n",
       "636057  49.266509                                0909551 BC Ltd  \n",
       "636058  49.267383                              Riddim and Spice  \n",
       "636059  49.275448             Healthbridge Wellness Centres Inc  \n",
       "636060  49.280501             The Dirty Apron Delicatessen Corp  \n",
       "\n",
       "[636061 rows x 28 columns]"
      ],
      "text/html": "<div>\n<style scoped>\n    .dataframe tbody tr th:only-of-type {\n        vertical-align: middle;\n    }\n\n    .dataframe tbody tr th {\n        vertical-align: top;\n    }\n\n    .dataframe thead th {\n        text-align: right;\n    }\n</style>\n<table border=\"1\" class=\"dataframe\">\n  <thead>\n    <tr style=\"text-align: right;\">\n      <th></th>\n      <th>Unnamed: 0</th>\n      <th>FOLDERYEAR</th>\n      <th>LicenceRSN</th>\n      <th>LicenceNumber</th>\n      <th>LicenceRevisionNumber</th>\n      <th>BusinessName</th>\n      <th>BusinessTradeName</th>\n      <th>Status</th>\n      <th>IssuedDate</th>\n      <th>ExpiredDate</th>\n      <th>...</th>\n      <th>Country</th>\n      <th>PostalCode</th>\n      <th>LocalArea</th>\n      <th>NumberofEmployees</th>\n      <th>FeePaid</th>\n      <th>ExtractDate</th>\n      <th>Geom</th>\n      <th>long</th>\n      <th>lat</th>\n      <th>business_name</th>\n    </tr>\n  </thead>\n  <tbody>\n    <tr>\n      <th>0</th>\n      <td>0</td>\n      <td>13</td>\n      <td>1988567</td>\n      <td>13-325119</td>\n      <td>0</td>\n      <td>Beyond Sound Event Productions Ltd</td>\n      <td>Beyond Sound</td>\n      <td>Issued</td>\n      <td>2013-03-15T17:56:12-04:00</td>\n      <td>2013-12-31</td>\n      <td>...</td>\n      <td>CA</td>\n      <td>V5T 3J9</td>\n      <td>Mount Pleasant</td>\n      <td>1.0</td>\n      <td>158.0</td>\n      <td>2019-07-21T16:49:09-04:00</td>\n      <td>{\"coordinates\": [-123.093530332101, 49.2576936...</td>\n      <td>-123.093530</td>\n      <td>49.257694</td>\n      <td>Beyond Sound Event Productions Ltd</td>\n    </tr>\n    <tr>\n      <th>1</th>\n      <td>1</td>\n      <td>13</td>\n      <td>1988589</td>\n      <td>13-325138</td>\n      <td>0</td>\n      <td>J Robert Thibodeau Architecture + Design Inc</td>\n      <td>NaN</td>\n      <td>Issued</td>\n      <td>2013-05-02T13:30:53-04:00</td>\n      <td>2013-12-31</td>\n      <td>...</td>\n      <td>CA</td>\n      <td>V5Y 1N2</td>\n      <td>Mount Pleasant</td>\n      <td>7.0</td>\n      <td>147.0</td>\n      <td>2019-07-21T16:49:09-04:00</td>\n      <td>{\"coordinates\": [-123.108309208116, 49.2635872...</td>\n      <td>-123.108309</td>\n      <td>49.263587</td>\n      <td>J Robert Thibodeau Architecture + Design Inc</td>\n    </tr>\n    <tr>\n      <th>2</th>\n      <td>2</td>\n      <td>13</td>\n      <td>1988600</td>\n      <td>13-325148</td>\n      <td>0</td>\n      <td>(Narinder Gill)</td>\n      <td>NaN</td>\n      <td>Issued</td>\n      <td>2013-03-15T17:52:44-04:00</td>\n      <td>2013-12-31</td>\n      <td>...</td>\n      <td>CA</td>\n      <td>NaN</td>\n      <td>Sunset</td>\n      <td>0.0</td>\n      <td>97.0</td>\n      <td>2019-07-21T16:49:09-04:00</td>\n      <td>NaN</td>\n      <td>NaN</td>\n      <td>NaN</td>\n      <td>(Narinder Gill)</td>\n    </tr>\n    <tr>\n      <th>3</th>\n      <td>3</td>\n      <td>13</td>\n      <td>1988632</td>\n      <td>13-187211</td>\n      <td>1</td>\n      <td>MLF Event Architecture Inc</td>\n      <td>NaN</td>\n      <td>Issued</td>\n      <td>2013-03-19T18:17:17-04:00</td>\n      <td>2013-12-31</td>\n      <td>...</td>\n      <td>CA</td>\n      <td>V6B 2T4</td>\n      <td>Downtown</td>\n      <td>1.0</td>\n      <td>22.0</td>\n      <td>2019-07-21T16:49:09-04:00</td>\n      <td>{\"coordinates\": [-123.120093418192, 49.2755430...</td>\n      <td>-123.120093</td>\n      <td>49.275543</td>\n      <td>MLF Event Architecture Inc</td>\n    </tr>\n    <tr>\n      <th>4</th>\n      <td>4</td>\n      <td>13</td>\n      <td>1988768</td>\n      <td>13-186372</td>\n      <td>1</td>\n      <td>Ocean West Financial Group Inc</td>\n      <td>NaN</td>\n      <td>Issued</td>\n      <td>2013-03-26T18:09:00-04:00</td>\n      <td>2013-12-31</td>\n      <td>...</td>\n      <td>CA</td>\n      <td>V6E 2Y3</td>\n      <td>West End</td>\n      <td>6.0</td>\n      <td>22.0</td>\n      <td>2019-07-21T16:49:09-04:00</td>\n      <td>{\"coordinates\": [-123.122008869142, 49.2845352...</td>\n      <td>-123.122009</td>\n      <td>49.284535</td>\n      <td>Ocean West Financial Group Inc</td>\n    </tr>\n    <tr>\n      <th>...</th>\n      <td>...</td>\n      <td>...</td>\n      <td>...</td>\n      <td>...</td>\n      <td>...</td>\n      <td>...</td>\n      <td>...</td>\n      <td>...</td>\n      <td>...</td>\n      <td>...</td>\n      <td>...</td>\n      <td>...</td>\n      <td>...</td>\n      <td>...</td>\n      <td>...</td>\n      <td>...</td>\n      <td>...</td>\n      <td>...</td>\n      <td>...</td>\n      <td>...</td>\n      <td>...</td>\n    </tr>\n    <tr>\n      <th>636056</th>\n      <td>636850</td>\n      <td>22</td>\n      <td>3959625</td>\n      <td>22-147667</td>\n      <td>0</td>\n      <td>Wimaan Thai Restaurant Ltd</td>\n      <td>Wimaan Thai Restaurant</td>\n      <td>Issued</td>\n      <td>2021-12-24T17:29:10-05:00</td>\n      <td>2022-12-31</td>\n      <td>...</td>\n      <td>CA</td>\n      <td>V6R 2B8</td>\n      <td>Kitsilano</td>\n      <td>10.0</td>\n      <td>1392.0</td>\n      <td>2022-02-15T03:09:42-05:00</td>\n      <td>{\"coordinates\": [-123.184479662511, 49.2645862...</td>\n      <td>-123.184480</td>\n      <td>49.264586</td>\n      <td>Wimaan Thai Restaurant Ltd</td>\n    </tr>\n    <tr>\n      <th>636057</th>\n      <td>636851</td>\n      <td>22</td>\n      <td>3959627</td>\n      <td>22-147669</td>\n      <td>0</td>\n      <td>0909551 BC Ltd</td>\n      <td>Kishimoto Japanese Restaurant</td>\n      <td>Issued</td>\n      <td>2021-12-01T22:56:36-05:00</td>\n      <td>2022-12-31</td>\n      <td>...</td>\n      <td>CA</td>\n      <td>V5N 4A9</td>\n      <td>Grandview-Woodland</td>\n      <td>15.0</td>\n      <td>1174.0</td>\n      <td>2022-02-15T03:09:42-05:00</td>\n      <td>{\"coordinates\": [-123.069351978091, 49.2665092...</td>\n      <td>-123.069352</td>\n      <td>49.266509</td>\n      <td>0909551 BC Ltd</td>\n    </tr>\n    <tr>\n      <th>636058</th>\n      <td>636852</td>\n      <td>22</td>\n      <td>3959635</td>\n      <td>22-147677</td>\n      <td>0</td>\n      <td>(Andre Barrett)</td>\n      <td>Riddim and Spice</td>\n      <td>Pending</td>\n      <td>NaN</td>\n      <td>NaN</td>\n      <td>...</td>\n      <td>CA</td>\n      <td>V5N 4A8</td>\n      <td>Grandview-Woodland</td>\n      <td>0.0</td>\n      <td>NaN</td>\n      <td>2022-02-15T03:09:42-05:00</td>\n      <td>{\"coordinates\": [-123.070030204642, 49.2673831...</td>\n      <td>-123.070030</td>\n      <td>49.267383</td>\n      <td>Riddim and Spice</td>\n    </tr>\n    <tr>\n      <th>636059</th>\n      <td>636853</td>\n      <td>22</td>\n      <td>3959637</td>\n      <td>22-147679</td>\n      <td>0</td>\n      <td>Healthbridge Wellness Centres Inc</td>\n      <td>Yaletown L'Antipasto</td>\n      <td>Issued</td>\n      <td>2021-12-30T15:49:19-05:00</td>\n      <td>2022-12-31</td>\n      <td>...</td>\n      <td>CA</td>\n      <td>V6B 5P2</td>\n      <td>Downtown</td>\n      <td>10.0</td>\n      <td>1087.0</td>\n      <td>2022-02-15T03:09:42-05:00</td>\n      <td>{\"coordinates\": [-123.121328560504, 49.2754477...</td>\n      <td>-123.121329</td>\n      <td>49.275448</td>\n      <td>Healthbridge Wellness Centres Inc</td>\n    </tr>\n    <tr>\n      <th>636060</th>\n      <td>636854</td>\n      <td>22</td>\n      <td>3959639</td>\n      <td>22-147681</td>\n      <td>0</td>\n      <td>The Dirty Apron Delicatessen Corp</td>\n      <td>NaN</td>\n      <td>Pending</td>\n      <td>NaN</td>\n      <td>NaN</td>\n      <td>...</td>\n      <td>CA</td>\n      <td>V6B 2L3</td>\n      <td>Downtown</td>\n      <td>18.0</td>\n      <td>1370.0</td>\n      <td>2022-02-15T03:09:42-05:00</td>\n      <td>{\"coordinates\": [-123.109080265212, 49.2805012...</td>\n      <td>-123.109080</td>\n      <td>49.280501</td>\n      <td>The Dirty Apron Delicatessen Corp</td>\n    </tr>\n  </tbody>\n</table>\n<p>636061 rows × 28 columns</p>\n</div>"
     },
     "metadata": {},
     "execution_count": 3
    }
   ],
   "source": [
    "import pandas as pd \n",
    "from tqdm import tqdm\n",
    "\n",
    "# inputFileName = '/home/jovyan/ODBiz/2-OpenTabulate/data/output/BC_Vancouver_Business_Licences.csv'\n",
    "inputFileName = '/home/jovyan/ODBiz/1-PreProcessing/processed/BC_Vancouver_Business_Licences.csv'\n",
    "total_lines = 636076\n",
    "chunksize = 1000\n",
    "# df = pd.read_csv(mergedFilePathName, low_memory=False)\n",
    "df = pd.concat([chunk for chunk in tqdm(pd.read_csv(inputFileName, chunksize=chunksize), desc='Loading data', total=total_lines//chunksize+1)])\n",
    "num_of_rows = df.shape[0]\n",
    "print(num_of_rows)\n",
    "df"
   ]
  },
  {
   "cell_type": "code",
   "execution_count": 5,
   "metadata": {},
   "outputs": [
    {
     "output_type": "execute_result",
     "data": {
      "text/plain": [
       "array(['BC', nan, 'bc', 'AB', 'ON', 'QC', 'NS', 'PQ', 'NB', 'MB', 'SK',\n",
       "       'On', 'British Columbia', '78', '`', 'YT', 'QB', 'Quebec',\n",
       "       'Ontario', 'NF', 'on', 'Ab', 'Lakeview Estates', 'Alberta'],\n",
       "      dtype=object)"
      ]
     },
     "metadata": {},
     "execution_count": 5
    }
   ],
   "source": [
    "pd.unique(df.Province)"
   ]
  },
  {
   "cell_type": "code",
   "execution_count": null,
   "metadata": {},
   "outputs": [],
   "source": []
  }
 ]
}