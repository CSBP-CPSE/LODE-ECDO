{
 "cells": [
  {
   "cell_type": "code",
   "execution_count": null,
   "metadata": {
    "execution": {
     "iopub.execute_input": "2022-08-31T23:12:38.751153Z",
     "iopub.status.busy": "2022-08-31T23:12:38.750832Z",
     "iopub.status.idle": "2022-08-31T23:12:45.569532Z",
     "shell.execute_reply": "2022-08-31T23:12:45.568682Z",
     "shell.execute_reply.started": "2022-08-31T23:12:38.751089Z"
    }
   },
   "outputs": [],
   "source": [
    "import parse_csv\n",
    "import odbiz_custom_parse\n",
    "import combine_parsed_cols\n"
   ]
  },
  {
   "cell_type": "code",
   "execution_count": null,
   "metadata": {
    "execution": {
     "iopub.execute_input": "2022-08-31T23:12:45.571559Z",
     "iopub.status.busy": "2022-08-31T23:12:45.571125Z",
     "iopub.status.idle": "2022-08-31T23:14:13.020323Z",
     "shell.execute_reply": "2022-08-31T23:14:13.019381Z",
     "shell.execute_reply.started": "2022-08-31T23:12:45.571532Z"
    },
    "tags": []
   },
   "outputs": [],
   "source": [
    "%%bash\n",
    "python parse_csv.py input/ODBiz_Merged.csv full_address output/parsed_biz.csv"
   ]
  },
  {
   "cell_type": "code",
   "execution_count": null,
   "metadata": {
    "execution": {
     "iopub.execute_input": "2022-08-31T23:14:13.022440Z",
     "iopub.status.busy": "2022-08-31T23:14:13.022042Z",
     "iopub.status.idle": "2022-08-31T23:15:39.827000Z",
     "shell.execute_reply": "2022-08-31T23:15:39.826136Z",
     "shell.execute_reply.started": "2022-08-31T23:14:13.022405Z"
    }
   },
   "outputs": [],
   "source": [
    "odbiz_custom_parse.main()"
   ]
  },
  {
   "cell_type": "code",
   "execution_count": null,
   "metadata": {
    "execution": {
     "iopub.execute_input": "2022-08-31T23:15:39.828513Z",
     "iopub.status.busy": "2022-08-31T23:15:39.828130Z",
     "iopub.status.idle": "2022-08-31T23:16:07.926525Z",
     "shell.execute_reply": "2022-08-31T23:16:07.925708Z",
     "shell.execute_reply.started": "2022-08-31T23:15:39.828484Z"
    }
   },
   "outputs": [],
   "source": [
    "combine_parsed_cols.main()"
   ]
  },
  {
   "cell_type": "code",
   "execution_count": null,
   "metadata": {},
   "outputs": [],
   "source": []
  }
 ],
 "metadata": {
  "kernelspec": {
   "display_name": "Python [conda env:odbiz]",
   "language": "python",
   "name": "conda-env-odbiz-py"
  },
  "language_info": {
   "codemirror_mode": {
    "name": "ipython",
    "version": 3
   },
   "file_extension": ".py",
   "mimetype": "text/x-python",
   "name": "python",
   "nbconvert_exporter": "python",
   "pygments_lexer": "ipython3",
   "version": "3.8.13"
  },
  "metadata": {
   "interpreter": {
    "hash": "3f6acfd5c7a89dd4516208ed2cd5283b5177bf58d22f895010c388a779688e5d"
   }
  }
 },
 "nbformat": 4,
 "nbformat_minor": 4
}