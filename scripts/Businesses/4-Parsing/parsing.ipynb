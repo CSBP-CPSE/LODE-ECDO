{
 "cells": [
  {
   "cell_type": "code",
   "execution_count": 10,
   "metadata": {
    "execution": {
     "iopub.execute_input": "2022-08-03T18:06:27.786148Z",
     "iopub.status.busy": "2022-08-03T18:06:27.784965Z",
     "iopub.status.idle": "2022-08-03T18:06:27.791409Z",
     "shell.execute_reply": "2022-08-03T18:06:27.789945Z",
     "shell.execute_reply.started": "2022-08-03T18:06:27.786097Z"
    },
    "tags": []
   },
   "outputs": [],
   "source": [
    "import pandas as pd\n",
    "from odhf_1_parse_csv import parse_csv"
   ]
  },
  {
   "cell_type": "code",
   "execution_count": 22,
   "metadata": {
    "execution": {
     "iopub.execute_input": "2022-08-03T19:41:53.271171Z",
     "iopub.status.busy": "2022-08-03T19:41:53.270568Z",
     "iopub.status.idle": "2022-08-03T19:42:00.554055Z",
     "shell.execute_reply": "2022-08-03T19:42:00.553171Z",
     "shell.execute_reply.started": "2022-08-03T19:41:53.271137Z"
    },
    "tags": []
   },
   "outputs": [
    {
     "name": "stderr",
     "output_type": "stream",
     "text": [
      "/tmp/ipykernel_32021/507013991.py:1: DtypeWarning: Columns (3,4,5,6,7,8,10,11,12,13,16,17,18,19,20,21,22,23,26,27,28,29,30,32,33,34,38,40,42,46) have mixed types. Specify dtype option on import or set low_memory=False.\n",
      "  df = pd.read_csv('~/ODBiz/3-Merging/output/4-ODBiz_merged_2022-07-28.csv')\n"
     ]
    }
   ],
   "source": [
    "df = pd.read_csv('~/ODBiz/3-Merging/output/4-ODBiz_merged_2022-07-28.csv')\n",
    "\n",
    "# test the parsing function on a sample which have mailing addresses\n",
    "df = df[df['mailing_address'].notna()]\n",
    "sample = df.sample(100)\n",
    "# list(sample)\n",
    "sample = sample[['localfile', 'mailing_address', 'street_no', 'street_name']]"
   ]
  },
  {
   "cell_type": "code",
   "execution_count": 25,
   "metadata": {
    "execution": {
     "iopub.execute_input": "2022-08-03T19:44:07.764612Z",
     "iopub.status.busy": "2022-08-03T19:44:07.764013Z",
     "iopub.status.idle": "2022-08-03T19:44:08.064617Z",
     "shell.execute_reply": "2022-08-03T19:44:08.063771Z",
     "shell.execute_reply.started": "2022-08-03T19:44:07.764572Z"
    }
   },
   "outputs": [],
   "source": [
    "sample.head()"
   ]
  },
  {
   "cell_type": "code",
   "execution_count": 29,
   "metadata": {
    "execution": {
     "iopub.execute_input": "2022-08-03T19:44:30.056636Z",
     "iopub.status.busy": "2022-08-03T19:44:30.056299Z",
     "iopub.status.idle": "2022-08-03T19:44:30.085900Z",
     "shell.execute_reply": "2022-08-03T19:44:30.084994Z",
     "shell.execute_reply.started": "2022-08-03T19:44:30.056610Z"
    },
    "tags": []
   },
   "outputs": [],
   "source": [
    "test = parse_csv(sample,'mailing_address')"
   ]
  },
  {
   "cell_type": "code",
   "execution_count": 31,
   "metadata": {
    "execution": {
     "iopub.execute_input": "2022-08-03T19:58:56.150482Z",
     "iopub.status.busy": "2022-08-03T19:58:56.150030Z",
     "iopub.status.idle": "2022-08-03T19:58:56.164838Z",
     "shell.execute_reply": "2022-08-03T19:58:56.164110Z",
     "shell.execute_reply.started": "2022-08-03T19:58:56.150446Z"
    },
    "tags": []
   },
   "outputs": [
    {
     "data": {
      "text/html": [
       "<div>\n",
       "<style scoped>\n",
       "    .dataframe tbody tr th:only-of-type {\n",
       "        vertical-align: middle;\n",
       "    }\n",
       "\n",
       "    .dataframe tbody tr th {\n",
       "        vertical-align: top;\n",
       "    }\n",
       "\n",
       "    .dataframe thead th {\n",
       "        text-align: right;\n",
       "    }\n",
       "</style>\n",
       "<table border=\"1\" class=\"dataframe\">\n",
       "  <thead>\n",
       "    <tr style=\"text-align: right;\">\n",
       "      <th></th>\n",
       "      <th>localfile</th>\n",
       "      <th>mailing_address</th>\n",
       "      <th>street_no</th>\n",
       "      <th>street_name</th>\n",
       "      <th>LP_street_no</th>\n",
       "      <th>LP_street_name</th>\n",
       "      <th>LP_City</th>\n",
       "      <th>LP_Province</th>\n",
       "      <th>LP_PostCode</th>\n",
       "      <th>LP_Unit</th>\n",
       "    </tr>\n",
       "  </thead>\n",
       "  <tbody>\n",
       "    <tr>\n",
       "      <th>787849</th>\n",
       "      <td>BC_Langley_Business_Licences.csv</td>\n",
       "      <td>39-4847 219 ST LANGLEY BC V3A 8C1</td>\n",
       "      <td>4847.0</td>\n",
       "      <td>219 ST</td>\n",
       "      <td>39-4847</td>\n",
       "      <td>219 st</td>\n",
       "      <td>langley</td>\n",
       "      <td>bc</td>\n",
       "      <td>v3a 8c1</td>\n",
       "      <td></td>\n",
       "    </tr>\n",
       "    <tr>\n",
       "      <th>670889</th>\n",
       "      <td>ON_York_Region_Business_Directory.csv</td>\n",
       "      <td>17075 LESLIE STREET</td>\n",
       "      <td>17075</td>\n",
       "      <td>LESLIE</td>\n",
       "      <td>17075</td>\n",
       "      <td>leslie street</td>\n",
       "      <td></td>\n",
       "      <td></td>\n",
       "      <td></td>\n",
       "      <td></td>\n",
       "    </tr>\n",
       "    <tr>\n",
       "      <th>657855</th>\n",
       "      <td>ON_York_Region_Business_Directory.csv</td>\n",
       "      <td>101 EDWARD AVENUE</td>\n",
       "      <td>101</td>\n",
       "      <td>EDWARD</td>\n",
       "      <td>101</td>\n",
       "      <td>edward avenue</td>\n",
       "      <td></td>\n",
       "      <td></td>\n",
       "      <td></td>\n",
       "      <td></td>\n",
       "    </tr>\n",
       "    <tr>\n",
       "      <th>663120</th>\n",
       "      <td>ON_York_Region_Business_Directory.csv</td>\n",
       "      <td>60 GREEN LANE</td>\n",
       "      <td>60</td>\n",
       "      <td>GREEN</td>\n",
       "      <td>60</td>\n",
       "      <td>green lane</td>\n",
       "      <td></td>\n",
       "      <td></td>\n",
       "      <td></td>\n",
       "      <td></td>\n",
       "    </tr>\n",
       "    <tr>\n",
       "      <th>665717</th>\n",
       "      <td>ON_York_Region_Business_Directory.csv</td>\n",
       "      <td>298 JOHN STREET</td>\n",
       "      <td>298</td>\n",
       "      <td>JOHN</td>\n",
       "      <td>298</td>\n",
       "      <td>john street</td>\n",
       "      <td></td>\n",
       "      <td></td>\n",
       "      <td></td>\n",
       "      <td></td>\n",
       "    </tr>\n",
       "  </tbody>\n",
       "</table>\n",
       "</div>"
      ],
      "text/plain": [
       "                                    localfile  \\\n",
       "787849       BC_Langley_Business_Licences.csv   \n",
       "670889  ON_York_Region_Business_Directory.csv   \n",
       "657855  ON_York_Region_Business_Directory.csv   \n",
       "663120  ON_York_Region_Business_Directory.csv   \n",
       "665717  ON_York_Region_Business_Directory.csv   \n",
       "\n",
       "                          mailing_address street_no street_name LP_street_no  \\\n",
       "787849  39-4847 219 ST LANGLEY BC V3A 8C1    4847.0      219 ST      39-4847   \n",
       "670889                17075 LESLIE STREET     17075      LESLIE        17075   \n",
       "657855                  101 EDWARD AVENUE       101      EDWARD          101   \n",
       "663120                      60 GREEN LANE        60       GREEN           60   \n",
       "665717                    298 JOHN STREET       298        JOHN          298   \n",
       "\n",
       "       LP_street_name  LP_City LP_Province LP_PostCode LP_Unit  \n",
       "787849         219 st  langley          bc     v3a 8c1          \n",
       "670889  leslie street                                           \n",
       "657855  edward avenue                                           \n",
       "663120     green lane                                           \n",
       "665717    john street                                           "
      ]
     },
     "execution_count": 31,
     "metadata": {},
     "output_type": "execute_result"
    }
   ],
   "source": [
    "test.head()"
   ]
  },
  {
   "cell_type": "code",
   "execution_count": null,
   "metadata": {},
   "outputs": [],
   "source": []
  }
 ],
 "metadata": {
  "kernelspec": {
   "display_name": "data_exploration (odbiz)",
   "language": "python",
   "name": "myenv"
  },
  "language_info": {
   "codemirror_mode": {
    "name": "ipython",
    "version": 3
   },
   "file_extension": ".py",
   "mimetype": "text/x-python",
   "name": "python",
   "nbconvert_exporter": "python",
   "pygments_lexer": "ipython3",
   "version": "3.10.5"
  }
 },
 "nbformat": 4,
 "nbformat_minor": 4
}
