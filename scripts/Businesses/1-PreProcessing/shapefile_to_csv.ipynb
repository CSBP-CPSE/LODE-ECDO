{
 "cells": [
  {
   "cell_type": "code",
   "execution_count": null,
   "metadata": {},
   "outputs": [],
   "source": [
    "\"\"\"\n",
    "This script only needs to be run once, unless new shapefiles are added. Read comments to make sure everything runs smoothly\n",
    "\"\"\""
   ]
  },
  {
   "cell_type": "code",
   "execution_count": 2,
   "metadata": {
    "execution": {
     "iopub.execute_input": "2022-03-11T14:54:03.487499Z",
     "iopub.status.busy": "2022-03-11T14:54:03.487211Z",
     "iopub.status.idle": "2022-03-11T14:54:04.598912Z",
     "shell.execute_reply": "2022-03-11T14:54:04.598119Z",
     "shell.execute_reply.started": "2022-03-11T14:54:03.487471Z"
    }
   },
   "outputs": [],
   "source": [
    "import sys\n",
    "#!conda install --yes --prefix {sys.prefix} geopandas\n",
    "import pandas as pd\n",
    "import geopandas as gpd\n",
    "import folium"
   ]
  },
  {
   "cell_type": "code",
   "execution_count": 3,
   "metadata": {
    "execution": {
     "iopub.execute_input": "2022-03-11T14:54:05.275349Z",
     "iopub.status.busy": "2022-03-11T14:54:05.274934Z",
     "iopub.status.idle": "2022-03-11T14:54:05.810034Z",
     "shell.execute_reply": "2022-03-11T14:54:05.809201Z",
     "shell.execute_reply.started": "2022-03-11T14:54:05.275304Z"
    },
    "tags": []
   },
   "outputs": [
    {
     "name": "stdout",
     "output_type": "stream",
     "text": [
      "epsg:3857\n",
      "epsg:4326\n"
     ]
    },
    {
     "name": "stderr",
     "output_type": "stream",
     "text": [
      "<ipython-input-3-18cfac72f967>:14: UserWarning: Geometry is in a geographic CRS. Results from 'centroid' are likely incorrect. Use 'GeoSeries.to_crs()' to re-project geometries to a projected CRS before this operation.\n",
      "\n",
      "  city['lon'] = city.centroid.x\n",
      "<ipython-input-3-18cfac72f967>:15: UserWarning: Geometry is in a geographic CRS. Results from 'centroid' are likely incorrect. Use 'GeoSeries.to_crs()' to re-project geometries to a projected CRS before this operation.\n",
      "\n",
      "  city['lat'] = city.centroid.y\n"
     ]
    }
   ],
   "source": [
    "# Port Moody Shapefile\n",
    "\n",
    "fp = \"/home/jovyan/ODBiz/1-PreProcessing/raw/BC_Port_Moody_shapefile/Business_Directory.shp\"\n",
    "name = \"port moody\"\n",
    "\n",
    "city = gpd.read_file(fp)\n",
    "\n",
    "print(city.crs)\n",
    "city = city.to_crs(epsg=4326)\n",
    "print(city.crs)\n",
    "\n",
    "sub_city = city.head(500)\n",
    "\n",
    "city['lon'] = city.centroid.x\n",
    "city['lat'] = city.centroid.y\n",
    "\n",
    "#print(city.head)\n",
    "\n",
    "city.to_csv(\"/home/jovyan/ODBiz/1-PreProcessing/raw/BC_Port_Moody_Business_Directory.csv\")"
   ]
  },
  {
   "cell_type": "code",
   "execution_count": 6,
   "metadata": {
    "execution": {
     "iopub.execute_input": "2022-03-11T15:56:10.693211Z",
     "iopub.status.busy": "2022-03-11T15:56:10.692889Z",
     "iopub.status.idle": "2022-03-11T15:56:20.509990Z",
     "shell.execute_reply": "2022-03-11T15:56:20.509136Z",
     "shell.execute_reply.started": "2022-03-11T15:56:10.693183Z"
    },
    "tags": []
   },
   "outputs": [
    {
     "name": "stdout",
     "output_type": "stream",
     "text": [
      "BC_Port_Moody_Business_Directory\n",
      "epsg:3857\n",
      "epsg:4326\n",
      "error with file above\n",
      "NB_Saint_John_Grocery_Stores\n",
      "epsg:2953\n",
      "epsg:4326\n",
      "AB_Chestermere_Businesses\n",
      "epsg:4326\n",
      "epsg:4326\n",
      "BC_Squamish_Business_Licence_Annual_2021\n",
      "epsg:26910\n",
      "epsg:4326\n",
      "ON_Cambridge_Business_Directory\n",
      "epsg:26917\n",
      "epsg:4326\n",
      "ON_Durham_Business_Directory\n",
      "epsg:26917\n",
      "epsg:4326\n",
      "ON_Brampton_Business_Directory\n",
      "epsg:3857\n",
      "epsg:4326\n",
      "ON_Pickering_Business_Directory\n",
      "epsg:26917\n",
      "epsg:4326\n",
      "NB_Moncton_Grocery_Stores\n",
      "epsg:2953\n",
      "epsg:4326\n",
      "BC_Maple_Ridge_Business_Licences\n",
      "epsg:26910\n",
      "epsg:4326\n",
      "ON_Kitchener_Business_Directory\n",
      "epsg:26917\n",
      "epsg:4326\n",
      "NB_Moncton_Ph_Pharmacies\n",
      "epsg:2953\n",
      "epsg:4326\n"
     ]
    }
   ],
   "source": [
    "# All other shapefiles (No need to rerun this, but unless a new shapefile is added, temporarily remove the \n",
    "# Port Moody shapefile folder for this to run)\n",
    "\n",
    "import os\n",
    "for root, dirs, files in os.walk(\"/home/jovyan/ODBiz/1-PreProcessing/raw\"):\n",
    "    for file in files:\n",
    "        if file.endswith(\".shp\"):\n",
    "            try:\n",
    "                head, tail = os.path.split(os.path.join(root, file))\n",
    "                head = head.replace('shapefile', '')\n",
    "                head = head.replace(\"home/jovyan/ODBiz/1-PreProcessing/raw/\", '')\n",
    "                head = head.replace(\"/\", '')          \n",
    "                tail = tail.replace('.shp', '')\n",
    "                name = head + tail\n",
    "                print(name)\n",
    "\n",
    "                fp = (os.path.join(root, file))\n",
    "                city = gpd.read_file(fp)\n",
    "                print(city.crs)\n",
    "                city = city.to_crs(epsg=4326)\n",
    "                print(city.crs)\n",
    "                sub_city = city.head(500)\n",
    "                city['lon'] = city.geometry.x\n",
    "                city['lat'] = city.geometry.y\n",
    "\n",
    "                city.to_csv(\"/home/jovyan/ODBiz/1-PreProcessing/raw/\"+name+\".csv\")\n",
    "            \n",
    "            except:\n",
    "                print('error with file above')\n",
    "                pass"
   ]
  },
  {
   "cell_type": "code",
   "execution_count": null,
   "metadata": {},
   "outputs": [],
   "source": []
  }
 ],
 "metadata": {
  "kernelspec": {
   "display_name": "Python 3",
   "language": "python",
   "name": "python3"
  },
  "language_info": {
   "codemirror_mode": {
    "name": "ipython",
    "version": 3
   },
   "file_extension": ".py",
   "mimetype": "text/x-python",
   "name": "python",
   "nbconvert_exporter": "python",
   "pygments_lexer": "ipython3",
   "version": "3.8.8"
  }
 },
 "nbformat": 4,
 "nbformat_minor": 4
}
