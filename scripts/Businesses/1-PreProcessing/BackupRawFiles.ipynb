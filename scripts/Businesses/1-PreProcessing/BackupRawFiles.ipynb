{
 "cells": [
  {
   "cell_type": "markdown",
   "metadata": {},
   "source": [
    "# BackupRawFiles.ipynb\n",
    "This notebook compresses all non-archived files under `1-PreProcessing/raw` into the `odbiz_raw_backup.zip` file.\n",
    "\n",
    "This provides a convenient way for us to backup our raw datasets. "
   ]
  },
  {
   "cell_type": "code",
   "execution_count": 12,
   "metadata": {
    "tags": []
   },
   "outputs": [
    {
     "data": {
      "text/plain": [
       "'/home/jovyan/ODBiz/1-PreProcessing/odbiz_raw_backup.zip'"
      ]
     },
     "execution_count": 12,
     "metadata": {},
     "output_type": "execute_result"
    }
   ],
   "source": [
    "import shutil\n",
    "\n",
    "dir_to_compress = '/home/jovyan/ODBiz/1-PreProcessing/raw'\n",
    "output_filename = '/home/jovyan/ODBiz/1-PreProcessing/odbiz_raw_backup'\n",
    "\n",
    "shutil.make_archive(output_filename, 'zip', dir_to_compress)"
   ]
  },
  {
   "cell_type": "code",
   "execution_count": null,
   "metadata": {},
   "outputs": [],
   "source": []
  }
 ],
 "metadata": {
  "kernelspec": {
   "display_name": "Python [conda env:root] *",
   "language": "python",
   "name": "conda-root-py"
  },
  "language_info": {
   "codemirror_mode": {
    "name": "ipython",
    "version": 3
   },
   "file_extension": ".py",
   "mimetype": "text/x-python",
   "name": "python",
   "nbconvert_exporter": "python",
   "pygments_lexer": "ipython3",
   "version": "3.8.12"
  }
 },
 "nbformat": 4,
 "nbformat_minor": 4
}
