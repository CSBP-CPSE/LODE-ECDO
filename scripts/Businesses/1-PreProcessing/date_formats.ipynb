{
 "cells": [
  {
   "cell_type": "code",
   "execution_count": 5,
   "metadata": {},
   "outputs": [
    {
     "name": "stdout",
     "output_type": "stream",
     "text": [
      "YYYYMMDD\n",
      "YYYY-MM-DD\n",
      "mmm DD, YYYY\n",
      "nan\n",
      "YYYY-MM-DDTHH:MM:SS.ms...Z\n",
      "YYYY/MM/DD HH:MM:SS+TZ\n",
      "D(D)/M(M)/YYYY\n",
      "DD-mmm-YY\n"
     ]
    }
   ],
   "source": [
    "# For viewing and consolidating the different date format codes that the raw data has\n",
    "import pandas as pd\n",
    "df = pd.read_csv('/home/jovyan/ODBiz/1-PreProcessing/ODBizSources.csv')\n",
    "d_forms = pd.unique(df.date_format)\n",
    "for i in d_forms:\n",
    "    print(i)"
   ]
  },
  {
   "cell_type": "code",
   "execution_count": null,
   "metadata": {},
   "outputs": [],
   "source": []
  }
 ],
 "metadata": {
  "kernelspec": {
   "display_name": "Python 3",
   "language": "python",
   "name": "python3"
  },
  "language_info": {
   "codemirror_mode": {
    "name": "ipython",
    "version": 3
   },
   "file_extension": ".py",
   "mimetype": "text/x-python",
   "name": "python",
   "nbconvert_exporter": "python",
   "pygments_lexer": "ipython3",
   "version": "3.8.12"
  }
 },
 "nbformat": 4,
 "nbformat_minor": 4
}
