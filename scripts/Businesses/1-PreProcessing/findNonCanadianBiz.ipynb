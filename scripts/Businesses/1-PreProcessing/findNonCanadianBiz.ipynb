{
 "metadata": {
  "language_info": {
   "codemirror_mode": {
    "name": "ipython",
    "version": 3
   },
   "file_extension": ".py",
   "mimetype": "text/x-python",
   "name": "python",
   "nbconvert_exporter": "python",
   "pygments_lexer": "ipython3",
   "version": "3.8.12"
  },
  "orig_nbformat": 2,
  "kernelspec": {
   "name": "python3812jvsc74a57bd098b0a9b7b4eaaa670588a142fd0a9b87eaafe866f1db4228be72b4211d12040f",
   "display_name": "Python 3.8.12 64-bit ('base': conda)"
  }
 },
 "nbformat": 4,
 "nbformat_minor": 2,
 "cells": [
  {
   "cell_type": "code",
   "execution_count": 8,
   "metadata": {},
   "outputs": [
    {
     "output_type": "execute_result",
     "data": {
      "text/plain": [
       "['',\n",
       " 'MA',\n",
       " 'ID',\n",
       " 'KS',\n",
       " 'US',\n",
       " 'RJ',\n",
       " 'NY',\n",
       " 'IL',\n",
       " 'GA',\n",
       " 'MI',\n",
       " 'CO',\n",
       " 'IN',\n",
       " 'VA',\n",
       " 'OH',\n",
       " 'SP',\n",
       " 'LAKEVIEW ESTATES',\n",
       " 'MD',\n",
       " 'MT',\n",
       " 'ARIZONA',\n",
       " 'WA',\n",
       " 'AL',\n",
       " 'WI',\n",
       " ' ',\n",
       " 'NJ',\n",
       " 'CT',\n",
       " 'SC',\n",
       " 'MO',\n",
       " 'TEHRAN',\n",
       " 'TN',\n",
       " 'TX',\n",
       " 'DE',\n",
       " 'HB',\n",
       " 'FL',\n",
       " 'NV',\n",
       " 'MN',\n",
       " 'PA',\n",
       " 'OK',\n",
       " 'OR',\n",
       " 'UT',\n",
       " 'NC',\n",
       " 'CHESHITE',\n",
       " 'AZ']"
      ]
     },
     "metadata": {},
     "execution_count": 8
    }
   ],
   "source": [
    "import numpy as np\n",
    "\n",
    "filenames = ['BC_Vancouver_Business_Licences.csv',\n",
    "            'ON_Durham_Business_Directory.csv',\n",
    "            'BC_Nanaimo_Business_Licences.csv',\n",
    "            'ON_York_Region_Business_Directory.csv',\n",
    "            'ON_Pickering_Business_Directory.csv']\n",
    "\n",
    "nonCanProvCodes = ['WA',\n",
    " 'NC',\n",
    " 'IL',\n",
    " 'CA',\n",
    " 'TX',\n",
    " 'NY',\n",
    " 'PQ',\n",
    " 'CO',\n",
    " 'NV',\n",
    " 'AL',\n",
    " 'GA',\n",
    " 'AZ',\n",
    " 'NJ',\n",
    " 'FL',\n",
    " 'US',\n",
    " 'MA',\n",
    " 'PA',\n",
    " 'OH',\n",
    " 'KS',\n",
    " 'WI',\n",
    " 'VA',\n",
    " 'UT',\n",
    " 'DE',\n",
    " 'OR',\n",
    " '78',\n",
    " '`',\n",
    " 'SC',\n",
    " 'MI',\n",
    " 'MD',\n",
    " 'CT',\n",
    " 'QB',\n",
    " 'NF',\n",
    " 'ID',\n",
    " 'MN',\n",
    " 'MO',\n",
    " 'SP',\n",
    " 'RJ',\n",
    " 'IN',\n",
    " 'HB',\n",
    " 'TN',\n",
    " 'LAKEVIEW ESTATES',\n",
    " 'TEHRAN',\n",
    " 'MT',\n",
    " 'OK',\n",
    " 'CHESHITE',\n",
    " 'ARIZONA', np.nan, ' ', '']\n",
    "knownProvs = ['78', '`', 'QB', 'NF', 'PQ', 'CA', np.nan]\n",
    "nonCanProvCodes = list(set(nonCanProvCodes) - set(knownProvs))\n",
    "nonCanProvCodes"
   ]
  },
  {
   "cell_type": "code",
   "execution_count": 11,
   "metadata": {},
   "outputs": [
    {
     "output_type": "stream",
     "name": "stdout",
     "text": [
      "['BC' 'WA' nan 'bc' 'AB' 'ON' 'NC' 'QC' 'IL' 'NS' 'CA' 'TX' 'NY' 'PQ' 'CO'\n 'NV' 'AL' 'GA' 'NB' 'MB' 'AZ' 'NJ' 'FL' 'US' 'MA' 'PA' 'OH' 'KS' 'WI'\n 'SK' 'Wa' 'VA' 'UT' 'On' 'DE' 'British Columbia' 'OR' '78' '`' 'YT' 'SC'\n 'MI' 'MD' 'CT' 'QB' 'Quebec' 'Ontario' 'NF' 'Or' 'ID' 'on' 'MN' 'MO' 'SP'\n 'RJ' 'IN' 'Ab' 'HB' 'TN' 'Il' 'Fl' 'Lakeview Estates' 'Alberta' 'Tehran'\n 'MT' 'OK' 'Cheshite' 'Arizona']\nSaved df to /home/jovyan/ODBiz/1-PreProcessing/nonCadBiz/BC_Vancouver_Business_Licences_nonCAD.csv\n\n"
     ]
    }
   ],
   "source": [
    "import pandas as pd\n",
    "from tqdm import tqdm\n",
    "\n",
    "pd.set_option('display.max_columns', None)\n",
    "\n",
    "i = 0\n",
    "localfile = filenames[i]\n",
    "# for localfile in filenames:\n",
    "filepath = f'/home/jovyan/ODBiz/1-PreProcessing/raw/{localfile}'\n",
    "\n",
    "# if (localfile == 'BC_Vancouver_Business_Licences.csv'):\n",
    "#     chunksize, total_lines = 1000, 636855\n",
    "#     df = pd.concat([chunk for chunk in tqdm(pd.read_csv(filepath, chunksize=chunksize), \n",
    "#                                             desc=f'Loading data for {localfile}', \n",
    "#                                             total=total_lines//chunksize+1)])\n",
    "# else:\n",
    "#     df = pd.read_csv(filepath)\n",
    "\n",
    "var_map = pd.read_csv('/home/jovyan/ODBiz/2-OpenTabulate/variablemap.csv')\n",
    "var_map = var_map.set_index('localfile')\n",
    "province = var_map.loc[localfile, 'province']\n",
    "if localfile == 'ON_York_Region_Business_Directory.csv':\n",
    "    print(pd.unique(df[province]))\n",
    "non_cad_df = df.loc[df[province].isin(nonCanProvCodes)]\n",
    "print(pd.unique(df[province]))\n",
    "outFileName = f'/home/jovyan/ODBiz/1-PreProcessing/nonCadBiz/{localfile}'.replace('.csv', '_nonCAD.csv')\n",
    "non_cad_df.to_csv(outFileName, index = False)\n",
    "print(f'Saved df to {outFileName}')\n",
    "print('')"
   ]
  },
  {
   "cell_type": "code",
   "execution_count": null,
   "metadata": {},
   "outputs": [],
   "source": []
  },
  {
   "cell_type": "code",
   "execution_count": 3,
   "metadata": {},
   "outputs": [
    {
     "output_type": "stream",
     "name": "stdout",
     "text": [
      "BC_Vancouver_Business_Licences.csv\n",
      "ON_Durham_Business_Directory.csv\n",
      "BC_Nanaimo_Business_Licences.csv\n",
      "ON_York_Region_Business_Directory.csv\n",
      "ON_Pickering_Business_Directory.csv\n"
     ]
    }
   ],
   "source": [
    "\n",
    "USA_states = [ 'AK', 'AL', 'AR', 'AZ', 'CA', 'CO', 'CT', 'DC', 'DE', 'FL', 'GA',\n",
    "           'HI', 'IA', 'ID', 'IL', 'IN', 'KS', 'KY', 'LA', 'MA', 'MD', 'ME',\n",
    "           'MI', 'MN', 'MO', 'MS', 'MT', 'NC', 'ND', 'NE', 'NH', 'NJ', 'NM',\n",
    "           'NV', 'NY', 'OH', 'OK', 'OR', 'PA', 'RI', 'SC', 'SD', 'TN', 'TX',\n",
    "           'UT', 'VA', 'VT', 'WA', 'WI', 'WV', 'WY', 'ARIZONA']\n",
    "\n",
    "\n",
    "i = 4\n",
    "localfile = filenames[i]\n",
    "for localfile in filenames:\n",
    "    print(localfile)\n",
    "    filePathName = f'/home/jovyan/ODBiz/1-PreProcessing/nonCadBiz/{localfile}'.replace('.csv', '_nonCAD.csv')\n",
    "    df = pd.read_csv(filePathName)\n",
    "    var_map = pd.read_csv('/home/jovyan/ODBiz/2-OpenTabulate/variablemap.csv')\n",
    "    var_map = var_map.set_index('localfile')\n",
    "    province = var_map.loc[localfile, 'province']\n",
    "    non_cad_provs = pd.unique(df[province])\n",
    "    foreign_prov_codes = list(set(non_cad_provs) - set(USA_states) - set(knownProvs))\n",
    "    np.sort(foreign_prov_codes)"
   ]
  },
  {
   "cell_type": "code",
   "execution_count": 4,
   "metadata": {},
   "outputs": [
    {
     "output_type": "execute_result",
     "data": {
      "text/plain": [
       "array([nan])"
      ]
     },
     "metadata": {},
     "execution_count": 4
    }
   ],
   "source": [
    "non_cad_provs"
   ]
  },
  {
   "cell_type": "code",
   "execution_count": null,
   "metadata": {},
   "outputs": [],
   "source": []
  }
 ]
}