{
 "cells": [
  {
   "cell_type": "code",
   "execution_count": 1,
   "id": "b01546fa",
   "metadata": {},
   "outputs": [
    {
     "name": "stderr",
     "output_type": "stream",
     "text": [
      " dc_test_logger :: INFO     :: Starting Data Collection.\n"
     ]
    }
   ],
   "source": [
    "import json, os, sys\n",
    "import logging\n",
    "\n",
    "sys.path.insert(0, \"data_collectors\")\n",
    "\n",
    "from data_collectors import DataCollectorFactory\n",
    "\n",
    "logger = logging.getLogger(\"dc_test_logger\")\n",
    "logger.setLevel(logging.DEBUG)\n",
    "\n",
    "logFormatter = logging.Formatter(fmt=' %(name)s :: %(levelname)-8s :: %(message)s')\n",
    "\n",
    "# create console handler\n",
    "consoleHandler = logging.StreamHandler()\n",
    "consoleHandler.setLevel(logging.DEBUG)\n",
    "consoleHandler.setFormatter(logFormatter)\n",
    "\n",
    "# Add console handler to logger\n",
    "logger.addHandler(consoleHandler)\n",
    "\n",
    "logger.info(\"Starting Data Collection.\")"
   ]
  },
  {
   "cell_type": "code",
   "execution_count": 2,
   "id": "e071adf3",
   "metadata": {},
   "outputs": [
    {
     "data": {
      "text/plain": [
       "{'province': 'ON',\n",
       " 'area': 'Niagara Falls',\n",
       " 'url': 'https://niagaraopendata.ca/dataset/08cc9ac2-7c88-4b98-a34d-4b97e76eeaf3/resource/eca627a5-6173-45f7-ae8b-6ae4fe1bfb29/download/fire-services.kml',\n",
       " 'reference': 'https://niagaraopendata.ca/dataset/city-of-niagara-falls-fire-services',\n",
       " 'licence': 'https://opendefinition.org/od/2.1/en/',\n",
       " 'data_type': 'kml'}"
      ]
     },
     "execution_count": 2,
     "metadata": {},
     "output_type": "execute_result"
    }
   ],
   "source": [
    "with open(\"config.json\", \"r\") as f:\n",
    "    cfg = json.loads(f.read())\n",
    "          \n",
    "c=cfg[3]\n",
    "c"
   ]
  },
  {
   "cell_type": "code",
   "execution_count": 3,
   "id": "7b3f3bd1",
   "metadata": {},
   "outputs": [
    {
     "name": "stderr",
     "output_type": "stream",
     "text": [
      " dc_test_logger :: DEBUG    :: Output file I:\\DEIL\\Data\\Prod\\Projects\\DEIL_ISC\\4-Collection\\Fire Protection Services\\lode-v3\\collection\\Niagara Falls_fd.kml exists: False\n"
     ]
    }
   ],
   "source": [
    "fact = DataCollectorFactory()\n",
    "\n",
    "out_path = r\"I:\\DEIL\\Data\\Prod\\Projects\\DEIL_ISC\\4-Collection\\Fire Protection Services\\lode-v3\\collection\"\n",
    "out_file = \"%(area)s_fd.%(data_type)s\" % c\n",
    "\n",
    "logger.debug(\"Output file %s exists: %s\" % (os.path.join(out_path, out_file), os.path.exists(os.path.join(out_path, out_file))))\n",
    "\n",
    "dc = fact.get_data_collector(c)\n",
    "\n",
    "dc.set_logger(logger)"
   ]
  },
  {
   "cell_type": "code",
   "execution_count": 4,
   "id": "d5b37915",
   "metadata": {},
   "outputs": [
    {
     "name": "stderr",
     "output_type": "stream",
     "text": [
      " dc_test_logger :: INFO     :: <data_collectors.KmlDataCollector.KmlDataCollector object at 0x0000019043F53E50> collecting data from: https://niagaraopendata.ca/dataset/08cc9ac2-7c88-4b98-a34d-4b97e76eeaf3/resource/eca627a5-6173-45f7-ae8b-6ae4fe1bfb29/download/fire-services.kml\n",
      " dc_test_logger :: DEBUG    :: <data_collectors.KmlDataCollector.KmlDataCollector object at 0x0000019043F53E50> requesting data with headers: {'User-Agent': 'Mozilla/5.0 (Windows NT 10.0; Win64; x64) AppleWebKit/537.36 (KHTML, like Gecko) Chrome/70.0.3538.102 Safari/537.36 Edge/18.19582'}\n",
      " dc_test_logger :: INFO     :: <data_collectors.KmlDataCollector.KmlDataCollector object at 0x0000019043F53E50> request failed with response: <Response [404]>\n"
     ]
    }
   ],
   "source": [
    "dc.get_data()\n",
    "\n",
    "dc.set_output_dir(out_path)\n",
    "dc.set_output_file(out_file)\n"
   ]
  },
  {
   "cell_type": "code",
   "execution_count": null,
   "id": "6be54d76",
   "metadata": {},
   "outputs": [],
   "source": [
    "\"https://niagaraopendata.ca/dataset/08cc9ac2-7c88-4b98-a34d-4b97e76eeaf3/resource/413dbdf6-7669-4752-a075-2e2edd531364/download/fire-services.kml\""
   ]
  }
 ],
 "metadata": {
  "kernelspec": {
   "display_name": "Python 3 (ipykernel)",
   "language": "python",
   "name": "python3"
  },
  "language_info": {
   "codemirror_mode": {
    "name": "ipython",
    "version": 3
   },
   "file_extension": ".py",
   "mimetype": "text/x-python",
   "name": "python",
   "nbconvert_exporter": "python",
   "pygments_lexer": "ipython3",
   "version": "3.9.7"
  }
 },
 "nbformat": 4,
 "nbformat_minor": 5
}
